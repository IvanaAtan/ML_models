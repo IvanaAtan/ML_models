{
 "cells": [
  {
   "cell_type": "markdown",
   "id": "3155110e",
   "metadata": {
    "id": "3155110e"
   },
   "source": [
    "### Libraries:"
   ]
  },
  {
   "cell_type": "code",
   "execution_count": 1,
   "id": "d552de05",
   "metadata": {
    "id": "d552de05"
   },
   "outputs": [],
   "source": [
    "import numpy as np\n",
    "import pandas as pd\n",
    "import matplotlib.pyplot as plt\n",
    "from tabulate import tabulate\n",
    "\n",
    "from sklearn.model_selection import train_test_split\n",
    "from sklearn import preprocessing\n",
    "\n",
    "from keras.models import Sequential\n",
    "from keras.layers import Input\n",
    "from keras.layers import Dense\n",
    "from keras.layers import Dropout\n",
    "from keras.layers import Flatten\n",
    "from keras.layers import BatchNormalization\n",
    "from tensorflow.keras.layers import Conv2D, MaxPooling2D, Flatten, Dense, Dropout, BatchNormalization, Activation, Reshape, UpSampling2D\n",
    "from keras.layers.convolutional import Conv2D\n",
    "from keras.layers.convolutional import MaxPooling2D\n",
    "from keras.callbacks import ModelCheckpoint, EarlyStopping\n",
    "from sklearn.metrics import confusion_matrix, classification_report\n",
    "from keras import models, layers\n",
    "from keras import optimizers\n",
    "from tensorflow.keras.callbacks import ModelCheckpoint\n",
    "from sklearn.metrics import accuracy_score\n",
    "import keras"
   ]
  },
  {
   "cell_type": "markdown",
   "id": "289df969",
   "metadata": {
    "id": "289df969"
   },
   "source": [
    "### Warnings:"
   ]
  },
  {
   "cell_type": "code",
   "execution_count": 2,
   "id": "76a2e2a3",
   "metadata": {
    "id": "76a2e2a3"
   },
   "outputs": [],
   "source": [
    "import warnings\n",
    "\n",
    "warnings.filterwarnings(\"ignore\", category=UserWarning, message=\"The objective has been evaluated at this point before.\")"
   ]
  },
  {
   "cell_type": "markdown",
   "id": "cf95e345",
   "metadata": {
    "id": "cf95e345"
   },
   "source": [
    "### Read dataset:"
   ]
  },
  {
   "cell_type": "code",
   "execution_count": null,
   "id": "mU-mlehyR4Rb",
   "metadata": {
    "colab": {
     "base_uri": "https://localhost:8080/",
     "height": 73
    },
    "id": "mU-mlehyR4Rb",
    "outputId": "aa085f4a-8ac6-4a0a-b357-2c378c7a8cc0"
   },
   "outputs": [],
   "source": [
    "# from google.colab import files\n",
    "# uploaded = files.upload()"
   ]
  },
  {
   "cell_type": "code",
   "execution_count": null,
   "id": "8b7CCP8nR4UJ",
   "metadata": {
    "colab": {
     "base_uri": "https://localhost:8080/",
     "height": 424
    },
    "id": "8b7CCP8nR4UJ",
    "outputId": "3aabcdea-dcbb-47d6-d352-fef1489b1e8b"
   },
   "outputs": [],
   "source": [
    "# import pandas as pd\n",
    "# import io\n",
    "\n",
    "# df = pd.read_csv(io.BytesIO(uploaded['data1_filled.csv']))\n",
    "# df"
   ]
  },
  {
   "cell_type": "code",
   "execution_count": 3,
   "id": "a2b1380b",
   "metadata": {
    "colab": {
     "base_uri": "https://localhost:8080/",
     "height": 423
    },
    "id": "a2b1380b",
    "outputId": "b28fc31a-8f92-452a-805f-a997b559d2fc"
   },
   "outputs": [
    {
     "data": {
      "text/html": [
       "<div>\n",
       "<style scoped>\n",
       "    .dataframe tbody tr th:only-of-type {\n",
       "        vertical-align: middle;\n",
       "    }\n",
       "\n",
       "    .dataframe tbody tr th {\n",
       "        vertical-align: top;\n",
       "    }\n",
       "\n",
       "    .dataframe thead th {\n",
       "        text-align: right;\n",
       "    }\n",
       "</style>\n",
       "<table border=\"1\" class=\"dataframe\">\n",
       "  <thead>\n",
       "    <tr style=\"text-align: right;\">\n",
       "      <th></th>\n",
       "      <th>Study_Folder</th>\n",
       "      <th>Subject_Folder</th>\n",
       "      <th>Stimuli</th>\n",
       "      <th>Frame Number</th>\n",
       "      <th>Face_Y</th>\n",
       "      <th>Face_X</th>\n",
       "      <th>Face_W</th>\n",
       "      <th>Face_H</th>\n",
       "      <th>Right_Eye_X</th>\n",
       "      <th>Right_Eye_Y</th>\n",
       "      <th>Left_Eye_X</th>\n",
       "      <th>Left_Eye_Y</th>\n",
       "      <th>Face_Angle</th>\n",
       "      <th>X_Predictions</th>\n",
       "      <th>Y_Predictions</th>\n",
       "    </tr>\n",
       "  </thead>\n",
       "  <tbody>\n",
       "    <tr>\n",
       "      <th>0</th>\n",
       "      <td>0eb02000-fe04-480d-9da4-b60e758d46e7</td>\n",
       "      <td>videos</td>\n",
       "      <td>0</td>\n",
       "      <td>0</td>\n",
       "      <td>235.0</td>\n",
       "      <td>195.0</td>\n",
       "      <td>204.0</td>\n",
       "      <td>204.0</td>\n",
       "      <td>269.0</td>\n",
       "      <td>377.0</td>\n",
       "      <td>269.0</td>\n",
       "      <td>296.0</td>\n",
       "      <td>0.469347</td>\n",
       "      <td>0.124451</td>\n",
       "      <td>0.166405</td>\n",
       "    </tr>\n",
       "    <tr>\n",
       "      <th>1</th>\n",
       "      <td>0eb02000-fe04-480d-9da4-b60e758d46e7</td>\n",
       "      <td>videos</td>\n",
       "      <td>0</td>\n",
       "      <td>1</td>\n",
       "      <td>235.0</td>\n",
       "      <td>196.0</td>\n",
       "      <td>201.0</td>\n",
       "      <td>201.0</td>\n",
       "      <td>268.0</td>\n",
       "      <td>377.0</td>\n",
       "      <td>268.0</td>\n",
       "      <td>296.0</td>\n",
       "      <td>0.469335</td>\n",
       "      <td>0.124451</td>\n",
       "      <td>0.166405</td>\n",
       "    </tr>\n",
       "    <tr>\n",
       "      <th>2</th>\n",
       "      <td>0eb02000-fe04-480d-9da4-b60e758d46e7</td>\n",
       "      <td>videos</td>\n",
       "      <td>0</td>\n",
       "      <td>2</td>\n",
       "      <td>236.0</td>\n",
       "      <td>196.0</td>\n",
       "      <td>201.0</td>\n",
       "      <td>201.0</td>\n",
       "      <td>268.0</td>\n",
       "      <td>377.0</td>\n",
       "      <td>268.0</td>\n",
       "      <td>296.0</td>\n",
       "      <td>0.465500</td>\n",
       "      <td>0.124451</td>\n",
       "      <td>0.166405</td>\n",
       "    </tr>\n",
       "    <tr>\n",
       "      <th>3</th>\n",
       "      <td>0eb02000-fe04-480d-9da4-b60e758d46e7</td>\n",
       "      <td>videos</td>\n",
       "      <td>0</td>\n",
       "      <td>3</td>\n",
       "      <td>236.0</td>\n",
       "      <td>196.0</td>\n",
       "      <td>201.0</td>\n",
       "      <td>201.0</td>\n",
       "      <td>268.0</td>\n",
       "      <td>377.0</td>\n",
       "      <td>268.0</td>\n",
       "      <td>296.0</td>\n",
       "      <td>0.477129</td>\n",
       "      <td>0.124451</td>\n",
       "      <td>0.166405</td>\n",
       "    </tr>\n",
       "    <tr>\n",
       "      <th>4</th>\n",
       "      <td>0eb02000-fe04-480d-9da4-b60e758d46e7</td>\n",
       "      <td>videos</td>\n",
       "      <td>0</td>\n",
       "      <td>4</td>\n",
       "      <td>235.0</td>\n",
       "      <td>195.0</td>\n",
       "      <td>203.0</td>\n",
       "      <td>203.0</td>\n",
       "      <td>269.0</td>\n",
       "      <td>377.0</td>\n",
       "      <td>268.0</td>\n",
       "      <td>296.0</td>\n",
       "      <td>0.469347</td>\n",
       "      <td>0.124451</td>\n",
       "      <td>0.166405</td>\n",
       "    </tr>\n",
       "    <tr>\n",
       "      <th>...</th>\n",
       "      <td>...</td>\n",
       "      <td>...</td>\n",
       "      <td>...</td>\n",
       "      <td>...</td>\n",
       "      <td>...</td>\n",
       "      <td>...</td>\n",
       "      <td>...</td>\n",
       "      <td>...</td>\n",
       "      <td>...</td>\n",
       "      <td>...</td>\n",
       "      <td>...</td>\n",
       "      <td>...</td>\n",
       "      <td>...</td>\n",
       "      <td>...</td>\n",
       "      <td>...</td>\n",
       "    </tr>\n",
       "    <tr>\n",
       "      <th>107845</th>\n",
       "      <td>7f1cb219-f275-4148-9658-67b1c26a6649</td>\n",
       "      <td>videos</td>\n",
       "      <td>9806</td>\n",
       "      <td>200</td>\n",
       "      <td>200.0</td>\n",
       "      <td>162.0</td>\n",
       "      <td>233.0</td>\n",
       "      <td>233.0</td>\n",
       "      <td>243.0</td>\n",
       "      <td>353.0</td>\n",
       "      <td>256.0</td>\n",
       "      <td>270.0</td>\n",
       "      <td>0.362527</td>\n",
       "      <td>0.124735</td>\n",
       "      <td>0.721234</td>\n",
       "    </tr>\n",
       "    <tr>\n",
       "      <th>107846</th>\n",
       "      <td>7f1cb219-f275-4148-9658-67b1c26a6649</td>\n",
       "      <td>videos</td>\n",
       "      <td>9806</td>\n",
       "      <td>201</td>\n",
       "      <td>201.0</td>\n",
       "      <td>160.0</td>\n",
       "      <td>233.0</td>\n",
       "      <td>233.0</td>\n",
       "      <td>243.0</td>\n",
       "      <td>353.0</td>\n",
       "      <td>255.0</td>\n",
       "      <td>270.0</td>\n",
       "      <td>0.386992</td>\n",
       "      <td>0.223992</td>\n",
       "      <td>0.539739</td>\n",
       "    </tr>\n",
       "    <tr>\n",
       "      <th>107847</th>\n",
       "      <td>7f1cb219-f275-4148-9658-67b1c26a6649</td>\n",
       "      <td>videos</td>\n",
       "      <td>9806</td>\n",
       "      <td>202</td>\n",
       "      <td>200.0</td>\n",
       "      <td>162.0</td>\n",
       "      <td>232.0</td>\n",
       "      <td>232.0</td>\n",
       "      <td>244.0</td>\n",
       "      <td>352.0</td>\n",
       "      <td>256.0</td>\n",
       "      <td>270.0</td>\n",
       "      <td>0.386993</td>\n",
       "      <td>0.124735</td>\n",
       "      <td>0.733096</td>\n",
       "    </tr>\n",
       "    <tr>\n",
       "      <th>107848</th>\n",
       "      <td>7f1cb219-f275-4148-9658-67b1c26a6649</td>\n",
       "      <td>videos</td>\n",
       "      <td>9806</td>\n",
       "      <td>203</td>\n",
       "      <td>200.0</td>\n",
       "      <td>159.0</td>\n",
       "      <td>236.0</td>\n",
       "      <td>236.0</td>\n",
       "      <td>243.0</td>\n",
       "      <td>353.0</td>\n",
       "      <td>255.0</td>\n",
       "      <td>270.0</td>\n",
       "      <td>0.349297</td>\n",
       "      <td>0.124204</td>\n",
       "      <td>0.717675</td>\n",
       "    </tr>\n",
       "    <tr>\n",
       "      <th>107849</th>\n",
       "      <td>7f1cb219-f275-4148-9658-67b1c26a6649</td>\n",
       "      <td>videos</td>\n",
       "      <td>9806</td>\n",
       "      <td>204</td>\n",
       "      <td>202.0</td>\n",
       "      <td>163.0</td>\n",
       "      <td>230.0</td>\n",
       "      <td>230.0</td>\n",
       "      <td>244.0</td>\n",
       "      <td>352.0</td>\n",
       "      <td>256.0</td>\n",
       "      <td>270.0</td>\n",
       "      <td>0.376803</td>\n",
       "      <td>0.124204</td>\n",
       "      <td>0.727165</td>\n",
       "    </tr>\n",
       "  </tbody>\n",
       "</table>\n",
       "<p>107850 rows × 15 columns</p>\n",
       "</div>"
      ],
      "text/plain": [
       "                                Study_Folder Subject_Folder  Stimuli  \\\n",
       "0       0eb02000-fe04-480d-9da4-b60e758d46e7         videos        0   \n",
       "1       0eb02000-fe04-480d-9da4-b60e758d46e7         videos        0   \n",
       "2       0eb02000-fe04-480d-9da4-b60e758d46e7         videos        0   \n",
       "3       0eb02000-fe04-480d-9da4-b60e758d46e7         videos        0   \n",
       "4       0eb02000-fe04-480d-9da4-b60e758d46e7         videos        0   \n",
       "...                                      ...            ...      ...   \n",
       "107845  7f1cb219-f275-4148-9658-67b1c26a6649         videos     9806   \n",
       "107846  7f1cb219-f275-4148-9658-67b1c26a6649         videos     9806   \n",
       "107847  7f1cb219-f275-4148-9658-67b1c26a6649         videos     9806   \n",
       "107848  7f1cb219-f275-4148-9658-67b1c26a6649         videos     9806   \n",
       "107849  7f1cb219-f275-4148-9658-67b1c26a6649         videos     9806   \n",
       "\n",
       "        Frame Number  Face_Y  Face_X  Face_W  Face_H  Right_Eye_X  \\\n",
       "0                  0   235.0   195.0   204.0   204.0        269.0   \n",
       "1                  1   235.0   196.0   201.0   201.0        268.0   \n",
       "2                  2   236.0   196.0   201.0   201.0        268.0   \n",
       "3                  3   236.0   196.0   201.0   201.0        268.0   \n",
       "4                  4   235.0   195.0   203.0   203.0        269.0   \n",
       "...              ...     ...     ...     ...     ...          ...   \n",
       "107845           200   200.0   162.0   233.0   233.0        243.0   \n",
       "107846           201   201.0   160.0   233.0   233.0        243.0   \n",
       "107847           202   200.0   162.0   232.0   232.0        244.0   \n",
       "107848           203   200.0   159.0   236.0   236.0        243.0   \n",
       "107849           204   202.0   163.0   230.0   230.0        244.0   \n",
       "\n",
       "        Right_Eye_Y  Left_Eye_X  Left_Eye_Y  Face_Angle  X_Predictions  \\\n",
       "0             377.0       269.0       296.0    0.469347       0.124451   \n",
       "1             377.0       268.0       296.0    0.469335       0.124451   \n",
       "2             377.0       268.0       296.0    0.465500       0.124451   \n",
       "3             377.0       268.0       296.0    0.477129       0.124451   \n",
       "4             377.0       268.0       296.0    0.469347       0.124451   \n",
       "...             ...         ...         ...         ...            ...   \n",
       "107845        353.0       256.0       270.0    0.362527       0.124735   \n",
       "107846        353.0       255.0       270.0    0.386992       0.223992   \n",
       "107847        352.0       256.0       270.0    0.386993       0.124735   \n",
       "107848        353.0       255.0       270.0    0.349297       0.124204   \n",
       "107849        352.0       256.0       270.0    0.376803       0.124204   \n",
       "\n",
       "        Y_Predictions  \n",
       "0            0.166405  \n",
       "1            0.166405  \n",
       "2            0.166405  \n",
       "3            0.166405  \n",
       "4            0.166405  \n",
       "...               ...  \n",
       "107845       0.721234  \n",
       "107846       0.539739  \n",
       "107847       0.733096  \n",
       "107848       0.717675  \n",
       "107849       0.727165  \n",
       "\n",
       "[107850 rows x 15 columns]"
      ]
     },
     "execution_count": 3,
     "metadata": {},
     "output_type": "execute_result"
    }
   ],
   "source": [
    "df = pd.read_csv('data1_filled.csv')\n",
    "df"
   ]
  },
  {
   "cell_type": "markdown",
   "id": "01031e6f",
   "metadata": {
    "id": "01031e6f"
   },
   "source": [
    "### Drop columns:"
   ]
  },
  {
   "cell_type": "code",
   "execution_count": 4,
   "id": "7b55b737",
   "metadata": {
    "id": "7b55b737"
   },
   "outputs": [],
   "source": [
    "df.drop(['Study_Folder','Subject_Folder'], axis = 1, inplace = True)"
   ]
  },
  {
   "cell_type": "code",
   "execution_count": 5,
   "id": "459995dc",
   "metadata": {
    "colab": {
     "base_uri": "https://localhost:8080/",
     "height": 424
    },
    "id": "459995dc",
    "outputId": "eead7e14-9b93-435e-d043-94e7dbbef4ed"
   },
   "outputs": [
    {
     "data": {
      "text/html": [
       "<div>\n",
       "<style scoped>\n",
       "    .dataframe tbody tr th:only-of-type {\n",
       "        vertical-align: middle;\n",
       "    }\n",
       "\n",
       "    .dataframe tbody tr th {\n",
       "        vertical-align: top;\n",
       "    }\n",
       "\n",
       "    .dataframe thead th {\n",
       "        text-align: right;\n",
       "    }\n",
       "</style>\n",
       "<table border=\"1\" class=\"dataframe\">\n",
       "  <thead>\n",
       "    <tr style=\"text-align: right;\">\n",
       "      <th></th>\n",
       "      <th>Stimuli</th>\n",
       "      <th>Frame Number</th>\n",
       "      <th>Face_Y</th>\n",
       "      <th>Face_X</th>\n",
       "      <th>Face_W</th>\n",
       "      <th>Face_H</th>\n",
       "      <th>Right_Eye_X</th>\n",
       "      <th>Right_Eye_Y</th>\n",
       "      <th>Left_Eye_X</th>\n",
       "      <th>Left_Eye_Y</th>\n",
       "      <th>Face_Angle</th>\n",
       "      <th>X_Predictions</th>\n",
       "      <th>Y_Predictions</th>\n",
       "    </tr>\n",
       "  </thead>\n",
       "  <tbody>\n",
       "    <tr>\n",
       "      <th>0</th>\n",
       "      <td>0</td>\n",
       "      <td>0</td>\n",
       "      <td>235.0</td>\n",
       "      <td>195.0</td>\n",
       "      <td>204.0</td>\n",
       "      <td>204.0</td>\n",
       "      <td>269.0</td>\n",
       "      <td>377.0</td>\n",
       "      <td>269.0</td>\n",
       "      <td>296.0</td>\n",
       "      <td>0.469347</td>\n",
       "      <td>0.124451</td>\n",
       "      <td>0.166405</td>\n",
       "    </tr>\n",
       "    <tr>\n",
       "      <th>1</th>\n",
       "      <td>0</td>\n",
       "      <td>1</td>\n",
       "      <td>235.0</td>\n",
       "      <td>196.0</td>\n",
       "      <td>201.0</td>\n",
       "      <td>201.0</td>\n",
       "      <td>268.0</td>\n",
       "      <td>377.0</td>\n",
       "      <td>268.0</td>\n",
       "      <td>296.0</td>\n",
       "      <td>0.469335</td>\n",
       "      <td>0.124451</td>\n",
       "      <td>0.166405</td>\n",
       "    </tr>\n",
       "    <tr>\n",
       "      <th>2</th>\n",
       "      <td>0</td>\n",
       "      <td>2</td>\n",
       "      <td>236.0</td>\n",
       "      <td>196.0</td>\n",
       "      <td>201.0</td>\n",
       "      <td>201.0</td>\n",
       "      <td>268.0</td>\n",
       "      <td>377.0</td>\n",
       "      <td>268.0</td>\n",
       "      <td>296.0</td>\n",
       "      <td>0.465500</td>\n",
       "      <td>0.124451</td>\n",
       "      <td>0.166405</td>\n",
       "    </tr>\n",
       "    <tr>\n",
       "      <th>3</th>\n",
       "      <td>0</td>\n",
       "      <td>3</td>\n",
       "      <td>236.0</td>\n",
       "      <td>196.0</td>\n",
       "      <td>201.0</td>\n",
       "      <td>201.0</td>\n",
       "      <td>268.0</td>\n",
       "      <td>377.0</td>\n",
       "      <td>268.0</td>\n",
       "      <td>296.0</td>\n",
       "      <td>0.477129</td>\n",
       "      <td>0.124451</td>\n",
       "      <td>0.166405</td>\n",
       "    </tr>\n",
       "    <tr>\n",
       "      <th>4</th>\n",
       "      <td>0</td>\n",
       "      <td>4</td>\n",
       "      <td>235.0</td>\n",
       "      <td>195.0</td>\n",
       "      <td>203.0</td>\n",
       "      <td>203.0</td>\n",
       "      <td>269.0</td>\n",
       "      <td>377.0</td>\n",
       "      <td>268.0</td>\n",
       "      <td>296.0</td>\n",
       "      <td>0.469347</td>\n",
       "      <td>0.124451</td>\n",
       "      <td>0.166405</td>\n",
       "    </tr>\n",
       "    <tr>\n",
       "      <th>...</th>\n",
       "      <td>...</td>\n",
       "      <td>...</td>\n",
       "      <td>...</td>\n",
       "      <td>...</td>\n",
       "      <td>...</td>\n",
       "      <td>...</td>\n",
       "      <td>...</td>\n",
       "      <td>...</td>\n",
       "      <td>...</td>\n",
       "      <td>...</td>\n",
       "      <td>...</td>\n",
       "      <td>...</td>\n",
       "      <td>...</td>\n",
       "    </tr>\n",
       "    <tr>\n",
       "      <th>107845</th>\n",
       "      <td>9806</td>\n",
       "      <td>200</td>\n",
       "      <td>200.0</td>\n",
       "      <td>162.0</td>\n",
       "      <td>233.0</td>\n",
       "      <td>233.0</td>\n",
       "      <td>243.0</td>\n",
       "      <td>353.0</td>\n",
       "      <td>256.0</td>\n",
       "      <td>270.0</td>\n",
       "      <td>0.362527</td>\n",
       "      <td>0.124735</td>\n",
       "      <td>0.721234</td>\n",
       "    </tr>\n",
       "    <tr>\n",
       "      <th>107846</th>\n",
       "      <td>9806</td>\n",
       "      <td>201</td>\n",
       "      <td>201.0</td>\n",
       "      <td>160.0</td>\n",
       "      <td>233.0</td>\n",
       "      <td>233.0</td>\n",
       "      <td>243.0</td>\n",
       "      <td>353.0</td>\n",
       "      <td>255.0</td>\n",
       "      <td>270.0</td>\n",
       "      <td>0.386992</td>\n",
       "      <td>0.223992</td>\n",
       "      <td>0.539739</td>\n",
       "    </tr>\n",
       "    <tr>\n",
       "      <th>107847</th>\n",
       "      <td>9806</td>\n",
       "      <td>202</td>\n",
       "      <td>200.0</td>\n",
       "      <td>162.0</td>\n",
       "      <td>232.0</td>\n",
       "      <td>232.0</td>\n",
       "      <td>244.0</td>\n",
       "      <td>352.0</td>\n",
       "      <td>256.0</td>\n",
       "      <td>270.0</td>\n",
       "      <td>0.386993</td>\n",
       "      <td>0.124735</td>\n",
       "      <td>0.733096</td>\n",
       "    </tr>\n",
       "    <tr>\n",
       "      <th>107848</th>\n",
       "      <td>9806</td>\n",
       "      <td>203</td>\n",
       "      <td>200.0</td>\n",
       "      <td>159.0</td>\n",
       "      <td>236.0</td>\n",
       "      <td>236.0</td>\n",
       "      <td>243.0</td>\n",
       "      <td>353.0</td>\n",
       "      <td>255.0</td>\n",
       "      <td>270.0</td>\n",
       "      <td>0.349297</td>\n",
       "      <td>0.124204</td>\n",
       "      <td>0.717675</td>\n",
       "    </tr>\n",
       "    <tr>\n",
       "      <th>107849</th>\n",
       "      <td>9806</td>\n",
       "      <td>204</td>\n",
       "      <td>202.0</td>\n",
       "      <td>163.0</td>\n",
       "      <td>230.0</td>\n",
       "      <td>230.0</td>\n",
       "      <td>244.0</td>\n",
       "      <td>352.0</td>\n",
       "      <td>256.0</td>\n",
       "      <td>270.0</td>\n",
       "      <td>0.376803</td>\n",
       "      <td>0.124204</td>\n",
       "      <td>0.727165</td>\n",
       "    </tr>\n",
       "  </tbody>\n",
       "</table>\n",
       "<p>107850 rows × 13 columns</p>\n",
       "</div>"
      ],
      "text/plain": [
       "        Stimuli  Frame Number  Face_Y  Face_X  Face_W  Face_H  Right_Eye_X  \\\n",
       "0             0             0   235.0   195.0   204.0   204.0        269.0   \n",
       "1             0             1   235.0   196.0   201.0   201.0        268.0   \n",
       "2             0             2   236.0   196.0   201.0   201.0        268.0   \n",
       "3             0             3   236.0   196.0   201.0   201.0        268.0   \n",
       "4             0             4   235.0   195.0   203.0   203.0        269.0   \n",
       "...         ...           ...     ...     ...     ...     ...          ...   \n",
       "107845     9806           200   200.0   162.0   233.0   233.0        243.0   \n",
       "107846     9806           201   201.0   160.0   233.0   233.0        243.0   \n",
       "107847     9806           202   200.0   162.0   232.0   232.0        244.0   \n",
       "107848     9806           203   200.0   159.0   236.0   236.0        243.0   \n",
       "107849     9806           204   202.0   163.0   230.0   230.0        244.0   \n",
       "\n",
       "        Right_Eye_Y  Left_Eye_X  Left_Eye_Y  Face_Angle  X_Predictions  \\\n",
       "0             377.0       269.0       296.0    0.469347       0.124451   \n",
       "1             377.0       268.0       296.0    0.469335       0.124451   \n",
       "2             377.0       268.0       296.0    0.465500       0.124451   \n",
       "3             377.0       268.0       296.0    0.477129       0.124451   \n",
       "4             377.0       268.0       296.0    0.469347       0.124451   \n",
       "...             ...         ...         ...         ...            ...   \n",
       "107845        353.0       256.0       270.0    0.362527       0.124735   \n",
       "107846        353.0       255.0       270.0    0.386992       0.223992   \n",
       "107847        352.0       256.0       270.0    0.386993       0.124735   \n",
       "107848        353.0       255.0       270.0    0.349297       0.124204   \n",
       "107849        352.0       256.0       270.0    0.376803       0.124204   \n",
       "\n",
       "        Y_Predictions  \n",
       "0            0.166405  \n",
       "1            0.166405  \n",
       "2            0.166405  \n",
       "3            0.166405  \n",
       "4            0.166405  \n",
       "...               ...  \n",
       "107845       0.721234  \n",
       "107846       0.539739  \n",
       "107847       0.733096  \n",
       "107848       0.717675  \n",
       "107849       0.727165  \n",
       "\n",
       "[107850 rows x 13 columns]"
      ]
     },
     "execution_count": 5,
     "metadata": {},
     "output_type": "execute_result"
    }
   ],
   "source": [
    "df"
   ]
  },
  {
   "cell_type": "markdown",
   "id": "77404921",
   "metadata": {
    "id": "77404921"
   },
   "source": [
    "### Define Stimuli, X,Y"
   ]
  },
  {
   "cell_type": "code",
   "execution_count": 6,
   "id": "e2b4de1a",
   "metadata": {
    "colab": {
     "base_uri": "https://localhost:8080/"
    },
    "id": "e2b4de1a",
    "outputId": "688e0d1b-c8f4-42c3-f1db-bde698159c25"
   },
   "outputs": [
    {
     "data": {
      "text/plain": [
       "Index(['Stimuli', 'Frame Number', 'Face_Y', 'Face_X', 'Face_W', 'Face_H',\n",
       "       'Right_Eye_X', 'Right_Eye_Y', 'Left_Eye_X', 'Left_Eye_Y', 'Face_Angle',\n",
       "       'X_Predictions', 'Y_Predictions'],\n",
       "      dtype='object')"
      ]
     },
     "execution_count": 6,
     "metadata": {},
     "output_type": "execute_result"
    }
   ],
   "source": [
    "df.columns"
   ]
  },
  {
   "cell_type": "code",
   "execution_count": 7,
   "id": "121147d4",
   "metadata": {
    "id": "121147d4"
   },
   "outputs": [],
   "source": [
    "features_columns = ['Stimuli', 'Frame Number', 'Face_Y', 'Face_X', 'Face_W','Face_H',\n",
    "                    'Right_Eye_X', 'Right_Eye_Y', 'Left_Eye_X', 'Left_Eye_Y', 'Face_Angle']\n",
    "\n",
    "target_columns=['X_Predictions', 'Y_Predictions']"
   ]
  },
  {
   "cell_type": "code",
   "execution_count": 8,
   "id": "e9f37696",
   "metadata": {
    "id": "e9f37696"
   },
   "outputs": [],
   "source": [
    "X=df[features_columns]"
   ]
  },
  {
   "cell_type": "code",
   "execution_count": 9,
   "id": "8ebecbfa",
   "metadata": {
    "id": "8ebecbfa"
   },
   "outputs": [],
   "source": [
    "y=df[target_columns]"
   ]
  },
  {
   "cell_type": "code",
   "execution_count": 10,
   "id": "dce9502a",
   "metadata": {
    "id": "dce9502a"
   },
   "outputs": [],
   "source": [
    "X_train_valid= X[X['Stimuli']<= 11]"
   ]
  },
  {
   "cell_type": "code",
   "execution_count": 11,
   "id": "232fe227",
   "metadata": {
    "id": "232fe227"
   },
   "outputs": [],
   "source": [
    "X_test= X[X['Stimuli']> 11]"
   ]
  },
  {
   "cell_type": "code",
   "execution_count": 12,
   "id": "33b1916d",
   "metadata": {
    "id": "33b1916d"
   },
   "outputs": [],
   "source": [
    "y_train_valid= y[X['Stimuli']<= 11]"
   ]
  },
  {
   "cell_type": "code",
   "execution_count": 13,
   "id": "b4273923",
   "metadata": {
    "id": "b4273923"
   },
   "outputs": [],
   "source": [
    "y_test= y[X['Stimuli']> 11]"
   ]
  },
  {
   "cell_type": "markdown",
   "id": "cbcbf90d",
   "metadata": {
    "id": "cbcbf90d"
   },
   "source": [
    "### Split data:"
   ]
  },
  {
   "cell_type": "code",
   "execution_count": 14,
   "id": "650f47ab",
   "metadata": {
    "id": "650f47ab"
   },
   "outputs": [],
   "source": [
    "X_train, X_valid, y_train, y_valid = train_test_split(X_train_valid, y_train_valid, test_size=0.3,stratify =X_train_valid['Stimuli'] ,random_state=42)"
   ]
  },
  {
   "cell_type": "code",
   "execution_count": 15,
   "id": "a376333c",
   "metadata": {
    "colab": {
     "base_uri": "https://localhost:8080/"
    },
    "id": "a376333c",
    "outputId": "a9b245fd-15b0-4b7d-b58b-500d63a698b0"
   },
   "outputs": [
    {
     "name": "stdout",
     "output_type": "stream",
     "text": [
      "Whole dataset : 107850\n",
      "X Train size 38986\n",
      "y Train size 38986\n",
      "X Valid size 16709\n",
      "y Valid size 16709\n",
      "X Test size 52155\n",
      "y Test size 52155\n"
     ]
    }
   ],
   "source": [
    "print(\"Whole dataset :\",len(df))\n",
    "print(\"X Train size\", len(X_train))\n",
    "print(\"y Train size\", len(y_train))\n",
    "print(\"X Valid size\", len(X_valid))\n",
    "print(\"y Valid size\", len(y_valid))\n",
    "print(\"X Test size\", len(X_test))\n",
    "print(\"y Test size\", len(y_test))"
   ]
  },
  {
   "cell_type": "code",
   "execution_count": 16,
   "id": "RIfR367YqeFx",
   "metadata": {
    "colab": {
     "base_uri": "https://localhost:8080/"
    },
    "id": "RIfR367YqeFx",
    "outputId": "48ceded0-a644-4988-a0fa-e538cf680a0f"
   },
   "outputs": [
    {
     "name": "stdout",
     "output_type": "stream",
     "text": [
      "X Train shape (38986, 11)\n",
      "y Train shape (38986, 2)\n",
      "X Valid shape (16709, 11)\n",
      "y Valid shape (16709, 2)\n",
      "X Test shape (52155, 11)\n",
      "y Test shape (52155, 2)\n"
     ]
    }
   ],
   "source": [
    "print(\"X Train shape\",X_train.shape)\n",
    "print(\"y Train shape\",y_train.shape)\n",
    "print(\"X Valid shape\",X_valid.shape)\n",
    "print(\"y Valid shape\",y_valid.shape)\n",
    "print(\"X Test shape\",X_test.shape)\n",
    "print(\"y Test shape\",y_test.shape)"
   ]
  },
  {
   "cell_type": "code",
   "execution_count": 17,
   "id": "m9ml7Y1pCq8O",
   "metadata": {
    "colab": {
     "base_uri": "https://localhost:8080/"
    },
    "id": "m9ml7Y1pCq8O",
    "outputId": "4f426ab2-7991-4a0f-f57c-592705b68c45"
   },
   "outputs": [
    {
     "name": "stdout",
     "output_type": "stream",
     "text": [
      "<class 'pandas.core.frame.DataFrame'>\n",
      "RangeIndex: 107850 entries, 0 to 107849\n",
      "Data columns (total 13 columns):\n",
      " #   Column         Non-Null Count   Dtype  \n",
      "---  ------         --------------   -----  \n",
      " 0   Stimuli        107850 non-null  int64  \n",
      " 1   Frame Number   107850 non-null  int64  \n",
      " 2   Face_Y         107850 non-null  float64\n",
      " 3   Face_X         107850 non-null  float64\n",
      " 4   Face_W         107850 non-null  float64\n",
      " 5   Face_H         107850 non-null  float64\n",
      " 6   Right_Eye_X    107850 non-null  float64\n",
      " 7   Right_Eye_Y    107850 non-null  float64\n",
      " 8   Left_Eye_X     107850 non-null  float64\n",
      " 9   Left_Eye_Y     107850 non-null  float64\n",
      " 10  Face_Angle     107850 non-null  float64\n",
      " 11  X_Predictions  107850 non-null  float64\n",
      " 12  Y_Predictions  107850 non-null  float64\n",
      "dtypes: float64(11), int64(2)\n",
      "memory usage: 10.7 MB\n"
     ]
    }
   ],
   "source": [
    "df.info()"
   ]
  },
  {
   "cell_type": "code",
   "execution_count": 18,
   "id": "Yo7QMSIcCrKQ",
   "metadata": {
    "colab": {
     "base_uri": "https://localhost:8080/"
    },
    "id": "Yo7QMSIcCrKQ",
    "outputId": "bcf0ed5d-c705-4730-c2af-bf1326aebbeb"
   },
   "outputs": [
    {
     "data": {
      "text/plain": [
       "Stimuli          0\n",
       "Frame Number     0\n",
       "Face_Y           0\n",
       "Face_X           0\n",
       "Face_W           0\n",
       "Face_H           0\n",
       "Right_Eye_X      0\n",
       "Right_Eye_Y      0\n",
       "Left_Eye_X       0\n",
       "Left_Eye_Y       0\n",
       "Face_Angle       0\n",
       "X_Predictions    0\n",
       "Y_Predictions    0\n",
       "dtype: int64"
      ]
     },
     "execution_count": 18,
     "metadata": {},
     "output_type": "execute_result"
    }
   ],
   "source": [
    "df.isnull().sum()"
   ]
  },
  {
   "cell_type": "code",
   "execution_count": 19,
   "id": "9c3f938e",
   "metadata": {
    "colab": {
     "base_uri": "https://localhost:8080/"
    },
    "id": "9c3f938e",
    "outputId": "9816761f-dbc2-4e3b-c9cd-6f0f2ed78305"
   },
   "outputs": [
    {
     "data": {
      "text/plain": [
       "(0     0.081542\n",
       " 11    0.082389\n",
       " 5     0.082389\n",
       " 6     0.083158\n",
       " 2     0.083671\n",
       " 7     0.083748\n",
       " 3     0.083748\n",
       " 10    0.083774\n",
       " 8     0.083774\n",
       " 4     0.083799\n",
       " 9     0.083825\n",
       " 1     0.084184\n",
       " Name: Stimuli, dtype: float64,\n",
       " 0     0.081513\n",
       " 5     0.082351\n",
       " 11    0.082411\n",
       " 6     0.083189\n",
       " 2     0.083667\n",
       " 10    0.083727\n",
       " 7     0.083727\n",
       " 8     0.083787\n",
       " 3     0.083787\n",
       " 4     0.083787\n",
       " 9     0.083847\n",
       " 1     0.084206\n",
       " Name: Stimuli, dtype: float64)"
      ]
     },
     "execution_count": 19,
     "metadata": {},
     "output_type": "execute_result"
    }
   ],
   "source": [
    "X_train['Stimuli'].value_counts().sort_values()/len(X_train), X_valid['Stimuli'].value_counts().sort_values()/len(X_valid)"
   ]
  },
  {
   "cell_type": "markdown",
   "id": "9722714a",
   "metadata": {},
   "source": [
    "### Drop columns:"
   ]
  },
  {
   "cell_type": "code",
   "execution_count": 20,
   "id": "de3a8dca",
   "metadata": {},
   "outputs": [],
   "source": [
    "drop_column = ['Stimuli','Frame Number']"
   ]
  },
  {
   "cell_type": "code",
   "execution_count": 21,
   "id": "465f93cd",
   "metadata": {},
   "outputs": [
    {
     "name": "stderr",
     "output_type": "stream",
     "text": [
      "C:\\Users\\User\\AppData\\Local\\Temp\\ipykernel_11272\\3791142718.py:1: SettingWithCopyWarning: \n",
      "A value is trying to be set on a copy of a slice from a DataFrame\n",
      "\n",
      "See the caveats in the documentation: https://pandas.pydata.org/pandas-docs/stable/user_guide/indexing.html#returning-a-view-versus-a-copy\n",
      "  X.drop(columns = drop_column, inplace=True)\n"
     ]
    }
   ],
   "source": [
    "X.drop(columns = drop_column, inplace=True)"
   ]
  },
  {
   "cell_type": "code",
   "execution_count": 22,
   "id": "67063628",
   "metadata": {},
   "outputs": [
    {
     "data": {
      "text/html": [
       "<div>\n",
       "<style scoped>\n",
       "    .dataframe tbody tr th:only-of-type {\n",
       "        vertical-align: middle;\n",
       "    }\n",
       "\n",
       "    .dataframe tbody tr th {\n",
       "        vertical-align: top;\n",
       "    }\n",
       "\n",
       "    .dataframe thead th {\n",
       "        text-align: right;\n",
       "    }\n",
       "</style>\n",
       "<table border=\"1\" class=\"dataframe\">\n",
       "  <thead>\n",
       "    <tr style=\"text-align: right;\">\n",
       "      <th></th>\n",
       "      <th>Face_Y</th>\n",
       "      <th>Face_X</th>\n",
       "      <th>Face_W</th>\n",
       "      <th>Face_H</th>\n",
       "      <th>Right_Eye_X</th>\n",
       "      <th>Right_Eye_Y</th>\n",
       "      <th>Left_Eye_X</th>\n",
       "      <th>Left_Eye_Y</th>\n",
       "      <th>Face_Angle</th>\n",
       "    </tr>\n",
       "  </thead>\n",
       "  <tbody>\n",
       "    <tr>\n",
       "      <th>0</th>\n",
       "      <td>235.0</td>\n",
       "      <td>195.0</td>\n",
       "      <td>204.0</td>\n",
       "      <td>204.0</td>\n",
       "      <td>269.0</td>\n",
       "      <td>377.0</td>\n",
       "      <td>269.0</td>\n",
       "      <td>296.0</td>\n",
       "      <td>0.469347</td>\n",
       "    </tr>\n",
       "    <tr>\n",
       "      <th>1</th>\n",
       "      <td>235.0</td>\n",
       "      <td>196.0</td>\n",
       "      <td>201.0</td>\n",
       "      <td>201.0</td>\n",
       "      <td>268.0</td>\n",
       "      <td>377.0</td>\n",
       "      <td>268.0</td>\n",
       "      <td>296.0</td>\n",
       "      <td>0.469335</td>\n",
       "    </tr>\n",
       "    <tr>\n",
       "      <th>2</th>\n",
       "      <td>236.0</td>\n",
       "      <td>196.0</td>\n",
       "      <td>201.0</td>\n",
       "      <td>201.0</td>\n",
       "      <td>268.0</td>\n",
       "      <td>377.0</td>\n",
       "      <td>268.0</td>\n",
       "      <td>296.0</td>\n",
       "      <td>0.465500</td>\n",
       "    </tr>\n",
       "    <tr>\n",
       "      <th>3</th>\n",
       "      <td>236.0</td>\n",
       "      <td>196.0</td>\n",
       "      <td>201.0</td>\n",
       "      <td>201.0</td>\n",
       "      <td>268.0</td>\n",
       "      <td>377.0</td>\n",
       "      <td>268.0</td>\n",
       "      <td>296.0</td>\n",
       "      <td>0.477129</td>\n",
       "    </tr>\n",
       "    <tr>\n",
       "      <th>4</th>\n",
       "      <td>235.0</td>\n",
       "      <td>195.0</td>\n",
       "      <td>203.0</td>\n",
       "      <td>203.0</td>\n",
       "      <td>269.0</td>\n",
       "      <td>377.0</td>\n",
       "      <td>268.0</td>\n",
       "      <td>296.0</td>\n",
       "      <td>0.469347</td>\n",
       "    </tr>\n",
       "    <tr>\n",
       "      <th>...</th>\n",
       "      <td>...</td>\n",
       "      <td>...</td>\n",
       "      <td>...</td>\n",
       "      <td>...</td>\n",
       "      <td>...</td>\n",
       "      <td>...</td>\n",
       "      <td>...</td>\n",
       "      <td>...</td>\n",
       "      <td>...</td>\n",
       "    </tr>\n",
       "    <tr>\n",
       "      <th>107845</th>\n",
       "      <td>200.0</td>\n",
       "      <td>162.0</td>\n",
       "      <td>233.0</td>\n",
       "      <td>233.0</td>\n",
       "      <td>243.0</td>\n",
       "      <td>353.0</td>\n",
       "      <td>256.0</td>\n",
       "      <td>270.0</td>\n",
       "      <td>0.362527</td>\n",
       "    </tr>\n",
       "    <tr>\n",
       "      <th>107846</th>\n",
       "      <td>201.0</td>\n",
       "      <td>160.0</td>\n",
       "      <td>233.0</td>\n",
       "      <td>233.0</td>\n",
       "      <td>243.0</td>\n",
       "      <td>353.0</td>\n",
       "      <td>255.0</td>\n",
       "      <td>270.0</td>\n",
       "      <td>0.386992</td>\n",
       "    </tr>\n",
       "    <tr>\n",
       "      <th>107847</th>\n",
       "      <td>200.0</td>\n",
       "      <td>162.0</td>\n",
       "      <td>232.0</td>\n",
       "      <td>232.0</td>\n",
       "      <td>244.0</td>\n",
       "      <td>352.0</td>\n",
       "      <td>256.0</td>\n",
       "      <td>270.0</td>\n",
       "      <td>0.386993</td>\n",
       "    </tr>\n",
       "    <tr>\n",
       "      <th>107848</th>\n",
       "      <td>200.0</td>\n",
       "      <td>159.0</td>\n",
       "      <td>236.0</td>\n",
       "      <td>236.0</td>\n",
       "      <td>243.0</td>\n",
       "      <td>353.0</td>\n",
       "      <td>255.0</td>\n",
       "      <td>270.0</td>\n",
       "      <td>0.349297</td>\n",
       "    </tr>\n",
       "    <tr>\n",
       "      <th>107849</th>\n",
       "      <td>202.0</td>\n",
       "      <td>163.0</td>\n",
       "      <td>230.0</td>\n",
       "      <td>230.0</td>\n",
       "      <td>244.0</td>\n",
       "      <td>352.0</td>\n",
       "      <td>256.0</td>\n",
       "      <td>270.0</td>\n",
       "      <td>0.376803</td>\n",
       "    </tr>\n",
       "  </tbody>\n",
       "</table>\n",
       "<p>107850 rows × 9 columns</p>\n",
       "</div>"
      ],
      "text/plain": [
       "        Face_Y  Face_X  Face_W  Face_H  Right_Eye_X  Right_Eye_Y  Left_Eye_X  \\\n",
       "0        235.0   195.0   204.0   204.0        269.0        377.0       269.0   \n",
       "1        235.0   196.0   201.0   201.0        268.0        377.0       268.0   \n",
       "2        236.0   196.0   201.0   201.0        268.0        377.0       268.0   \n",
       "3        236.0   196.0   201.0   201.0        268.0        377.0       268.0   \n",
       "4        235.0   195.0   203.0   203.0        269.0        377.0       268.0   \n",
       "...        ...     ...     ...     ...          ...          ...         ...   \n",
       "107845   200.0   162.0   233.0   233.0        243.0        353.0       256.0   \n",
       "107846   201.0   160.0   233.0   233.0        243.0        353.0       255.0   \n",
       "107847   200.0   162.0   232.0   232.0        244.0        352.0       256.0   \n",
       "107848   200.0   159.0   236.0   236.0        243.0        353.0       255.0   \n",
       "107849   202.0   163.0   230.0   230.0        244.0        352.0       256.0   \n",
       "\n",
       "        Left_Eye_Y  Face_Angle  \n",
       "0            296.0    0.469347  \n",
       "1            296.0    0.469335  \n",
       "2            296.0    0.465500  \n",
       "3            296.0    0.477129  \n",
       "4            296.0    0.469347  \n",
       "...            ...         ...  \n",
       "107845       270.0    0.362527  \n",
       "107846       270.0    0.386992  \n",
       "107847       270.0    0.386993  \n",
       "107848       270.0    0.349297  \n",
       "107849       270.0    0.376803  \n",
       "\n",
       "[107850 rows x 9 columns]"
      ]
     },
     "execution_count": 22,
     "metadata": {},
     "output_type": "execute_result"
    }
   ],
   "source": [
    "X"
   ]
  },
  {
   "cell_type": "code",
   "execution_count": 23,
   "id": "7920d1bb",
   "metadata": {},
   "outputs": [],
   "source": [
    "X_train.drop(columns = drop_column, inplace=True)"
   ]
  },
  {
   "cell_type": "code",
   "execution_count": 24,
   "id": "00eb2e6d",
   "metadata": {},
   "outputs": [
    {
     "data": {
      "text/html": [
       "<div>\n",
       "<style scoped>\n",
       "    .dataframe tbody tr th:only-of-type {\n",
       "        vertical-align: middle;\n",
       "    }\n",
       "\n",
       "    .dataframe tbody tr th {\n",
       "        vertical-align: top;\n",
       "    }\n",
       "\n",
       "    .dataframe thead th {\n",
       "        text-align: right;\n",
       "    }\n",
       "</style>\n",
       "<table border=\"1\" class=\"dataframe\">\n",
       "  <thead>\n",
       "    <tr style=\"text-align: right;\">\n",
       "      <th></th>\n",
       "      <th>Face_Y</th>\n",
       "      <th>Face_X</th>\n",
       "      <th>Face_W</th>\n",
       "      <th>Face_H</th>\n",
       "      <th>Right_Eye_X</th>\n",
       "      <th>Right_Eye_Y</th>\n",
       "      <th>Left_Eye_X</th>\n",
       "      <th>Left_Eye_Y</th>\n",
       "      <th>Face_Angle</th>\n",
       "    </tr>\n",
       "  </thead>\n",
       "  <tbody>\n",
       "    <tr>\n",
       "      <th>8500</th>\n",
       "      <td>194.0</td>\n",
       "      <td>182.0</td>\n",
       "      <td>237.0</td>\n",
       "      <td>237.0</td>\n",
       "      <td>274.0</td>\n",
       "      <td>361.0</td>\n",
       "      <td>285.0</td>\n",
       "      <td>273.0</td>\n",
       "      <td>0.303291</td>\n",
       "    </tr>\n",
       "    <tr>\n",
       "      <th>34560</th>\n",
       "      <td>241.0</td>\n",
       "      <td>214.0</td>\n",
       "      <td>196.0</td>\n",
       "      <td>196.0</td>\n",
       "      <td>290.0</td>\n",
       "      <td>378.0</td>\n",
       "      <td>295.0</td>\n",
       "      <td>307.0</td>\n",
       "      <td>0.572514</td>\n",
       "    </tr>\n",
       "    <tr>\n",
       "      <th>49079</th>\n",
       "      <td>233.0</td>\n",
       "      <td>89.0</td>\n",
       "      <td>251.0</td>\n",
       "      <td>251.0</td>\n",
       "      <td>191.0</td>\n",
       "      <td>408.0</td>\n",
       "      <td>195.0</td>\n",
       "      <td>317.0</td>\n",
       "      <td>2.094841</td>\n",
       "    </tr>\n",
       "    <tr>\n",
       "      <th>53301</th>\n",
       "      <td>255.0</td>\n",
       "      <td>178.0</td>\n",
       "      <td>262.0</td>\n",
       "      <td>262.0</td>\n",
       "      <td>284.0</td>\n",
       "      <td>429.0</td>\n",
       "      <td>284.0</td>\n",
       "      <td>342.0</td>\n",
       "      <td>0.450649</td>\n",
       "    </tr>\n",
       "    <tr>\n",
       "      <th>31581</th>\n",
       "      <td>200.0</td>\n",
       "      <td>127.0</td>\n",
       "      <td>217.0</td>\n",
       "      <td>217.0</td>\n",
       "      <td>205.0</td>\n",
       "      <td>353.0</td>\n",
       "      <td>208.0</td>\n",
       "      <td>268.0</td>\n",
       "      <td>0.608209</td>\n",
       "    </tr>\n",
       "    <tr>\n",
       "      <th>...</th>\n",
       "      <td>...</td>\n",
       "      <td>...</td>\n",
       "      <td>...</td>\n",
       "      <td>...</td>\n",
       "      <td>...</td>\n",
       "      <td>...</td>\n",
       "      <td>...</td>\n",
       "      <td>...</td>\n",
       "      <td>...</td>\n",
       "    </tr>\n",
       "    <tr>\n",
       "      <th>42620</th>\n",
       "      <td>145.0</td>\n",
       "      <td>314.0</td>\n",
       "      <td>189.0</td>\n",
       "      <td>189.0</td>\n",
       "      <td>386.0</td>\n",
       "      <td>272.0</td>\n",
       "      <td>383.0</td>\n",
       "      <td>211.0</td>\n",
       "      <td>0.176726</td>\n",
       "    </tr>\n",
       "    <tr>\n",
       "      <th>24503</th>\n",
       "      <td>264.0</td>\n",
       "      <td>230.0</td>\n",
       "      <td>180.0</td>\n",
       "      <td>180.0</td>\n",
       "      <td>300.0</td>\n",
       "      <td>386.0</td>\n",
       "      <td>303.0</td>\n",
       "      <td>329.0</td>\n",
       "      <td>0.535068</td>\n",
       "    </tr>\n",
       "    <tr>\n",
       "      <th>34795</th>\n",
       "      <td>178.0</td>\n",
       "      <td>207.0</td>\n",
       "      <td>215.0</td>\n",
       "      <td>215.0</td>\n",
       "      <td>291.0</td>\n",
       "      <td>310.0</td>\n",
       "      <td>291.0</td>\n",
       "      <td>243.0</td>\n",
       "      <td>0.267951</td>\n",
       "    </tr>\n",
       "    <tr>\n",
       "      <th>50664</th>\n",
       "      <td>284.0</td>\n",
       "      <td>211.0</td>\n",
       "      <td>205.0</td>\n",
       "      <td>205.0</td>\n",
       "      <td>293.0</td>\n",
       "      <td>426.0</td>\n",
       "      <td>295.0</td>\n",
       "      <td>355.0</td>\n",
       "      <td>0.584136</td>\n",
       "    </tr>\n",
       "    <tr>\n",
       "      <th>24753</th>\n",
       "      <td>307.0</td>\n",
       "      <td>76.0</td>\n",
       "      <td>236.0</td>\n",
       "      <td>236.0</td>\n",
       "      <td>166.0</td>\n",
       "      <td>464.0</td>\n",
       "      <td>166.0</td>\n",
       "      <td>379.0</td>\n",
       "      <td>1.414423</td>\n",
       "    </tr>\n",
       "  </tbody>\n",
       "</table>\n",
       "<p>38986 rows × 9 columns</p>\n",
       "</div>"
      ],
      "text/plain": [
       "       Face_Y  Face_X  Face_W  Face_H  Right_Eye_X  Right_Eye_Y  Left_Eye_X  \\\n",
       "8500    194.0   182.0   237.0   237.0        274.0        361.0       285.0   \n",
       "34560   241.0   214.0   196.0   196.0        290.0        378.0       295.0   \n",
       "49079   233.0    89.0   251.0   251.0        191.0        408.0       195.0   \n",
       "53301   255.0   178.0   262.0   262.0        284.0        429.0       284.0   \n",
       "31581   200.0   127.0   217.0   217.0        205.0        353.0       208.0   \n",
       "...       ...     ...     ...     ...          ...          ...         ...   \n",
       "42620   145.0   314.0   189.0   189.0        386.0        272.0       383.0   \n",
       "24503   264.0   230.0   180.0   180.0        300.0        386.0       303.0   \n",
       "34795   178.0   207.0   215.0   215.0        291.0        310.0       291.0   \n",
       "50664   284.0   211.0   205.0   205.0        293.0        426.0       295.0   \n",
       "24753   307.0    76.0   236.0   236.0        166.0        464.0       166.0   \n",
       "\n",
       "       Left_Eye_Y  Face_Angle  \n",
       "8500        273.0    0.303291  \n",
       "34560       307.0    0.572514  \n",
       "49079       317.0    2.094841  \n",
       "53301       342.0    0.450649  \n",
       "31581       268.0    0.608209  \n",
       "...           ...         ...  \n",
       "42620       211.0    0.176726  \n",
       "24503       329.0    0.535068  \n",
       "34795       243.0    0.267951  \n",
       "50664       355.0    0.584136  \n",
       "24753       379.0    1.414423  \n",
       "\n",
       "[38986 rows x 9 columns]"
      ]
     },
     "execution_count": 24,
     "metadata": {},
     "output_type": "execute_result"
    }
   ],
   "source": [
    "X_train"
   ]
  },
  {
   "cell_type": "code",
   "execution_count": 25,
   "id": "0c186b7d",
   "metadata": {},
   "outputs": [],
   "source": [
    "X_valid.drop(columns = drop_column, inplace=True)"
   ]
  },
  {
   "cell_type": "code",
   "execution_count": 26,
   "id": "bd881455",
   "metadata": {},
   "outputs": [
    {
     "data": {
      "text/html": [
       "<div>\n",
       "<style scoped>\n",
       "    .dataframe tbody tr th:only-of-type {\n",
       "        vertical-align: middle;\n",
       "    }\n",
       "\n",
       "    .dataframe tbody tr th {\n",
       "        vertical-align: top;\n",
       "    }\n",
       "\n",
       "    .dataframe thead th {\n",
       "        text-align: right;\n",
       "    }\n",
       "</style>\n",
       "<table border=\"1\" class=\"dataframe\">\n",
       "  <thead>\n",
       "    <tr style=\"text-align: right;\">\n",
       "      <th></th>\n",
       "      <th>Face_Y</th>\n",
       "      <th>Face_X</th>\n",
       "      <th>Face_W</th>\n",
       "      <th>Face_H</th>\n",
       "      <th>Right_Eye_X</th>\n",
       "      <th>Right_Eye_Y</th>\n",
       "      <th>Left_Eye_X</th>\n",
       "      <th>Left_Eye_Y</th>\n",
       "      <th>Face_Angle</th>\n",
       "    </tr>\n",
       "  </thead>\n",
       "  <tbody>\n",
       "    <tr>\n",
       "      <th>1879</th>\n",
       "      <td>203.0</td>\n",
       "      <td>76.0</td>\n",
       "      <td>222.0</td>\n",
       "      <td>222.0</td>\n",
       "      <td>167.0</td>\n",
       "      <td>369.0</td>\n",
       "      <td>163.0</td>\n",
       "      <td>283.0</td>\n",
       "      <td>0.731607</td>\n",
       "    </tr>\n",
       "    <tr>\n",
       "      <th>54927</th>\n",
       "      <td>195.0</td>\n",
       "      <td>189.0</td>\n",
       "      <td>230.0</td>\n",
       "      <td>230.0</td>\n",
       "      <td>282.0</td>\n",
       "      <td>349.0</td>\n",
       "      <td>284.0</td>\n",
       "      <td>263.0</td>\n",
       "      <td>0.291002</td>\n",
       "    </tr>\n",
       "    <tr>\n",
       "      <th>26246</th>\n",
       "      <td>239.0</td>\n",
       "      <td>248.0</td>\n",
       "      <td>214.0</td>\n",
       "      <td>214.0</td>\n",
       "      <td>336.0</td>\n",
       "      <td>391.0</td>\n",
       "      <td>332.0</td>\n",
       "      <td>304.0</td>\n",
       "      <td>0.278280</td>\n",
       "    </tr>\n",
       "    <tr>\n",
       "      <th>51101</th>\n",
       "      <td>191.0</td>\n",
       "      <td>158.0</td>\n",
       "      <td>232.0</td>\n",
       "      <td>232.0</td>\n",
       "      <td>243.0</td>\n",
       "      <td>347.0</td>\n",
       "      <td>255.0</td>\n",
       "      <td>262.0</td>\n",
       "      <td>0.381798</td>\n",
       "    </tr>\n",
       "    <tr>\n",
       "      <th>54715</th>\n",
       "      <td>204.0</td>\n",
       "      <td>158.0</td>\n",
       "      <td>248.0</td>\n",
       "      <td>248.0</td>\n",
       "      <td>260.0</td>\n",
       "      <td>374.0</td>\n",
       "      <td>259.0</td>\n",
       "      <td>267.0</td>\n",
       "      <td>0.309640</td>\n",
       "    </tr>\n",
       "    <tr>\n",
       "      <th>...</th>\n",
       "      <td>...</td>\n",
       "      <td>...</td>\n",
       "      <td>...</td>\n",
       "      <td>...</td>\n",
       "      <td>...</td>\n",
       "      <td>...</td>\n",
       "      <td>...</td>\n",
       "      <td>...</td>\n",
       "      <td>...</td>\n",
       "    </tr>\n",
       "    <tr>\n",
       "      <th>32028</th>\n",
       "      <td>283.0</td>\n",
       "      <td>205.0</td>\n",
       "      <td>203.0</td>\n",
       "      <td>203.0</td>\n",
       "      <td>286.0</td>\n",
       "      <td>405.0</td>\n",
       "      <td>289.0</td>\n",
       "      <td>351.0</td>\n",
       "      <td>0.602547</td>\n",
       "    </tr>\n",
       "    <tr>\n",
       "      <th>23295</th>\n",
       "      <td>236.0</td>\n",
       "      <td>194.0</td>\n",
       "      <td>204.0</td>\n",
       "      <td>204.0</td>\n",
       "      <td>271.0</td>\n",
       "      <td>379.0</td>\n",
       "      <td>272.0</td>\n",
       "      <td>302.0</td>\n",
       "      <td>0.477154</td>\n",
       "    </tr>\n",
       "    <tr>\n",
       "      <th>43401</th>\n",
       "      <td>308.0</td>\n",
       "      <td>77.0</td>\n",
       "      <td>247.0</td>\n",
       "      <td>247.0</td>\n",
       "      <td>173.0</td>\n",
       "      <td>470.0</td>\n",
       "      <td>171.0</td>\n",
       "      <td>393.0</td>\n",
       "      <td>1.450301</td>\n",
       "    </tr>\n",
       "    <tr>\n",
       "      <th>49843</th>\n",
       "      <td>277.0</td>\n",
       "      <td>200.0</td>\n",
       "      <td>243.0</td>\n",
       "      <td>243.0</td>\n",
       "      <td>295.0</td>\n",
       "      <td>431.0</td>\n",
       "      <td>305.0</td>\n",
       "      <td>346.0</td>\n",
       "      <td>0.510805</td>\n",
       "    </tr>\n",
       "    <tr>\n",
       "      <th>47486</th>\n",
       "      <td>181.0</td>\n",
       "      <td>91.0</td>\n",
       "      <td>282.0</td>\n",
       "      <td>282.0</td>\n",
       "      <td>216.0</td>\n",
       "      <td>371.0</td>\n",
       "      <td>216.0</td>\n",
       "      <td>263.0</td>\n",
       "      <td>0.360030</td>\n",
       "    </tr>\n",
       "  </tbody>\n",
       "</table>\n",
       "<p>16709 rows × 9 columns</p>\n",
       "</div>"
      ],
      "text/plain": [
       "       Face_Y  Face_X  Face_W  Face_H  Right_Eye_X  Right_Eye_Y  Left_Eye_X  \\\n",
       "1879    203.0    76.0   222.0   222.0        167.0        369.0       163.0   \n",
       "54927   195.0   189.0   230.0   230.0        282.0        349.0       284.0   \n",
       "26246   239.0   248.0   214.0   214.0        336.0        391.0       332.0   \n",
       "51101   191.0   158.0   232.0   232.0        243.0        347.0       255.0   \n",
       "54715   204.0   158.0   248.0   248.0        260.0        374.0       259.0   \n",
       "...       ...     ...     ...     ...          ...          ...         ...   \n",
       "32028   283.0   205.0   203.0   203.0        286.0        405.0       289.0   \n",
       "23295   236.0   194.0   204.0   204.0        271.0        379.0       272.0   \n",
       "43401   308.0    77.0   247.0   247.0        173.0        470.0       171.0   \n",
       "49843   277.0   200.0   243.0   243.0        295.0        431.0       305.0   \n",
       "47486   181.0    91.0   282.0   282.0        216.0        371.0       216.0   \n",
       "\n",
       "       Left_Eye_Y  Face_Angle  \n",
       "1879        283.0    0.731607  \n",
       "54927       263.0    0.291002  \n",
       "26246       304.0    0.278280  \n",
       "51101       262.0    0.381798  \n",
       "54715       267.0    0.309640  \n",
       "...           ...         ...  \n",
       "32028       351.0    0.602547  \n",
       "23295       302.0    0.477154  \n",
       "43401       393.0    1.450301  \n",
       "49843       346.0    0.510805  \n",
       "47486       263.0    0.360030  \n",
       "\n",
       "[16709 rows x 9 columns]"
      ]
     },
     "execution_count": 26,
     "metadata": {},
     "output_type": "execute_result"
    }
   ],
   "source": [
    "X_valid"
   ]
  },
  {
   "cell_type": "code",
   "execution_count": 27,
   "id": "17c66e44",
   "metadata": {},
   "outputs": [
    {
     "name": "stderr",
     "output_type": "stream",
     "text": [
      "C:\\Users\\User\\AppData\\Local\\Temp\\ipykernel_11272\\2944433928.py:1: SettingWithCopyWarning: \n",
      "A value is trying to be set on a copy of a slice from a DataFrame\n",
      "\n",
      "See the caveats in the documentation: https://pandas.pydata.org/pandas-docs/stable/user_guide/indexing.html#returning-a-view-versus-a-copy\n",
      "  X_test.drop(columns = drop_column, inplace=True)\n"
     ]
    }
   ],
   "source": [
    "X_test.drop(columns = drop_column, inplace=True)"
   ]
  },
  {
   "cell_type": "code",
   "execution_count": 28,
   "id": "c3c8bdbf",
   "metadata": {},
   "outputs": [
    {
     "data": {
      "text/html": [
       "<div>\n",
       "<style scoped>\n",
       "    .dataframe tbody tr th:only-of-type {\n",
       "        vertical-align: middle;\n",
       "    }\n",
       "\n",
       "    .dataframe tbody tr th {\n",
       "        vertical-align: top;\n",
       "    }\n",
       "\n",
       "    .dataframe thead th {\n",
       "        text-align: right;\n",
       "    }\n",
       "</style>\n",
       "<table border=\"1\" class=\"dataframe\">\n",
       "  <thead>\n",
       "    <tr style=\"text-align: right;\">\n",
       "      <th></th>\n",
       "      <th>Face_Y</th>\n",
       "      <th>Face_X</th>\n",
       "      <th>Face_W</th>\n",
       "      <th>Face_H</th>\n",
       "      <th>Right_Eye_X</th>\n",
       "      <th>Right_Eye_Y</th>\n",
       "      <th>Left_Eye_X</th>\n",
       "      <th>Left_Eye_Y</th>\n",
       "      <th>Face_Angle</th>\n",
       "    </tr>\n",
       "  </thead>\n",
       "  <tbody>\n",
       "    <tr>\n",
       "      <th>55695</th>\n",
       "      <td>241.0</td>\n",
       "      <td>220.0</td>\n",
       "      <td>194.0</td>\n",
       "      <td>194.0</td>\n",
       "      <td>288.0</td>\n",
       "      <td>379.0</td>\n",
       "      <td>288.0</td>\n",
       "      <td>297.0</td>\n",
       "      <td>0.424277</td>\n",
       "    </tr>\n",
       "    <tr>\n",
       "      <th>55696</th>\n",
       "      <td>242.0</td>\n",
       "      <td>221.0</td>\n",
       "      <td>193.0</td>\n",
       "      <td>193.0</td>\n",
       "      <td>288.0</td>\n",
       "      <td>379.0</td>\n",
       "      <td>288.0</td>\n",
       "      <td>297.0</td>\n",
       "      <td>0.421167</td>\n",
       "    </tr>\n",
       "    <tr>\n",
       "      <th>55697</th>\n",
       "      <td>242.0</td>\n",
       "      <td>221.0</td>\n",
       "      <td>193.0</td>\n",
       "      <td>193.0</td>\n",
       "      <td>287.0</td>\n",
       "      <td>379.0</td>\n",
       "      <td>287.0</td>\n",
       "      <td>297.0</td>\n",
       "      <td>0.421158</td>\n",
       "    </tr>\n",
       "    <tr>\n",
       "      <th>55698</th>\n",
       "      <td>241.0</td>\n",
       "      <td>221.0</td>\n",
       "      <td>193.0</td>\n",
       "      <td>193.0</td>\n",
       "      <td>287.0</td>\n",
       "      <td>379.0</td>\n",
       "      <td>287.0</td>\n",
       "      <td>297.0</td>\n",
       "      <td>0.421158</td>\n",
       "    </tr>\n",
       "    <tr>\n",
       "      <th>55699</th>\n",
       "      <td>240.0</td>\n",
       "      <td>221.0</td>\n",
       "      <td>195.0</td>\n",
       "      <td>195.0</td>\n",
       "      <td>288.0</td>\n",
       "      <td>379.0</td>\n",
       "      <td>287.0</td>\n",
       "      <td>296.0</td>\n",
       "      <td>0.421158</td>\n",
       "    </tr>\n",
       "    <tr>\n",
       "      <th>...</th>\n",
       "      <td>...</td>\n",
       "      <td>...</td>\n",
       "      <td>...</td>\n",
       "      <td>...</td>\n",
       "      <td>...</td>\n",
       "      <td>...</td>\n",
       "      <td>...</td>\n",
       "      <td>...</td>\n",
       "      <td>...</td>\n",
       "    </tr>\n",
       "    <tr>\n",
       "      <th>107845</th>\n",
       "      <td>200.0</td>\n",
       "      <td>162.0</td>\n",
       "      <td>233.0</td>\n",
       "      <td>233.0</td>\n",
       "      <td>243.0</td>\n",
       "      <td>353.0</td>\n",
       "      <td>256.0</td>\n",
       "      <td>270.0</td>\n",
       "      <td>0.362527</td>\n",
       "    </tr>\n",
       "    <tr>\n",
       "      <th>107846</th>\n",
       "      <td>201.0</td>\n",
       "      <td>160.0</td>\n",
       "      <td>233.0</td>\n",
       "      <td>233.0</td>\n",
       "      <td>243.0</td>\n",
       "      <td>353.0</td>\n",
       "      <td>255.0</td>\n",
       "      <td>270.0</td>\n",
       "      <td>0.386992</td>\n",
       "    </tr>\n",
       "    <tr>\n",
       "      <th>107847</th>\n",
       "      <td>200.0</td>\n",
       "      <td>162.0</td>\n",
       "      <td>232.0</td>\n",
       "      <td>232.0</td>\n",
       "      <td>244.0</td>\n",
       "      <td>352.0</td>\n",
       "      <td>256.0</td>\n",
       "      <td>270.0</td>\n",
       "      <td>0.386993</td>\n",
       "    </tr>\n",
       "    <tr>\n",
       "      <th>107848</th>\n",
       "      <td>200.0</td>\n",
       "      <td>159.0</td>\n",
       "      <td>236.0</td>\n",
       "      <td>236.0</td>\n",
       "      <td>243.0</td>\n",
       "      <td>353.0</td>\n",
       "      <td>255.0</td>\n",
       "      <td>270.0</td>\n",
       "      <td>0.349297</td>\n",
       "    </tr>\n",
       "    <tr>\n",
       "      <th>107849</th>\n",
       "      <td>202.0</td>\n",
       "      <td>163.0</td>\n",
       "      <td>230.0</td>\n",
       "      <td>230.0</td>\n",
       "      <td>244.0</td>\n",
       "      <td>352.0</td>\n",
       "      <td>256.0</td>\n",
       "      <td>270.0</td>\n",
       "      <td>0.376803</td>\n",
       "    </tr>\n",
       "  </tbody>\n",
       "</table>\n",
       "<p>52155 rows × 9 columns</p>\n",
       "</div>"
      ],
      "text/plain": [
       "        Face_Y  Face_X  Face_W  Face_H  Right_Eye_X  Right_Eye_Y  Left_Eye_X  \\\n",
       "55695    241.0   220.0   194.0   194.0        288.0        379.0       288.0   \n",
       "55696    242.0   221.0   193.0   193.0        288.0        379.0       288.0   \n",
       "55697    242.0   221.0   193.0   193.0        287.0        379.0       287.0   \n",
       "55698    241.0   221.0   193.0   193.0        287.0        379.0       287.0   \n",
       "55699    240.0   221.0   195.0   195.0        288.0        379.0       287.0   \n",
       "...        ...     ...     ...     ...          ...          ...         ...   \n",
       "107845   200.0   162.0   233.0   233.0        243.0        353.0       256.0   \n",
       "107846   201.0   160.0   233.0   233.0        243.0        353.0       255.0   \n",
       "107847   200.0   162.0   232.0   232.0        244.0        352.0       256.0   \n",
       "107848   200.0   159.0   236.0   236.0        243.0        353.0       255.0   \n",
       "107849   202.0   163.0   230.0   230.0        244.0        352.0       256.0   \n",
       "\n",
       "        Left_Eye_Y  Face_Angle  \n",
       "55695        297.0    0.424277  \n",
       "55696        297.0    0.421167  \n",
       "55697        297.0    0.421158  \n",
       "55698        297.0    0.421158  \n",
       "55699        296.0    0.421158  \n",
       "...            ...         ...  \n",
       "107845       270.0    0.362527  \n",
       "107846       270.0    0.386992  \n",
       "107847       270.0    0.386993  \n",
       "107848       270.0    0.349297  \n",
       "107849       270.0    0.376803  \n",
       "\n",
       "[52155 rows x 9 columns]"
      ]
     },
     "execution_count": 28,
     "metadata": {},
     "output_type": "execute_result"
    }
   ],
   "source": [
    "X_test"
   ]
  },
  {
   "cell_type": "markdown",
   "id": "503b8af5",
   "metadata": {
    "id": "503b8af5"
   },
   "source": [
    "### MinMaxScaler"
   ]
  },
  {
   "cell_type": "code",
   "execution_count": 29,
   "id": "594693e7",
   "metadata": {
    "id": "594693e7"
   },
   "outputs": [],
   "source": [
    "minmax_scaler = preprocessing.MinMaxScaler()\n",
    "X_train_scal = minmax_scaler.fit_transform(X_train)\n",
    "X_valid_scal = minmax_scaler.transform(X_valid)\n",
    "X_test_scal = minmax_scaler.transform(X_test)"
   ]
  },
  {
   "cell_type": "code",
   "execution_count": 30,
   "id": "c213f366",
   "metadata": {
    "colab": {
     "base_uri": "https://localhost:8080/"
    },
    "id": "c213f366",
    "outputId": "a3a5fe71-0eb4-4939-f90f-efbc31598d12"
   },
   "outputs": [
    {
     "data": {
      "text/plain": [
       "array([[0.3874092 , 0.53246753, 0.39884393, ..., 0.57638889, 0.39793282,\n",
       "        0.00243009],\n",
       "       [0.50121065, 0.63636364, 0.16184971, ..., 0.61111111, 0.48578811,\n",
       "        0.00624757],\n",
       "       [0.48184019, 0.23051948, 0.47976879, ..., 0.26388889, 0.51162791,\n",
       "        0.02783358],\n",
       "       ...,\n",
       "       [0.34866828, 0.61363636, 0.2716763 , ..., 0.59722222, 0.32041344,\n",
       "        0.00192898],\n",
       "       [0.60532688, 0.62662338, 0.21387283, ..., 0.61111111, 0.60981912,\n",
       "        0.00641237],\n",
       "       [0.66101695, 0.18831169, 0.39306358, ..., 0.16319444, 0.67183463,\n",
       "        0.01818552]])"
      ]
     },
     "execution_count": 30,
     "metadata": {},
     "output_type": "execute_result"
    }
   ],
   "source": [
    "X_train_scal"
   ]
  },
  {
   "cell_type": "code",
   "execution_count": 31,
   "id": "51e0dcb9",
   "metadata": {
    "colab": {
     "base_uri": "https://localhost:8080/"
    },
    "id": "51e0dcb9",
    "outputId": "477491fb-7c73-4893-a80d-cac800dea7d4"
   },
   "outputs": [
    {
     "data": {
      "text/plain": [
       "array([[0.40920097, 0.18831169, 0.31213873, ..., 0.15277778, 0.42377261,\n",
       "        0.00850345],\n",
       "       [0.38983051, 0.55519481, 0.3583815 , ..., 0.57291667, 0.37209302,\n",
       "        0.00225584],\n",
       "       [0.49636804, 0.74675325, 0.26589595, ..., 0.73958333, 0.47803618,\n",
       "        0.00207545],\n",
       "       ...,\n",
       "       [0.66343826, 0.19155844, 0.4566474 , ..., 0.18055556, 0.70801034,\n",
       "        0.01869425],\n",
       "       [0.58837772, 0.59090909, 0.43352601, ..., 0.64583333, 0.58656331,\n",
       "        0.00537255],\n",
       "       [0.3559322 , 0.23701299, 0.65895954, ..., 0.33680556, 0.37209302,\n",
       "        0.00323463]])"
      ]
     },
     "execution_count": 31,
     "metadata": {},
     "output_type": "execute_result"
    }
   ],
   "source": [
    "X_valid_scal"
   ]
  },
  {
   "cell_type": "code",
   "execution_count": 32,
   "id": "06f32cf1",
   "metadata": {
    "colab": {
     "base_uri": "https://localhost:8080/"
    },
    "id": "06f32cf1",
    "outputId": "314b0557-0b4d-424d-a85c-cbe95c7573d5"
   },
   "outputs": [
    {
     "data": {
      "text/plain": [
       "array([[0.50121065, 0.65584416, 0.15028902, ..., 0.58680556, 0.45994832,\n",
       "        0.00414562],\n",
       "       [0.50363196, 0.65909091, 0.14450867, ..., 0.58680556, 0.45994832,\n",
       "        0.00410153],\n",
       "       [0.50363196, 0.65909091, 0.14450867, ..., 0.58333333, 0.45994832,\n",
       "        0.00410139],\n",
       "       ...,\n",
       "       [0.40193705, 0.46753247, 0.3699422 , ..., 0.47569444, 0.39018088,\n",
       "        0.00361695],\n",
       "       [0.40193705, 0.45779221, 0.39306358, ..., 0.47222222, 0.39018088,\n",
       "        0.00308244],\n",
       "       [0.40677966, 0.47077922, 0.3583815 , ..., 0.47569444, 0.39018088,\n",
       "        0.00347246]])"
      ]
     },
     "execution_count": 32,
     "metadata": {},
     "output_type": "execute_result"
    }
   ],
   "source": [
    "X_test_scal"
   ]
  },
  {
   "cell_type": "markdown",
   "id": "1e9bd2d4",
   "metadata": {
    "id": "1e9bd2d4"
   },
   "source": [
    "### CNN:"
   ]
  },
  {
   "cell_type": "code",
   "execution_count": 33,
   "id": "cK44P83AoKXg",
   "metadata": {
    "colab": {
     "base_uri": "https://localhost:8080/"
    },
    "id": "cK44P83AoKXg",
    "outputId": "83ec4386-99ff-4e01-b82b-9bd26ae31fe7"
   },
   "outputs": [
    {
     "name": "stdout",
     "output_type": "stream",
     "text": [
      "Model: \"sequential\"\n",
      "_________________________________________________________________\n",
      " Layer (type)                Output Shape              Param #   \n",
      "=================================================================\n",
      " dense (Dense)               (None, 64)                640       \n",
      "                                                                 \n",
      " dense_1 (Dense)             (None, 32)                2080      \n",
      "                                                                 \n",
      " dense_2 (Dense)             (None, 16)                528       \n",
      "                                                                 \n",
      " batch_normalization (BatchN  (None, 16)               64        \n",
      " ormalization)                                                   \n",
      "                                                                 \n",
      " dropout (Dropout)           (None, 16)                0         \n",
      "                                                                 \n",
      " flatten (Flatten)           (None, 16)                0         \n",
      "                                                                 \n",
      " dense_3 (Dense)             (None, 2)                 34        \n",
      "                                                                 \n",
      "=================================================================\n",
      "Total params: 3,346\n",
      "Trainable params: 3,314\n",
      "Non-trainable params: 32\n",
      "_________________________________________________________________\n"
     ]
    }
   ],
   "source": [
    "model = Sequential()\n",
    "\n",
    "model.add(Dense(64, activation='relu', input_shape=(9,)))\n",
    "\n",
    "model.add(Dense(32, activation='relu'))\n",
    "model.add(Dense(16, activation='relu'))\n",
    "\n",
    "model.add(BatchNormalization())\n",
    "\n",
    "model.add(Dropout(0.5))\n",
    "\n",
    "model.add(Flatten())\n",
    "\n",
    "model.add(Dense(2, activation='softmax'))\n",
    "\n",
    "model.summary()\n",
    "\n",
    "early_stopping = EarlyStopping(patience=3)"
   ]
  },
  {
   "cell_type": "code",
   "execution_count": 34,
   "id": "zWmSJEoBoKas",
   "metadata": {
    "id": "zWmSJEoBoKas"
   },
   "outputs": [],
   "source": [
    "learning_rate=0.001\n",
    "beta_1=0.9\n",
    "epsilon=1e-07\n",
    "\n",
    "optimizer = keras.optimizers.Adam(learning_rate=learning_rate,beta_1=beta_1,epsilon=epsilon)\n",
    "\n",
    "# Compile the model\n",
    "model.compile(optimizer=optimizer, loss='mse', metrics=['mse'])"
   ]
  },
  {
   "cell_type": "code",
   "execution_count": 35,
   "id": "glLBIMQ8ojLy",
   "metadata": {
    "id": "glLBIMQ8ojLy"
   },
   "outputs": [],
   "source": [
    "checkpoint_path = '/content/drive/My Drive/Colab Notebook'\n",
    "\n",
    "checkpoint = ModelCheckpoint(checkpoint_path, monitor='val_loss', save_best_only=True, save_weights_only=True, verbose=1)"
   ]
  },
  {
   "cell_type": "code",
   "execution_count": 36,
   "id": "iJVe8y6hojO8",
   "metadata": {
    "colab": {
     "base_uri": "https://localhost:8080/"
    },
    "id": "iJVe8y6hojO8",
    "outputId": "37745f2c-2bc4-49e3-f7fa-fa4be3650959"
   },
   "outputs": [
    {
     "name": "stdout",
     "output_type": "stream",
     "text": [
      "Epoch 1/5\n",
      "2592/2600 [============================>.] - ETA: 0s - loss: 0.0761 - mse: 0.0761\n",
      "Epoch 1: val_loss improved from inf to 0.07599, saving model to /content/drive/My Drive\\Colab Notebook\n",
      "2600/2600 [==============================] - 29s 9ms/step - loss: 0.0761 - mse: 0.0761 - val_loss: 0.0760 - val_mse: 0.0760\n",
      "Epoch 2/5\n",
      "2596/2600 [============================>.] - ETA: 0s - loss: 0.0754 - mse: 0.0754\n",
      "Epoch 2: val_loss did not improve from 0.07599\n",
      "2600/2600 [==============================] - 20s 8ms/step - loss: 0.0754 - mse: 0.0754 - val_loss: 0.1049 - val_mse: 0.1049\n",
      "Epoch 3/5\n",
      "2593/2600 [============================>.] - ETA: 0s - loss: 0.0743 - mse: 0.0743\n",
      "Epoch 3: val_loss improved from 0.07599 to 0.07343, saving model to /content/drive/My Drive\\Colab Notebook\n",
      "2600/2600 [==============================] - 19s 7ms/step - loss: 0.0743 - mse: 0.0743 - val_loss: 0.0734 - val_mse: 0.0734\n",
      "Epoch 4/5\n",
      "2600/2600 [==============================] - ETA: 0s - loss: 0.0739 - mse: 0.0739\n",
      "Epoch 4: val_loss did not improve from 0.07343\n",
      "2600/2600 [==============================] - 18s 7ms/step - loss: 0.0739 - mse: 0.0739 - val_loss: 0.0745 - val_mse: 0.0745\n",
      "Epoch 5/5\n",
      "2597/2600 [============================>.] - ETA: 0s - loss: 0.0730 - mse: 0.0730\n",
      "Epoch 5: val_loss improved from 0.07343 to 0.07146, saving model to /content/drive/My Drive\\Colab Notebook\n",
      "2600/2600 [==============================] - 21s 8ms/step - loss: 0.0730 - mse: 0.0730 - val_loss: 0.0715 - val_mse: 0.0715\n"
     ]
    }
   ],
   "source": [
    "model_history = model.fit(X_train_scal, y_train,epochs=5,batch_size=15,verbose=1,validation_data=(X_valid_scal, y_valid), callbacks=[checkpoint])"
   ]
  },
  {
   "cell_type": "markdown",
   "id": "5ff8ed43",
   "metadata": {
    "id": "5ff8ed43"
   },
   "source": [
    "### Epoch table results - Valid:"
   ]
  },
  {
   "cell_type": "code",
   "execution_count": 37,
   "id": "p-MeTaoPojSH",
   "metadata": {
    "colab": {
     "base_uri": "https://localhost:8080/"
    },
    "id": "p-MeTaoPojSH",
    "outputId": "1ae441d2-8e5d-4783-e927-1ffcc463d7df"
   },
   "outputs": [
    {
     "name": "stdout",
     "output_type": "stream",
     "text": [
      "|   Epoch |   Train MSE |   Validation MSE |      Loss |   Val Loss |\n",
      "|--------:|------------:|-----------------:|----------:|-----------:|\n",
      "|       1 |   0.07612   |        0.0759861 | 0.07612   |  0.0759861 |\n",
      "|       2 |   0.0753691 |        0.104898  | 0.0753691 |  0.104898  |\n",
      "|       3 |   0.0742603 |        0.0734255 | 0.0742603 |  0.0734255 |\n",
      "|       4 |   0.07389   |        0.0745289 | 0.07389   |  0.0745289 |\n",
      "|       5 |   0.0730343 |        0.0714633 | 0.0730343 |  0.0714633 |\n"
     ]
    }
   ],
   "source": [
    "epoch_table_valid = []\n",
    "\n",
    "for epoch in range(len(model_history.history['mse'])):\n",
    "    data = {'Epoch': epoch + 1,\n",
    "            'Train MSE': model_history.history['mse'][epoch],\n",
    "            'Validation MSE': model_history.history['val_mse'][epoch],\n",
    "            'Loss': model_history.history['loss'][epoch],\n",
    "            'Val Loss': model_history.history['val_loss'][epoch]}\n",
    "    epoch_table_valid.append(data)\n",
    "\n",
    "epoch_data = sorted(epoch_table_valid, key=lambda x: x['Train MSE'], reverse=True)\n",
    "\n",
    "table = tabulate(epoch_table_valid, headers=\"keys\", tablefmt='pipe')\n",
    "\n",
    "print(table)"
   ]
  },
  {
   "cell_type": "markdown",
   "id": "92e452c0",
   "metadata": {
    "id": "92e452c0"
   },
   "source": [
    "### Save csv file results epoch:"
   ]
  },
  {
   "cell_type": "code",
   "execution_count": 38,
   "id": "2tbG6-3IGqgk",
   "metadata": {
    "id": "2tbG6-3IGqgk"
   },
   "outputs": [],
   "source": [
    "epoch_table_valid_df = pd.DataFrame(epoch_table_valid)\n",
    "\n",
    "epoch_table_valid_df.to_csv('epoch_table_valid1.csv', index=False)"
   ]
  },
  {
   "cell_type": "code",
   "execution_count": null,
   "id": "P_J6gJtgTVwa",
   "metadata": {
    "colab": {
     "base_uri": "https://localhost:8080/",
     "height": 17
    },
    "id": "P_J6gJtgTVwa",
    "outputId": "07eb281f-6198-4781-ebf2-10aa07c1f96b"
   },
   "outputs": [],
   "source": [
    "# from google.colab import files\n",
    "\n",
    "# files.download('epoch_table_valid1.csv')"
   ]
  },
  {
   "cell_type": "markdown",
   "id": "9c0713d6",
   "metadata": {
    "id": "9c0713d6"
   },
   "source": [
    "### Evaluate and Predict :"
   ]
  },
  {
   "cell_type": "code",
   "execution_count": 42,
   "id": "u6GMJuN6oKeC",
   "metadata": {
    "colab": {
     "base_uri": "https://localhost:8080/"
    },
    "id": "u6GMJuN6oKeC",
    "outputId": "9954b31d-d4b4-41cf-810a-5d3a2d18fccc"
   },
   "outputs": [
    {
     "name": "stdout",
     "output_type": "stream",
     "text": [
      "1630/1630 [==============================] - 5s 3ms/step - loss: 0.0725 - mse: 0.0725\n",
      "Final evaluation of the model:\n",
      "Test MSE: 0.0725158080458641\n",
      "Test loss: 0.0725158080458641\n"
     ]
    }
   ],
   "source": [
    "test_loss, test_mse = model.evaluate(X_test_scal, y_test, verbose=1)\n",
    "\n",
    "print('Final evaluation of the model:')\n",
    "print('Test MSE:', test_mse)\n",
    "print('Test loss:', test_loss)"
   ]
  },
  {
   "cell_type": "markdown",
   "id": "69404049",
   "metadata": {
    "id": "69404049"
   },
   "source": [
    "### Predict:"
   ]
  },
  {
   "cell_type": "code",
   "execution_count": 43,
   "id": "CFjzLFQCtULM",
   "metadata": {
    "colab": {
     "base_uri": "https://localhost:8080/"
    },
    "id": "CFjzLFQCtULM",
    "outputId": "9a477fbd-6c50-4a51-f06d-39208e67665b"
   },
   "outputs": [
    {
     "name": "stdout",
     "output_type": "stream",
     "text": [
      "1630/1630 [==============================] - 6s 3ms/step\n"
     ]
    }
   ],
   "source": [
    "predictions = model.predict(X_test_scal)"
   ]
  },
  {
   "cell_type": "markdown",
   "id": "91d4333a",
   "metadata": {
    "id": "91d4333a"
   },
   "source": [
    "### Plot Train vs Valid:"
   ]
  },
  {
   "cell_type": "code",
   "execution_count": 44,
   "id": "7LZTnmC-tUQ5",
   "metadata": {
    "colab": {
     "base_uri": "https://localhost:8080/",
     "height": 564
    },
    "id": "7LZTnmC-tUQ5",
    "outputId": "24d9d5c3-630d-4b09-a1c2-dfc5265dfe79"
   },
   "outputs": [
    {
     "data": {
      "image/png": "[encoded data removed]",
      "text/plain": [
       "<Figure size 800x600 with 1 Axes>"
      ]
     },
     "metadata": {},
     "output_type": "display_data"
    }
   ],
   "source": [
    "def plot_accuracy(model_history):\n",
    "    train_acc = model_history.history['mse']\n",
    "    val_acc = model_history.history['val_mse']\n",
    "    epochs = range(1, len(train_acc) + 1)\n",
    "\n",
    "    plt.figure(figsize=(8, 6))\n",
    "    plt.plot(epochs, train_acc, label='Train MSE')\n",
    "    plt.plot(epochs, val_acc, label='Validation MSE')\n",
    "    plt.title('Train vs Validation MSE')\n",
    "    plt.xlabel('Epochs')\n",
    "    plt.ylabel('Mse')\n",
    "    plt.legend()\n",
    "    plt.show()\n",
    "\n",
    "plot_accuracy(model_history)"
   ]
  }
 ],
 "metadata": {
  "colab": {
   "provenance": []
  },
  "kernelspec": {
   "display_name": "Python 3 (ipykernel)",
   "language": "python",
   "name": "python3"
  },
  "language_info": {
   "codemirror_mode": {
    "name": "ipython",
    "version": 3
   },
   "file_extension": ".py",
   "mimetype": "text/x-python",
   "name": "python",
   "nbconvert_exporter": "python",
   "pygments_lexer": "ipython3",
   "version": "3.9.12"
  }
 },
 "nbformat": 4,
 "nbformat_minor": 5
}
