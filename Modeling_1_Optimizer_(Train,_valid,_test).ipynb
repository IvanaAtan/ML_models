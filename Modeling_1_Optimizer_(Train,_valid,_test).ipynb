{
 "cells": [
  {
   "cell_type": "markdown",
   "id": "ad598809",
   "metadata": {
    "id": "pmWTHiFOq6Dy"
   },
   "source": [
    "### Libraries:"
   ]
  },
  {
   "cell_type": "code",
   "execution_count": null,
   "id": "iz6sWk-lyNZY",
   "metadata": {
    "id": "iz6sWk-lyNZY"
   },
   "outputs": [],
   "source": [
    "# !pip install sklearn-genetic-opt"
   ]
  },
  {
   "cell_type": "code",
   "execution_count": null,
   "id": "MKurkJVoyNb_",
   "metadata": {
    "id": "MKurkJVoyNb_"
   },
   "outputs": [],
   "source": [
    "# !pip install scikit-optimize"
   ]
  },
  {
   "cell_type": "code",
   "execution_count": 1,
   "id": "d552de05",
   "metadata": {
    "id": "d552de05"
   },
   "outputs": [],
   "source": [
    "from sklearn.model_selection import GridSearchCV, RandomizedSearchCV, cross_val_score\n",
    "from sklearn.linear_model import LogisticRegression\n",
    "from sklearn_genetic.space import Categorical, Continuous\n",
    "from hyperopt import fmin, tpe, hp, Trials\n",
    "import numpy as np\n",
    "from skopt import BayesSearchCV\n",
    "# parameter ranges are specified by one of below\n",
    "from skopt.space import Real, Categorical, Integer\n",
    "from skopt import BayesSearchCV\n",
    "from sklearn.svm import SVC\n",
    "from sklearn.model_selection import train_test_split\n",
    "#from my_optimizer import ModelOptimizer\n",
    "\n",
    "from sklearn.datasets import make_regression\n",
    "from sklearn.multioutput import MultiOutputRegressor\n",
    "from sklearn.ensemble import RandomForestRegressor\n",
    "from sklearn.tree import DecisionTreeRegressor\n",
    "\n",
    "from sklearn import preprocessing\n",
    "\n",
    "from sklearn.metrics import r2_score, mean_absolute_error, mean_squared_error"
   ]
  },
  {
   "cell_type": "markdown",
   "id": "73f74dbf",
   "metadata": {
    "id": "5DPVQrGnrAzW"
   },
   "source": [
    "### Warnings:"
   ]
  },
  {
   "cell_type": "code",
   "execution_count": 2,
   "id": "yInAHdGMrBrY",
   "metadata": {
    "id": "yInAHdGMrBrY"
   },
   "outputs": [],
   "source": [
    "import warnings\n",
    "\n",
    "warnings.filterwarnings(\"ignore\", category=UserWarning, message=\"The objective has been evaluated at this point before.\")"
   ]
  },
  {
   "cell_type": "markdown",
   "id": "69afe6cb",
   "metadata": {
    "id": "T8mh_JB6rBuc"
   },
   "source": [
    "### Read dataset:"
   ]
  },
  {
   "cell_type": "code",
   "execution_count": 3,
   "id": "623vbPlFx-ru",
   "metadata": {
    "id": "623vbPlFx-ru"
   },
   "outputs": [
    {
     "data": {
      "text/html": [
       "<div>\n",
       "<style scoped>\n",
       "    .dataframe tbody tr th:only-of-type {\n",
       "        vertical-align: middle;\n",
       "    }\n",
       "\n",
       "    .dataframe tbody tr th {\n",
       "        vertical-align: top;\n",
       "    }\n",
       "\n",
       "    .dataframe thead th {\n",
       "        text-align: right;\n",
       "    }\n",
       "</style>\n",
       "<table border=\"1\" class=\"dataframe\">\n",
       "  <thead>\n",
       "    <tr style=\"text-align: right;\">\n",
       "      <th></th>\n",
       "      <th>Study_Folder</th>\n",
       "      <th>Subject_Folder</th>\n",
       "      <th>Stimuli</th>\n",
       "      <th>Frame Number</th>\n",
       "      <th>Face_Y</th>\n",
       "      <th>Face_X</th>\n",
       "      <th>Face_W</th>\n",
       "      <th>Face_H</th>\n",
       "      <th>Right_Eye_X</th>\n",
       "      <th>Right_Eye_Y</th>\n",
       "      <th>Left_Eye_X</th>\n",
       "      <th>Left_Eye_Y</th>\n",
       "      <th>Face_Angle</th>\n",
       "      <th>X_Predictions</th>\n",
       "      <th>Y_Predictions</th>\n",
       "    </tr>\n",
       "  </thead>\n",
       "  <tbody>\n",
       "    <tr>\n",
       "      <th>0</th>\n",
       "      <td>0eb02000-fe04-480d-9da4-b60e758d46e7</td>\n",
       "      <td>videos</td>\n",
       "      <td>0</td>\n",
       "      <td>0</td>\n",
       "      <td>235.0</td>\n",
       "      <td>195.0</td>\n",
       "      <td>204.0</td>\n",
       "      <td>204.0</td>\n",
       "      <td>269.0</td>\n",
       "      <td>377.0</td>\n",
       "      <td>269.0</td>\n",
       "      <td>296.0</td>\n",
       "      <td>0.469347</td>\n",
       "      <td>0.124451</td>\n",
       "      <td>0.166405</td>\n",
       "    </tr>\n",
       "    <tr>\n",
       "      <th>1</th>\n",
       "      <td>0eb02000-fe04-480d-9da4-b60e758d46e7</td>\n",
       "      <td>videos</td>\n",
       "      <td>0</td>\n",
       "      <td>1</td>\n",
       "      <td>235.0</td>\n",
       "      <td>196.0</td>\n",
       "      <td>201.0</td>\n",
       "      <td>201.0</td>\n",
       "      <td>268.0</td>\n",
       "      <td>377.0</td>\n",
       "      <td>268.0</td>\n",
       "      <td>296.0</td>\n",
       "      <td>0.469335</td>\n",
       "      <td>0.124451</td>\n",
       "      <td>0.166405</td>\n",
       "    </tr>\n",
       "    <tr>\n",
       "      <th>2</th>\n",
       "      <td>0eb02000-fe04-480d-9da4-b60e758d46e7</td>\n",
       "      <td>videos</td>\n",
       "      <td>0</td>\n",
       "      <td>2</td>\n",
       "      <td>236.0</td>\n",
       "      <td>196.0</td>\n",
       "      <td>201.0</td>\n",
       "      <td>201.0</td>\n",
       "      <td>268.0</td>\n",
       "      <td>377.0</td>\n",
       "      <td>268.0</td>\n",
       "      <td>296.0</td>\n",
       "      <td>0.465500</td>\n",
       "      <td>0.124451</td>\n",
       "      <td>0.166405</td>\n",
       "    </tr>\n",
       "    <tr>\n",
       "      <th>3</th>\n",
       "      <td>0eb02000-fe04-480d-9da4-b60e758d46e7</td>\n",
       "      <td>videos</td>\n",
       "      <td>0</td>\n",
       "      <td>3</td>\n",
       "      <td>236.0</td>\n",
       "      <td>196.0</td>\n",
       "      <td>201.0</td>\n",
       "      <td>201.0</td>\n",
       "      <td>268.0</td>\n",
       "      <td>377.0</td>\n",
       "      <td>268.0</td>\n",
       "      <td>296.0</td>\n",
       "      <td>0.477129</td>\n",
       "      <td>0.124451</td>\n",
       "      <td>0.166405</td>\n",
       "    </tr>\n",
       "    <tr>\n",
       "      <th>4</th>\n",
       "      <td>0eb02000-fe04-480d-9da4-b60e758d46e7</td>\n",
       "      <td>videos</td>\n",
       "      <td>0</td>\n",
       "      <td>4</td>\n",
       "      <td>235.0</td>\n",
       "      <td>195.0</td>\n",
       "      <td>203.0</td>\n",
       "      <td>203.0</td>\n",
       "      <td>269.0</td>\n",
       "      <td>377.0</td>\n",
       "      <td>268.0</td>\n",
       "      <td>296.0</td>\n",
       "      <td>0.469347</td>\n",
       "      <td>0.124451</td>\n",
       "      <td>0.166405</td>\n",
       "    </tr>\n",
       "    <tr>\n",
       "      <th>...</th>\n",
       "      <td>...</td>\n",
       "      <td>...</td>\n",
       "      <td>...</td>\n",
       "      <td>...</td>\n",
       "      <td>...</td>\n",
       "      <td>...</td>\n",
       "      <td>...</td>\n",
       "      <td>...</td>\n",
       "      <td>...</td>\n",
       "      <td>...</td>\n",
       "      <td>...</td>\n",
       "      <td>...</td>\n",
       "      <td>...</td>\n",
       "      <td>...</td>\n",
       "      <td>...</td>\n",
       "    </tr>\n",
       "    <tr>\n",
       "      <th>107845</th>\n",
       "      <td>7f1cb219-f275-4148-9658-67b1c26a6649</td>\n",
       "      <td>videos</td>\n",
       "      <td>9806</td>\n",
       "      <td>200</td>\n",
       "      <td>200.0</td>\n",
       "      <td>162.0</td>\n",
       "      <td>233.0</td>\n",
       "      <td>233.0</td>\n",
       "      <td>243.0</td>\n",
       "      <td>353.0</td>\n",
       "      <td>256.0</td>\n",
       "      <td>270.0</td>\n",
       "      <td>0.362527</td>\n",
       "      <td>0.124735</td>\n",
       "      <td>0.721234</td>\n",
       "    </tr>\n",
       "    <tr>\n",
       "      <th>107846</th>\n",
       "      <td>7f1cb219-f275-4148-9658-67b1c26a6649</td>\n",
       "      <td>videos</td>\n",
       "      <td>9806</td>\n",
       "      <td>201</td>\n",
       "      <td>201.0</td>\n",
       "      <td>160.0</td>\n",
       "      <td>233.0</td>\n",
       "      <td>233.0</td>\n",
       "      <td>243.0</td>\n",
       "      <td>353.0</td>\n",
       "      <td>255.0</td>\n",
       "      <td>270.0</td>\n",
       "      <td>0.386992</td>\n",
       "      <td>0.223992</td>\n",
       "      <td>0.539739</td>\n",
       "    </tr>\n",
       "    <tr>\n",
       "      <th>107847</th>\n",
       "      <td>7f1cb219-f275-4148-9658-67b1c26a6649</td>\n",
       "      <td>videos</td>\n",
       "      <td>9806</td>\n",
       "      <td>202</td>\n",
       "      <td>200.0</td>\n",
       "      <td>162.0</td>\n",
       "      <td>232.0</td>\n",
       "      <td>232.0</td>\n",
       "      <td>244.0</td>\n",
       "      <td>352.0</td>\n",
       "      <td>256.0</td>\n",
       "      <td>270.0</td>\n",
       "      <td>0.386993</td>\n",
       "      <td>0.124735</td>\n",
       "      <td>0.733096</td>\n",
       "    </tr>\n",
       "    <tr>\n",
       "      <th>107848</th>\n",
       "      <td>7f1cb219-f275-4148-9658-67b1c26a6649</td>\n",
       "      <td>videos</td>\n",
       "      <td>9806</td>\n",
       "      <td>203</td>\n",
       "      <td>200.0</td>\n",
       "      <td>159.0</td>\n",
       "      <td>236.0</td>\n",
       "      <td>236.0</td>\n",
       "      <td>243.0</td>\n",
       "      <td>353.0</td>\n",
       "      <td>255.0</td>\n",
       "      <td>270.0</td>\n",
       "      <td>0.349297</td>\n",
       "      <td>0.124204</td>\n",
       "      <td>0.717675</td>\n",
       "    </tr>\n",
       "    <tr>\n",
       "      <th>107849</th>\n",
       "      <td>7f1cb219-f275-4148-9658-67b1c26a6649</td>\n",
       "      <td>videos</td>\n",
       "      <td>9806</td>\n",
       "      <td>204</td>\n",
       "      <td>202.0</td>\n",
       "      <td>163.0</td>\n",
       "      <td>230.0</td>\n",
       "      <td>230.0</td>\n",
       "      <td>244.0</td>\n",
       "      <td>352.0</td>\n",
       "      <td>256.0</td>\n",
       "      <td>270.0</td>\n",
       "      <td>0.376803</td>\n",
       "      <td>0.124204</td>\n",
       "      <td>0.727165</td>\n",
       "    </tr>\n",
       "  </tbody>\n",
       "</table>\n",
       "<p>107850 rows × 15 columns</p>\n",
       "</div>"
      ],
      "text/plain": [
       "                                Study_Folder Subject_Folder  Stimuli  \\\n",
       "0       0eb02000-fe04-480d-9da4-b60e758d46e7         videos        0   \n",
       "1       0eb02000-fe04-480d-9da4-b60e758d46e7         videos        0   \n",
       "2       0eb02000-fe04-480d-9da4-b60e758d46e7         videos        0   \n",
       "3       0eb02000-fe04-480d-9da4-b60e758d46e7         videos        0   \n",
       "4       0eb02000-fe04-480d-9da4-b60e758d46e7         videos        0   \n",
       "...                                      ...            ...      ...   \n",
       "107845  7f1cb219-f275-4148-9658-67b1c26a6649         videos     9806   \n",
       "107846  7f1cb219-f275-4148-9658-67b1c26a6649         videos     9806   \n",
       "107847  7f1cb219-f275-4148-9658-67b1c26a6649         videos     9806   \n",
       "107848  7f1cb219-f275-4148-9658-67b1c26a6649         videos     9806   \n",
       "107849  7f1cb219-f275-4148-9658-67b1c26a6649         videos     9806   \n",
       "\n",
       "        Frame Number  Face_Y  Face_X  Face_W  Face_H  Right_Eye_X  \\\n",
       "0                  0   235.0   195.0   204.0   204.0        269.0   \n",
       "1                  1   235.0   196.0   201.0   201.0        268.0   \n",
       "2                  2   236.0   196.0   201.0   201.0        268.0   \n",
       "3                  3   236.0   196.0   201.0   201.0        268.0   \n",
       "4                  4   235.0   195.0   203.0   203.0        269.0   \n",
       "...              ...     ...     ...     ...     ...          ...   \n",
       "107845           200   200.0   162.0   233.0   233.0        243.0   \n",
       "107846           201   201.0   160.0   233.0   233.0        243.0   \n",
       "107847           202   200.0   162.0   232.0   232.0        244.0   \n",
       "107848           203   200.0   159.0   236.0   236.0        243.0   \n",
       "107849           204   202.0   163.0   230.0   230.0        244.0   \n",
       "\n",
       "        Right_Eye_Y  Left_Eye_X  Left_Eye_Y  Face_Angle  X_Predictions  \\\n",
       "0             377.0       269.0       296.0    0.469347       0.124451   \n",
       "1             377.0       268.0       296.0    0.469335       0.124451   \n",
       "2             377.0       268.0       296.0    0.465500       0.124451   \n",
       "3             377.0       268.0       296.0    0.477129       0.124451   \n",
       "4             377.0       268.0       296.0    0.469347       0.124451   \n",
       "...             ...         ...         ...         ...            ...   \n",
       "107845        353.0       256.0       270.0    0.362527       0.124735   \n",
       "107846        353.0       255.0       270.0    0.386992       0.223992   \n",
       "107847        352.0       256.0       270.0    0.386993       0.124735   \n",
       "107848        353.0       255.0       270.0    0.349297       0.124204   \n",
       "107849        352.0       256.0       270.0    0.376803       0.124204   \n",
       "\n",
       "        Y_Predictions  \n",
       "0            0.166405  \n",
       "1            0.166405  \n",
       "2            0.166405  \n",
       "3            0.166405  \n",
       "4            0.166405  \n",
       "...               ...  \n",
       "107845       0.721234  \n",
       "107846       0.539739  \n",
       "107847       0.733096  \n",
       "107848       0.717675  \n",
       "107849       0.727165  \n",
       "\n",
       "[107850 rows x 15 columns]"
      ]
     },
     "execution_count": 3,
     "metadata": {},
     "output_type": "execute_result"
    }
   ],
   "source": [
    "import pandas as pd\n",
    "df = pd.read_csv('data1_filled.csv')\n",
    "df"
   ]
  },
  {
   "cell_type": "code",
   "execution_count": null,
   "id": "Ng5_OjGOthAg",
   "metadata": {
    "colab": {
     "base_uri": "https://localhost:8080/",
     "height": 38
    },
    "id": "Ng5_OjGOthAg",
    "outputId": "cfe33770-19b5-4b68-86d5-bf5bc437780a"
   },
   "outputs": [],
   "source": [
    "# from google.colab import files\n",
    "# uploaded = files.upload()"
   ]
  },
  {
   "cell_type": "code",
   "execution_count": null,
   "id": "lt1-6sHbthC7",
   "metadata": {
    "id": "lt1-6sHbthC7"
   },
   "outputs": [],
   "source": [
    "# import pandas as pd\n",
    "# import io\n",
    "\n",
    "# df = pd.read_csv(io.BytesIO(uploaded['data1_filled.csv']))\n",
    "# df"
   ]
  },
  {
   "cell_type": "code",
   "execution_count": 4,
   "id": "02S59FxpthGQ",
   "metadata": {
    "id": "02S59FxpthGQ"
   },
   "outputs": [
    {
     "name": "stdout",
     "output_type": "stream",
     "text": [
      "<class 'pandas.core.frame.DataFrame'>\n",
      "RangeIndex: 107850 entries, 0 to 107849\n",
      "Data columns (total 15 columns):\n",
      " #   Column          Non-Null Count   Dtype  \n",
      "---  ------          --------------   -----  \n",
      " 0   Study_Folder    107850 non-null  object \n",
      " 1   Subject_Folder  107850 non-null  object \n",
      " 2   Stimuli         107850 non-null  int64  \n",
      " 3   Frame Number    107850 non-null  int64  \n",
      " 4   Face_Y          107850 non-null  float64\n",
      " 5   Face_X          107850 non-null  float64\n",
      " 6   Face_W          107850 non-null  float64\n",
      " 7   Face_H          107850 non-null  float64\n",
      " 8   Right_Eye_X     107850 non-null  float64\n",
      " 9   Right_Eye_Y     107850 non-null  float64\n",
      " 10  Left_Eye_X      107850 non-null  float64\n",
      " 11  Left_Eye_Y      107850 non-null  float64\n",
      " 12  Face_Angle      107850 non-null  float64\n",
      " 13  X_Predictions   107850 non-null  float64\n",
      " 14  Y_Predictions   107850 non-null  float64\n",
      "dtypes: float64(11), int64(2), object(2)\n",
      "memory usage: 12.3+ MB\n"
     ]
    }
   ],
   "source": [
    "df.info()"
   ]
  },
  {
   "cell_type": "markdown",
   "id": "a77faf63",
   "metadata": {
    "id": "8daSt1RAuxUr"
   },
   "source": [
    "### Drop columns:"
   ]
  },
  {
   "cell_type": "code",
   "execution_count": 5,
   "id": "Q227uyWiuxXx",
   "metadata": {
    "id": "Q227uyWiuxXx"
   },
   "outputs": [],
   "source": [
    "df.drop(['Study_Folder','Subject_Folder'], axis = 1, inplace = True)"
   ]
  },
  {
   "cell_type": "code",
   "execution_count": 6,
   "id": "N_z467K5u-q3",
   "metadata": {
    "id": "N_z467K5u-q3"
   },
   "outputs": [
    {
     "data": {
      "text/html": [
       "<div>\n",
       "<style scoped>\n",
       "    .dataframe tbody tr th:only-of-type {\n",
       "        vertical-align: middle;\n",
       "    }\n",
       "\n",
       "    .dataframe tbody tr th {\n",
       "        vertical-align: top;\n",
       "    }\n",
       "\n",
       "    .dataframe thead th {\n",
       "        text-align: right;\n",
       "    }\n",
       "</style>\n",
       "<table border=\"1\" class=\"dataframe\">\n",
       "  <thead>\n",
       "    <tr style=\"text-align: right;\">\n",
       "      <th></th>\n",
       "      <th>Stimuli</th>\n",
       "      <th>Frame Number</th>\n",
       "      <th>Face_Y</th>\n",
       "      <th>Face_X</th>\n",
       "      <th>Face_W</th>\n",
       "      <th>Face_H</th>\n",
       "      <th>Right_Eye_X</th>\n",
       "      <th>Right_Eye_Y</th>\n",
       "      <th>Left_Eye_X</th>\n",
       "      <th>Left_Eye_Y</th>\n",
       "      <th>Face_Angle</th>\n",
       "      <th>X_Predictions</th>\n",
       "      <th>Y_Predictions</th>\n",
       "    </tr>\n",
       "  </thead>\n",
       "  <tbody>\n",
       "    <tr>\n",
       "      <th>0</th>\n",
       "      <td>0</td>\n",
       "      <td>0</td>\n",
       "      <td>235.0</td>\n",
       "      <td>195.0</td>\n",
       "      <td>204.0</td>\n",
       "      <td>204.0</td>\n",
       "      <td>269.0</td>\n",
       "      <td>377.0</td>\n",
       "      <td>269.0</td>\n",
       "      <td>296.0</td>\n",
       "      <td>0.469347</td>\n",
       "      <td>0.124451</td>\n",
       "      <td>0.166405</td>\n",
       "    </tr>\n",
       "    <tr>\n",
       "      <th>1</th>\n",
       "      <td>0</td>\n",
       "      <td>1</td>\n",
       "      <td>235.0</td>\n",
       "      <td>196.0</td>\n",
       "      <td>201.0</td>\n",
       "      <td>201.0</td>\n",
       "      <td>268.0</td>\n",
       "      <td>377.0</td>\n",
       "      <td>268.0</td>\n",
       "      <td>296.0</td>\n",
       "      <td>0.469335</td>\n",
       "      <td>0.124451</td>\n",
       "      <td>0.166405</td>\n",
       "    </tr>\n",
       "    <tr>\n",
       "      <th>2</th>\n",
       "      <td>0</td>\n",
       "      <td>2</td>\n",
       "      <td>236.0</td>\n",
       "      <td>196.0</td>\n",
       "      <td>201.0</td>\n",
       "      <td>201.0</td>\n",
       "      <td>268.0</td>\n",
       "      <td>377.0</td>\n",
       "      <td>268.0</td>\n",
       "      <td>296.0</td>\n",
       "      <td>0.465500</td>\n",
       "      <td>0.124451</td>\n",
       "      <td>0.166405</td>\n",
       "    </tr>\n",
       "    <tr>\n",
       "      <th>3</th>\n",
       "      <td>0</td>\n",
       "      <td>3</td>\n",
       "      <td>236.0</td>\n",
       "      <td>196.0</td>\n",
       "      <td>201.0</td>\n",
       "      <td>201.0</td>\n",
       "      <td>268.0</td>\n",
       "      <td>377.0</td>\n",
       "      <td>268.0</td>\n",
       "      <td>296.0</td>\n",
       "      <td>0.477129</td>\n",
       "      <td>0.124451</td>\n",
       "      <td>0.166405</td>\n",
       "    </tr>\n",
       "    <tr>\n",
       "      <th>4</th>\n",
       "      <td>0</td>\n",
       "      <td>4</td>\n",
       "      <td>235.0</td>\n",
       "      <td>195.0</td>\n",
       "      <td>203.0</td>\n",
       "      <td>203.0</td>\n",
       "      <td>269.0</td>\n",
       "      <td>377.0</td>\n",
       "      <td>268.0</td>\n",
       "      <td>296.0</td>\n",
       "      <td>0.469347</td>\n",
       "      <td>0.124451</td>\n",
       "      <td>0.166405</td>\n",
       "    </tr>\n",
       "    <tr>\n",
       "      <th>...</th>\n",
       "      <td>...</td>\n",
       "      <td>...</td>\n",
       "      <td>...</td>\n",
       "      <td>...</td>\n",
       "      <td>...</td>\n",
       "      <td>...</td>\n",
       "      <td>...</td>\n",
       "      <td>...</td>\n",
       "      <td>...</td>\n",
       "      <td>...</td>\n",
       "      <td>...</td>\n",
       "      <td>...</td>\n",
       "      <td>...</td>\n",
       "    </tr>\n",
       "    <tr>\n",
       "      <th>107845</th>\n",
       "      <td>9806</td>\n",
       "      <td>200</td>\n",
       "      <td>200.0</td>\n",
       "      <td>162.0</td>\n",
       "      <td>233.0</td>\n",
       "      <td>233.0</td>\n",
       "      <td>243.0</td>\n",
       "      <td>353.0</td>\n",
       "      <td>256.0</td>\n",
       "      <td>270.0</td>\n",
       "      <td>0.362527</td>\n",
       "      <td>0.124735</td>\n",
       "      <td>0.721234</td>\n",
       "    </tr>\n",
       "    <tr>\n",
       "      <th>107846</th>\n",
       "      <td>9806</td>\n",
       "      <td>201</td>\n",
       "      <td>201.0</td>\n",
       "      <td>160.0</td>\n",
       "      <td>233.0</td>\n",
       "      <td>233.0</td>\n",
       "      <td>243.0</td>\n",
       "      <td>353.0</td>\n",
       "      <td>255.0</td>\n",
       "      <td>270.0</td>\n",
       "      <td>0.386992</td>\n",
       "      <td>0.223992</td>\n",
       "      <td>0.539739</td>\n",
       "    </tr>\n",
       "    <tr>\n",
       "      <th>107847</th>\n",
       "      <td>9806</td>\n",
       "      <td>202</td>\n",
       "      <td>200.0</td>\n",
       "      <td>162.0</td>\n",
       "      <td>232.0</td>\n",
       "      <td>232.0</td>\n",
       "      <td>244.0</td>\n",
       "      <td>352.0</td>\n",
       "      <td>256.0</td>\n",
       "      <td>270.0</td>\n",
       "      <td>0.386993</td>\n",
       "      <td>0.124735</td>\n",
       "      <td>0.733096</td>\n",
       "    </tr>\n",
       "    <tr>\n",
       "      <th>107848</th>\n",
       "      <td>9806</td>\n",
       "      <td>203</td>\n",
       "      <td>200.0</td>\n",
       "      <td>159.0</td>\n",
       "      <td>236.0</td>\n",
       "      <td>236.0</td>\n",
       "      <td>243.0</td>\n",
       "      <td>353.0</td>\n",
       "      <td>255.0</td>\n",
       "      <td>270.0</td>\n",
       "      <td>0.349297</td>\n",
       "      <td>0.124204</td>\n",
       "      <td>0.717675</td>\n",
       "    </tr>\n",
       "    <tr>\n",
       "      <th>107849</th>\n",
       "      <td>9806</td>\n",
       "      <td>204</td>\n",
       "      <td>202.0</td>\n",
       "      <td>163.0</td>\n",
       "      <td>230.0</td>\n",
       "      <td>230.0</td>\n",
       "      <td>244.0</td>\n",
       "      <td>352.0</td>\n",
       "      <td>256.0</td>\n",
       "      <td>270.0</td>\n",
       "      <td>0.376803</td>\n",
       "      <td>0.124204</td>\n",
       "      <td>0.727165</td>\n",
       "    </tr>\n",
       "  </tbody>\n",
       "</table>\n",
       "<p>107850 rows × 13 columns</p>\n",
       "</div>"
      ],
      "text/plain": [
       "        Stimuli  Frame Number  Face_Y  Face_X  Face_W  Face_H  Right_Eye_X  \\\n",
       "0             0             0   235.0   195.0   204.0   204.0        269.0   \n",
       "1             0             1   235.0   196.0   201.0   201.0        268.0   \n",
       "2             0             2   236.0   196.0   201.0   201.0        268.0   \n",
       "3             0             3   236.0   196.0   201.0   201.0        268.0   \n",
       "4             0             4   235.0   195.0   203.0   203.0        269.0   \n",
       "...         ...           ...     ...     ...     ...     ...          ...   \n",
       "107845     9806           200   200.0   162.0   233.0   233.0        243.0   \n",
       "107846     9806           201   201.0   160.0   233.0   233.0        243.0   \n",
       "107847     9806           202   200.0   162.0   232.0   232.0        244.0   \n",
       "107848     9806           203   200.0   159.0   236.0   236.0        243.0   \n",
       "107849     9806           204   202.0   163.0   230.0   230.0        244.0   \n",
       "\n",
       "        Right_Eye_Y  Left_Eye_X  Left_Eye_Y  Face_Angle  X_Predictions  \\\n",
       "0             377.0       269.0       296.0    0.469347       0.124451   \n",
       "1             377.0       268.0       296.0    0.469335       0.124451   \n",
       "2             377.0       268.0       296.0    0.465500       0.124451   \n",
       "3             377.0       268.0       296.0    0.477129       0.124451   \n",
       "4             377.0       268.0       296.0    0.469347       0.124451   \n",
       "...             ...         ...         ...         ...            ...   \n",
       "107845        353.0       256.0       270.0    0.362527       0.124735   \n",
       "107846        353.0       255.0       270.0    0.386992       0.223992   \n",
       "107847        352.0       256.0       270.0    0.386993       0.124735   \n",
       "107848        353.0       255.0       270.0    0.349297       0.124204   \n",
       "107849        352.0       256.0       270.0    0.376803       0.124204   \n",
       "\n",
       "        Y_Predictions  \n",
       "0            0.166405  \n",
       "1            0.166405  \n",
       "2            0.166405  \n",
       "3            0.166405  \n",
       "4            0.166405  \n",
       "...               ...  \n",
       "107845       0.721234  \n",
       "107846       0.539739  \n",
       "107847       0.733096  \n",
       "107848       0.717675  \n",
       "107849       0.727165  \n",
       "\n",
       "[107850 rows x 13 columns]"
      ]
     },
     "execution_count": 6,
     "metadata": {},
     "output_type": "execute_result"
    }
   ],
   "source": [
    "df"
   ]
  },
  {
   "cell_type": "code",
   "execution_count": 7,
   "id": "-xibQxolvBk9",
   "metadata": {
    "id": "-xibQxolvBk9"
   },
   "outputs": [
    {
     "data": {
      "text/plain": [
       "Stimuli          0\n",
       "Frame Number     0\n",
       "Face_Y           0\n",
       "Face_X           0\n",
       "Face_W           0\n",
       "Face_H           0\n",
       "Right_Eye_X      0\n",
       "Right_Eye_Y      0\n",
       "Left_Eye_X       0\n",
       "Left_Eye_Y       0\n",
       "Face_Angle       0\n",
       "X_Predictions    0\n",
       "Y_Predictions    0\n",
       "dtype: int64"
      ]
     },
     "execution_count": 7,
     "metadata": {},
     "output_type": "execute_result"
    }
   ],
   "source": [
    "# Checking NaN values\n",
    "df.isna().sum()"
   ]
  },
  {
   "cell_type": "markdown",
   "id": "1471f60f",
   "metadata": {
    "id": "6Wf4NHSuvEdn"
   },
   "source": [
    "### Define Stimuli, X,Y:"
   ]
  },
  {
   "cell_type": "code",
   "execution_count": 8,
   "id": "bxOyFy-HvEgT",
   "metadata": {
    "id": "bxOyFy-HvEgT"
   },
   "outputs": [
    {
     "data": {
      "text/plain": [
       "Index(['Stimuli', 'Frame Number', 'Face_Y', 'Face_X', 'Face_W', 'Face_H',\n",
       "       'Right_Eye_X', 'Right_Eye_Y', 'Left_Eye_X', 'Left_Eye_Y', 'Face_Angle',\n",
       "       'X_Predictions', 'Y_Predictions'],\n",
       "      dtype='object')"
      ]
     },
     "execution_count": 8,
     "metadata": {},
     "output_type": "execute_result"
    }
   ],
   "source": [
    "df.columns"
   ]
  },
  {
   "cell_type": "code",
   "execution_count": 9,
   "id": "_QA5QMrHvEjD",
   "metadata": {
    "id": "_QA5QMrHvEjD"
   },
   "outputs": [],
   "source": [
    "features_columns = ['Stimuli', 'Frame Number', 'Face_Y', 'Face_X', 'Face_W','Face_H',\n",
    "                    'Right_Eye_X', 'Right_Eye_Y', 'Left_Eye_X', 'Left_Eye_Y', 'Face_Angle']\n",
    "\n",
    "target_columns=['X_Predictions', 'Y_Predictions']"
   ]
  },
  {
   "cell_type": "code",
   "execution_count": 10,
   "id": "YgiCkuduvEmB",
   "metadata": {
    "id": "YgiCkuduvEmB"
   },
   "outputs": [],
   "source": [
    "X=df[features_columns]"
   ]
  },
  {
   "cell_type": "code",
   "execution_count": 11,
   "id": "TbX16OksvBn4",
   "metadata": {
    "id": "TbX16OksvBn4"
   },
   "outputs": [],
   "source": [
    "y=df[target_columns]"
   ]
  },
  {
   "cell_type": "code",
   "execution_count": 12,
   "id": "VIxTEF3pvBr9",
   "metadata": {
    "id": "VIxTEF3pvBr9"
   },
   "outputs": [],
   "source": [
    "X_train_valid= X[X['Stimuli']<= 11]"
   ]
  },
  {
   "cell_type": "code",
   "execution_count": 13,
   "id": "A4BuQDMqvRJ-",
   "metadata": {
    "id": "A4BuQDMqvRJ-"
   },
   "outputs": [],
   "source": [
    "X_test= X[X['Stimuli']> 11]"
   ]
  },
  {
   "cell_type": "code",
   "execution_count": 14,
   "id": "gYkkF7mzvRNC",
   "metadata": {
    "id": "gYkkF7mzvRNC"
   },
   "outputs": [],
   "source": [
    "y_train_valid= y[X['Stimuli']<= 11]"
   ]
  },
  {
   "cell_type": "code",
   "execution_count": 15,
   "id": "txiqIRHOvRQI",
   "metadata": {
    "id": "txiqIRHOvRQI"
   },
   "outputs": [],
   "source": [
    "y_test= y[X['Stimuli']> 11]"
   ]
  },
  {
   "cell_type": "markdown",
   "id": "6d840c1b",
   "metadata": {
    "id": "uj-HHBHfvRSp"
   },
   "source": [
    "### Split data:"
   ]
  },
  {
   "cell_type": "code",
   "execution_count": 16,
   "id": "m3gEu5vevRV1",
   "metadata": {
    "id": "m3gEu5vevRV1"
   },
   "outputs": [],
   "source": [
    "X_train, X_valid, y_train, y_valid = train_test_split(X_train_valid, y_train_valid, test_size=0.3,stratify =X_train_valid['Stimuli'] ,random_state=42)"
   ]
  },
  {
   "cell_type": "code",
   "execution_count": 17,
   "id": "u9GsDbeUvRZk",
   "metadata": {
    "id": "u9GsDbeUvRZk"
   },
   "outputs": [
    {
     "name": "stdout",
     "output_type": "stream",
     "text": [
      "Whole dataset : 107850\n",
      "X Train size 38986\n",
      "y Train size 38986\n",
      "X Valid size 16709\n",
      "y Valid size 16709\n",
      "X Test size 52155\n",
      "y Test size 52155\n"
     ]
    }
   ],
   "source": [
    "print(\"Whole dataset :\",len(df))\n",
    "print(\"X Train size\", len(X_train))\n",
    "print(\"y Train size\", len(y_train))\n",
    "print(\"X Valid size\", len(X_valid))\n",
    "print(\"y Valid size\", len(y_valid))\n",
    "print(\"X Test size\", len(X_test))\n",
    "print(\"y Test size\", len(y_test))"
   ]
  },
  {
   "cell_type": "code",
   "execution_count": 18,
   "id": "il5WjqYivRcV",
   "metadata": {
    "id": "il5WjqYivRcV"
   },
   "outputs": [
    {
     "name": "stdout",
     "output_type": "stream",
     "text": [
      "X Train shape (38986, 11)\n",
      "y Train shape (38986, 2)\n",
      "X Valid shape (16709, 11)\n",
      "y Valid shape (16709, 2)\n",
      "X Test shape (52155, 11)\n",
      "y Test shape (52155, 2)\n"
     ]
    }
   ],
   "source": [
    "print(\"X Train shape\", X_train.shape)\n",
    "print(\"y Train shape\", y_train.shape)\n",
    "print(\"X Valid shape\", X_valid.shape)\n",
    "print(\"y Valid shape\", y_valid.shape)\n",
    "print(\"X Test shape\", X_test.shape)\n",
    "print(\"y Test shape\", y_test.shape)"
   ]
  },
  {
   "cell_type": "code",
   "execution_count": 19,
   "id": "Q4i4OkvgvRew",
   "metadata": {
    "id": "Q4i4OkvgvRew"
   },
   "outputs": [
    {
     "data": {
      "text/plain": [
       "(0     0.081542\n",
       " 11    0.082389\n",
       " 5     0.082389\n",
       " 6     0.083158\n",
       " 2     0.083671\n",
       " 7     0.083748\n",
       " 3     0.083748\n",
       " 10    0.083774\n",
       " 8     0.083774\n",
       " 4     0.083799\n",
       " 9     0.083825\n",
       " 1     0.084184\n",
       " Name: Stimuli, dtype: float64,\n",
       " 0     0.081513\n",
       " 5     0.082351\n",
       " 11    0.082411\n",
       " 6     0.083189\n",
       " 2     0.083667\n",
       " 10    0.083727\n",
       " 7     0.083727\n",
       " 8     0.083787\n",
       " 3     0.083787\n",
       " 4     0.083787\n",
       " 9     0.083847\n",
       " 1     0.084206\n",
       " Name: Stimuli, dtype: float64)"
      ]
     },
     "execution_count": 19,
     "metadata": {},
     "output_type": "execute_result"
    }
   ],
   "source": [
    "X_train['Stimuli'].value_counts().sort_values()/len(X_train), X_valid['Stimuli'].value_counts().sort_values()/len(X_valid)"
   ]
  },
  {
   "cell_type": "markdown",
   "id": "202742ea",
   "metadata": {},
   "source": [
    "### Drop columns:"
   ]
  },
  {
   "cell_type": "code",
   "execution_count": 20,
   "id": "8e0e0d58",
   "metadata": {},
   "outputs": [],
   "source": [
    "drop_column = ['Stimuli','Frame Number']"
   ]
  },
  {
   "cell_type": "code",
   "execution_count": 21,
   "id": "6b90d9f2",
   "metadata": {},
   "outputs": [
    {
     "name": "stderr",
     "output_type": "stream",
     "text": [
      "C:\\Users\\User\\AppData\\Local\\Temp\\ipykernel_12828\\3791142718.py:1: SettingWithCopyWarning: \n",
      "A value is trying to be set on a copy of a slice from a DataFrame\n",
      "\n",
      "See the caveats in the documentation: https://pandas.pydata.org/pandas-docs/stable/user_guide/indexing.html#returning-a-view-versus-a-copy\n",
      "  X.drop(columns = drop_column, inplace=True)\n"
     ]
    }
   ],
   "source": [
    "X.drop(columns = drop_column, inplace=True)"
   ]
  },
  {
   "cell_type": "code",
   "execution_count": 22,
   "id": "589a1251",
   "metadata": {},
   "outputs": [
    {
     "data": {
      "text/html": [
       "<div>\n",
       "<style scoped>\n",
       "    .dataframe tbody tr th:only-of-type {\n",
       "        vertical-align: middle;\n",
       "    }\n",
       "\n",
       "    .dataframe tbody tr th {\n",
       "        vertical-align: top;\n",
       "    }\n",
       "\n",
       "    .dataframe thead th {\n",
       "        text-align: right;\n",
       "    }\n",
       "</style>\n",
       "<table border=\"1\" class=\"dataframe\">\n",
       "  <thead>\n",
       "    <tr style=\"text-align: right;\">\n",
       "      <th></th>\n",
       "      <th>Face_Y</th>\n",
       "      <th>Face_X</th>\n",
       "      <th>Face_W</th>\n",
       "      <th>Face_H</th>\n",
       "      <th>Right_Eye_X</th>\n",
       "      <th>Right_Eye_Y</th>\n",
       "      <th>Left_Eye_X</th>\n",
       "      <th>Left_Eye_Y</th>\n",
       "      <th>Face_Angle</th>\n",
       "    </tr>\n",
       "  </thead>\n",
       "  <tbody>\n",
       "    <tr>\n",
       "      <th>0</th>\n",
       "      <td>235.0</td>\n",
       "      <td>195.0</td>\n",
       "      <td>204.0</td>\n",
       "      <td>204.0</td>\n",
       "      <td>269.0</td>\n",
       "      <td>377.0</td>\n",
       "      <td>269.0</td>\n",
       "      <td>296.0</td>\n",
       "      <td>0.469347</td>\n",
       "    </tr>\n",
       "    <tr>\n",
       "      <th>1</th>\n",
       "      <td>235.0</td>\n",
       "      <td>196.0</td>\n",
       "      <td>201.0</td>\n",
       "      <td>201.0</td>\n",
       "      <td>268.0</td>\n",
       "      <td>377.0</td>\n",
       "      <td>268.0</td>\n",
       "      <td>296.0</td>\n",
       "      <td>0.469335</td>\n",
       "    </tr>\n",
       "    <tr>\n",
       "      <th>2</th>\n",
       "      <td>236.0</td>\n",
       "      <td>196.0</td>\n",
       "      <td>201.0</td>\n",
       "      <td>201.0</td>\n",
       "      <td>268.0</td>\n",
       "      <td>377.0</td>\n",
       "      <td>268.0</td>\n",
       "      <td>296.0</td>\n",
       "      <td>0.465500</td>\n",
       "    </tr>\n",
       "    <tr>\n",
       "      <th>3</th>\n",
       "      <td>236.0</td>\n",
       "      <td>196.0</td>\n",
       "      <td>201.0</td>\n",
       "      <td>201.0</td>\n",
       "      <td>268.0</td>\n",
       "      <td>377.0</td>\n",
       "      <td>268.0</td>\n",
       "      <td>296.0</td>\n",
       "      <td>0.477129</td>\n",
       "    </tr>\n",
       "    <tr>\n",
       "      <th>4</th>\n",
       "      <td>235.0</td>\n",
       "      <td>195.0</td>\n",
       "      <td>203.0</td>\n",
       "      <td>203.0</td>\n",
       "      <td>269.0</td>\n",
       "      <td>377.0</td>\n",
       "      <td>268.0</td>\n",
       "      <td>296.0</td>\n",
       "      <td>0.469347</td>\n",
       "    </tr>\n",
       "    <tr>\n",
       "      <th>...</th>\n",
       "      <td>...</td>\n",
       "      <td>...</td>\n",
       "      <td>...</td>\n",
       "      <td>...</td>\n",
       "      <td>...</td>\n",
       "      <td>...</td>\n",
       "      <td>...</td>\n",
       "      <td>...</td>\n",
       "      <td>...</td>\n",
       "    </tr>\n",
       "    <tr>\n",
       "      <th>107845</th>\n",
       "      <td>200.0</td>\n",
       "      <td>162.0</td>\n",
       "      <td>233.0</td>\n",
       "      <td>233.0</td>\n",
       "      <td>243.0</td>\n",
       "      <td>353.0</td>\n",
       "      <td>256.0</td>\n",
       "      <td>270.0</td>\n",
       "      <td>0.362527</td>\n",
       "    </tr>\n",
       "    <tr>\n",
       "      <th>107846</th>\n",
       "      <td>201.0</td>\n",
       "      <td>160.0</td>\n",
       "      <td>233.0</td>\n",
       "      <td>233.0</td>\n",
       "      <td>243.0</td>\n",
       "      <td>353.0</td>\n",
       "      <td>255.0</td>\n",
       "      <td>270.0</td>\n",
       "      <td>0.386992</td>\n",
       "    </tr>\n",
       "    <tr>\n",
       "      <th>107847</th>\n",
       "      <td>200.0</td>\n",
       "      <td>162.0</td>\n",
       "      <td>232.0</td>\n",
       "      <td>232.0</td>\n",
       "      <td>244.0</td>\n",
       "      <td>352.0</td>\n",
       "      <td>256.0</td>\n",
       "      <td>270.0</td>\n",
       "      <td>0.386993</td>\n",
       "    </tr>\n",
       "    <tr>\n",
       "      <th>107848</th>\n",
       "      <td>200.0</td>\n",
       "      <td>159.0</td>\n",
       "      <td>236.0</td>\n",
       "      <td>236.0</td>\n",
       "      <td>243.0</td>\n",
       "      <td>353.0</td>\n",
       "      <td>255.0</td>\n",
       "      <td>270.0</td>\n",
       "      <td>0.349297</td>\n",
       "    </tr>\n",
       "    <tr>\n",
       "      <th>107849</th>\n",
       "      <td>202.0</td>\n",
       "      <td>163.0</td>\n",
       "      <td>230.0</td>\n",
       "      <td>230.0</td>\n",
       "      <td>244.0</td>\n",
       "      <td>352.0</td>\n",
       "      <td>256.0</td>\n",
       "      <td>270.0</td>\n",
       "      <td>0.376803</td>\n",
       "    </tr>\n",
       "  </tbody>\n",
       "</table>\n",
       "<p>107850 rows × 9 columns</p>\n",
       "</div>"
      ],
      "text/plain": [
       "        Face_Y  Face_X  Face_W  Face_H  Right_Eye_X  Right_Eye_Y  Left_Eye_X  \\\n",
       "0        235.0   195.0   204.0   204.0        269.0        377.0       269.0   \n",
       "1        235.0   196.0   201.0   201.0        268.0        377.0       268.0   \n",
       "2        236.0   196.0   201.0   201.0        268.0        377.0       268.0   \n",
       "3        236.0   196.0   201.0   201.0        268.0        377.0       268.0   \n",
       "4        235.0   195.0   203.0   203.0        269.0        377.0       268.0   \n",
       "...        ...     ...     ...     ...          ...          ...         ...   \n",
       "107845   200.0   162.0   233.0   233.0        243.0        353.0       256.0   \n",
       "107846   201.0   160.0   233.0   233.0        243.0        353.0       255.0   \n",
       "107847   200.0   162.0   232.0   232.0        244.0        352.0       256.0   \n",
       "107848   200.0   159.0   236.0   236.0        243.0        353.0       255.0   \n",
       "107849   202.0   163.0   230.0   230.0        244.0        352.0       256.0   \n",
       "\n",
       "        Left_Eye_Y  Face_Angle  \n",
       "0            296.0    0.469347  \n",
       "1            296.0    0.469335  \n",
       "2            296.0    0.465500  \n",
       "3            296.0    0.477129  \n",
       "4            296.0    0.469347  \n",
       "...            ...         ...  \n",
       "107845       270.0    0.362527  \n",
       "107846       270.0    0.386992  \n",
       "107847       270.0    0.386993  \n",
       "107848       270.0    0.349297  \n",
       "107849       270.0    0.376803  \n",
       "\n",
       "[107850 rows x 9 columns]"
      ]
     },
     "execution_count": 22,
     "metadata": {},
     "output_type": "execute_result"
    }
   ],
   "source": [
    "X"
   ]
  },
  {
   "cell_type": "code",
   "execution_count": 23,
   "id": "219eea78",
   "metadata": {},
   "outputs": [],
   "source": [
    "X_train.drop(columns = drop_column, inplace=True)"
   ]
  },
  {
   "cell_type": "code",
   "execution_count": 24,
   "id": "27b2f5ec",
   "metadata": {},
   "outputs": [
    {
     "data": {
      "text/html": [
       "<div>\n",
       "<style scoped>\n",
       "    .dataframe tbody tr th:only-of-type {\n",
       "        vertical-align: middle;\n",
       "    }\n",
       "\n",
       "    .dataframe tbody tr th {\n",
       "        vertical-align: top;\n",
       "    }\n",
       "\n",
       "    .dataframe thead th {\n",
       "        text-align: right;\n",
       "    }\n",
       "</style>\n",
       "<table border=\"1\" class=\"dataframe\">\n",
       "  <thead>\n",
       "    <tr style=\"text-align: right;\">\n",
       "      <th></th>\n",
       "      <th>Face_Y</th>\n",
       "      <th>Face_X</th>\n",
       "      <th>Face_W</th>\n",
       "      <th>Face_H</th>\n",
       "      <th>Right_Eye_X</th>\n",
       "      <th>Right_Eye_Y</th>\n",
       "      <th>Left_Eye_X</th>\n",
       "      <th>Left_Eye_Y</th>\n",
       "      <th>Face_Angle</th>\n",
       "    </tr>\n",
       "  </thead>\n",
       "  <tbody>\n",
       "    <tr>\n",
       "      <th>8500</th>\n",
       "      <td>194.0</td>\n",
       "      <td>182.0</td>\n",
       "      <td>237.0</td>\n",
       "      <td>237.0</td>\n",
       "      <td>274.0</td>\n",
       "      <td>361.0</td>\n",
       "      <td>285.0</td>\n",
       "      <td>273.0</td>\n",
       "      <td>0.303291</td>\n",
       "    </tr>\n",
       "    <tr>\n",
       "      <th>34560</th>\n",
       "      <td>241.0</td>\n",
       "      <td>214.0</td>\n",
       "      <td>196.0</td>\n",
       "      <td>196.0</td>\n",
       "      <td>290.0</td>\n",
       "      <td>378.0</td>\n",
       "      <td>295.0</td>\n",
       "      <td>307.0</td>\n",
       "      <td>0.572514</td>\n",
       "    </tr>\n",
       "    <tr>\n",
       "      <th>49079</th>\n",
       "      <td>233.0</td>\n",
       "      <td>89.0</td>\n",
       "      <td>251.0</td>\n",
       "      <td>251.0</td>\n",
       "      <td>191.0</td>\n",
       "      <td>408.0</td>\n",
       "      <td>195.0</td>\n",
       "      <td>317.0</td>\n",
       "      <td>2.094841</td>\n",
       "    </tr>\n",
       "    <tr>\n",
       "      <th>53301</th>\n",
       "      <td>255.0</td>\n",
       "      <td>178.0</td>\n",
       "      <td>262.0</td>\n",
       "      <td>262.0</td>\n",
       "      <td>284.0</td>\n",
       "      <td>429.0</td>\n",
       "      <td>284.0</td>\n",
       "      <td>342.0</td>\n",
       "      <td>0.450649</td>\n",
       "    </tr>\n",
       "    <tr>\n",
       "      <th>31581</th>\n",
       "      <td>200.0</td>\n",
       "      <td>127.0</td>\n",
       "      <td>217.0</td>\n",
       "      <td>217.0</td>\n",
       "      <td>205.0</td>\n",
       "      <td>353.0</td>\n",
       "      <td>208.0</td>\n",
       "      <td>268.0</td>\n",
       "      <td>0.608209</td>\n",
       "    </tr>\n",
       "    <tr>\n",
       "      <th>...</th>\n",
       "      <td>...</td>\n",
       "      <td>...</td>\n",
       "      <td>...</td>\n",
       "      <td>...</td>\n",
       "      <td>...</td>\n",
       "      <td>...</td>\n",
       "      <td>...</td>\n",
       "      <td>...</td>\n",
       "      <td>...</td>\n",
       "    </tr>\n",
       "    <tr>\n",
       "      <th>42620</th>\n",
       "      <td>145.0</td>\n",
       "      <td>314.0</td>\n",
       "      <td>189.0</td>\n",
       "      <td>189.0</td>\n",
       "      <td>386.0</td>\n",
       "      <td>272.0</td>\n",
       "      <td>383.0</td>\n",
       "      <td>211.0</td>\n",
       "      <td>0.176726</td>\n",
       "    </tr>\n",
       "    <tr>\n",
       "      <th>24503</th>\n",
       "      <td>264.0</td>\n",
       "      <td>230.0</td>\n",
       "      <td>180.0</td>\n",
       "      <td>180.0</td>\n",
       "      <td>300.0</td>\n",
       "      <td>386.0</td>\n",
       "      <td>303.0</td>\n",
       "      <td>329.0</td>\n",
       "      <td>0.535068</td>\n",
       "    </tr>\n",
       "    <tr>\n",
       "      <th>34795</th>\n",
       "      <td>178.0</td>\n",
       "      <td>207.0</td>\n",
       "      <td>215.0</td>\n",
       "      <td>215.0</td>\n",
       "      <td>291.0</td>\n",
       "      <td>310.0</td>\n",
       "      <td>291.0</td>\n",
       "      <td>243.0</td>\n",
       "      <td>0.267951</td>\n",
       "    </tr>\n",
       "    <tr>\n",
       "      <th>50664</th>\n",
       "      <td>284.0</td>\n",
       "      <td>211.0</td>\n",
       "      <td>205.0</td>\n",
       "      <td>205.0</td>\n",
       "      <td>293.0</td>\n",
       "      <td>426.0</td>\n",
       "      <td>295.0</td>\n",
       "      <td>355.0</td>\n",
       "      <td>0.584136</td>\n",
       "    </tr>\n",
       "    <tr>\n",
       "      <th>24753</th>\n",
       "      <td>307.0</td>\n",
       "      <td>76.0</td>\n",
       "      <td>236.0</td>\n",
       "      <td>236.0</td>\n",
       "      <td>166.0</td>\n",
       "      <td>464.0</td>\n",
       "      <td>166.0</td>\n",
       "      <td>379.0</td>\n",
       "      <td>1.414423</td>\n",
       "    </tr>\n",
       "  </tbody>\n",
       "</table>\n",
       "<p>38986 rows × 9 columns</p>\n",
       "</div>"
      ],
      "text/plain": [
       "       Face_Y  Face_X  Face_W  Face_H  Right_Eye_X  Right_Eye_Y  Left_Eye_X  \\\n",
       "8500    194.0   182.0   237.0   237.0        274.0        361.0       285.0   \n",
       "34560   241.0   214.0   196.0   196.0        290.0        378.0       295.0   \n",
       "49079   233.0    89.0   251.0   251.0        191.0        408.0       195.0   \n",
       "53301   255.0   178.0   262.0   262.0        284.0        429.0       284.0   \n",
       "31581   200.0   127.0   217.0   217.0        205.0        353.0       208.0   \n",
       "...       ...     ...     ...     ...          ...          ...         ...   \n",
       "42620   145.0   314.0   189.0   189.0        386.0        272.0       383.0   \n",
       "24503   264.0   230.0   180.0   180.0        300.0        386.0       303.0   \n",
       "34795   178.0   207.0   215.0   215.0        291.0        310.0       291.0   \n",
       "50664   284.0   211.0   205.0   205.0        293.0        426.0       295.0   \n",
       "24753   307.0    76.0   236.0   236.0        166.0        464.0       166.0   \n",
       "\n",
       "       Left_Eye_Y  Face_Angle  \n",
       "8500        273.0    0.303291  \n",
       "34560       307.0    0.572514  \n",
       "49079       317.0    2.094841  \n",
       "53301       342.0    0.450649  \n",
       "31581       268.0    0.608209  \n",
       "...           ...         ...  \n",
       "42620       211.0    0.176726  \n",
       "24503       329.0    0.535068  \n",
       "34795       243.0    0.267951  \n",
       "50664       355.0    0.584136  \n",
       "24753       379.0    1.414423  \n",
       "\n",
       "[38986 rows x 9 columns]"
      ]
     },
     "execution_count": 24,
     "metadata": {},
     "output_type": "execute_result"
    }
   ],
   "source": [
    "X_train"
   ]
  },
  {
   "cell_type": "code",
   "execution_count": 25,
   "id": "cfc62a1e",
   "metadata": {},
   "outputs": [],
   "source": [
    "X_valid.drop(columns = drop_column, inplace=True)"
   ]
  },
  {
   "cell_type": "code",
   "execution_count": 26,
   "id": "23fcb137",
   "metadata": {},
   "outputs": [
    {
     "data": {
      "text/html": [
       "<div>\n",
       "<style scoped>\n",
       "    .dataframe tbody tr th:only-of-type {\n",
       "        vertical-align: middle;\n",
       "    }\n",
       "\n",
       "    .dataframe tbody tr th {\n",
       "        vertical-align: top;\n",
       "    }\n",
       "\n",
       "    .dataframe thead th {\n",
       "        text-align: right;\n",
       "    }\n",
       "</style>\n",
       "<table border=\"1\" class=\"dataframe\">\n",
       "  <thead>\n",
       "    <tr style=\"text-align: right;\">\n",
       "      <th></th>\n",
       "      <th>Face_Y</th>\n",
       "      <th>Face_X</th>\n",
       "      <th>Face_W</th>\n",
       "      <th>Face_H</th>\n",
       "      <th>Right_Eye_X</th>\n",
       "      <th>Right_Eye_Y</th>\n",
       "      <th>Left_Eye_X</th>\n",
       "      <th>Left_Eye_Y</th>\n",
       "      <th>Face_Angle</th>\n",
       "    </tr>\n",
       "  </thead>\n",
       "  <tbody>\n",
       "    <tr>\n",
       "      <th>1879</th>\n",
       "      <td>203.0</td>\n",
       "      <td>76.0</td>\n",
       "      <td>222.0</td>\n",
       "      <td>222.0</td>\n",
       "      <td>167.0</td>\n",
       "      <td>369.0</td>\n",
       "      <td>163.0</td>\n",
       "      <td>283.0</td>\n",
       "      <td>0.731607</td>\n",
       "    </tr>\n",
       "    <tr>\n",
       "      <th>54927</th>\n",
       "      <td>195.0</td>\n",
       "      <td>189.0</td>\n",
       "      <td>230.0</td>\n",
       "      <td>230.0</td>\n",
       "      <td>282.0</td>\n",
       "      <td>349.0</td>\n",
       "      <td>284.0</td>\n",
       "      <td>263.0</td>\n",
       "      <td>0.291002</td>\n",
       "    </tr>\n",
       "    <tr>\n",
       "      <th>26246</th>\n",
       "      <td>239.0</td>\n",
       "      <td>248.0</td>\n",
       "      <td>214.0</td>\n",
       "      <td>214.0</td>\n",
       "      <td>336.0</td>\n",
       "      <td>391.0</td>\n",
       "      <td>332.0</td>\n",
       "      <td>304.0</td>\n",
       "      <td>0.278280</td>\n",
       "    </tr>\n",
       "    <tr>\n",
       "      <th>51101</th>\n",
       "      <td>191.0</td>\n",
       "      <td>158.0</td>\n",
       "      <td>232.0</td>\n",
       "      <td>232.0</td>\n",
       "      <td>243.0</td>\n",
       "      <td>347.0</td>\n",
       "      <td>255.0</td>\n",
       "      <td>262.0</td>\n",
       "      <td>0.381798</td>\n",
       "    </tr>\n",
       "    <tr>\n",
       "      <th>54715</th>\n",
       "      <td>204.0</td>\n",
       "      <td>158.0</td>\n",
       "      <td>248.0</td>\n",
       "      <td>248.0</td>\n",
       "      <td>260.0</td>\n",
       "      <td>374.0</td>\n",
       "      <td>259.0</td>\n",
       "      <td>267.0</td>\n",
       "      <td>0.309640</td>\n",
       "    </tr>\n",
       "    <tr>\n",
       "      <th>...</th>\n",
       "      <td>...</td>\n",
       "      <td>...</td>\n",
       "      <td>...</td>\n",
       "      <td>...</td>\n",
       "      <td>...</td>\n",
       "      <td>...</td>\n",
       "      <td>...</td>\n",
       "      <td>...</td>\n",
       "      <td>...</td>\n",
       "    </tr>\n",
       "    <tr>\n",
       "      <th>32028</th>\n",
       "      <td>283.0</td>\n",
       "      <td>205.0</td>\n",
       "      <td>203.0</td>\n",
       "      <td>203.0</td>\n",
       "      <td>286.0</td>\n",
       "      <td>405.0</td>\n",
       "      <td>289.0</td>\n",
       "      <td>351.0</td>\n",
       "      <td>0.602547</td>\n",
       "    </tr>\n",
       "    <tr>\n",
       "      <th>23295</th>\n",
       "      <td>236.0</td>\n",
       "      <td>194.0</td>\n",
       "      <td>204.0</td>\n",
       "      <td>204.0</td>\n",
       "      <td>271.0</td>\n",
       "      <td>379.0</td>\n",
       "      <td>272.0</td>\n",
       "      <td>302.0</td>\n",
       "      <td>0.477154</td>\n",
       "    </tr>\n",
       "    <tr>\n",
       "      <th>43401</th>\n",
       "      <td>308.0</td>\n",
       "      <td>77.0</td>\n",
       "      <td>247.0</td>\n",
       "      <td>247.0</td>\n",
       "      <td>173.0</td>\n",
       "      <td>470.0</td>\n",
       "      <td>171.0</td>\n",
       "      <td>393.0</td>\n",
       "      <td>1.450301</td>\n",
       "    </tr>\n",
       "    <tr>\n",
       "      <th>49843</th>\n",
       "      <td>277.0</td>\n",
       "      <td>200.0</td>\n",
       "      <td>243.0</td>\n",
       "      <td>243.0</td>\n",
       "      <td>295.0</td>\n",
       "      <td>431.0</td>\n",
       "      <td>305.0</td>\n",
       "      <td>346.0</td>\n",
       "      <td>0.510805</td>\n",
       "    </tr>\n",
       "    <tr>\n",
       "      <th>47486</th>\n",
       "      <td>181.0</td>\n",
       "      <td>91.0</td>\n",
       "      <td>282.0</td>\n",
       "      <td>282.0</td>\n",
       "      <td>216.0</td>\n",
       "      <td>371.0</td>\n",
       "      <td>216.0</td>\n",
       "      <td>263.0</td>\n",
       "      <td>0.360030</td>\n",
       "    </tr>\n",
       "  </tbody>\n",
       "</table>\n",
       "<p>16709 rows × 9 columns</p>\n",
       "</div>"
      ],
      "text/plain": [
       "       Face_Y  Face_X  Face_W  Face_H  Right_Eye_X  Right_Eye_Y  Left_Eye_X  \\\n",
       "1879    203.0    76.0   222.0   222.0        167.0        369.0       163.0   \n",
       "54927   195.0   189.0   230.0   230.0        282.0        349.0       284.0   \n",
       "26246   239.0   248.0   214.0   214.0        336.0        391.0       332.0   \n",
       "51101   191.0   158.0   232.0   232.0        243.0        347.0       255.0   \n",
       "54715   204.0   158.0   248.0   248.0        260.0        374.0       259.0   \n",
       "...       ...     ...     ...     ...          ...          ...         ...   \n",
       "32028   283.0   205.0   203.0   203.0        286.0        405.0       289.0   \n",
       "23295   236.0   194.0   204.0   204.0        271.0        379.0       272.0   \n",
       "43401   308.0    77.0   247.0   247.0        173.0        470.0       171.0   \n",
       "49843   277.0   200.0   243.0   243.0        295.0        431.0       305.0   \n",
       "47486   181.0    91.0   282.0   282.0        216.0        371.0       216.0   \n",
       "\n",
       "       Left_Eye_Y  Face_Angle  \n",
       "1879        283.0    0.731607  \n",
       "54927       263.0    0.291002  \n",
       "26246       304.0    0.278280  \n",
       "51101       262.0    0.381798  \n",
       "54715       267.0    0.309640  \n",
       "...           ...         ...  \n",
       "32028       351.0    0.602547  \n",
       "23295       302.0    0.477154  \n",
       "43401       393.0    1.450301  \n",
       "49843       346.0    0.510805  \n",
       "47486       263.0    0.360030  \n",
       "\n",
       "[16709 rows x 9 columns]"
      ]
     },
     "execution_count": 26,
     "metadata": {},
     "output_type": "execute_result"
    }
   ],
   "source": [
    "X_valid"
   ]
  },
  {
   "cell_type": "code",
   "execution_count": 27,
   "id": "e19a429a",
   "metadata": {},
   "outputs": [
    {
     "name": "stderr",
     "output_type": "stream",
     "text": [
      "C:\\Users\\User\\AppData\\Local\\Temp\\ipykernel_12828\\2944433928.py:1: SettingWithCopyWarning: \n",
      "A value is trying to be set on a copy of a slice from a DataFrame\n",
      "\n",
      "See the caveats in the documentation: https://pandas.pydata.org/pandas-docs/stable/user_guide/indexing.html#returning-a-view-versus-a-copy\n",
      "  X_test.drop(columns = drop_column, inplace=True)\n"
     ]
    }
   ],
   "source": [
    "X_test.drop(columns = drop_column, inplace=True)"
   ]
  },
  {
   "cell_type": "code",
   "execution_count": 28,
   "id": "5e42c863",
   "metadata": {},
   "outputs": [
    {
     "data": {
      "text/html": [
       "<div>\n",
       "<style scoped>\n",
       "    .dataframe tbody tr th:only-of-type {\n",
       "        vertical-align: middle;\n",
       "    }\n",
       "\n",
       "    .dataframe tbody tr th {\n",
       "        vertical-align: top;\n",
       "    }\n",
       "\n",
       "    .dataframe thead th {\n",
       "        text-align: right;\n",
       "    }\n",
       "</style>\n",
       "<table border=\"1\" class=\"dataframe\">\n",
       "  <thead>\n",
       "    <tr style=\"text-align: right;\">\n",
       "      <th></th>\n",
       "      <th>Face_Y</th>\n",
       "      <th>Face_X</th>\n",
       "      <th>Face_W</th>\n",
       "      <th>Face_H</th>\n",
       "      <th>Right_Eye_X</th>\n",
       "      <th>Right_Eye_Y</th>\n",
       "      <th>Left_Eye_X</th>\n",
       "      <th>Left_Eye_Y</th>\n",
       "      <th>Face_Angle</th>\n",
       "    </tr>\n",
       "  </thead>\n",
       "  <tbody>\n",
       "    <tr>\n",
       "      <th>55695</th>\n",
       "      <td>241.0</td>\n",
       "      <td>220.0</td>\n",
       "      <td>194.0</td>\n",
       "      <td>194.0</td>\n",
       "      <td>288.0</td>\n",
       "      <td>379.0</td>\n",
       "      <td>288.0</td>\n",
       "      <td>297.0</td>\n",
       "      <td>0.424277</td>\n",
       "    </tr>\n",
       "    <tr>\n",
       "      <th>55696</th>\n",
       "      <td>242.0</td>\n",
       "      <td>221.0</td>\n",
       "      <td>193.0</td>\n",
       "      <td>193.0</td>\n",
       "      <td>288.0</td>\n",
       "      <td>379.0</td>\n",
       "      <td>288.0</td>\n",
       "      <td>297.0</td>\n",
       "      <td>0.421167</td>\n",
       "    </tr>\n",
       "    <tr>\n",
       "      <th>55697</th>\n",
       "      <td>242.0</td>\n",
       "      <td>221.0</td>\n",
       "      <td>193.0</td>\n",
       "      <td>193.0</td>\n",
       "      <td>287.0</td>\n",
       "      <td>379.0</td>\n",
       "      <td>287.0</td>\n",
       "      <td>297.0</td>\n",
       "      <td>0.421158</td>\n",
       "    </tr>\n",
       "    <tr>\n",
       "      <th>55698</th>\n",
       "      <td>241.0</td>\n",
       "      <td>221.0</td>\n",
       "      <td>193.0</td>\n",
       "      <td>193.0</td>\n",
       "      <td>287.0</td>\n",
       "      <td>379.0</td>\n",
       "      <td>287.0</td>\n",
       "      <td>297.0</td>\n",
       "      <td>0.421158</td>\n",
       "    </tr>\n",
       "    <tr>\n",
       "      <th>55699</th>\n",
       "      <td>240.0</td>\n",
       "      <td>221.0</td>\n",
       "      <td>195.0</td>\n",
       "      <td>195.0</td>\n",
       "      <td>288.0</td>\n",
       "      <td>379.0</td>\n",
       "      <td>287.0</td>\n",
       "      <td>296.0</td>\n",
       "      <td>0.421158</td>\n",
       "    </tr>\n",
       "    <tr>\n",
       "      <th>...</th>\n",
       "      <td>...</td>\n",
       "      <td>...</td>\n",
       "      <td>...</td>\n",
       "      <td>...</td>\n",
       "      <td>...</td>\n",
       "      <td>...</td>\n",
       "      <td>...</td>\n",
       "      <td>...</td>\n",
       "      <td>...</td>\n",
       "    </tr>\n",
       "    <tr>\n",
       "      <th>107845</th>\n",
       "      <td>200.0</td>\n",
       "      <td>162.0</td>\n",
       "      <td>233.0</td>\n",
       "      <td>233.0</td>\n",
       "      <td>243.0</td>\n",
       "      <td>353.0</td>\n",
       "      <td>256.0</td>\n",
       "      <td>270.0</td>\n",
       "      <td>0.362527</td>\n",
       "    </tr>\n",
       "    <tr>\n",
       "      <th>107846</th>\n",
       "      <td>201.0</td>\n",
       "      <td>160.0</td>\n",
       "      <td>233.0</td>\n",
       "      <td>233.0</td>\n",
       "      <td>243.0</td>\n",
       "      <td>353.0</td>\n",
       "      <td>255.0</td>\n",
       "      <td>270.0</td>\n",
       "      <td>0.386992</td>\n",
       "    </tr>\n",
       "    <tr>\n",
       "      <th>107847</th>\n",
       "      <td>200.0</td>\n",
       "      <td>162.0</td>\n",
       "      <td>232.0</td>\n",
       "      <td>232.0</td>\n",
       "      <td>244.0</td>\n",
       "      <td>352.0</td>\n",
       "      <td>256.0</td>\n",
       "      <td>270.0</td>\n",
       "      <td>0.386993</td>\n",
       "    </tr>\n",
       "    <tr>\n",
       "      <th>107848</th>\n",
       "      <td>200.0</td>\n",
       "      <td>159.0</td>\n",
       "      <td>236.0</td>\n",
       "      <td>236.0</td>\n",
       "      <td>243.0</td>\n",
       "      <td>353.0</td>\n",
       "      <td>255.0</td>\n",
       "      <td>270.0</td>\n",
       "      <td>0.349297</td>\n",
       "    </tr>\n",
       "    <tr>\n",
       "      <th>107849</th>\n",
       "      <td>202.0</td>\n",
       "      <td>163.0</td>\n",
       "      <td>230.0</td>\n",
       "      <td>230.0</td>\n",
       "      <td>244.0</td>\n",
       "      <td>352.0</td>\n",
       "      <td>256.0</td>\n",
       "      <td>270.0</td>\n",
       "      <td>0.376803</td>\n",
       "    </tr>\n",
       "  </tbody>\n",
       "</table>\n",
       "<p>52155 rows × 9 columns</p>\n",
       "</div>"
      ],
      "text/plain": [
       "        Face_Y  Face_X  Face_W  Face_H  Right_Eye_X  Right_Eye_Y  Left_Eye_X  \\\n",
       "55695    241.0   220.0   194.0   194.0        288.0        379.0       288.0   \n",
       "55696    242.0   221.0   193.0   193.0        288.0        379.0       288.0   \n",
       "55697    242.0   221.0   193.0   193.0        287.0        379.0       287.0   \n",
       "55698    241.0   221.0   193.0   193.0        287.0        379.0       287.0   \n",
       "55699    240.0   221.0   195.0   195.0        288.0        379.0       287.0   \n",
       "...        ...     ...     ...     ...          ...          ...         ...   \n",
       "107845   200.0   162.0   233.0   233.0        243.0        353.0       256.0   \n",
       "107846   201.0   160.0   233.0   233.0        243.0        353.0       255.0   \n",
       "107847   200.0   162.0   232.0   232.0        244.0        352.0       256.0   \n",
       "107848   200.0   159.0   236.0   236.0        243.0        353.0       255.0   \n",
       "107849   202.0   163.0   230.0   230.0        244.0        352.0       256.0   \n",
       "\n",
       "        Left_Eye_Y  Face_Angle  \n",
       "55695        297.0    0.424277  \n",
       "55696        297.0    0.421167  \n",
       "55697        297.0    0.421158  \n",
       "55698        297.0    0.421158  \n",
       "55699        296.0    0.421158  \n",
       "...            ...         ...  \n",
       "107845       270.0    0.362527  \n",
       "107846       270.0    0.386992  \n",
       "107847       270.0    0.386993  \n",
       "107848       270.0    0.349297  \n",
       "107849       270.0    0.376803  \n",
       "\n",
       "[52155 rows x 9 columns]"
      ]
     },
     "execution_count": 28,
     "metadata": {},
     "output_type": "execute_result"
    }
   ],
   "source": [
    "X_test"
   ]
  },
  {
   "cell_type": "markdown",
   "id": "a1185aee",
   "metadata": {
    "id": "OwlwQJYfvRhW"
   },
   "source": [
    "### MinMaxScaler:"
   ]
  },
  {
   "cell_type": "code",
   "execution_count": 29,
   "id": "LBgfpV3IvRkW",
   "metadata": {
    "id": "LBgfpV3IvRkW"
   },
   "outputs": [],
   "source": [
    "minmax_scaler = preprocessing.MinMaxScaler()\n",
    "X_train_scal = minmax_scaler.fit_transform(X_train)\n",
    "X_valid_scal = minmax_scaler.transform(X_valid)\n",
    "X_test_scal = minmax_scaler.transform(X_test)"
   ]
  },
  {
   "cell_type": "code",
   "execution_count": 30,
   "id": "GCIIyaGwvRnP",
   "metadata": {
    "id": "GCIIyaGwvRnP"
   },
   "outputs": [
    {
     "data": {
      "text/plain": [
       "array([[0.3874092 , 0.53246753, 0.39884393, ..., 0.57638889, 0.39793282,\n",
       "        0.00243009],\n",
       "       [0.50121065, 0.63636364, 0.16184971, ..., 0.61111111, 0.48578811,\n",
       "        0.00624757],\n",
       "       [0.48184019, 0.23051948, 0.47976879, ..., 0.26388889, 0.51162791,\n",
       "        0.02783358],\n",
       "       ...,\n",
       "       [0.34866828, 0.61363636, 0.2716763 , ..., 0.59722222, 0.32041344,\n",
       "        0.00192898],\n",
       "       [0.60532688, 0.62662338, 0.21387283, ..., 0.61111111, 0.60981912,\n",
       "        0.00641237],\n",
       "       [0.66101695, 0.18831169, 0.39306358, ..., 0.16319444, 0.67183463,\n",
       "        0.01818552]])"
      ]
     },
     "execution_count": 30,
     "metadata": {},
     "output_type": "execute_result"
    }
   ],
   "source": [
    "X_train_scal"
   ]
  },
  {
   "cell_type": "code",
   "execution_count": 31,
   "id": "f_IEQ4Z1kph9",
   "metadata": {
    "id": "f_IEQ4Z1kph9"
   },
   "outputs": [
    {
     "data": {
      "text/plain": [
       "array([[0.40920097, 0.18831169, 0.31213873, ..., 0.15277778, 0.42377261,\n",
       "        0.00850345],\n",
       "       [0.38983051, 0.55519481, 0.3583815 , ..., 0.57291667, 0.37209302,\n",
       "        0.00225584],\n",
       "       [0.49636804, 0.74675325, 0.26589595, ..., 0.73958333, 0.47803618,\n",
       "        0.00207545],\n",
       "       ...,\n",
       "       [0.66343826, 0.19155844, 0.4566474 , ..., 0.18055556, 0.70801034,\n",
       "        0.01869425],\n",
       "       [0.58837772, 0.59090909, 0.43352601, ..., 0.64583333, 0.58656331,\n",
       "        0.00537255],\n",
       "       [0.3559322 , 0.23701299, 0.65895954, ..., 0.33680556, 0.37209302,\n",
       "        0.00323463]])"
      ]
     },
     "execution_count": 31,
     "metadata": {},
     "output_type": "execute_result"
    }
   ],
   "source": [
    "X_valid_scal"
   ]
  },
  {
   "cell_type": "code",
   "execution_count": 32,
   "id": "2TMY2ksunzAu",
   "metadata": {
    "id": "2TMY2ksunzAu"
   },
   "outputs": [
    {
     "data": {
      "text/plain": [
       "array([[0.50121065, 0.65584416, 0.15028902, ..., 0.58680556, 0.45994832,\n",
       "        0.00414562],\n",
       "       [0.50363196, 0.65909091, 0.14450867, ..., 0.58680556, 0.45994832,\n",
       "        0.00410153],\n",
       "       [0.50363196, 0.65909091, 0.14450867, ..., 0.58333333, 0.45994832,\n",
       "        0.00410139],\n",
       "       ...,\n",
       "       [0.40193705, 0.46753247, 0.3699422 , ..., 0.47569444, 0.39018088,\n",
       "        0.00361695],\n",
       "       [0.40193705, 0.45779221, 0.39306358, ..., 0.47222222, 0.39018088,\n",
       "        0.00308244],\n",
       "       [0.40677966, 0.47077922, 0.3583815 , ..., 0.47569444, 0.39018088,\n",
       "        0.00347246]])"
      ]
     },
     "execution_count": 32,
     "metadata": {},
     "output_type": "execute_result"
    }
   ],
   "source": [
    "X_test_scal"
   ]
  },
  {
   "cell_type": "markdown",
   "id": "53a44ce6",
   "metadata": {
    "id": "HbeqJmPHkjCZ"
   },
   "source": [
    "### Save csv file (Train,valid,test):"
   ]
  },
  {
   "cell_type": "code",
   "execution_count": 33,
   "id": "OMqTTRoygv_T",
   "metadata": {
    "id": "OMqTTRoygv_T"
   },
   "outputs": [],
   "source": [
    "pd.DataFrame(X_train_scal).to_csv('X_train_scal_MMS.csv', index=False)"
   ]
  },
  {
   "cell_type": "code",
   "execution_count": 34,
   "id": "pbC2kTbBhPJb",
   "metadata": {
    "id": "pbC2kTbBhPJb"
   },
   "outputs": [],
   "source": [
    "pd.DataFrame(X_valid_scal).to_csv('X_valid_scal_MMS.csv', index=False)"
   ]
  },
  {
   "cell_type": "code",
   "execution_count": 35,
   "id": "OxEIw31DhPMq",
   "metadata": {
    "id": "OxEIw31DhPMq"
   },
   "outputs": [],
   "source": [
    "pd.DataFrame(X_test_scal).to_csv('X_test_scal_MMS.csv', index=False)"
   ]
  },
  {
   "cell_type": "code",
   "execution_count": 36,
   "id": "Pz3K8FephPPp",
   "metadata": {
    "id": "Pz3K8FephPPp"
   },
   "outputs": [],
   "source": [
    "pd.DataFrame(y_train).to_csv('y_train.csv', index=False)"
   ]
  },
  {
   "cell_type": "code",
   "execution_count": 37,
   "id": "fmRedkGzhPSa",
   "metadata": {
    "id": "fmRedkGzhPSa"
   },
   "outputs": [],
   "source": [
    "pd.DataFrame(y_valid).to_csv('y_valid.csv', index=False)"
   ]
  },
  {
   "cell_type": "code",
   "execution_count": 38,
   "id": "33c8408c",
   "metadata": {
    "id": "33c8408c"
   },
   "outputs": [],
   "source": [
    "pd.DataFrame(y_test).to_csv('y_test.csv', index=False)"
   ]
  },
  {
   "cell_type": "code",
   "execution_count": null,
   "id": "9e1d95c5",
   "metadata": {
    "id": "9e1d95c5"
   },
   "outputs": [],
   "source": [
    "# from google.colab import files\n",
    "\n",
    "# files.download('X_train_scal_MMS.csv')"
   ]
  },
  {
   "cell_type": "markdown",
   "id": "aa615a68",
   "metadata": {
    "id": "7fe2a018"
   },
   "source": [
    "### Function for Model Optimizer:"
   ]
  },
  {
   "cell_type": "code",
   "execution_count": 39,
   "id": "3e4e875e",
   "metadata": {
    "id": "3e4e875e"
   },
   "outputs": [],
   "source": [
    "class ModelOptimizer:\n",
    "    results = []\n",
    "\n",
    "    def __init__(self, model, optimization_method='grid', optimization_params=None):\n",
    "        self.model = model\n",
    "        self.optimization_method = optimization_method\n",
    "        self.optimization_params = optimization_params\n",
    "\n",
    "    def optimize(self, X, y):\n",
    "        if self.optimization_method == 'grid':\n",
    "            return self.grid_search(X, y)\n",
    "        elif self.optimization_method == 'randomized':\n",
    "            return self.random_search(X, y)\n",
    "        elif self.optimization_method == 'bayesian':\n",
    "            return self.bayesian_optimization(X, y)\n",
    "        elif self.optimization_method == 'bayesian_hyperparameters':\n",
    "            return self.bayesian_optimization_hyperparameters(X, y)\n",
    "        elif self.optimization_method == 'genetic':\n",
    "            return self.genetic_algorithm(X, y)\n",
    "        else:\n",
    "            raise ValueError('Invalid optimization method.')\n",
    "\n",
    "    def grid_search(self, X, y):\n",
    "        optimizer = GridSearchCV(self.model, self.optimization_params, cv=5)\n",
    "        optimizer.fit(X, y)\n",
    "        best_estimator = optimizer.best_estimator_\n",
    "        best_params = optimizer.best_params_\n",
    "        self.results.append((best_estimator, best_params))\n",
    "        return best_estimator, best_params\n",
    "\n",
    "    def random_search(self, X, y):\n",
    "        optimizer = RandomizedSearchCV(self.model, self.optimization_params, cv=5)\n",
    "        optimizer.fit(X, y)\n",
    "        best_estimator = optimizer.best_estimator_\n",
    "        best_params = optimizer.best_params_\n",
    "        self.results.append((best_estimator, best_params))\n",
    "        return best_estimator, best_params\n",
    "\n",
    "    def bayesian_optimization(self, X, y):\n",
    "        optimizer = BayesSearchCV(self.model, self.optimization_params, cv=5)\n",
    "        optimizer.fit(X, y)\n",
    "        best_estimator = optimizer.best_estimator_\n",
    "        best_params = optimizer.best_params_\n",
    "        self.results.append((best_estimator, best_params))\n",
    "        return best_estimator, best_params\n",
    "\n",
    "    def bayesian_optimization_hyperparameters(self, X, y):\n",
    "        space = self._convert_to_hyperopt_space(self.optimization_params)\n",
    "        objective = self._create_objective_function(X, y)\n",
    "        trials = Trials()\n",
    "        best = fmin(objective, space, algo=tpe.suggest, max_evals=100, trials=trials)\n",
    "        best_params = self._convert_hyperopt_params(best)\n",
    "        best_estimator = self.model.set_params(**best_params)\n",
    "        self.results.append((best_estimator, best_params))\n",
    "        return best_estimator, best_params\n",
    "\n",
    "    def genetic_algorithm(self, X, y):\n",
    "        ga = GeneticAlgorithm(self.model, self.optimization_params)\n",
    "        best_estimator, best_params = ga.optimize(X, y)\n",
    "        self.results.append((best_estimator, best_params))\n",
    "        return best_estimator, best_params\n",
    "\n",
    "    def _convert_to_hyperopt_space(self, optimization_params):\n",
    "        space = {}\n",
    "        for param, values in optimization_params.items():\n",
    "            if isinstance(values, list):\n",
    "                space[param] = hp.choice(param, values)\n",
    "            else:\n",
    "                space[param] = values\n",
    "        return space\n",
    "\n",
    "    def _create_objective_function(self, X, y):\n",
    "        def objective(params):\n",
    "            estimator = self.model.set_params(**params)\n",
    "            score = -1.0 * np.mean(cross_val_score(estimator, X, y, cv=5, scoring='accuracy'))\n",
    "            return score\n",
    "\n",
    "        return objective\n",
    "\n",
    "    def _convert_hyperopt_params(self, hyperopt_params):\n",
    "        converted_params = {}\n",
    "        for param, value in hyperopt_params.items():\n",
    "            if isinstance(value, int):\n",
    "                converted_params[param] = self.optimization_params[param][value]\n",
    "            else:\n",
    "                converted_params[param] = value\n",
    "        return converted_params\n",
    "\n",
    "    def _convert_genetic_params(self, genetic_params):\n",
    "        converted_params = {}\n",
    "        for param, value in genetic_params.items():\n",
    "            if isinstance(value, int):\n",
    "                converted_params[param] = self.optimization_params[param][value]\n",
    "            else:\n",
    "                converted_params[param] = value\n",
    "        return converted_params\n",
    "\n",
    "    @classmethod\n",
    "    def display_results(cls):\n",
    "        for result in cls.results:\n",
    "            best_estimator, best_params = result\n",
    "            print(\"Best Estimator:\", best_estimator)\n",
    "            print(\"Best Parameters:\", best_params)\n",
    "            print(\"---------------\")"
   ]
  },
  {
   "cell_type": "markdown",
   "id": "bc030122",
   "metadata": {
    "id": "SEgbOw0Swaw3"
   },
   "source": [
    "### Exampe for Decision Tree Regressor:"
   ]
  },
  {
   "cell_type": "code",
   "execution_count": 40,
   "id": "925Fo99Ewazs",
   "metadata": {
    "id": "925Fo99Ewazs"
   },
   "outputs": [
    {
     "name": "stderr",
     "output_type": "stream",
     "text": [
      "C:\\Users\\User\\anaconda3\\lib\\site-packages\\sklearn\\model_selection\\_search.py:305: UserWarning: The total space of parameters 6 is smaller than n_iter=10. Running 6 iterations. For exhaustive searches, use GridSearchCV.\n",
      "  warnings.warn(\n"
     ]
    }
   ],
   "source": [
    "regressor_model = DecisionTreeRegressor()\n",
    "\n",
    "# Define the optimization parameters\n",
    "optimization_method = 'randomized'\n",
    "optimization_params = {'max_depth': [None, 5, 10],\n",
    "                       'min_samples_split': [2, 4],\n",
    "                       'min_samples_leaf':[1],\n",
    "                       'max_features':[None],\n",
    "                       'random_state':[42]}\n",
    "\n",
    "# Create an instance of ModelOptimizer\n",
    "optimizer = ModelOptimizer(regressor_model, optimization_method, optimization_params)\n",
    "\n",
    "# Perform the optimization\n",
    "best_model, best_params = optimizer.optimize(X_train_scal, y_train)"
   ]
  },
  {
   "cell_type": "code",
   "execution_count": 41,
   "id": "2n7-b8Jtwa20",
   "metadata": {
    "id": "2n7-b8Jtwa20"
   },
   "outputs": [
    {
     "name": "stdout",
     "output_type": "stream",
     "text": [
      "Best Estimator: DecisionTreeRegressor(min_samples_split=4, random_state=42)\n",
      "Best Parameters: {'random_state': 42, 'min_samples_split': 4, 'min_samples_leaf': 1, 'max_features': None, 'max_depth': None}\n",
      "---------------\n"
     ]
    }
   ],
   "source": [
    "ModelOptimizer.display_results()"
   ]
  },
  {
   "cell_type": "code",
   "execution_count": 42,
   "id": "hBiUU9Yuwa5d",
   "metadata": {
    "id": "hBiUU9Yuwa5d"
   },
   "outputs": [
    {
     "data": {
      "text/html": [
       "<style>#sk-container-id-1 {color: black;background-color: white;}#sk-container-id-1 pre{padding: 0;}#sk-container-id-1 div.sk-toggleable {background-color: white;}#sk-container-id-1 label.sk-toggleable__label {cursor: pointer;display: block;width: 100%;margin-bottom: 0;padding: 0.3em;box-sizing: border-box;text-align: center;}#sk-container-id-1 label.sk-toggleable__label-arrow:before {content: \"▸\";float: left;margin-right: 0.25em;color: #696969;}#sk-container-id-1 label.sk-toggleable__label-arrow:hover:before {color: black;}#sk-container-id-1 div.sk-estimator:hover label.sk-toggleable__label-arrow:before {color: black;}#sk-container-id-1 div.sk-toggleable__content {max-height: 0;max-width: 0;overflow: hidden;text-align: left;background-color: #f0f8ff;}#sk-container-id-1 div.sk-toggleable__content pre {margin: 0.2em;color: black;border-radius: 0.25em;background-color: #f0f8ff;}#sk-container-id-1 input.sk-toggleable__control:checked~div.sk-toggleable__content {max-height: 200px;max-width: 100%;overflow: auto;}#sk-container-id-1 input.sk-toggleable__control:checked~label.sk-toggleable__label-arrow:before {content: \"▾\";}#sk-container-id-1 div.sk-estimator input.sk-toggleable__control:checked~label.sk-toggleable__label {background-color: #d4ebff;}#sk-container-id-1 div.sk-label input.sk-toggleable__control:checked~label.sk-toggleable__label {background-color: #d4ebff;}#sk-container-id-1 input.sk-hidden--visually {border: 0;clip: rect(1px 1px 1px 1px);clip: rect(1px, 1px, 1px, 1px);height: 1px;margin: -1px;overflow: hidden;padding: 0;position: absolute;width: 1px;}#sk-container-id-1 div.sk-estimator {font-family: monospace;background-color: #f0f8ff;border: 1px dotted black;border-radius: 0.25em;box-sizing: border-box;margin-bottom: 0.5em;}#sk-container-id-1 div.sk-estimator:hover {background-color: #d4ebff;}#sk-container-id-1 div.sk-parallel-item::after {content: \"\";width: 100%;border-bottom: 1px solid gray;flex-grow: 1;}#sk-container-id-1 div.sk-label:hover label.sk-toggleable__label {background-color: #d4ebff;}#sk-container-id-1 div.sk-serial::before {content: \"\";position: absolute;border-left: 1px solid gray;box-sizing: border-box;top: 0;bottom: 0;left: 50%;z-index: 0;}#sk-container-id-1 div.sk-serial {display: flex;flex-direction: column;align-items: center;background-color: white;padding-right: 0.2em;padding-left: 0.2em;position: relative;}#sk-container-id-1 div.sk-item {position: relative;z-index: 1;}#sk-container-id-1 div.sk-parallel {display: flex;align-items: stretch;justify-content: center;background-color: white;position: relative;}#sk-container-id-1 div.sk-item::before, #sk-container-id-1 div.sk-parallel-item::before {content: \"\";position: absolute;border-left: 1px solid gray;box-sizing: border-box;top: 0;bottom: 0;left: 50%;z-index: -1;}#sk-container-id-1 div.sk-parallel-item {display: flex;flex-direction: column;z-index: 1;position: relative;background-color: white;}#sk-container-id-1 div.sk-parallel-item:first-child::after {align-self: flex-end;width: 50%;}#sk-container-id-1 div.sk-parallel-item:last-child::after {align-self: flex-start;width: 50%;}#sk-container-id-1 div.sk-parallel-item:only-child::after {width: 0;}#sk-container-id-1 div.sk-dashed-wrapped {border: 1px dashed gray;margin: 0 0.4em 0.5em 0.4em;box-sizing: border-box;padding-bottom: 0.4em;background-color: white;}#sk-container-id-1 div.sk-label label {font-family: monospace;font-weight: bold;display: inline-block;line-height: 1.2em;}#sk-container-id-1 div.sk-label-container {text-align: center;}#sk-container-id-1 div.sk-container {/* jupyter's `normalize.less` sets `[hidden] { display: none; }` but bootstrap.min.css set `[hidden] { display: none !important; }` so we also need the `!important` here to be able to override the default hidden behavior on the sphinx rendered scikit-learn.org. See: https://github.com/scikit-learn/scikit-learn/issues/21755 */display: inline-block !important;position: relative;}#sk-container-id-1 div.sk-text-repr-fallback {display: none;}</style><div id=\"sk-container-id-1\" class=\"sk-top-container\"><div class=\"sk-text-repr-fallback\"><pre>DecisionTreeRegressor(min_samples_split=4, random_state=42)</pre><b>In a Jupyter environment, please rerun this cell to show the HTML representation or trust the notebook. <br />On GitHub, the HTML representation is unable to render, please try loading this page with nbviewer.org.</b></div><div class=\"sk-container\" hidden><div class=\"sk-item\"><div class=\"sk-estimator sk-toggleable\"><input class=\"sk-toggleable__control sk-hidden--visually\" id=\"sk-estimator-id-1\" type=\"checkbox\" checked><label for=\"sk-estimator-id-1\" class=\"sk-toggleable__label sk-toggleable__label-arrow\">DecisionTreeRegressor</label><div class=\"sk-toggleable__content\"><pre>DecisionTreeRegressor(min_samples_split=4, random_state=42)</pre></div></div></div></div></div>"
      ],
      "text/plain": [
       "DecisionTreeRegressor(min_samples_split=4, random_state=42)"
      ]
     },
     "execution_count": 42,
     "metadata": {},
     "output_type": "execute_result"
    }
   ],
   "source": [
    "best_model"
   ]
  },
  {
   "cell_type": "code",
   "execution_count": 43,
   "id": "l3s00xL1wa9c",
   "metadata": {
    "id": "l3s00xL1wa9c"
   },
   "outputs": [
    {
     "data": {
      "text/plain": [
       "{'random_state': 42,\n",
       " 'min_samples_split': 4,\n",
       " 'min_samples_leaf': 1,\n",
       " 'max_features': None,\n",
       " 'max_depth': None}"
      ]
     },
     "execution_count": 43,
     "metadata": {},
     "output_type": "execute_result"
    }
   ],
   "source": [
    "best_params"
   ]
  },
  {
   "cell_type": "code",
   "execution_count": 44,
   "id": "UaEWjxRmwa_8",
   "metadata": {
    "id": "UaEWjxRmwa_8"
   },
   "outputs": [
    {
     "data": {
      "text/plain": [
       "0.05003863482549236"
      ]
     },
     "execution_count": 44,
     "metadata": {},
     "output_type": "execute_result"
    }
   ],
   "source": [
    "best_model.fit(X_train_scal, y_train)\n",
    "y_pred = best_model.predict(X_valid_scal)\n",
    "mean_absolute_error(y_valid, y_pred)"
   ]
  },
  {
   "cell_type": "code",
   "execution_count": 45,
   "id": "b8c859f5",
   "metadata": {
    "id": "b8c859f5"
   },
   "outputs": [],
   "source": [
    "metric_dict = {\"r2\":r2_score,\"mse\":mean_squared_error,\"mae\":mean_absolute_error}"
   ]
  },
  {
   "cell_type": "code",
   "execution_count": 46,
   "id": "a5e346d6",
   "metadata": {
    "id": "a5e346d6"
   },
   "outputs": [
    {
     "name": "stdout",
     "output_type": "stream",
     "text": [
      "r2 0.7470822730382136\n",
      "mse 0.019314870014096378\n",
      "mae 0.05003863482549236\n"
     ]
    }
   ],
   "source": [
    "for metric in metric_dict:\n",
    "    print(metric, metric_dict[metric](y_valid,y_pred))"
   ]
  },
  {
   "cell_type": "code",
   "execution_count": 47,
   "id": "lJGC6-K8wrtu",
   "metadata": {
    "id": "lJGC6-K8wrtu"
   },
   "outputs": [],
   "source": [
    "b_test = best_model.predict(X_test_scal)"
   ]
  },
  {
   "cell_type": "code",
   "execution_count": 48,
   "id": "RCKN6ymYwrw0",
   "metadata": {
    "id": "RCKN6ymYwrw0"
   },
   "outputs": [
    {
     "name": "stdout",
     "output_type": "stream",
     "text": [
      "r2 -0.6681768612053963\n",
      "mse 0.10974709623138168\n",
      "mae 0.23971372443902134\n"
     ]
    }
   ],
   "source": [
    "for metric in metric_dict:\n",
    "    print(metric, metric_dict[metric](y_test,b_test))"
   ]
  }
 ],
 "metadata": {
  "colab": {
   "provenance": []
  },
  "kernelspec": {
   "display_name": "Python 3 (ipykernel)",
   "language": "python",
   "name": "python3"
  },
  "language_info": {
   "codemirror_mode": {
    "name": "ipython",
    "version": 3
   },
   "file_extension": ".py",
   "mimetype": "text/x-python",
   "name": "python",
   "nbconvert_exporter": "python",
   "pygments_lexer": "ipython3",
   "version": "3.9.12"
  }
 },
 "nbformat": 4,
 "nbformat_minor": 5
}
