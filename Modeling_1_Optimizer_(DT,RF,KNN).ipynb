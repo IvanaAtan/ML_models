{
 "cells": [
  {
   "cell_type": "markdown",
   "id": "20163be6",
   "metadata": {
    "id": "20163be6"
   },
   "source": [
    "### Libraries:"
   ]
  },
  {
   "cell_type": "code",
   "execution_count": null,
   "id": "0EeiEjlmKHOB",
   "metadata": {
    "colab": {
     "base_uri": "https://localhost:8080/"
    },
    "id": "0EeiEjlmKHOB",
    "outputId": "4ba27709-a50a-41df-ec8c-97ce39551d93"
   },
   "outputs": [],
   "source": [
    "# !pip install sklearn-genetic-opt"
   ]
  },
  {
   "cell_type": "code",
   "execution_count": 1,
   "id": "233fc09a",
   "metadata": {
    "id": "233fc09a"
   },
   "outputs": [],
   "source": [
    "import pandas as pd\n",
    "import numpy as np\n",
    "from sklearn.model_selection import train_test_split\n",
    "import seaborn as sns\n",
    "import matplotlib.pyplot as plt\n",
    "from sklearn.preprocessing import StandardScaler\n",
    "from sklearn.preprocessing import MinMaxScaler\n",
    "from sklearn.decomposition import PCA\n",
    "from sklearn.pipeline import Pipeline\n",
    "from sklearn import linear_model\n",
    "from sklearn.neighbors import KNeighborsRegressor\n",
    "from sklearn.tree import DecisionTreeRegressor\n",
    "from sklearn.ensemble import RandomForestRegressor\n",
    "from sklearn.metrics import mean_squared_error, mean_absolute_error, r2_score\n",
    "from sklearn.model_selection import GridSearchCV\n",
    "from sklearn.model_selection import RandomizedSearchCV\n",
    "from sklearn.compose import ColumnTransformer\n",
    "import time\n",
    "\n",
    "from sklearn import preprocessing\n",
    "\n",
    "from sklearn.model_selection import cross_val_score\n",
    "from hyperopt import hp, fmin, tpe, Trials\n",
    "\n",
    "from sklearn_genetic import GASearchCV\n",
    "from sklearn.model_selection import KFold\n",
    "from sklearn_genetic.space import Categorical, Integer, Continuous"
   ]
  },
  {
   "cell_type": "markdown",
   "id": "dc4fb327",
   "metadata": {
    "id": "dc4fb327"
   },
   "source": [
    "### Warnings:"
   ]
  },
  {
   "cell_type": "code",
   "execution_count": 2,
   "id": "0d2ef5f1",
   "metadata": {
    "id": "0d2ef5f1"
   },
   "outputs": [],
   "source": [
    "import warnings\n",
    "\n",
    "warnings.filterwarnings(\"ignore\", category=UserWarning, message=\"The objective has been evaluated at this point before.\")"
   ]
  },
  {
   "cell_type": "markdown",
   "id": "dda90d01",
   "metadata": {
    "id": "dda90d01"
   },
   "source": [
    "### Read dataset:"
   ]
  },
  {
   "cell_type": "code",
   "execution_count": 3,
   "id": "wkLuIrB-Kny2",
   "metadata": {
    "id": "wkLuIrB-Kny2"
   },
   "outputs": [
    {
     "data": {
      "text/html": [
       "<div>\n",
       "<style scoped>\n",
       "    .dataframe tbody tr th:only-of-type {\n",
       "        vertical-align: middle;\n",
       "    }\n",
       "\n",
       "    .dataframe tbody tr th {\n",
       "        vertical-align: top;\n",
       "    }\n",
       "\n",
       "    .dataframe thead th {\n",
       "        text-align: right;\n",
       "    }\n",
       "</style>\n",
       "<table border=\"1\" class=\"dataframe\">\n",
       "  <thead>\n",
       "    <tr style=\"text-align: right;\">\n",
       "      <th></th>\n",
       "      <th>Study_Folder</th>\n",
       "      <th>Subject_Folder</th>\n",
       "      <th>Stimuli</th>\n",
       "      <th>Frame Number</th>\n",
       "      <th>Face_Y</th>\n",
       "      <th>Face_X</th>\n",
       "      <th>Face_W</th>\n",
       "      <th>Face_H</th>\n",
       "      <th>Right_Eye_X</th>\n",
       "      <th>Right_Eye_Y</th>\n",
       "      <th>Left_Eye_X</th>\n",
       "      <th>Left_Eye_Y</th>\n",
       "      <th>Face_Angle</th>\n",
       "      <th>X_Predictions</th>\n",
       "      <th>Y_Predictions</th>\n",
       "    </tr>\n",
       "  </thead>\n",
       "  <tbody>\n",
       "    <tr>\n",
       "      <th>0</th>\n",
       "      <td>0eb02000-fe04-480d-9da4-b60e758d46e7</td>\n",
       "      <td>videos</td>\n",
       "      <td>0</td>\n",
       "      <td>0</td>\n",
       "      <td>235.0</td>\n",
       "      <td>195.0</td>\n",
       "      <td>204.0</td>\n",
       "      <td>204.0</td>\n",
       "      <td>269.0</td>\n",
       "      <td>377.0</td>\n",
       "      <td>269.0</td>\n",
       "      <td>296.0</td>\n",
       "      <td>0.469347</td>\n",
       "      <td>0.124451</td>\n",
       "      <td>0.166405</td>\n",
       "    </tr>\n",
       "    <tr>\n",
       "      <th>1</th>\n",
       "      <td>0eb02000-fe04-480d-9da4-b60e758d46e7</td>\n",
       "      <td>videos</td>\n",
       "      <td>0</td>\n",
       "      <td>1</td>\n",
       "      <td>235.0</td>\n",
       "      <td>196.0</td>\n",
       "      <td>201.0</td>\n",
       "      <td>201.0</td>\n",
       "      <td>268.0</td>\n",
       "      <td>377.0</td>\n",
       "      <td>268.0</td>\n",
       "      <td>296.0</td>\n",
       "      <td>0.469335</td>\n",
       "      <td>0.124451</td>\n",
       "      <td>0.166405</td>\n",
       "    </tr>\n",
       "    <tr>\n",
       "      <th>2</th>\n",
       "      <td>0eb02000-fe04-480d-9da4-b60e758d46e7</td>\n",
       "      <td>videos</td>\n",
       "      <td>0</td>\n",
       "      <td>2</td>\n",
       "      <td>236.0</td>\n",
       "      <td>196.0</td>\n",
       "      <td>201.0</td>\n",
       "      <td>201.0</td>\n",
       "      <td>268.0</td>\n",
       "      <td>377.0</td>\n",
       "      <td>268.0</td>\n",
       "      <td>296.0</td>\n",
       "      <td>0.465500</td>\n",
       "      <td>0.124451</td>\n",
       "      <td>0.166405</td>\n",
       "    </tr>\n",
       "    <tr>\n",
       "      <th>3</th>\n",
       "      <td>0eb02000-fe04-480d-9da4-b60e758d46e7</td>\n",
       "      <td>videos</td>\n",
       "      <td>0</td>\n",
       "      <td>3</td>\n",
       "      <td>236.0</td>\n",
       "      <td>196.0</td>\n",
       "      <td>201.0</td>\n",
       "      <td>201.0</td>\n",
       "      <td>268.0</td>\n",
       "      <td>377.0</td>\n",
       "      <td>268.0</td>\n",
       "      <td>296.0</td>\n",
       "      <td>0.477129</td>\n",
       "      <td>0.124451</td>\n",
       "      <td>0.166405</td>\n",
       "    </tr>\n",
       "    <tr>\n",
       "      <th>4</th>\n",
       "      <td>0eb02000-fe04-480d-9da4-b60e758d46e7</td>\n",
       "      <td>videos</td>\n",
       "      <td>0</td>\n",
       "      <td>4</td>\n",
       "      <td>235.0</td>\n",
       "      <td>195.0</td>\n",
       "      <td>203.0</td>\n",
       "      <td>203.0</td>\n",
       "      <td>269.0</td>\n",
       "      <td>377.0</td>\n",
       "      <td>268.0</td>\n",
       "      <td>296.0</td>\n",
       "      <td>0.469347</td>\n",
       "      <td>0.124451</td>\n",
       "      <td>0.166405</td>\n",
       "    </tr>\n",
       "    <tr>\n",
       "      <th>...</th>\n",
       "      <td>...</td>\n",
       "      <td>...</td>\n",
       "      <td>...</td>\n",
       "      <td>...</td>\n",
       "      <td>...</td>\n",
       "      <td>...</td>\n",
       "      <td>...</td>\n",
       "      <td>...</td>\n",
       "      <td>...</td>\n",
       "      <td>...</td>\n",
       "      <td>...</td>\n",
       "      <td>...</td>\n",
       "      <td>...</td>\n",
       "      <td>...</td>\n",
       "      <td>...</td>\n",
       "    </tr>\n",
       "    <tr>\n",
       "      <th>107845</th>\n",
       "      <td>7f1cb219-f275-4148-9658-67b1c26a6649</td>\n",
       "      <td>videos</td>\n",
       "      <td>9806</td>\n",
       "      <td>200</td>\n",
       "      <td>200.0</td>\n",
       "      <td>162.0</td>\n",
       "      <td>233.0</td>\n",
       "      <td>233.0</td>\n",
       "      <td>243.0</td>\n",
       "      <td>353.0</td>\n",
       "      <td>256.0</td>\n",
       "      <td>270.0</td>\n",
       "      <td>0.362527</td>\n",
       "      <td>0.124735</td>\n",
       "      <td>0.721234</td>\n",
       "    </tr>\n",
       "    <tr>\n",
       "      <th>107846</th>\n",
       "      <td>7f1cb219-f275-4148-9658-67b1c26a6649</td>\n",
       "      <td>videos</td>\n",
       "      <td>9806</td>\n",
       "      <td>201</td>\n",
       "      <td>201.0</td>\n",
       "      <td>160.0</td>\n",
       "      <td>233.0</td>\n",
       "      <td>233.0</td>\n",
       "      <td>243.0</td>\n",
       "      <td>353.0</td>\n",
       "      <td>255.0</td>\n",
       "      <td>270.0</td>\n",
       "      <td>0.386992</td>\n",
       "      <td>0.223992</td>\n",
       "      <td>0.539739</td>\n",
       "    </tr>\n",
       "    <tr>\n",
       "      <th>107847</th>\n",
       "      <td>7f1cb219-f275-4148-9658-67b1c26a6649</td>\n",
       "      <td>videos</td>\n",
       "      <td>9806</td>\n",
       "      <td>202</td>\n",
       "      <td>200.0</td>\n",
       "      <td>162.0</td>\n",
       "      <td>232.0</td>\n",
       "      <td>232.0</td>\n",
       "      <td>244.0</td>\n",
       "      <td>352.0</td>\n",
       "      <td>256.0</td>\n",
       "      <td>270.0</td>\n",
       "      <td>0.386993</td>\n",
       "      <td>0.124735</td>\n",
       "      <td>0.733096</td>\n",
       "    </tr>\n",
       "    <tr>\n",
       "      <th>107848</th>\n",
       "      <td>7f1cb219-f275-4148-9658-67b1c26a6649</td>\n",
       "      <td>videos</td>\n",
       "      <td>9806</td>\n",
       "      <td>203</td>\n",
       "      <td>200.0</td>\n",
       "      <td>159.0</td>\n",
       "      <td>236.0</td>\n",
       "      <td>236.0</td>\n",
       "      <td>243.0</td>\n",
       "      <td>353.0</td>\n",
       "      <td>255.0</td>\n",
       "      <td>270.0</td>\n",
       "      <td>0.349297</td>\n",
       "      <td>0.124204</td>\n",
       "      <td>0.717675</td>\n",
       "    </tr>\n",
       "    <tr>\n",
       "      <th>107849</th>\n",
       "      <td>7f1cb219-f275-4148-9658-67b1c26a6649</td>\n",
       "      <td>videos</td>\n",
       "      <td>9806</td>\n",
       "      <td>204</td>\n",
       "      <td>202.0</td>\n",
       "      <td>163.0</td>\n",
       "      <td>230.0</td>\n",
       "      <td>230.0</td>\n",
       "      <td>244.0</td>\n",
       "      <td>352.0</td>\n",
       "      <td>256.0</td>\n",
       "      <td>270.0</td>\n",
       "      <td>0.376803</td>\n",
       "      <td>0.124204</td>\n",
       "      <td>0.727165</td>\n",
       "    </tr>\n",
       "  </tbody>\n",
       "</table>\n",
       "<p>107850 rows × 15 columns</p>\n",
       "</div>"
      ],
      "text/plain": [
       "                                Study_Folder Subject_Folder  Stimuli  \\\n",
       "0       0eb02000-fe04-480d-9da4-b60e758d46e7         videos        0   \n",
       "1       0eb02000-fe04-480d-9da4-b60e758d46e7         videos        0   \n",
       "2       0eb02000-fe04-480d-9da4-b60e758d46e7         videos        0   \n",
       "3       0eb02000-fe04-480d-9da4-b60e758d46e7         videos        0   \n",
       "4       0eb02000-fe04-480d-9da4-b60e758d46e7         videos        0   \n",
       "...                                      ...            ...      ...   \n",
       "107845  7f1cb219-f275-4148-9658-67b1c26a6649         videos     9806   \n",
       "107846  7f1cb219-f275-4148-9658-67b1c26a6649         videos     9806   \n",
       "107847  7f1cb219-f275-4148-9658-67b1c26a6649         videos     9806   \n",
       "107848  7f1cb219-f275-4148-9658-67b1c26a6649         videos     9806   \n",
       "107849  7f1cb219-f275-4148-9658-67b1c26a6649         videos     9806   \n",
       "\n",
       "        Frame Number  Face_Y  Face_X  Face_W  Face_H  Right_Eye_X  \\\n",
       "0                  0   235.0   195.0   204.0   204.0        269.0   \n",
       "1                  1   235.0   196.0   201.0   201.0        268.0   \n",
       "2                  2   236.0   196.0   201.0   201.0        268.0   \n",
       "3                  3   236.0   196.0   201.0   201.0        268.0   \n",
       "4                  4   235.0   195.0   203.0   203.0        269.0   \n",
       "...              ...     ...     ...     ...     ...          ...   \n",
       "107845           200   200.0   162.0   233.0   233.0        243.0   \n",
       "107846           201   201.0   160.0   233.0   233.0        243.0   \n",
       "107847           202   200.0   162.0   232.0   232.0        244.0   \n",
       "107848           203   200.0   159.0   236.0   236.0        243.0   \n",
       "107849           204   202.0   163.0   230.0   230.0        244.0   \n",
       "\n",
       "        Right_Eye_Y  Left_Eye_X  Left_Eye_Y  Face_Angle  X_Predictions  \\\n",
       "0             377.0       269.0       296.0    0.469347       0.124451   \n",
       "1             377.0       268.0       296.0    0.469335       0.124451   \n",
       "2             377.0       268.0       296.0    0.465500       0.124451   \n",
       "3             377.0       268.0       296.0    0.477129       0.124451   \n",
       "4             377.0       268.0       296.0    0.469347       0.124451   \n",
       "...             ...         ...         ...         ...            ...   \n",
       "107845        353.0       256.0       270.0    0.362527       0.124735   \n",
       "107846        353.0       255.0       270.0    0.386992       0.223992   \n",
       "107847        352.0       256.0       270.0    0.386993       0.124735   \n",
       "107848        353.0       255.0       270.0    0.349297       0.124204   \n",
       "107849        352.0       256.0       270.0    0.376803       0.124204   \n",
       "\n",
       "        Y_Predictions  \n",
       "0            0.166405  \n",
       "1            0.166405  \n",
       "2            0.166405  \n",
       "3            0.166405  \n",
       "4            0.166405  \n",
       "...               ...  \n",
       "107845       0.721234  \n",
       "107846       0.539739  \n",
       "107847       0.733096  \n",
       "107848       0.717675  \n",
       "107849       0.727165  \n",
       "\n",
       "[107850 rows x 15 columns]"
      ]
     },
     "execution_count": 3,
     "metadata": {},
     "output_type": "execute_result"
    }
   ],
   "source": [
    "df = pd.read_csv('data1_filled.csv')\n",
    "df"
   ]
  },
  {
   "cell_type": "code",
   "execution_count": null,
   "id": "GBiIubNLKqEK",
   "metadata": {
    "colab": {
     "base_uri": "https://localhost:8080/",
     "height": 73
    },
    "id": "GBiIubNLKqEK",
    "outputId": "592e5cab-8533-4023-b092-7fec51aff3d7"
   },
   "outputs": [],
   "source": [
    "# from google.colab import files\n",
    "# uploaded = files.upload()"
   ]
  },
  {
   "cell_type": "code",
   "execution_count": null,
   "id": "m7Vl2ZMNKqHa",
   "metadata": {
    "colab": {
     "base_uri": "https://localhost:8080/",
     "height": 424
    },
    "id": "m7Vl2ZMNKqHa",
    "outputId": "d658cbb8-1605-4ca5-b115-ca55e8043a1a"
   },
   "outputs": [],
   "source": [
    "# import pandas as pd\n",
    "# import io\n",
    "\n",
    "# df = pd.read_csv(io.BytesIO(uploaded['data1_filled.csv']))\n",
    "# df"
   ]
  },
  {
   "cell_type": "code",
   "execution_count": 4,
   "id": "a2800574",
   "metadata": {
    "colab": {
     "base_uri": "https://localhost:8080/"
    },
    "id": "a2800574",
    "outputId": "cd78cd30-4f0d-4320-973d-5c01a51f56cf"
   },
   "outputs": [
    {
     "name": "stdout",
     "output_type": "stream",
     "text": [
      "<class 'pandas.core.frame.DataFrame'>\n",
      "RangeIndex: 107850 entries, 0 to 107849\n",
      "Data columns (total 15 columns):\n",
      " #   Column          Non-Null Count   Dtype  \n",
      "---  ------          --------------   -----  \n",
      " 0   Study_Folder    107850 non-null  object \n",
      " 1   Subject_Folder  107850 non-null  object \n",
      " 2   Stimuli         107850 non-null  int64  \n",
      " 3   Frame Number    107850 non-null  int64  \n",
      " 4   Face_Y          107850 non-null  float64\n",
      " 5   Face_X          107850 non-null  float64\n",
      " 6   Face_W          107850 non-null  float64\n",
      " 7   Face_H          107850 non-null  float64\n",
      " 8   Right_Eye_X     107850 non-null  float64\n",
      " 9   Right_Eye_Y     107850 non-null  float64\n",
      " 10  Left_Eye_X      107850 non-null  float64\n",
      " 11  Left_Eye_Y      107850 non-null  float64\n",
      " 12  Face_Angle      107850 non-null  float64\n",
      " 13  X_Predictions   107850 non-null  float64\n",
      " 14  Y_Predictions   107850 non-null  float64\n",
      "dtypes: float64(11), int64(2), object(2)\n",
      "memory usage: 12.3+ MB\n"
     ]
    }
   ],
   "source": [
    "df.info()"
   ]
  },
  {
   "cell_type": "markdown",
   "id": "c477e93d",
   "metadata": {
    "id": "c477e93d"
   },
   "source": [
    "### Drop columns:"
   ]
  },
  {
   "cell_type": "code",
   "execution_count": 5,
   "id": "c3188a3e",
   "metadata": {
    "id": "c3188a3e"
   },
   "outputs": [],
   "source": [
    "df.drop(['Study_Folder','Subject_Folder'], axis = 1, inplace = True)"
   ]
  },
  {
   "cell_type": "code",
   "execution_count": 6,
   "id": "8d1344c6",
   "metadata": {
    "colab": {
     "base_uri": "https://localhost:8080/",
     "height": 424
    },
    "id": "8d1344c6",
    "outputId": "2f786175-268f-4a1e-b3fc-b62ac4cff720"
   },
   "outputs": [
    {
     "data": {
      "text/html": [
       "<div>\n",
       "<style scoped>\n",
       "    .dataframe tbody tr th:only-of-type {\n",
       "        vertical-align: middle;\n",
       "    }\n",
       "\n",
       "    .dataframe tbody tr th {\n",
       "        vertical-align: top;\n",
       "    }\n",
       "\n",
       "    .dataframe thead th {\n",
       "        text-align: right;\n",
       "    }\n",
       "</style>\n",
       "<table border=\"1\" class=\"dataframe\">\n",
       "  <thead>\n",
       "    <tr style=\"text-align: right;\">\n",
       "      <th></th>\n",
       "      <th>Stimuli</th>\n",
       "      <th>Frame Number</th>\n",
       "      <th>Face_Y</th>\n",
       "      <th>Face_X</th>\n",
       "      <th>Face_W</th>\n",
       "      <th>Face_H</th>\n",
       "      <th>Right_Eye_X</th>\n",
       "      <th>Right_Eye_Y</th>\n",
       "      <th>Left_Eye_X</th>\n",
       "      <th>Left_Eye_Y</th>\n",
       "      <th>Face_Angle</th>\n",
       "      <th>X_Predictions</th>\n",
       "      <th>Y_Predictions</th>\n",
       "    </tr>\n",
       "  </thead>\n",
       "  <tbody>\n",
       "    <tr>\n",
       "      <th>0</th>\n",
       "      <td>0</td>\n",
       "      <td>0</td>\n",
       "      <td>235.0</td>\n",
       "      <td>195.0</td>\n",
       "      <td>204.0</td>\n",
       "      <td>204.0</td>\n",
       "      <td>269.0</td>\n",
       "      <td>377.0</td>\n",
       "      <td>269.0</td>\n",
       "      <td>296.0</td>\n",
       "      <td>0.469347</td>\n",
       "      <td>0.124451</td>\n",
       "      <td>0.166405</td>\n",
       "    </tr>\n",
       "    <tr>\n",
       "      <th>1</th>\n",
       "      <td>0</td>\n",
       "      <td>1</td>\n",
       "      <td>235.0</td>\n",
       "      <td>196.0</td>\n",
       "      <td>201.0</td>\n",
       "      <td>201.0</td>\n",
       "      <td>268.0</td>\n",
       "      <td>377.0</td>\n",
       "      <td>268.0</td>\n",
       "      <td>296.0</td>\n",
       "      <td>0.469335</td>\n",
       "      <td>0.124451</td>\n",
       "      <td>0.166405</td>\n",
       "    </tr>\n",
       "    <tr>\n",
       "      <th>2</th>\n",
       "      <td>0</td>\n",
       "      <td>2</td>\n",
       "      <td>236.0</td>\n",
       "      <td>196.0</td>\n",
       "      <td>201.0</td>\n",
       "      <td>201.0</td>\n",
       "      <td>268.0</td>\n",
       "      <td>377.0</td>\n",
       "      <td>268.0</td>\n",
       "      <td>296.0</td>\n",
       "      <td>0.465500</td>\n",
       "      <td>0.124451</td>\n",
       "      <td>0.166405</td>\n",
       "    </tr>\n",
       "    <tr>\n",
       "      <th>3</th>\n",
       "      <td>0</td>\n",
       "      <td>3</td>\n",
       "      <td>236.0</td>\n",
       "      <td>196.0</td>\n",
       "      <td>201.0</td>\n",
       "      <td>201.0</td>\n",
       "      <td>268.0</td>\n",
       "      <td>377.0</td>\n",
       "      <td>268.0</td>\n",
       "      <td>296.0</td>\n",
       "      <td>0.477129</td>\n",
       "      <td>0.124451</td>\n",
       "      <td>0.166405</td>\n",
       "    </tr>\n",
       "    <tr>\n",
       "      <th>4</th>\n",
       "      <td>0</td>\n",
       "      <td>4</td>\n",
       "      <td>235.0</td>\n",
       "      <td>195.0</td>\n",
       "      <td>203.0</td>\n",
       "      <td>203.0</td>\n",
       "      <td>269.0</td>\n",
       "      <td>377.0</td>\n",
       "      <td>268.0</td>\n",
       "      <td>296.0</td>\n",
       "      <td>0.469347</td>\n",
       "      <td>0.124451</td>\n",
       "      <td>0.166405</td>\n",
       "    </tr>\n",
       "    <tr>\n",
       "      <th>...</th>\n",
       "      <td>...</td>\n",
       "      <td>...</td>\n",
       "      <td>...</td>\n",
       "      <td>...</td>\n",
       "      <td>...</td>\n",
       "      <td>...</td>\n",
       "      <td>...</td>\n",
       "      <td>...</td>\n",
       "      <td>...</td>\n",
       "      <td>...</td>\n",
       "      <td>...</td>\n",
       "      <td>...</td>\n",
       "      <td>...</td>\n",
       "    </tr>\n",
       "    <tr>\n",
       "      <th>107845</th>\n",
       "      <td>9806</td>\n",
       "      <td>200</td>\n",
       "      <td>200.0</td>\n",
       "      <td>162.0</td>\n",
       "      <td>233.0</td>\n",
       "      <td>233.0</td>\n",
       "      <td>243.0</td>\n",
       "      <td>353.0</td>\n",
       "      <td>256.0</td>\n",
       "      <td>270.0</td>\n",
       "      <td>0.362527</td>\n",
       "      <td>0.124735</td>\n",
       "      <td>0.721234</td>\n",
       "    </tr>\n",
       "    <tr>\n",
       "      <th>107846</th>\n",
       "      <td>9806</td>\n",
       "      <td>201</td>\n",
       "      <td>201.0</td>\n",
       "      <td>160.0</td>\n",
       "      <td>233.0</td>\n",
       "      <td>233.0</td>\n",
       "      <td>243.0</td>\n",
       "      <td>353.0</td>\n",
       "      <td>255.0</td>\n",
       "      <td>270.0</td>\n",
       "      <td>0.386992</td>\n",
       "      <td>0.223992</td>\n",
       "      <td>0.539739</td>\n",
       "    </tr>\n",
       "    <tr>\n",
       "      <th>107847</th>\n",
       "      <td>9806</td>\n",
       "      <td>202</td>\n",
       "      <td>200.0</td>\n",
       "      <td>162.0</td>\n",
       "      <td>232.0</td>\n",
       "      <td>232.0</td>\n",
       "      <td>244.0</td>\n",
       "      <td>352.0</td>\n",
       "      <td>256.0</td>\n",
       "      <td>270.0</td>\n",
       "      <td>0.386993</td>\n",
       "      <td>0.124735</td>\n",
       "      <td>0.733096</td>\n",
       "    </tr>\n",
       "    <tr>\n",
       "      <th>107848</th>\n",
       "      <td>9806</td>\n",
       "      <td>203</td>\n",
       "      <td>200.0</td>\n",
       "      <td>159.0</td>\n",
       "      <td>236.0</td>\n",
       "      <td>236.0</td>\n",
       "      <td>243.0</td>\n",
       "      <td>353.0</td>\n",
       "      <td>255.0</td>\n",
       "      <td>270.0</td>\n",
       "      <td>0.349297</td>\n",
       "      <td>0.124204</td>\n",
       "      <td>0.717675</td>\n",
       "    </tr>\n",
       "    <tr>\n",
       "      <th>107849</th>\n",
       "      <td>9806</td>\n",
       "      <td>204</td>\n",
       "      <td>202.0</td>\n",
       "      <td>163.0</td>\n",
       "      <td>230.0</td>\n",
       "      <td>230.0</td>\n",
       "      <td>244.0</td>\n",
       "      <td>352.0</td>\n",
       "      <td>256.0</td>\n",
       "      <td>270.0</td>\n",
       "      <td>0.376803</td>\n",
       "      <td>0.124204</td>\n",
       "      <td>0.727165</td>\n",
       "    </tr>\n",
       "  </tbody>\n",
       "</table>\n",
       "<p>107850 rows × 13 columns</p>\n",
       "</div>"
      ],
      "text/plain": [
       "        Stimuli  Frame Number  Face_Y  Face_X  Face_W  Face_H  Right_Eye_X  \\\n",
       "0             0             0   235.0   195.0   204.0   204.0        269.0   \n",
       "1             0             1   235.0   196.0   201.0   201.0        268.0   \n",
       "2             0             2   236.0   196.0   201.0   201.0        268.0   \n",
       "3             0             3   236.0   196.0   201.0   201.0        268.0   \n",
       "4             0             4   235.0   195.0   203.0   203.0        269.0   \n",
       "...         ...           ...     ...     ...     ...     ...          ...   \n",
       "107845     9806           200   200.0   162.0   233.0   233.0        243.0   \n",
       "107846     9806           201   201.0   160.0   233.0   233.0        243.0   \n",
       "107847     9806           202   200.0   162.0   232.0   232.0        244.0   \n",
       "107848     9806           203   200.0   159.0   236.0   236.0        243.0   \n",
       "107849     9806           204   202.0   163.0   230.0   230.0        244.0   \n",
       "\n",
       "        Right_Eye_Y  Left_Eye_X  Left_Eye_Y  Face_Angle  X_Predictions  \\\n",
       "0             377.0       269.0       296.0    0.469347       0.124451   \n",
       "1             377.0       268.0       296.0    0.469335       0.124451   \n",
       "2             377.0       268.0       296.0    0.465500       0.124451   \n",
       "3             377.0       268.0       296.0    0.477129       0.124451   \n",
       "4             377.0       268.0       296.0    0.469347       0.124451   \n",
       "...             ...         ...         ...         ...            ...   \n",
       "107845        353.0       256.0       270.0    0.362527       0.124735   \n",
       "107846        353.0       255.0       270.0    0.386992       0.223992   \n",
       "107847        352.0       256.0       270.0    0.386993       0.124735   \n",
       "107848        353.0       255.0       270.0    0.349297       0.124204   \n",
       "107849        352.0       256.0       270.0    0.376803       0.124204   \n",
       "\n",
       "        Y_Predictions  \n",
       "0            0.166405  \n",
       "1            0.166405  \n",
       "2            0.166405  \n",
       "3            0.166405  \n",
       "4            0.166405  \n",
       "...               ...  \n",
       "107845       0.721234  \n",
       "107846       0.539739  \n",
       "107847       0.733096  \n",
       "107848       0.717675  \n",
       "107849       0.727165  \n",
       "\n",
       "[107850 rows x 13 columns]"
      ]
     },
     "execution_count": 6,
     "metadata": {},
     "output_type": "execute_result"
    }
   ],
   "source": [
    "df"
   ]
  },
  {
   "cell_type": "code",
   "execution_count": 7,
   "id": "f36b28c8",
   "metadata": {
    "colab": {
     "base_uri": "https://localhost:8080/"
    },
    "id": "f36b28c8",
    "outputId": "9f38dd70-037b-4aa3-8904-de466ccadd0d"
   },
   "outputs": [
    {
     "data": {
      "text/plain": [
       "Stimuli          0\n",
       "Frame Number     0\n",
       "Face_Y           0\n",
       "Face_X           0\n",
       "Face_W           0\n",
       "Face_H           0\n",
       "Right_Eye_X      0\n",
       "Right_Eye_Y      0\n",
       "Left_Eye_X       0\n",
       "Left_Eye_Y       0\n",
       "Face_Angle       0\n",
       "X_Predictions    0\n",
       "Y_Predictions    0\n",
       "dtype: int64"
      ]
     },
     "execution_count": 7,
     "metadata": {},
     "output_type": "execute_result"
    }
   ],
   "source": [
    "# Checking NaN values\n",
    "df.isna().sum()"
   ]
  },
  {
   "cell_type": "markdown",
   "id": "c731dfaa",
   "metadata": {
    "id": "c731dfaa"
   },
   "source": [
    "### Define Stimuli, X,Y:"
   ]
  },
  {
   "cell_type": "code",
   "execution_count": 8,
   "id": "ad641118",
   "metadata": {
    "colab": {
     "base_uri": "https://localhost:8080/"
    },
    "id": "ad641118",
    "outputId": "9bf69999-ff85-41d5-c74b-8f2d22995148"
   },
   "outputs": [
    {
     "data": {
      "text/plain": [
       "Index(['Stimuli', 'Frame Number', 'Face_Y', 'Face_X', 'Face_W', 'Face_H',\n",
       "       'Right_Eye_X', 'Right_Eye_Y', 'Left_Eye_X', 'Left_Eye_Y', 'Face_Angle',\n",
       "       'X_Predictions', 'Y_Predictions'],\n",
       "      dtype='object')"
      ]
     },
     "execution_count": 8,
     "metadata": {},
     "output_type": "execute_result"
    }
   ],
   "source": [
    "df.columns"
   ]
  },
  {
   "cell_type": "code",
   "execution_count": 9,
   "id": "20fe5932",
   "metadata": {
    "id": "20fe5932"
   },
   "outputs": [],
   "source": [
    "features_columns = ['Stimuli', 'Frame Number', 'Face_Y', 'Face_X', 'Face_W','Face_H',\n",
    "                    'Right_Eye_X', 'Right_Eye_Y', 'Left_Eye_X', 'Left_Eye_Y', 'Face_Angle']\n",
    "\n",
    "target_columns=['X_Predictions', 'Y_Predictions']"
   ]
  },
  {
   "cell_type": "code",
   "execution_count": 10,
   "id": "b09dd4fd",
   "metadata": {
    "id": "b09dd4fd"
   },
   "outputs": [],
   "source": [
    "X=df[features_columns]"
   ]
  },
  {
   "cell_type": "code",
   "execution_count": 11,
   "id": "0e6bd96e",
   "metadata": {
    "id": "0e6bd96e"
   },
   "outputs": [],
   "source": [
    "y=df[target_columns]"
   ]
  },
  {
   "cell_type": "code",
   "execution_count": 12,
   "id": "d39d4214",
   "metadata": {
    "id": "d39d4214"
   },
   "outputs": [],
   "source": [
    "X_train_valid= X[X['Stimuli']<= 11]"
   ]
  },
  {
   "cell_type": "code",
   "execution_count": 13,
   "id": "7956bc01",
   "metadata": {
    "id": "7956bc01"
   },
   "outputs": [],
   "source": [
    "X_test= X[X['Stimuli']> 11]"
   ]
  },
  {
   "cell_type": "code",
   "execution_count": 14,
   "id": "5e378b7c",
   "metadata": {
    "id": "5e378b7c"
   },
   "outputs": [],
   "source": [
    "y_train_valid= y[X['Stimuli']<= 11]"
   ]
  },
  {
   "cell_type": "code",
   "execution_count": 15,
   "id": "a4a62f0a",
   "metadata": {
    "id": "a4a62f0a"
   },
   "outputs": [],
   "source": [
    "y_test= y[X['Stimuli']> 11]"
   ]
  },
  {
   "cell_type": "markdown",
   "id": "4bf54129",
   "metadata": {
    "id": "4bf54129"
   },
   "source": [
    "### Split data:"
   ]
  },
  {
   "cell_type": "code",
   "execution_count": 16,
   "id": "9f3e6b1e",
   "metadata": {
    "id": "9f3e6b1e"
   },
   "outputs": [],
   "source": [
    "X_train, X_valid, y_train, y_valid = train_test_split(X_train_valid, y_train_valid, test_size=0.3,stratify =X_train_valid['Stimuli'] ,random_state=42)"
   ]
  },
  {
   "cell_type": "code",
   "execution_count": 17,
   "id": "de2509de",
   "metadata": {
    "colab": {
     "base_uri": "https://localhost:8080/"
    },
    "id": "de2509de",
    "outputId": "ece4e471-8c4a-42af-c26c-ef23222e84a7"
   },
   "outputs": [
    {
     "name": "stdout",
     "output_type": "stream",
     "text": [
      "Whole dataset : 107850\n",
      "X Train size 38986\n",
      "y Train size 38986\n",
      "X Valid size 16709\n",
      "y Valid size 16709\n",
      "X Test size 52155\n",
      "y Test size 52155\n"
     ]
    }
   ],
   "source": [
    "print(\"Whole dataset :\",len(df))\n",
    "print(\"X Train size\", len(X_train))\n",
    "print(\"y Train size\", len(y_train))\n",
    "print(\"X Valid size\", len(X_valid))\n",
    "print(\"y Valid size\", len(y_valid))\n",
    "print(\"X Test size\", len(X_test))\n",
    "print(\"y Test size\", len(y_test))"
   ]
  },
  {
   "cell_type": "code",
   "execution_count": 18,
   "id": "1e687fb1",
   "metadata": {
    "colab": {
     "base_uri": "https://localhost:8080/"
    },
    "id": "1e687fb1",
    "outputId": "13fb9860-e00b-4f40-ee53-0bd166344d8e"
   },
   "outputs": [
    {
     "name": "stdout",
     "output_type": "stream",
     "text": [
      "X Train shape (38986, 11)\n",
      "y Train shape (38986, 2)\n",
      "X Valid shape (16709, 11)\n",
      "y Valid shape (16709, 2)\n",
      "X Test shape (52155, 11)\n",
      "y Test shape (52155, 2)\n"
     ]
    }
   ],
   "source": [
    "print(\"X Train shape\", X_train.shape)\n",
    "print(\"y Train shape\", y_train.shape)\n",
    "print(\"X Valid shape\", X_valid.shape)\n",
    "print(\"y Valid shape\", y_valid.shape)\n",
    "print(\"X Test shape\", X_test.shape)\n",
    "print(\"y Test shape\", y_test.shape)"
   ]
  },
  {
   "cell_type": "code",
   "execution_count": 19,
   "id": "aba39a0f",
   "metadata": {
    "colab": {
     "base_uri": "https://localhost:8080/"
    },
    "id": "aba39a0f",
    "outputId": "e040e366-fb15-46b3-9ea6-362578f064eb"
   },
   "outputs": [
    {
     "data": {
      "text/plain": [
       "(0     0.081542\n",
       " 11    0.082389\n",
       " 5     0.082389\n",
       " 6     0.083158\n",
       " 2     0.083671\n",
       " 7     0.083748\n",
       " 3     0.083748\n",
       " 10    0.083774\n",
       " 8     0.083774\n",
       " 4     0.083799\n",
       " 9     0.083825\n",
       " 1     0.084184\n",
       " Name: Stimuli, dtype: float64,\n",
       " 0     0.081513\n",
       " 5     0.082351\n",
       " 11    0.082411\n",
       " 6     0.083189\n",
       " 2     0.083667\n",
       " 10    0.083727\n",
       " 7     0.083727\n",
       " 8     0.083787\n",
       " 3     0.083787\n",
       " 4     0.083787\n",
       " 9     0.083847\n",
       " 1     0.084206\n",
       " Name: Stimuli, dtype: float64)"
      ]
     },
     "execution_count": 19,
     "metadata": {},
     "output_type": "execute_result"
    }
   ],
   "source": [
    "X_train['Stimuli'].value_counts().sort_values()/len(X_train), X_valid['Stimuli'].value_counts().sort_values()/len(X_valid)"
   ]
  },
  {
   "cell_type": "markdown",
   "id": "af9e9e72",
   "metadata": {},
   "source": [
    "### Drop columns:"
   ]
  },
  {
   "cell_type": "code",
   "execution_count": 20,
   "id": "dbc36741",
   "metadata": {},
   "outputs": [],
   "source": [
    "drop_column = ['Stimuli','Frame Number']"
   ]
  },
  {
   "cell_type": "code",
   "execution_count": 21,
   "id": "6f430e6f",
   "metadata": {},
   "outputs": [
    {
     "name": "stderr",
     "output_type": "stream",
     "text": [
      "C:\\Users\\User\\AppData\\Local\\Temp\\ipykernel_15848\\3791142718.py:1: SettingWithCopyWarning: \n",
      "A value is trying to be set on a copy of a slice from a DataFrame\n",
      "\n",
      "See the caveats in the documentation: https://pandas.pydata.org/pandas-docs/stable/user_guide/indexing.html#returning-a-view-versus-a-copy\n",
      "  X.drop(columns = drop_column, inplace=True)\n"
     ]
    }
   ],
   "source": [
    "X.drop(columns = drop_column, inplace=True)"
   ]
  },
  {
   "cell_type": "code",
   "execution_count": 22,
   "id": "caa15c40",
   "metadata": {},
   "outputs": [
    {
     "data": {
      "text/html": [
       "<div>\n",
       "<style scoped>\n",
       "    .dataframe tbody tr th:only-of-type {\n",
       "        vertical-align: middle;\n",
       "    }\n",
       "\n",
       "    .dataframe tbody tr th {\n",
       "        vertical-align: top;\n",
       "    }\n",
       "\n",
       "    .dataframe thead th {\n",
       "        text-align: right;\n",
       "    }\n",
       "</style>\n",
       "<table border=\"1\" class=\"dataframe\">\n",
       "  <thead>\n",
       "    <tr style=\"text-align: right;\">\n",
       "      <th></th>\n",
       "      <th>Face_Y</th>\n",
       "      <th>Face_X</th>\n",
       "      <th>Face_W</th>\n",
       "      <th>Face_H</th>\n",
       "      <th>Right_Eye_X</th>\n",
       "      <th>Right_Eye_Y</th>\n",
       "      <th>Left_Eye_X</th>\n",
       "      <th>Left_Eye_Y</th>\n",
       "      <th>Face_Angle</th>\n",
       "    </tr>\n",
       "  </thead>\n",
       "  <tbody>\n",
       "    <tr>\n",
       "      <th>0</th>\n",
       "      <td>235.0</td>\n",
       "      <td>195.0</td>\n",
       "      <td>204.0</td>\n",
       "      <td>204.0</td>\n",
       "      <td>269.0</td>\n",
       "      <td>377.0</td>\n",
       "      <td>269.0</td>\n",
       "      <td>296.0</td>\n",
       "      <td>0.469347</td>\n",
       "    </tr>\n",
       "    <tr>\n",
       "      <th>1</th>\n",
       "      <td>235.0</td>\n",
       "      <td>196.0</td>\n",
       "      <td>201.0</td>\n",
       "      <td>201.0</td>\n",
       "      <td>268.0</td>\n",
       "      <td>377.0</td>\n",
       "      <td>268.0</td>\n",
       "      <td>296.0</td>\n",
       "      <td>0.469335</td>\n",
       "    </tr>\n",
       "    <tr>\n",
       "      <th>2</th>\n",
       "      <td>236.0</td>\n",
       "      <td>196.0</td>\n",
       "      <td>201.0</td>\n",
       "      <td>201.0</td>\n",
       "      <td>268.0</td>\n",
       "      <td>377.0</td>\n",
       "      <td>268.0</td>\n",
       "      <td>296.0</td>\n",
       "      <td>0.465500</td>\n",
       "    </tr>\n",
       "    <tr>\n",
       "      <th>3</th>\n",
       "      <td>236.0</td>\n",
       "      <td>196.0</td>\n",
       "      <td>201.0</td>\n",
       "      <td>201.0</td>\n",
       "      <td>268.0</td>\n",
       "      <td>377.0</td>\n",
       "      <td>268.0</td>\n",
       "      <td>296.0</td>\n",
       "      <td>0.477129</td>\n",
       "    </tr>\n",
       "    <tr>\n",
       "      <th>4</th>\n",
       "      <td>235.0</td>\n",
       "      <td>195.0</td>\n",
       "      <td>203.0</td>\n",
       "      <td>203.0</td>\n",
       "      <td>269.0</td>\n",
       "      <td>377.0</td>\n",
       "      <td>268.0</td>\n",
       "      <td>296.0</td>\n",
       "      <td>0.469347</td>\n",
       "    </tr>\n",
       "    <tr>\n",
       "      <th>...</th>\n",
       "      <td>...</td>\n",
       "      <td>...</td>\n",
       "      <td>...</td>\n",
       "      <td>...</td>\n",
       "      <td>...</td>\n",
       "      <td>...</td>\n",
       "      <td>...</td>\n",
       "      <td>...</td>\n",
       "      <td>...</td>\n",
       "    </tr>\n",
       "    <tr>\n",
       "      <th>107845</th>\n",
       "      <td>200.0</td>\n",
       "      <td>162.0</td>\n",
       "      <td>233.0</td>\n",
       "      <td>233.0</td>\n",
       "      <td>243.0</td>\n",
       "      <td>353.0</td>\n",
       "      <td>256.0</td>\n",
       "      <td>270.0</td>\n",
       "      <td>0.362527</td>\n",
       "    </tr>\n",
       "    <tr>\n",
       "      <th>107846</th>\n",
       "      <td>201.0</td>\n",
       "      <td>160.0</td>\n",
       "      <td>233.0</td>\n",
       "      <td>233.0</td>\n",
       "      <td>243.0</td>\n",
       "      <td>353.0</td>\n",
       "      <td>255.0</td>\n",
       "      <td>270.0</td>\n",
       "      <td>0.386992</td>\n",
       "    </tr>\n",
       "    <tr>\n",
       "      <th>107847</th>\n",
       "      <td>200.0</td>\n",
       "      <td>162.0</td>\n",
       "      <td>232.0</td>\n",
       "      <td>232.0</td>\n",
       "      <td>244.0</td>\n",
       "      <td>352.0</td>\n",
       "      <td>256.0</td>\n",
       "      <td>270.0</td>\n",
       "      <td>0.386993</td>\n",
       "    </tr>\n",
       "    <tr>\n",
       "      <th>107848</th>\n",
       "      <td>200.0</td>\n",
       "      <td>159.0</td>\n",
       "      <td>236.0</td>\n",
       "      <td>236.0</td>\n",
       "      <td>243.0</td>\n",
       "      <td>353.0</td>\n",
       "      <td>255.0</td>\n",
       "      <td>270.0</td>\n",
       "      <td>0.349297</td>\n",
       "    </tr>\n",
       "    <tr>\n",
       "      <th>107849</th>\n",
       "      <td>202.0</td>\n",
       "      <td>163.0</td>\n",
       "      <td>230.0</td>\n",
       "      <td>230.0</td>\n",
       "      <td>244.0</td>\n",
       "      <td>352.0</td>\n",
       "      <td>256.0</td>\n",
       "      <td>270.0</td>\n",
       "      <td>0.376803</td>\n",
       "    </tr>\n",
       "  </tbody>\n",
       "</table>\n",
       "<p>107850 rows × 9 columns</p>\n",
       "</div>"
      ],
      "text/plain": [
       "        Face_Y  Face_X  Face_W  Face_H  Right_Eye_X  Right_Eye_Y  Left_Eye_X  \\\n",
       "0        235.0   195.0   204.0   204.0        269.0        377.0       269.0   \n",
       "1        235.0   196.0   201.0   201.0        268.0        377.0       268.0   \n",
       "2        236.0   196.0   201.0   201.0        268.0        377.0       268.0   \n",
       "3        236.0   196.0   201.0   201.0        268.0        377.0       268.0   \n",
       "4        235.0   195.0   203.0   203.0        269.0        377.0       268.0   \n",
       "...        ...     ...     ...     ...          ...          ...         ...   \n",
       "107845   200.0   162.0   233.0   233.0        243.0        353.0       256.0   \n",
       "107846   201.0   160.0   233.0   233.0        243.0        353.0       255.0   \n",
       "107847   200.0   162.0   232.0   232.0        244.0        352.0       256.0   \n",
       "107848   200.0   159.0   236.0   236.0        243.0        353.0       255.0   \n",
       "107849   202.0   163.0   230.0   230.0        244.0        352.0       256.0   \n",
       "\n",
       "        Left_Eye_Y  Face_Angle  \n",
       "0            296.0    0.469347  \n",
       "1            296.0    0.469335  \n",
       "2            296.0    0.465500  \n",
       "3            296.0    0.477129  \n",
       "4            296.0    0.469347  \n",
       "...            ...         ...  \n",
       "107845       270.0    0.362527  \n",
       "107846       270.0    0.386992  \n",
       "107847       270.0    0.386993  \n",
       "107848       270.0    0.349297  \n",
       "107849       270.0    0.376803  \n",
       "\n",
       "[107850 rows x 9 columns]"
      ]
     },
     "execution_count": 22,
     "metadata": {},
     "output_type": "execute_result"
    }
   ],
   "source": [
    "X"
   ]
  },
  {
   "cell_type": "code",
   "execution_count": 23,
   "id": "47303dc1",
   "metadata": {},
   "outputs": [],
   "source": [
    "X_train.drop(columns = drop_column, inplace=True)"
   ]
  },
  {
   "cell_type": "code",
   "execution_count": 24,
   "id": "374b9111",
   "metadata": {},
   "outputs": [
    {
     "data": {
      "text/html": [
       "<div>\n",
       "<style scoped>\n",
       "    .dataframe tbody tr th:only-of-type {\n",
       "        vertical-align: middle;\n",
       "    }\n",
       "\n",
       "    .dataframe tbody tr th {\n",
       "        vertical-align: top;\n",
       "    }\n",
       "\n",
       "    .dataframe thead th {\n",
       "        text-align: right;\n",
       "    }\n",
       "</style>\n",
       "<table border=\"1\" class=\"dataframe\">\n",
       "  <thead>\n",
       "    <tr style=\"text-align: right;\">\n",
       "      <th></th>\n",
       "      <th>Face_Y</th>\n",
       "      <th>Face_X</th>\n",
       "      <th>Face_W</th>\n",
       "      <th>Face_H</th>\n",
       "      <th>Right_Eye_X</th>\n",
       "      <th>Right_Eye_Y</th>\n",
       "      <th>Left_Eye_X</th>\n",
       "      <th>Left_Eye_Y</th>\n",
       "      <th>Face_Angle</th>\n",
       "    </tr>\n",
       "  </thead>\n",
       "  <tbody>\n",
       "    <tr>\n",
       "      <th>8500</th>\n",
       "      <td>194.0</td>\n",
       "      <td>182.0</td>\n",
       "      <td>237.0</td>\n",
       "      <td>237.0</td>\n",
       "      <td>274.0</td>\n",
       "      <td>361.0</td>\n",
       "      <td>285.0</td>\n",
       "      <td>273.0</td>\n",
       "      <td>0.303291</td>\n",
       "    </tr>\n",
       "    <tr>\n",
       "      <th>34560</th>\n",
       "      <td>241.0</td>\n",
       "      <td>214.0</td>\n",
       "      <td>196.0</td>\n",
       "      <td>196.0</td>\n",
       "      <td>290.0</td>\n",
       "      <td>378.0</td>\n",
       "      <td>295.0</td>\n",
       "      <td>307.0</td>\n",
       "      <td>0.572514</td>\n",
       "    </tr>\n",
       "    <tr>\n",
       "      <th>49079</th>\n",
       "      <td>233.0</td>\n",
       "      <td>89.0</td>\n",
       "      <td>251.0</td>\n",
       "      <td>251.0</td>\n",
       "      <td>191.0</td>\n",
       "      <td>408.0</td>\n",
       "      <td>195.0</td>\n",
       "      <td>317.0</td>\n",
       "      <td>2.094841</td>\n",
       "    </tr>\n",
       "    <tr>\n",
       "      <th>53301</th>\n",
       "      <td>255.0</td>\n",
       "      <td>178.0</td>\n",
       "      <td>262.0</td>\n",
       "      <td>262.0</td>\n",
       "      <td>284.0</td>\n",
       "      <td>429.0</td>\n",
       "      <td>284.0</td>\n",
       "      <td>342.0</td>\n",
       "      <td>0.450649</td>\n",
       "    </tr>\n",
       "    <tr>\n",
       "      <th>31581</th>\n",
       "      <td>200.0</td>\n",
       "      <td>127.0</td>\n",
       "      <td>217.0</td>\n",
       "      <td>217.0</td>\n",
       "      <td>205.0</td>\n",
       "      <td>353.0</td>\n",
       "      <td>208.0</td>\n",
       "      <td>268.0</td>\n",
       "      <td>0.608209</td>\n",
       "    </tr>\n",
       "    <tr>\n",
       "      <th>...</th>\n",
       "      <td>...</td>\n",
       "      <td>...</td>\n",
       "      <td>...</td>\n",
       "      <td>...</td>\n",
       "      <td>...</td>\n",
       "      <td>...</td>\n",
       "      <td>...</td>\n",
       "      <td>...</td>\n",
       "      <td>...</td>\n",
       "    </tr>\n",
       "    <tr>\n",
       "      <th>42620</th>\n",
       "      <td>145.0</td>\n",
       "      <td>314.0</td>\n",
       "      <td>189.0</td>\n",
       "      <td>189.0</td>\n",
       "      <td>386.0</td>\n",
       "      <td>272.0</td>\n",
       "      <td>383.0</td>\n",
       "      <td>211.0</td>\n",
       "      <td>0.176726</td>\n",
       "    </tr>\n",
       "    <tr>\n",
       "      <th>24503</th>\n",
       "      <td>264.0</td>\n",
       "      <td>230.0</td>\n",
       "      <td>180.0</td>\n",
       "      <td>180.0</td>\n",
       "      <td>300.0</td>\n",
       "      <td>386.0</td>\n",
       "      <td>303.0</td>\n",
       "      <td>329.0</td>\n",
       "      <td>0.535068</td>\n",
       "    </tr>\n",
       "    <tr>\n",
       "      <th>34795</th>\n",
       "      <td>178.0</td>\n",
       "      <td>207.0</td>\n",
       "      <td>215.0</td>\n",
       "      <td>215.0</td>\n",
       "      <td>291.0</td>\n",
       "      <td>310.0</td>\n",
       "      <td>291.0</td>\n",
       "      <td>243.0</td>\n",
       "      <td>0.267951</td>\n",
       "    </tr>\n",
       "    <tr>\n",
       "      <th>50664</th>\n",
       "      <td>284.0</td>\n",
       "      <td>211.0</td>\n",
       "      <td>205.0</td>\n",
       "      <td>205.0</td>\n",
       "      <td>293.0</td>\n",
       "      <td>426.0</td>\n",
       "      <td>295.0</td>\n",
       "      <td>355.0</td>\n",
       "      <td>0.584136</td>\n",
       "    </tr>\n",
       "    <tr>\n",
       "      <th>24753</th>\n",
       "      <td>307.0</td>\n",
       "      <td>76.0</td>\n",
       "      <td>236.0</td>\n",
       "      <td>236.0</td>\n",
       "      <td>166.0</td>\n",
       "      <td>464.0</td>\n",
       "      <td>166.0</td>\n",
       "      <td>379.0</td>\n",
       "      <td>1.414423</td>\n",
       "    </tr>\n",
       "  </tbody>\n",
       "</table>\n",
       "<p>38986 rows × 9 columns</p>\n",
       "</div>"
      ],
      "text/plain": [
       "       Face_Y  Face_X  Face_W  Face_H  Right_Eye_X  Right_Eye_Y  Left_Eye_X  \\\n",
       "8500    194.0   182.0   237.0   237.0        274.0        361.0       285.0   \n",
       "34560   241.0   214.0   196.0   196.0        290.0        378.0       295.0   \n",
       "49079   233.0    89.0   251.0   251.0        191.0        408.0       195.0   \n",
       "53301   255.0   178.0   262.0   262.0        284.0        429.0       284.0   \n",
       "31581   200.0   127.0   217.0   217.0        205.0        353.0       208.0   \n",
       "...       ...     ...     ...     ...          ...          ...         ...   \n",
       "42620   145.0   314.0   189.0   189.0        386.0        272.0       383.0   \n",
       "24503   264.0   230.0   180.0   180.0        300.0        386.0       303.0   \n",
       "34795   178.0   207.0   215.0   215.0        291.0        310.0       291.0   \n",
       "50664   284.0   211.0   205.0   205.0        293.0        426.0       295.0   \n",
       "24753   307.0    76.0   236.0   236.0        166.0        464.0       166.0   \n",
       "\n",
       "       Left_Eye_Y  Face_Angle  \n",
       "8500        273.0    0.303291  \n",
       "34560       307.0    0.572514  \n",
       "49079       317.0    2.094841  \n",
       "53301       342.0    0.450649  \n",
       "31581       268.0    0.608209  \n",
       "...           ...         ...  \n",
       "42620       211.0    0.176726  \n",
       "24503       329.0    0.535068  \n",
       "34795       243.0    0.267951  \n",
       "50664       355.0    0.584136  \n",
       "24753       379.0    1.414423  \n",
       "\n",
       "[38986 rows x 9 columns]"
      ]
     },
     "execution_count": 24,
     "metadata": {},
     "output_type": "execute_result"
    }
   ],
   "source": [
    "X_train"
   ]
  },
  {
   "cell_type": "code",
   "execution_count": 25,
   "id": "a8efd34f",
   "metadata": {},
   "outputs": [],
   "source": [
    "X_valid.drop(columns = drop_column, inplace=True)"
   ]
  },
  {
   "cell_type": "code",
   "execution_count": 26,
   "id": "9c87a5c3",
   "metadata": {},
   "outputs": [
    {
     "data": {
      "text/html": [
       "<div>\n",
       "<style scoped>\n",
       "    .dataframe tbody tr th:only-of-type {\n",
       "        vertical-align: middle;\n",
       "    }\n",
       "\n",
       "    .dataframe tbody tr th {\n",
       "        vertical-align: top;\n",
       "    }\n",
       "\n",
       "    .dataframe thead th {\n",
       "        text-align: right;\n",
       "    }\n",
       "</style>\n",
       "<table border=\"1\" class=\"dataframe\">\n",
       "  <thead>\n",
       "    <tr style=\"text-align: right;\">\n",
       "      <th></th>\n",
       "      <th>Face_Y</th>\n",
       "      <th>Face_X</th>\n",
       "      <th>Face_W</th>\n",
       "      <th>Face_H</th>\n",
       "      <th>Right_Eye_X</th>\n",
       "      <th>Right_Eye_Y</th>\n",
       "      <th>Left_Eye_X</th>\n",
       "      <th>Left_Eye_Y</th>\n",
       "      <th>Face_Angle</th>\n",
       "    </tr>\n",
       "  </thead>\n",
       "  <tbody>\n",
       "    <tr>\n",
       "      <th>1879</th>\n",
       "      <td>203.0</td>\n",
       "      <td>76.0</td>\n",
       "      <td>222.0</td>\n",
       "      <td>222.0</td>\n",
       "      <td>167.0</td>\n",
       "      <td>369.0</td>\n",
       "      <td>163.0</td>\n",
       "      <td>283.0</td>\n",
       "      <td>0.731607</td>\n",
       "    </tr>\n",
       "    <tr>\n",
       "      <th>54927</th>\n",
       "      <td>195.0</td>\n",
       "      <td>189.0</td>\n",
       "      <td>230.0</td>\n",
       "      <td>230.0</td>\n",
       "      <td>282.0</td>\n",
       "      <td>349.0</td>\n",
       "      <td>284.0</td>\n",
       "      <td>263.0</td>\n",
       "      <td>0.291002</td>\n",
       "    </tr>\n",
       "    <tr>\n",
       "      <th>26246</th>\n",
       "      <td>239.0</td>\n",
       "      <td>248.0</td>\n",
       "      <td>214.0</td>\n",
       "      <td>214.0</td>\n",
       "      <td>336.0</td>\n",
       "      <td>391.0</td>\n",
       "      <td>332.0</td>\n",
       "      <td>304.0</td>\n",
       "      <td>0.278280</td>\n",
       "    </tr>\n",
       "    <tr>\n",
       "      <th>51101</th>\n",
       "      <td>191.0</td>\n",
       "      <td>158.0</td>\n",
       "      <td>232.0</td>\n",
       "      <td>232.0</td>\n",
       "      <td>243.0</td>\n",
       "      <td>347.0</td>\n",
       "      <td>255.0</td>\n",
       "      <td>262.0</td>\n",
       "      <td>0.381798</td>\n",
       "    </tr>\n",
       "    <tr>\n",
       "      <th>54715</th>\n",
       "      <td>204.0</td>\n",
       "      <td>158.0</td>\n",
       "      <td>248.0</td>\n",
       "      <td>248.0</td>\n",
       "      <td>260.0</td>\n",
       "      <td>374.0</td>\n",
       "      <td>259.0</td>\n",
       "      <td>267.0</td>\n",
       "      <td>0.309640</td>\n",
       "    </tr>\n",
       "    <tr>\n",
       "      <th>...</th>\n",
       "      <td>...</td>\n",
       "      <td>...</td>\n",
       "      <td>...</td>\n",
       "      <td>...</td>\n",
       "      <td>...</td>\n",
       "      <td>...</td>\n",
       "      <td>...</td>\n",
       "      <td>...</td>\n",
       "      <td>...</td>\n",
       "    </tr>\n",
       "    <tr>\n",
       "      <th>32028</th>\n",
       "      <td>283.0</td>\n",
       "      <td>205.0</td>\n",
       "      <td>203.0</td>\n",
       "      <td>203.0</td>\n",
       "      <td>286.0</td>\n",
       "      <td>405.0</td>\n",
       "      <td>289.0</td>\n",
       "      <td>351.0</td>\n",
       "      <td>0.602547</td>\n",
       "    </tr>\n",
       "    <tr>\n",
       "      <th>23295</th>\n",
       "      <td>236.0</td>\n",
       "      <td>194.0</td>\n",
       "      <td>204.0</td>\n",
       "      <td>204.0</td>\n",
       "      <td>271.0</td>\n",
       "      <td>379.0</td>\n",
       "      <td>272.0</td>\n",
       "      <td>302.0</td>\n",
       "      <td>0.477154</td>\n",
       "    </tr>\n",
       "    <tr>\n",
       "      <th>43401</th>\n",
       "      <td>308.0</td>\n",
       "      <td>77.0</td>\n",
       "      <td>247.0</td>\n",
       "      <td>247.0</td>\n",
       "      <td>173.0</td>\n",
       "      <td>470.0</td>\n",
       "      <td>171.0</td>\n",
       "      <td>393.0</td>\n",
       "      <td>1.450301</td>\n",
       "    </tr>\n",
       "    <tr>\n",
       "      <th>49843</th>\n",
       "      <td>277.0</td>\n",
       "      <td>200.0</td>\n",
       "      <td>243.0</td>\n",
       "      <td>243.0</td>\n",
       "      <td>295.0</td>\n",
       "      <td>431.0</td>\n",
       "      <td>305.0</td>\n",
       "      <td>346.0</td>\n",
       "      <td>0.510805</td>\n",
       "    </tr>\n",
       "    <tr>\n",
       "      <th>47486</th>\n",
       "      <td>181.0</td>\n",
       "      <td>91.0</td>\n",
       "      <td>282.0</td>\n",
       "      <td>282.0</td>\n",
       "      <td>216.0</td>\n",
       "      <td>371.0</td>\n",
       "      <td>216.0</td>\n",
       "      <td>263.0</td>\n",
       "      <td>0.360030</td>\n",
       "    </tr>\n",
       "  </tbody>\n",
       "</table>\n",
       "<p>16709 rows × 9 columns</p>\n",
       "</div>"
      ],
      "text/plain": [
       "       Face_Y  Face_X  Face_W  Face_H  Right_Eye_X  Right_Eye_Y  Left_Eye_X  \\\n",
       "1879    203.0    76.0   222.0   222.0        167.0        369.0       163.0   \n",
       "54927   195.0   189.0   230.0   230.0        282.0        349.0       284.0   \n",
       "26246   239.0   248.0   214.0   214.0        336.0        391.0       332.0   \n",
       "51101   191.0   158.0   232.0   232.0        243.0        347.0       255.0   \n",
       "54715   204.0   158.0   248.0   248.0        260.0        374.0       259.0   \n",
       "...       ...     ...     ...     ...          ...          ...         ...   \n",
       "32028   283.0   205.0   203.0   203.0        286.0        405.0       289.0   \n",
       "23295   236.0   194.0   204.0   204.0        271.0        379.0       272.0   \n",
       "43401   308.0    77.0   247.0   247.0        173.0        470.0       171.0   \n",
       "49843   277.0   200.0   243.0   243.0        295.0        431.0       305.0   \n",
       "47486   181.0    91.0   282.0   282.0        216.0        371.0       216.0   \n",
       "\n",
       "       Left_Eye_Y  Face_Angle  \n",
       "1879        283.0    0.731607  \n",
       "54927       263.0    0.291002  \n",
       "26246       304.0    0.278280  \n",
       "51101       262.0    0.381798  \n",
       "54715       267.0    0.309640  \n",
       "...           ...         ...  \n",
       "32028       351.0    0.602547  \n",
       "23295       302.0    0.477154  \n",
       "43401       393.0    1.450301  \n",
       "49843       346.0    0.510805  \n",
       "47486       263.0    0.360030  \n",
       "\n",
       "[16709 rows x 9 columns]"
      ]
     },
     "execution_count": 26,
     "metadata": {},
     "output_type": "execute_result"
    }
   ],
   "source": [
    "X_valid"
   ]
  },
  {
   "cell_type": "code",
   "execution_count": 27,
   "id": "444ee8cc",
   "metadata": {},
   "outputs": [
    {
     "name": "stderr",
     "output_type": "stream",
     "text": [
      "C:\\Users\\User\\AppData\\Local\\Temp\\ipykernel_15848\\2944433928.py:1: SettingWithCopyWarning: \n",
      "A value is trying to be set on a copy of a slice from a DataFrame\n",
      "\n",
      "See the caveats in the documentation: https://pandas.pydata.org/pandas-docs/stable/user_guide/indexing.html#returning-a-view-versus-a-copy\n",
      "  X_test.drop(columns = drop_column, inplace=True)\n"
     ]
    }
   ],
   "source": [
    "X_test.drop(columns = drop_column, inplace=True)"
   ]
  },
  {
   "cell_type": "code",
   "execution_count": 28,
   "id": "3d1e5cc9",
   "metadata": {},
   "outputs": [
    {
     "data": {
      "text/html": [
       "<div>\n",
       "<style scoped>\n",
       "    .dataframe tbody tr th:only-of-type {\n",
       "        vertical-align: middle;\n",
       "    }\n",
       "\n",
       "    .dataframe tbody tr th {\n",
       "        vertical-align: top;\n",
       "    }\n",
       "\n",
       "    .dataframe thead th {\n",
       "        text-align: right;\n",
       "    }\n",
       "</style>\n",
       "<table border=\"1\" class=\"dataframe\">\n",
       "  <thead>\n",
       "    <tr style=\"text-align: right;\">\n",
       "      <th></th>\n",
       "      <th>Face_Y</th>\n",
       "      <th>Face_X</th>\n",
       "      <th>Face_W</th>\n",
       "      <th>Face_H</th>\n",
       "      <th>Right_Eye_X</th>\n",
       "      <th>Right_Eye_Y</th>\n",
       "      <th>Left_Eye_X</th>\n",
       "      <th>Left_Eye_Y</th>\n",
       "      <th>Face_Angle</th>\n",
       "    </tr>\n",
       "  </thead>\n",
       "  <tbody>\n",
       "    <tr>\n",
       "      <th>55695</th>\n",
       "      <td>241.0</td>\n",
       "      <td>220.0</td>\n",
       "      <td>194.0</td>\n",
       "      <td>194.0</td>\n",
       "      <td>288.0</td>\n",
       "      <td>379.0</td>\n",
       "      <td>288.0</td>\n",
       "      <td>297.0</td>\n",
       "      <td>0.424277</td>\n",
       "    </tr>\n",
       "    <tr>\n",
       "      <th>55696</th>\n",
       "      <td>242.0</td>\n",
       "      <td>221.0</td>\n",
       "      <td>193.0</td>\n",
       "      <td>193.0</td>\n",
       "      <td>288.0</td>\n",
       "      <td>379.0</td>\n",
       "      <td>288.0</td>\n",
       "      <td>297.0</td>\n",
       "      <td>0.421167</td>\n",
       "    </tr>\n",
       "    <tr>\n",
       "      <th>55697</th>\n",
       "      <td>242.0</td>\n",
       "      <td>221.0</td>\n",
       "      <td>193.0</td>\n",
       "      <td>193.0</td>\n",
       "      <td>287.0</td>\n",
       "      <td>379.0</td>\n",
       "      <td>287.0</td>\n",
       "      <td>297.0</td>\n",
       "      <td>0.421158</td>\n",
       "    </tr>\n",
       "    <tr>\n",
       "      <th>55698</th>\n",
       "      <td>241.0</td>\n",
       "      <td>221.0</td>\n",
       "      <td>193.0</td>\n",
       "      <td>193.0</td>\n",
       "      <td>287.0</td>\n",
       "      <td>379.0</td>\n",
       "      <td>287.0</td>\n",
       "      <td>297.0</td>\n",
       "      <td>0.421158</td>\n",
       "    </tr>\n",
       "    <tr>\n",
       "      <th>55699</th>\n",
       "      <td>240.0</td>\n",
       "      <td>221.0</td>\n",
       "      <td>195.0</td>\n",
       "      <td>195.0</td>\n",
       "      <td>288.0</td>\n",
       "      <td>379.0</td>\n",
       "      <td>287.0</td>\n",
       "      <td>296.0</td>\n",
       "      <td>0.421158</td>\n",
       "    </tr>\n",
       "    <tr>\n",
       "      <th>...</th>\n",
       "      <td>...</td>\n",
       "      <td>...</td>\n",
       "      <td>...</td>\n",
       "      <td>...</td>\n",
       "      <td>...</td>\n",
       "      <td>...</td>\n",
       "      <td>...</td>\n",
       "      <td>...</td>\n",
       "      <td>...</td>\n",
       "    </tr>\n",
       "    <tr>\n",
       "      <th>107845</th>\n",
       "      <td>200.0</td>\n",
       "      <td>162.0</td>\n",
       "      <td>233.0</td>\n",
       "      <td>233.0</td>\n",
       "      <td>243.0</td>\n",
       "      <td>353.0</td>\n",
       "      <td>256.0</td>\n",
       "      <td>270.0</td>\n",
       "      <td>0.362527</td>\n",
       "    </tr>\n",
       "    <tr>\n",
       "      <th>107846</th>\n",
       "      <td>201.0</td>\n",
       "      <td>160.0</td>\n",
       "      <td>233.0</td>\n",
       "      <td>233.0</td>\n",
       "      <td>243.0</td>\n",
       "      <td>353.0</td>\n",
       "      <td>255.0</td>\n",
       "      <td>270.0</td>\n",
       "      <td>0.386992</td>\n",
       "    </tr>\n",
       "    <tr>\n",
       "      <th>107847</th>\n",
       "      <td>200.0</td>\n",
       "      <td>162.0</td>\n",
       "      <td>232.0</td>\n",
       "      <td>232.0</td>\n",
       "      <td>244.0</td>\n",
       "      <td>352.0</td>\n",
       "      <td>256.0</td>\n",
       "      <td>270.0</td>\n",
       "      <td>0.386993</td>\n",
       "    </tr>\n",
       "    <tr>\n",
       "      <th>107848</th>\n",
       "      <td>200.0</td>\n",
       "      <td>159.0</td>\n",
       "      <td>236.0</td>\n",
       "      <td>236.0</td>\n",
       "      <td>243.0</td>\n",
       "      <td>353.0</td>\n",
       "      <td>255.0</td>\n",
       "      <td>270.0</td>\n",
       "      <td>0.349297</td>\n",
       "    </tr>\n",
       "    <tr>\n",
       "      <th>107849</th>\n",
       "      <td>202.0</td>\n",
       "      <td>163.0</td>\n",
       "      <td>230.0</td>\n",
       "      <td>230.0</td>\n",
       "      <td>244.0</td>\n",
       "      <td>352.0</td>\n",
       "      <td>256.0</td>\n",
       "      <td>270.0</td>\n",
       "      <td>0.376803</td>\n",
       "    </tr>\n",
       "  </tbody>\n",
       "</table>\n",
       "<p>52155 rows × 9 columns</p>\n",
       "</div>"
      ],
      "text/plain": [
       "        Face_Y  Face_X  Face_W  Face_H  Right_Eye_X  Right_Eye_Y  Left_Eye_X  \\\n",
       "55695    241.0   220.0   194.0   194.0        288.0        379.0       288.0   \n",
       "55696    242.0   221.0   193.0   193.0        288.0        379.0       288.0   \n",
       "55697    242.0   221.0   193.0   193.0        287.0        379.0       287.0   \n",
       "55698    241.0   221.0   193.0   193.0        287.0        379.0       287.0   \n",
       "55699    240.0   221.0   195.0   195.0        288.0        379.0       287.0   \n",
       "...        ...     ...     ...     ...          ...          ...         ...   \n",
       "107845   200.0   162.0   233.0   233.0        243.0        353.0       256.0   \n",
       "107846   201.0   160.0   233.0   233.0        243.0        353.0       255.0   \n",
       "107847   200.0   162.0   232.0   232.0        244.0        352.0       256.0   \n",
       "107848   200.0   159.0   236.0   236.0        243.0        353.0       255.0   \n",
       "107849   202.0   163.0   230.0   230.0        244.0        352.0       256.0   \n",
       "\n",
       "        Left_Eye_Y  Face_Angle  \n",
       "55695        297.0    0.424277  \n",
       "55696        297.0    0.421167  \n",
       "55697        297.0    0.421158  \n",
       "55698        297.0    0.421158  \n",
       "55699        296.0    0.421158  \n",
       "...            ...         ...  \n",
       "107845       270.0    0.362527  \n",
       "107846       270.0    0.386992  \n",
       "107847       270.0    0.386993  \n",
       "107848       270.0    0.349297  \n",
       "107849       270.0    0.376803  \n",
       "\n",
       "[52155 rows x 9 columns]"
      ]
     },
     "execution_count": 28,
     "metadata": {},
     "output_type": "execute_result"
    }
   ],
   "source": [
    "X_test"
   ]
  },
  {
   "cell_type": "markdown",
   "id": "b6247aae",
   "metadata": {
    "id": "b6247aae"
   },
   "source": [
    "### MinMaxScaler:"
   ]
  },
  {
   "cell_type": "code",
   "execution_count": 29,
   "id": "35b98f3c",
   "metadata": {
    "id": "35b98f3c"
   },
   "outputs": [],
   "source": [
    "minmax_scaler = preprocessing.MinMaxScaler()\n",
    "X_train_scal = minmax_scaler.fit_transform(X_train)\n",
    "X_valid_scal = minmax_scaler.transform(X_valid)\n",
    "X_test_scal = minmax_scaler.transform(X_test)"
   ]
  },
  {
   "cell_type": "code",
   "execution_count": 30,
   "id": "cf8205dd",
   "metadata": {
    "colab": {
     "base_uri": "https://localhost:8080/"
    },
    "id": "cf8205dd",
    "outputId": "7213adcf-06b6-4121-84d3-2b3530efee31"
   },
   "outputs": [
    {
     "data": {
      "text/plain": [
       "array([[0.3874092 , 0.53246753, 0.39884393, ..., 0.57638889, 0.39793282,\n",
       "        0.00243009],\n",
       "       [0.50121065, 0.63636364, 0.16184971, ..., 0.61111111, 0.48578811,\n",
       "        0.00624757],\n",
       "       [0.48184019, 0.23051948, 0.47976879, ..., 0.26388889, 0.51162791,\n",
       "        0.02783358],\n",
       "       ...,\n",
       "       [0.34866828, 0.61363636, 0.2716763 , ..., 0.59722222, 0.32041344,\n",
       "        0.00192898],\n",
       "       [0.60532688, 0.62662338, 0.21387283, ..., 0.61111111, 0.60981912,\n",
       "        0.00641237],\n",
       "       [0.66101695, 0.18831169, 0.39306358, ..., 0.16319444, 0.67183463,\n",
       "        0.01818552]])"
      ]
     },
     "execution_count": 30,
     "metadata": {},
     "output_type": "execute_result"
    }
   ],
   "source": [
    "X_train_scal"
   ]
  },
  {
   "cell_type": "code",
   "execution_count": 31,
   "id": "9d5680c8",
   "metadata": {
    "colab": {
     "base_uri": "https://localhost:8080/"
    },
    "id": "9d5680c8",
    "outputId": "37ace4f0-f5bc-4c15-a66b-80f19a51df05"
   },
   "outputs": [
    {
     "data": {
      "text/plain": [
       "array([[0.40920097, 0.18831169, 0.31213873, ..., 0.15277778, 0.42377261,\n",
       "        0.00850345],\n",
       "       [0.38983051, 0.55519481, 0.3583815 , ..., 0.57291667, 0.37209302,\n",
       "        0.00225584],\n",
       "       [0.49636804, 0.74675325, 0.26589595, ..., 0.73958333, 0.47803618,\n",
       "        0.00207545],\n",
       "       ...,\n",
       "       [0.66343826, 0.19155844, 0.4566474 , ..., 0.18055556, 0.70801034,\n",
       "        0.01869425],\n",
       "       [0.58837772, 0.59090909, 0.43352601, ..., 0.64583333, 0.58656331,\n",
       "        0.00537255],\n",
       "       [0.3559322 , 0.23701299, 0.65895954, ..., 0.33680556, 0.37209302,\n",
       "        0.00323463]])"
      ]
     },
     "execution_count": 31,
     "metadata": {},
     "output_type": "execute_result"
    }
   ],
   "source": [
    "X_valid_scal"
   ]
  },
  {
   "cell_type": "code",
   "execution_count": 32,
   "id": "3bdac06c",
   "metadata": {
    "colab": {
     "base_uri": "https://localhost:8080/"
    },
    "id": "3bdac06c",
    "outputId": "02c704de-65f1-44c9-d941-0e3fc4a424d2"
   },
   "outputs": [
    {
     "data": {
      "text/plain": [
       "array([[0.50121065, 0.65584416, 0.15028902, ..., 0.58680556, 0.45994832,\n",
       "        0.00414562],\n",
       "       [0.50363196, 0.65909091, 0.14450867, ..., 0.58680556, 0.45994832,\n",
       "        0.00410153],\n",
       "       [0.50363196, 0.65909091, 0.14450867, ..., 0.58333333, 0.45994832,\n",
       "        0.00410139],\n",
       "       ...,\n",
       "       [0.40193705, 0.46753247, 0.3699422 , ..., 0.47569444, 0.39018088,\n",
       "        0.00361695],\n",
       "       [0.40193705, 0.45779221, 0.39306358, ..., 0.47222222, 0.39018088,\n",
       "        0.00308244],\n",
       "       [0.40677966, 0.47077922, 0.3583815 , ..., 0.47569444, 0.39018088,\n",
       "        0.00347246]])"
      ]
     },
     "execution_count": 32,
     "metadata": {},
     "output_type": "execute_result"
    }
   ],
   "source": [
    "X_test_scal"
   ]
  },
  {
   "cell_type": "markdown",
   "id": "45572230",
   "metadata": {
    "id": "45572230"
   },
   "source": [
    "### Metrics:"
   ]
  },
  {
   "cell_type": "code",
   "execution_count": 33,
   "id": "a99b5367",
   "metadata": {
    "id": "a99b5367"
   },
   "outputs": [],
   "source": [
    "metric_dict = {\"MAE\":mean_absolute_error, \"MSE\":mean_squared_error, \"R2\": r2_score}"
   ]
  },
  {
   "cell_type": "markdown",
   "id": "6eea4bfe",
   "metadata": {
    "id": "6eea4bfe"
   },
   "source": [
    "## RandomizedSearchCV:"
   ]
  },
  {
   "cell_type": "markdown",
   "id": "471f53d0",
   "metadata": {
    "id": "471f53d0"
   },
   "source": [
    "### RandomForestRegressor:"
   ]
  },
  {
   "cell_type": "code",
   "execution_count": 34,
   "id": "ea2699b9",
   "metadata": {
    "id": "ea2699b9"
   },
   "outputs": [],
   "source": [
    "log_table=[]"
   ]
  },
  {
   "cell_type": "code",
   "execution_count": 35,
   "id": "fd73aeb7",
   "metadata": {
    "colab": {
     "base_uri": "https://localhost:8080/"
    },
    "id": "fd73aeb7",
    "outputId": "5108461a-7fed-4663-f16b-61d3b4a9b462"
   },
   "outputs": [
    {
     "name": "stdout",
     "output_type": "stream",
     "text": [
      "Fitting 5 folds for each of 10 candidates, totalling 50 fits\n"
     ]
    }
   ],
   "source": [
    "start = time.time()\n",
    "reg=RandomForestRegressor()\n",
    "grid_dict = {'n_estimators': [50, 100, 200],\n",
    "             \"criterion\":['squared_error'],\n",
    "             'max_depth': [5,10,20,100],\n",
    "             'min_samples_split': [2,4,6,8,10],\n",
    "             \"random_state\":[1023,42,3]}\n",
    "\n",
    "RF_rscv = RandomizedSearchCV(estimator=reg,\n",
    "                             param_distributions = grid_dict,\n",
    "                             n_jobs =-1,\n",
    "                             refit=True,\n",
    "                             verbose=5)\n",
    "\n",
    "RF_rscv.fit(X_train_scal,y_train)\n",
    "y_valid_pred=RF_rscv.predict(X_valid_scal)\n",
    "end = time.time()\n",
    "for metric in metric_dict:\n",
    "    current_metric = metric_dict[metric]\n",
    "    log_table.append(['RF', 'RandomizedSearchCV', metric, metric_dict[metric](y_valid, y_valid_pred),(end-start)])"
   ]
  },
  {
   "cell_type": "markdown",
   "id": "c624246a",
   "metadata": {
    "id": "c624246a"
   },
   "source": [
    "### DecisionTreeRegressor:"
   ]
  },
  {
   "cell_type": "code",
   "execution_count": 36,
   "id": "0ca0778b",
   "metadata": {
    "colab": {
     "base_uri": "https://localhost:8080/"
    },
    "id": "0ca0778b",
    "outputId": "79f3c284-57c6-42f0-fd55-b4ae3d712033"
   },
   "outputs": [
    {
     "name": "stdout",
     "output_type": "stream",
     "text": [
      "Fitting 5 folds for each of 10 candidates, totalling 50 fits\n"
     ]
    }
   ],
   "source": [
    "start = time.time()\n",
    "reg=DecisionTreeRegressor()\n",
    "\n",
    "grid_dict = {\"criterion\":['squared_error'],\n",
    "             \"splitter\":['best', 'random'],\n",
    "             \"max_depth\": [5,10,20,100],\n",
    "             \"min_samples_split\": [2,4,6,8,10],\n",
    "             \"random_state\":[1023,42,3],\n",
    "             \"max_features\" : ['auto','sqrt','log2']}\n",
    "\n",
    "DT_rscv = RandomizedSearchCV(estimator=reg,\n",
    "                             param_distributions = grid_dict,\n",
    "                             n_jobs =-1,\n",
    "                             refit=True,\n",
    "                             verbose=5)\n",
    "\n",
    "DT_rscv.fit(X_train_scal,y_train)\n",
    "y_valid_pred=DT_rscv.predict(X_valid_scal)\n",
    "end = time.time()\n",
    "for metric in metric_dict:\n",
    "    current_metric = metric_dict[metric]\n",
    "    log_table.append(['DT', 'RandomizedSearchCV', metric, metric_dict[metric](y_valid, y_valid_pred),(end-start)])"
   ]
  },
  {
   "cell_type": "markdown",
   "id": "b6efdff2",
   "metadata": {
    "id": "b6efdff2"
   },
   "source": [
    "### KNeighborsRegressor:"
   ]
  },
  {
   "cell_type": "code",
   "execution_count": 37,
   "id": "cdfe40e4",
   "metadata": {
    "colab": {
     "base_uri": "https://localhost:8080/"
    },
    "id": "cdfe40e4",
    "outputId": "34f1397d-4595-4cc2-d4f2-6c7ebf26546f"
   },
   "outputs": [
    {
     "name": "stdout",
     "output_type": "stream",
     "text": [
      "Fitting 5 folds for each of 10 candidates, totalling 50 fits\n"
     ]
    }
   ],
   "source": [
    "start = time.time()\n",
    "reg=KNeighborsRegressor()\n",
    "grid_dict = {\"n_neighbors\": [1,3,4,5,10,20],\n",
    "             \"weights\":['uniform','distance'],\n",
    "             \"algorithm\":['auto','ball_tree','kd_tree','brute']}\n",
    "\n",
    "Knn_rscv = RandomizedSearchCV(estimator=reg,\n",
    "                              param_distributions = grid_dict,\n",
    "                              n_jobs =-1,\n",
    "                              refit=True,\n",
    "                              verbose=5)\n",
    "\n",
    "Knn_rscv.fit(X_train_scal,y_train)\n",
    "y_valid_pred=Knn_rscv.predict(X_valid_scal)\n",
    "end = time.time()\n",
    "for metric in metric_dict:\n",
    "    current_metric = metric_dict[metric]\n",
    "    log_table.append(['KNN', 'RandomizedSearchCV', metric, metric_dict[metric](y_valid, y_valid_pred),(end-start)])"
   ]
  },
  {
   "cell_type": "markdown",
   "id": "27f7ec4c",
   "metadata": {
    "id": "27f7ec4c"
   },
   "source": [
    "# GridSearchCV:"
   ]
  },
  {
   "cell_type": "markdown",
   "id": "e975577f",
   "metadata": {
    "id": "e975577f"
   },
   "source": [
    "### RandomForestRegressor:"
   ]
  },
  {
   "cell_type": "code",
   "execution_count": 38,
   "id": "82696228",
   "metadata": {
    "colab": {
     "base_uri": "https://localhost:8080/"
    },
    "id": "82696228",
    "outputId": "03f98298-f627-434d-c3f4-fde840ebc6bf"
   },
   "outputs": [
    {
     "name": "stdout",
     "output_type": "stream",
     "text": [
      "Fitting 5 folds for each of 180 candidates, totalling 900 fits\n"
     ]
    }
   ],
   "source": [
    "start = time.time()\n",
    "reg=RandomForestRegressor()\n",
    "grid_dict = {'n_estimators': [50, 100, 200],\n",
    "             \"criterion\":['squared_error'],\n",
    "             'max_depth': [5,10,20,100],\n",
    "             'min_samples_split': [2,4,6,8,10],\n",
    "             \"random_state\":[1023,42,3]}\n",
    "\n",
    "RF_gscv = GridSearchCV(estimator=reg,\n",
    "                       param_grid = grid_dict,\n",
    "                       n_jobs =-1,\n",
    "                       refit=True,\n",
    "                       verbose=5)\n",
    "\n",
    "RF_gscv.fit(X_train_scal,y_train)\n",
    "y_pred=RF_gscv.predict(X_valid_scal)\n",
    "end = time.time()\n",
    "for metric in metric_dict:\n",
    "    current_metric = metric_dict[metric]\n",
    "    log_table.append(['RF', 'GridSearchCV', metric, metric_dict[metric](y_valid, y_valid_pred),(end-start)])"
   ]
  },
  {
   "cell_type": "markdown",
   "id": "cdc98fce",
   "metadata": {
    "id": "cdc98fce"
   },
   "source": [
    "### DecisionTreeRegressor:"
   ]
  },
  {
   "cell_type": "code",
   "execution_count": 39,
   "id": "2d7c1183",
   "metadata": {
    "id": "2d7c1183",
    "outputId": "2beb31ac-334d-4def-dc23-860ec6400d1c"
   },
   "outputs": [
    {
     "name": "stdout",
     "output_type": "stream",
     "text": [
      "Fitting 5 folds for each of 360 candidates, totalling 1800 fits\n"
     ]
    },
    {
     "name": "stderr",
     "output_type": "stream",
     "text": [
      "C:\\Users\\User\\anaconda3\\lib\\site-packages\\sklearn\\tree\\_classes.py:277: FutureWarning: `max_features='auto'` has been deprecated in 1.1 and will be removed in 1.3. To keep the past behaviour, explicitly set `max_features=1.0'`.\n",
      "  warnings.warn(\n"
     ]
    }
   ],
   "source": [
    "start = time.time()\n",
    "reg=DecisionTreeRegressor()\n",
    "\n",
    "grid_dict = {\"criterion\":['squared_error'],\n",
    "             \"splitter\":['best', 'random'],\n",
    "             \"max_depth\": [5,10,20,100],\n",
    "             \"min_samples_split\": [2,4,6,8,10],\n",
    "             \"random_state\":[1023,42,3],\n",
    "             \"max_features\" : ['auto','sqrt','log2']}\n",
    "\n",
    "DT_gscv = GridSearchCV(estimator=reg,\n",
    "                       param_grid = grid_dict,\n",
    "                       n_jobs =-1,\n",
    "                       refit=True,\n",
    "                       verbose=5)\n",
    "\n",
    "DT_gscv.fit(X_train_scal,y_train)\n",
    "y_pred=DT_gscv.predict(X_valid_scal)\n",
    "end = time.time()\n",
    "for metric in metric_dict:\n",
    "    current_metric = metric_dict[metric]\n",
    "    log_table.append(['DT', 'GridSearchCV', metric, metric_dict[metric](y_valid, y_valid_pred),(end-start)])"
   ]
  },
  {
   "cell_type": "markdown",
   "id": "49f59a5c",
   "metadata": {
    "id": "49f59a5c"
   },
   "source": [
    "### KNeighborsRegressor:"
   ]
  },
  {
   "cell_type": "code",
   "execution_count": 40,
   "id": "f6d87517",
   "metadata": {
    "id": "f6d87517",
    "outputId": "63f30cbd-aeb3-43cf-a080-1f26933af1f1"
   },
   "outputs": [
    {
     "name": "stdout",
     "output_type": "stream",
     "text": [
      "Fitting 5 folds for each of 48 candidates, totalling 240 fits\n"
     ]
    }
   ],
   "source": [
    "start = time.time()\n",
    "reg=KNeighborsRegressor()\n",
    "grid_dict = {\"n_neighbors\": [1,3,4,5,10,20],\n",
    "             \"weights\":['uniform','distance'],\n",
    "             \"algorithm\":['auto','ball_tree','kd_tree','brute']}\n",
    "\n",
    "Knn_gscv = GridSearchCV(estimator=reg,\n",
    "                        param_grid = grid_dict,\n",
    "                        n_jobs =-1,\n",
    "                        refit=True,\n",
    "                        verbose=5)\n",
    "\n",
    "Knn_gscv.fit(X_train_scal,y_train)\n",
    "y_pred=Knn_gscv.predict(X_valid_scal)\n",
    "end = time.time()\n",
    "for metric in metric_dict:\n",
    "    current_metric = metric_dict[metric]\n",
    "    log_table.append(['KNN', 'GridSearchCV', metric, metric_dict[metric](y_valid, y_valid_pred),(end-start)])"
   ]
  },
  {
   "cell_type": "markdown",
   "id": "43a6ba2f",
   "metadata": {
    "id": "43a6ba2f"
   },
   "source": [
    "# BAYESIAN OPTIMIZATION WITH hyperopt package:"
   ]
  },
  {
   "cell_type": "markdown",
   "id": "a87c6306",
   "metadata": {
    "id": "a87c6306"
   },
   "source": [
    "### RandomForestRegressor:"
   ]
  },
  {
   "cell_type": "code",
   "execution_count": 41,
   "id": "b0c6b736",
   "metadata": {
    "id": "b0c6b736",
    "outputId": "e02b4396-16d9-4352-d996-880c67027acc"
   },
   "outputs": [
    {
     "name": "stdout",
     "output_type": "stream",
     "text": [
      "100%|██████████| 5/5 [1:00:53<00:00, 730.67s/trial, best loss: 0.04714660571651517] \n"
     ]
    }
   ],
   "source": [
    "space = {\"n_estimators\": hp.quniform('n_estimators', 50, 200, 1),\n",
    "         'max_depth': hp.quniform('max_depth', 5, 100, 1),\n",
    "         'min_samples_split': hp.quniform('min_samples_split', 2, 10, 1),\n",
    "         \"random_state\": hp.choice('random_state',(1023,42,3))}\n",
    "\n",
    "# Define the objective function\n",
    "def objective(params):\n",
    "    reg = RandomForestRegressor( n_estimators=int(params['n_estimators']),\n",
    "                                 max_depth=int(params['max_depth']),\n",
    "                                 min_samples_split=int(params['min_samples_split']),\n",
    "                                 random_state=int(params['random_state']))\n",
    "    score = cross_val_score(reg, X, y, cv=5, scoring='neg_mean_squared_error').mean()\n",
    "    return {'loss': -score, 'status': 'ok'}\n",
    "\n",
    "# Define the search algorithm and search space\n",
    "trials = Trials()\n",
    "algo = tpe.suggest\n",
    "\n",
    "# Run the optimization\n",
    "start = time.time()\n",
    "best = fmin(objective, space, algo=algo, trials=trials, max_evals=5,return_argmin=False)\n",
    "\n",
    "# Train a model with the selected hyperparameters\n",
    "RF_bopt = RandomForestRegressor( n_estimators=int(best['n_estimators']),\n",
    "                             max_depth=int(best['max_depth']),\n",
    "                             min_samples_split=int(best['min_samples_split']),\n",
    "                             random_state=int(best['random_state']))\n",
    "\n",
    "RF_bopt.fit(X_train_scal, y_train)\n",
    "y_valid_pred=RF_bopt.predict(X_valid_scal)\n",
    "end = time.time()\n",
    "for metric in metric_dict:\n",
    "    current_metric = metric_dict[metric]\n",
    "    log_table.append(['RF', 'BAYESIAN OPTIMIZATION', metric, metric_dict[metric](y_valid, y_valid_pred),(end-start)])"
   ]
  },
  {
   "cell_type": "markdown",
   "id": "81e0f7ed",
   "metadata": {
    "id": "81e0f7ed"
   },
   "source": [
    "### DecisionTreeRegressor:"
   ]
  },
  {
   "cell_type": "code",
   "execution_count": 42,
   "id": "c50b7558",
   "metadata": {
    "id": "c50b7558",
    "outputId": "46c7d6cc-9dbb-4253-e47a-28986f0b1d3a"
   },
   "outputs": [
    {
     "name": "stdout",
     "output_type": "stream",
     "text": [
      "  0%|          | 0/5 [00:00<?, ?trial/s, best loss=?]"
     ]
    },
    {
     "name": "stderr",
     "output_type": "stream",
     "text": [
      "C:\\Users\\User\\anaconda3\\lib\\site-packages\\sklearn\\tree\\_classes.py:277: FutureWarning: `max_features='auto'` has been deprecated in 1.1 and will be removed in 1.3. To keep the past behaviour, explicitly set `max_features=1.0'`.\n",
      "  warnings.warn(\n",
      "\n",
      "C:\\Users\\User\\anaconda3\\lib\\site-packages\\sklearn\\tree\\_classes.py:277: FutureWarning: `max_features='auto'` has been deprecated in 1.1 and will be removed in 1.3. To keep the past behaviour, explicitly set `max_features=1.0'`.\n",
      "  warnings.warn(\n",
      "\n",
      "C:\\Users\\User\\anaconda3\\lib\\site-packages\\sklearn\\tree\\_classes.py:277: FutureWarning: `max_features='auto'` has been deprecated in 1.1 and will be removed in 1.3. To keep the past behaviour, explicitly set `max_features=1.0'`.\n",
      "  warnings.warn(\n",
      "\n",
      "C:\\Users\\User\\anaconda3\\lib\\site-packages\\sklearn\\tree\\_classes.py:277: FutureWarning: `max_features='auto'` has been deprecated in 1.1 and will be removed in 1.3. To keep the past behaviour, explicitly set `max_features=1.0'`.\n",
      "  warnings.warn(\n",
      "\n",
      "C:\\Users\\User\\anaconda3\\lib\\site-packages\\sklearn\\tree\\_classes.py:277: FutureWarning: `max_features='auto'` has been deprecated in 1.1 and will be removed in 1.3. To keep the past behaviour, explicitly set `max_features=1.0'`.\n",
      "  warnings.warn(\n",
      "\n"
     ]
    },
    {
     "name": "stdout",
     "output_type": "stream",
     "text": [
      " 60%|██████    | 3/5 [00:09<00:06,  3.08s/trial, best loss: 0.06618976759936544]"
     ]
    },
    {
     "name": "stderr",
     "output_type": "stream",
     "text": [
      "C:\\Users\\User\\anaconda3\\lib\\site-packages\\sklearn\\tree\\_classes.py:277: FutureWarning: `max_features='auto'` has been deprecated in 1.1 and will be removed in 1.3. To keep the past behaviour, explicitly set `max_features=1.0'`.\n",
      "  warnings.warn(\n",
      "\n",
      "C:\\Users\\User\\anaconda3\\lib\\site-packages\\sklearn\\tree\\_classes.py:277: FutureWarning: `max_features='auto'` has been deprecated in 1.1 and will be removed in 1.3. To keep the past behaviour, explicitly set `max_features=1.0'`.\n",
      "  warnings.warn(\n",
      "\n",
      "C:\\Users\\User\\anaconda3\\lib\\site-packages\\sklearn\\tree\\_classes.py:277: FutureWarning: `max_features='auto'` has been deprecated in 1.1 and will be removed in 1.3. To keep the past behaviour, explicitly set `max_features=1.0'`.\n",
      "  warnings.warn(\n",
      "\n",
      "C:\\Users\\User\\anaconda3\\lib\\site-packages\\sklearn\\tree\\_classes.py:277: FutureWarning: `max_features='auto'` has been deprecated in 1.1 and will be removed in 1.3. To keep the past behaviour, explicitly set `max_features=1.0'`.\n",
      "  warnings.warn(\n",
      "\n",
      "C:\\Users\\User\\anaconda3\\lib\\site-packages\\sklearn\\tree\\_classes.py:277: FutureWarning: `max_features='auto'` has been deprecated in 1.1 and will be removed in 1.3. To keep the past behaviour, explicitly set `max_features=1.0'`.\n",
      "  warnings.warn(\n",
      "\n"
     ]
    },
    {
     "name": "stdout",
     "output_type": "stream",
     "text": [
      "100%|██████████| 5/5 [00:16<00:00,  3.22s/trial, best loss: 0.06618976759936544]\n"
     ]
    },
    {
     "name": "stderr",
     "output_type": "stream",
     "text": [
      "C:\\Users\\User\\anaconda3\\lib\\site-packages\\sklearn\\tree\\_classes.py:277: FutureWarning: `max_features='auto'` has been deprecated in 1.1 and will be removed in 1.3. To keep the past behaviour, explicitly set `max_features=1.0'`.\n",
      "  warnings.warn(\n"
     ]
    }
   ],
   "source": [
    "space = {'max_depth': hp.quniform('max_depth', 5, 100, 1),\n",
    "         'min_samples_split': hp.quniform('min_samples_split', 2, 10, 1),\n",
    "         \"random_state\": hp.choice('random_state',(1023,42,3)),\n",
    "         \"splitter\" : hp.choice(\"splitter\",['best', 'random']),\n",
    "         \"max_features\" : hp.choice(\"max_features\",['auto','sqrt','log2'])}\n",
    "\n",
    "# Define the objective function\n",
    "def objective(params):\n",
    "    reg = DecisionTreeRegressor( max_depth=int(params['max_depth']),\n",
    "                                 min_samples_split=int(params['min_samples_split']),\n",
    "                                 random_state=int(params['random_state']),\n",
    "                                 splitter=str(params['splitter']),\n",
    "                                 max_features=str(params['max_features']))\n",
    "\n",
    "    score = cross_val_score(reg, X, y, cv=5, scoring='neg_mean_squared_error').mean()\n",
    "    return {'loss': -score, 'status': 'ok'}\n",
    "\n",
    "# Define the search algorithm and search space\n",
    "trials = Trials()\n",
    "algo = tpe.suggest\n",
    "\n",
    "# Run the optimization\n",
    "start = time.time()\n",
    "best = fmin(objective, space, algo=algo, trials=trials, max_evals=5,return_argmin=False)\n",
    "\n",
    "# Train a model with the selected hyperparameters\n",
    "DT_bopt = DecisionTreeRegressor( max_depth=int(best['max_depth']),\n",
    "                             min_samples_split=int(best['min_samples_split']),\n",
    "                             random_state=int(best['random_state']),\n",
    "                             splitter=str(best['splitter']),\n",
    "                             max_features=str(best['max_features']))\n",
    "\n",
    "DT_bopt.fit(X_train_scal, y_train)\n",
    "y_valid_pred=DT_bopt.predict(X_valid_scal)\n",
    "end = time.time()\n",
    "for metric in metric_dict:\n",
    "    current_metric = metric_dict[metric]\n",
    "    log_table.append(['DT', 'BAYESIAN OPTIMIZATION', metric, metric_dict[metric](y_valid, y_valid_pred),(end-start)])"
   ]
  },
  {
   "cell_type": "markdown",
   "id": "f24dfc70",
   "metadata": {
    "id": "f24dfc70"
   },
   "source": [
    "### KNeighborsRegressor:"
   ]
  },
  {
   "cell_type": "code",
   "execution_count": 43,
   "id": "4a5159ef",
   "metadata": {
    "id": "4a5159ef",
    "outputId": "c88fdffc-df43-4716-f21f-93964209b7a4"
   },
   "outputs": [
    {
     "name": "stdout",
     "output_type": "stream",
     "text": [
      "100%|██████████| 5/5 [00:28<00:00,  5.64s/trial, best loss: 0.048760937477583866]\n"
     ]
    }
   ],
   "source": [
    "space = {\"n_neighbors\": hp.quniform('n_neighbors', 1, 20, 1),\n",
    "         \"weights\": hp.choice(\"weights\",['uniform','distance']),\n",
    "         \"algorithm\":hp.choice(\"algorithm\",['auto','ball_tree','kd_tree','brute'])}\n",
    "\n",
    "# Define the objective function\n",
    "def objective(params):\n",
    "    reg = KNeighborsRegressor(n_neighbors=int(params['n_neighbors']),\n",
    "                              weights=str(params['weights']),\n",
    "                              algorithm=str(params['algorithm']),)\n",
    "\n",
    "    score = cross_val_score(reg, X, y, cv=5, scoring='neg_mean_squared_error').mean()\n",
    "    return {'loss': -score, 'status': 'ok'}\n",
    "\n",
    "# Define the search algorithm and search space\n",
    "trials = Trials()\n",
    "algo = tpe.suggest\n",
    "\n",
    "# Run the optimization\n",
    "start = time.time()\n",
    "best = fmin(objective, space, algo=algo, trials=trials, max_evals=5,return_argmin=False)\n",
    "\n",
    "# Train a model with the selected hyperparameters\n",
    "Knn_bopt = KNeighborsRegressor(n_neighbors=int(best['n_neighbors']),\n",
    "                                weights=str(best['weights']),\n",
    "                                algorithm=str(best['algorithm']),)\n",
    "\n",
    "Knn_bopt.fit(X_train_scal, y_train)\n",
    "y_valid_pred=Knn_bopt.predict(X_valid_scal)\n",
    "end = time.time()\n",
    "for metric in metric_dict:\n",
    "    current_metric = metric_dict[metric]\n",
    "    log_table.append(['KNN', 'BAYESIAN OPTIMIZATION', metric, metric_dict[metric](y_valid, y_valid_pred),(end-start)])"
   ]
  },
  {
   "cell_type": "markdown",
   "id": "0ba27823",
   "metadata": {
    "id": "0ba27823"
   },
   "source": [
    "# GENETIC ALGORITHM OPTIMIZATION:"
   ]
  },
  {
   "cell_type": "code",
   "execution_count": null,
   "id": "5c4845eb",
   "metadata": {
    "id": "5c4845eb",
    "outputId": "e9918a55-01e7-4a9e-d9cc-1652e493bf11"
   },
   "outputs": [],
   "source": [
    "# ! pip install sklearn-genetic-opt"
   ]
  },
  {
   "cell_type": "markdown",
   "id": "c05189dd",
   "metadata": {
    "id": "c05189dd"
   },
   "source": [
    "### RandomForestRegressor:"
   ]
  },
  {
   "cell_type": "code",
   "execution_count": 44,
   "id": "3bea8e4a",
   "metadata": {
    "id": "3bea8e4a",
    "outputId": "0c4a9640-5ab3-4887-ff5d-01daecac7ad0"
   },
   "outputs": [
    {
     "name": "stdout",
     "output_type": "stream",
     "text": [
      "gen\tnevals\tfitness \tfitness_std\tfitness_max\tfitness_min\n",
      "0  \t10    \t0.848416\t0.034671   \t0.865235   \t0.744893   \n",
      "1  \t20    \t0.861386\t0.00180862 \t0.865235   \t0.858548   \n",
      "2  \t20    \t0.861445\t0.00146575 \t0.862839   \t0.858188   \n",
      "3  \t20    \t0.863096\t0.00121355 \t0.864678   \t0.861258   \n"
     ]
    }
   ],
   "source": [
    "reg = RandomForestRegressor()\n",
    "\n",
    "cv=KFold(n_splits=5, shuffle=True)\n",
    "\n",
    "search_space = {'n_estimators': Integer(5,200),\n",
    "                'max_depth':  Integer(5,100),\n",
    "                'min_samples_split':  Integer(2,10),\n",
    "                'random_state': Categorical([1023,42,3])}\n",
    "\n",
    "start = time.time()\n",
    "RF_ga = GASearchCV(estimator=reg,\n",
    "                       cv=cv,\n",
    "                       scoring='r2',\n",
    "                       param_grid=search_space,\n",
    "                       n_jobs=-1,\n",
    "                       verbose=True,\n",
    "                       population_size=10,\n",
    "                       generations=3)\n",
    "\n",
    "RF_ga.fit(X_train_scal, y_train)\n",
    "y_valid_pred=RF_ga.predict(X_valid_scal)\n",
    "end = time.time()\n",
    "for metric in metric_dict:\n",
    "    current_metric = metric_dict[metric]\n",
    "    log_table.append(['RF', 'GASearchCV', metric, metric_dict[metric](y_valid, y_valid_pred),(end-start)])"
   ]
  },
  {
   "cell_type": "markdown",
   "id": "0d76f2a0",
   "metadata": {
    "id": "0d76f2a0"
   },
   "source": [
    "### DecisionTreeRegressor:"
   ]
  },
  {
   "cell_type": "code",
   "execution_count": 45,
   "id": "a37bd6fb",
   "metadata": {
    "id": "a37bd6fb",
    "outputId": "b92044b4-6518-4c6a-b10c-5b522cca8b65"
   },
   "outputs": [
    {
     "name": "stdout",
     "output_type": "stream",
     "text": [
      "gen\tnevals\tfitness \tfitness_std\tfitness_max\tfitness_min\n",
      "0  \t10    \t0.699923\t0.0459025  \t0.73482    \t0.580949   \n",
      "1  \t20    \t0.728627\t0.012481   \t0.742617   \t0.697733   \n",
      "2  \t20    \t0.737204\t0.00624048 \t0.743683   \t0.726549   \n",
      "3  \t20    \t0.739051\t0.00599448 \t0.751273   \t0.730384   \n"
     ]
    },
    {
     "name": "stderr",
     "output_type": "stream",
     "text": [
      "C:\\Users\\User\\anaconda3\\lib\\site-packages\\sklearn\\tree\\_classes.py:277: FutureWarning: `max_features='auto'` has been deprecated in 1.1 and will be removed in 1.3. To keep the past behaviour, explicitly set `max_features=1.0'`.\n",
      "  warnings.warn(\n"
     ]
    }
   ],
   "source": [
    "reg = DecisionTreeRegressor()\n",
    "\n",
    "cv=KFold(n_splits=5, shuffle=True)\n",
    "\n",
    "search_space = {'max_depth':  Integer(5,100),\n",
    "                'min_samples_split':  Integer(2,10),\n",
    "                'random_state': Categorical([1023,42,3]),\n",
    "                'splitter' : Categorical(['best', 'random']),\n",
    "                'max_features' : Categorical(['auto','sqrt','log2'])}\n",
    "\n",
    "start = time.time()\n",
    "DT_ga = GASearchCV(estimator=reg,\n",
    "                       cv=cv,\n",
    "                       scoring='r2',\n",
    "                       param_grid=search_space,\n",
    "                       n_jobs=-1,\n",
    "                       verbose=True,\n",
    "                       population_size=10,\n",
    "                       generations=3)\n",
    "\n",
    "DT_ga.fit(X_train_scal, y_train)\n",
    "y_valid_pred=DT_ga.predict(X_valid_scal)\n",
    "end = time.time()\n",
    "for metric in metric_dict:\n",
    "    current_metric = metric_dict[metric]\n",
    "    log_table.append(['DT', 'GASearchCV', metric, metric_dict[metric](y_valid, y_valid_pred),(end-start)])"
   ]
  },
  {
   "cell_type": "markdown",
   "id": "b7a6107c",
   "metadata": {
    "id": "b7a6107c"
   },
   "source": [
    "### KNeighborsRegressor:"
   ]
  },
  {
   "cell_type": "code",
   "execution_count": 46,
   "id": "5e328165",
   "metadata": {
    "id": "5e328165",
    "outputId": "3552919a-31ec-49f4-ab93-d6e2d194279e"
   },
   "outputs": [
    {
     "name": "stdout",
     "output_type": "stream",
     "text": [
      "gen\tnevals\tfitness \tfitness_std\tfitness_max\tfitness_min\n",
      "0  \t10    \t0.790619\t0.0186854  \t0.815405   \t0.762359   \n",
      "1  \t20    \t0.810723\t0.00657157 \t0.819897   \t0.799174   \n",
      "2  \t20    \t0.820176\t0.00361397 \t0.824093   \t0.814828   \n",
      "3  \t20    \t0.82141 \t0.00518391 \t0.825449   \t0.806374   \n"
     ]
    }
   ],
   "source": [
    "reg = KNeighborsRegressor()\n",
    "\n",
    "cv=KFold(n_splits=5, shuffle=True)\n",
    "\n",
    "search_space = {\"n_neighbors\": Integer(1, 20),\n",
    "                \"weights\": Categorical(['uniform','distance']),\n",
    "                \"algorithm\":Categorical(['auto','ball_tree','kd_tree','brute'])}\n",
    "\n",
    "start = time.time()\n",
    "Knn_ga = GASearchCV(estimator=reg,\n",
    "                       cv=cv,\n",
    "                       scoring='r2',\n",
    "                       param_grid=search_space,\n",
    "                       n_jobs=-1,\n",
    "                       verbose=True,\n",
    "                       population_size=10,\n",
    "                       generations=3)\n",
    "\n",
    "Knn_ga.fit(X_train_scal, y_train)\n",
    "y_valid_pred=Knn_ga.predict(X_valid_scal)\n",
    "end = time.time()\n",
    "for metric in metric_dict:\n",
    "    current_metric = metric_dict[metric]\n",
    "    log_table.append(['KNN', 'GASearchCV', metric, metric_dict[metric](y_valid, y_valid_pred),(end-start)])"
   ]
  },
  {
   "cell_type": "markdown",
   "id": "743ff7cd",
   "metadata": {
    "id": "743ff7cd"
   },
   "source": [
    "# Results:"
   ]
  },
  {
   "cell_type": "code",
   "execution_count": 47,
   "id": "7eac265c",
   "metadata": {
    "id": "7eac265c"
   },
   "outputs": [],
   "source": [
    "log_table = pd.DataFrame(log_table, columns = ['Model','Hyperparameter Algorithm ','Metric','Metric score','Elapsed time'])"
   ]
  },
  {
   "cell_type": "code",
   "execution_count": 48,
   "id": "b47b5362",
   "metadata": {
    "id": "b47b5362",
    "outputId": "72a442ba-bdad-4de6-d305-8a5ad5edf214"
   },
   "outputs": [
    {
     "data": {
      "text/html": [
       "<div>\n",
       "<style scoped>\n",
       "    .dataframe tbody tr th:only-of-type {\n",
       "        vertical-align: middle;\n",
       "    }\n",
       "\n",
       "    .dataframe tbody tr th {\n",
       "        vertical-align: top;\n",
       "    }\n",
       "\n",
       "    .dataframe thead th {\n",
       "        text-align: right;\n",
       "    }\n",
       "</style>\n",
       "<table border=\"1\" class=\"dataframe\">\n",
       "  <thead>\n",
       "    <tr style=\"text-align: right;\">\n",
       "      <th></th>\n",
       "      <th>Model</th>\n",
       "      <th>Hyperparameter Algorithm</th>\n",
       "      <th>Metric</th>\n",
       "      <th>Metric score</th>\n",
       "      <th>Elapsed time</th>\n",
       "    </tr>\n",
       "  </thead>\n",
       "  <tbody>\n",
       "    <tr>\n",
       "      <th>2</th>\n",
       "      <td>RF</td>\n",
       "      <td>RandomizedSearchCV</td>\n",
       "      <td>R2</td>\n",
       "      <td>0.869194</td>\n",
       "      <td>343.810534</td>\n",
       "    </tr>\n",
       "  </tbody>\n",
       "</table>\n",
       "</div>"
      ],
      "text/plain": [
       "  Model Hyperparameter Algorithm  Metric  Metric score  Elapsed time\n",
       "2    RF        RandomizedSearchCV     R2      0.869194    343.810534"
      ]
     },
     "execution_count": 48,
     "metadata": {},
     "output_type": "execute_result"
    }
   ],
   "source": [
    "log_table[log_table['Metric score']==log_table['Metric score'].max()]"
   ]
  },
  {
   "cell_type": "markdown",
   "id": "6f8bcc8e",
   "metadata": {
    "id": "6f8bcc8e"
   },
   "source": [
    "### BEST MODEL:"
   ]
  },
  {
   "cell_type": "code",
   "execution_count": 49,
   "id": "21eb4113",
   "metadata": {
    "id": "21eb4113",
    "outputId": "8d6b3e50-b09c-4223-8bac-c53081a1234d"
   },
   "outputs": [
    {
     "data": {
      "text/html": [
       "<style>#sk-container-id-1 {color: black;background-color: white;}#sk-container-id-1 pre{padding: 0;}#sk-container-id-1 div.sk-toggleable {background-color: white;}#sk-container-id-1 label.sk-toggleable__label {cursor: pointer;display: block;width: 100%;margin-bottom: 0;padding: 0.3em;box-sizing: border-box;text-align: center;}#sk-container-id-1 label.sk-toggleable__label-arrow:before {content: \"▸\";float: left;margin-right: 0.25em;color: #696969;}#sk-container-id-1 label.sk-toggleable__label-arrow:hover:before {color: black;}#sk-container-id-1 div.sk-estimator:hover label.sk-toggleable__label-arrow:before {color: black;}#sk-container-id-1 div.sk-toggleable__content {max-height: 0;max-width: 0;overflow: hidden;text-align: left;background-color: #f0f8ff;}#sk-container-id-1 div.sk-toggleable__content pre {margin: 0.2em;color: black;border-radius: 0.25em;background-color: #f0f8ff;}#sk-container-id-1 input.sk-toggleable__control:checked~div.sk-toggleable__content {max-height: 200px;max-width: 100%;overflow: auto;}#sk-container-id-1 input.sk-toggleable__control:checked~label.sk-toggleable__label-arrow:before {content: \"▾\";}#sk-container-id-1 div.sk-estimator input.sk-toggleable__control:checked~label.sk-toggleable__label {background-color: #d4ebff;}#sk-container-id-1 div.sk-label input.sk-toggleable__control:checked~label.sk-toggleable__label {background-color: #d4ebff;}#sk-container-id-1 input.sk-hidden--visually {border: 0;clip: rect(1px 1px 1px 1px);clip: rect(1px, 1px, 1px, 1px);height: 1px;margin: -1px;overflow: hidden;padding: 0;position: absolute;width: 1px;}#sk-container-id-1 div.sk-estimator {font-family: monospace;background-color: #f0f8ff;border: 1px dotted black;border-radius: 0.25em;box-sizing: border-box;margin-bottom: 0.5em;}#sk-container-id-1 div.sk-estimator:hover {background-color: #d4ebff;}#sk-container-id-1 div.sk-parallel-item::after {content: \"\";width: 100%;border-bottom: 1px solid gray;flex-grow: 1;}#sk-container-id-1 div.sk-label:hover label.sk-toggleable__label {background-color: #d4ebff;}#sk-container-id-1 div.sk-serial::before {content: \"\";position: absolute;border-left: 1px solid gray;box-sizing: border-box;top: 0;bottom: 0;left: 50%;z-index: 0;}#sk-container-id-1 div.sk-serial {display: flex;flex-direction: column;align-items: center;background-color: white;padding-right: 0.2em;padding-left: 0.2em;position: relative;}#sk-container-id-1 div.sk-item {position: relative;z-index: 1;}#sk-container-id-1 div.sk-parallel {display: flex;align-items: stretch;justify-content: center;background-color: white;position: relative;}#sk-container-id-1 div.sk-item::before, #sk-container-id-1 div.sk-parallel-item::before {content: \"\";position: absolute;border-left: 1px solid gray;box-sizing: border-box;top: 0;bottom: 0;left: 50%;z-index: -1;}#sk-container-id-1 div.sk-parallel-item {display: flex;flex-direction: column;z-index: 1;position: relative;background-color: white;}#sk-container-id-1 div.sk-parallel-item:first-child::after {align-self: flex-end;width: 50%;}#sk-container-id-1 div.sk-parallel-item:last-child::after {align-self: flex-start;width: 50%;}#sk-container-id-1 div.sk-parallel-item:only-child::after {width: 0;}#sk-container-id-1 div.sk-dashed-wrapped {border: 1px dashed gray;margin: 0 0.4em 0.5em 0.4em;box-sizing: border-box;padding-bottom: 0.4em;background-color: white;}#sk-container-id-1 div.sk-label label {font-family: monospace;font-weight: bold;display: inline-block;line-height: 1.2em;}#sk-container-id-1 div.sk-label-container {text-align: center;}#sk-container-id-1 div.sk-container {/* jupyter's `normalize.less` sets `[hidden] { display: none; }` but bootstrap.min.css set `[hidden] { display: none !important; }` so we also need the `!important` here to be able to override the default hidden behavior on the sphinx rendered scikit-learn.org. See: https://github.com/scikit-learn/scikit-learn/issues/21755 */display: inline-block !important;position: relative;}#sk-container-id-1 div.sk-text-repr-fallback {display: none;}</style><div id=\"sk-container-id-1\" class=\"sk-top-container\"><div class=\"sk-text-repr-fallback\"><pre>DecisionTreeRegressor(max_depth=41, max_features=&#x27;auto&#x27;, min_samples_split=9,\n",
       "                      random_state=1023)</pre><b>In a Jupyter environment, please rerun this cell to show the HTML representation or trust the notebook. <br />On GitHub, the HTML representation is unable to render, please try loading this page with nbviewer.org.</b></div><div class=\"sk-container\" hidden><div class=\"sk-item\"><div class=\"sk-estimator sk-toggleable\"><input class=\"sk-toggleable__control sk-hidden--visually\" id=\"sk-estimator-id-1\" type=\"checkbox\" checked><label for=\"sk-estimator-id-1\" class=\"sk-toggleable__label sk-toggleable__label-arrow\">DecisionTreeRegressor</label><div class=\"sk-toggleable__content\"><pre>DecisionTreeRegressor(max_depth=41, max_features=&#x27;auto&#x27;, min_samples_split=9,\n",
       "                      random_state=1023)</pre></div></div></div></div></div>"
      ],
      "text/plain": [
       "DecisionTreeRegressor(max_depth=41, max_features='auto', min_samples_split=9,\n",
       "                      random_state=1023)"
      ]
     },
     "execution_count": 49,
     "metadata": {},
     "output_type": "execute_result"
    }
   ],
   "source": [
    "best_model=DT_ga.best_estimator_\n",
    "best_model"
   ]
  },
  {
   "cell_type": "code",
   "execution_count": 50,
   "id": "ebd9351e",
   "metadata": {
    "id": "ebd9351e",
    "outputId": "d28f3036-1a16-4ffe-dccf-d93fc84c149d"
   },
   "outputs": [
    {
     "name": "stderr",
     "output_type": "stream",
     "text": [
      "C:\\Users\\User\\anaconda3\\lib\\site-packages\\sklearn\\base.py:432: UserWarning: X has feature names, but DecisionTreeRegressor was fitted without feature names\n",
      "  warnings.warn(\n"
     ]
    }
   ],
   "source": [
    "y_pred=best_model.predict(X_test)"
   ]
  },
  {
   "cell_type": "code",
   "execution_count": 51,
   "id": "b2322ca7",
   "metadata": {
    "id": "b2322ca7",
    "outputId": "b53108ad-e29c-4734-d26e-6ed67745df99"
   },
   "outputs": [
    {
     "data": {
      "text/plain": [
       "array([[0.125     , 0.49896907],\n",
       "       [0.125     , 0.49896907],\n",
       "       [0.125     , 0.49896907],\n",
       "       ...,\n",
       "       [0.125     , 0.49896907],\n",
       "       [0.125     , 0.49896907],\n",
       "       [0.125     , 0.49896907]])"
      ]
     },
     "execution_count": 51,
     "metadata": {},
     "output_type": "execute_result"
    }
   ],
   "source": [
    "y_pred"
   ]
  },
  {
   "cell_type": "code",
   "execution_count": 52,
   "id": "e67d687c",
   "metadata": {
    "id": "e67d687c",
    "outputId": "394b145e-95b3-4ce0-861e-c95289b9e053"
   },
   "outputs": [
    {
     "name": "stdout",
     "output_type": "stream",
     "text": [
      "['MAE', 0.3374652086170401]\n",
      "['MSE', 0.15799204713820458]\n",
      "['R2', -1.4932721477054525]\n"
     ]
    }
   ],
   "source": [
    "for metric in metric_dict:\n",
    "    current_metric = metric_dict[metric]\n",
    "    print([metric, metric_dict[metric](y_test, y_pred)])"
   ]
  },
  {
   "cell_type": "markdown",
   "id": "676d5728",
   "metadata": {
    "id": "676d5728"
   },
   "source": [
    "### Save csv file with results:"
   ]
  },
  {
   "cell_type": "code",
   "execution_count": 53,
   "id": "aebaa744",
   "metadata": {
    "id": "aebaa744"
   },
   "outputs": [],
   "source": [
    "log_table.to_csv('log_table1.csv', index=False)"
   ]
  },
  {
   "cell_type": "code",
   "execution_count": null,
   "id": "cDHFA23Cbsbl",
   "metadata": {
    "id": "cDHFA23Cbsbl"
   },
   "outputs": [],
   "source": [
    "# from google.colab import files\n",
    "\n",
    "# files.download('log_table1.csv')"
   ]
  }
 ],
 "metadata": {
  "colab": {
   "provenance": []
  },
  "kernelspec": {
   "display_name": "Python 3 (ipykernel)",
   "language": "python",
   "name": "python3"
  },
  "language_info": {
   "codemirror_mode": {
    "name": "ipython",
    "version": 3
   },
   "file_extension": ".py",
   "mimetype": "text/x-python",
   "name": "python",
   "nbconvert_exporter": "python",
   "pygments_lexer": "ipython3",
   "version": "3.9.12"
  }
 },
 "nbformat": 4,
 "nbformat_minor": 5
}
