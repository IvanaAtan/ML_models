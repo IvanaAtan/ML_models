{
  "cells": [
    {
      "cell_type": "markdown",
      "metadata": {
        "id": "9LURxxq15LMu"
      },
      "source": [
        "### Libraries:"
      ]
    },
    {
      "cell_type": "code",
      "execution_count": 1,
      "metadata": {
        "id": "c75qanO07Alc"
      },
      "outputs": [],
      "source": [
        "import pandas as pd\n",
        "import numpy as np\n",
        "from sklearn.model_selection import train_test_split\n",
        "from keras.models import Sequential\n",
        "from keras.layers import Dense, SimpleRNN, LSTM, GRU, RepeatVector\n",
        "from keras.callbacks import EarlyStopping, ModelCheckpoint\n",
        "import matplotlib.pyplot as plt\n",
        "from keras.utils import pad_sequences\n",
        "import tensorflow as tf\n",
        "from sklearn.metrics import r2_score,mean_absolute_error,mean_squared_error\n",
        "import numpy as np\n",
        "from sklearn.dummy import DummyRegressor\n",
        "from tqdm import tqdm\n",
        "\n",
        "import tensorflow as tf\n",
        "from tensorflow.keras.models import Model\n",
        "from tensorflow.keras.layers import Input, Conv1D, LSTM, Dense"
      ]
    },
    {
      "cell_type": "markdown",
      "metadata": {
        "id": "oQzDcTPy5LM3"
      },
      "source": [
        "### Warnings:"
      ]
    },
    {
      "cell_type": "code",
      "execution_count": 2,
      "metadata": {
        "id": "GOOdVd7o5LM4"
      },
      "outputs": [],
      "source": [
        "import warnings\n",
        "\n",
        "warnings.filterwarnings(\"ignore\", category=UserWarning, message=\"The objective has been evaluated at this point before.\")"
      ]
    },
    {
      "cell_type": "code",
      "source": [
        "from google.colab import files\n",
        "uploaded = files.upload()"
      ],
      "metadata": {
        "colab": {
          "base_uri": "https://localhost:8080/",
          "height": 73
        },
        "id": "Nb5OMYlgmvfo",
        "outputId": "bd1e0cce-2fb4-48e3-b27f-95c784ffbcdf"
      },
      "execution_count": 3,
      "outputs": [
        {
          "output_type": "display_data",
          "data": {
            "text/plain": [
              "<IPython.core.display.HTML object>"
            ],
            "text/html": [
              "\n",
              "     <input type=\"file\" id=\"files-1f8e751b-fc3a-4bb1-87e9-792c7a5ca644\" name=\"files[]\" multiple disabled\n",
              "        style=\"border:none\" />\n",
              "     <output id=\"result-1f8e751b-fc3a-4bb1-87e9-792c7a5ca644\">\n",
              "      Upload widget is only available when the cell has been executed in the\n",
              "      current browser session. Please rerun this cell to enable.\n",
              "      </output>\n",
              "      <script>// Copyright 2017 Google LLC\n",
              "//\n",
              "// Licensed under the Apache License, Version 2.0 (the \"License\");\n",
              "// you may not use this file except in compliance with the License.\n",
              "// You may obtain a copy of the License at\n",
              "//\n",
              "//      http://www.apache.org/licenses/LICENSE-2.0\n",
              "//\n",
              "// Unless required by applicable law or agreed to in writing, software\n",
              "// distributed under the License is distributed on an \"AS IS\" BASIS,\n",
              "// WITHOUT WARRANTIES OR CONDITIONS OF ANY KIND, either express or implied.\n",
              "// See the License for the specific language governing permissions and\n",
              "// limitations under the License.\n",
              "\n",
              "/**\n",
              " * @fileoverview Helpers for google.colab Python module.\n",
              " */\n",
              "(function(scope) {\n",
              "function span(text, styleAttributes = {}) {\n",
              "  const element = document.createElement('span');\n",
              "  element.textContent = text;\n",
              "  for (const key of Object.keys(styleAttributes)) {\n",
              "    element.style[key] = styleAttributes[key];\n",
              "  }\n",
              "  return element;\n",
              "}\n",
              "\n",
              "// Max number of bytes which will be uploaded at a time.\n",
              "const MAX_PAYLOAD_SIZE = 100 * 1024;\n",
              "\n",
              "function _uploadFiles(inputId, outputId) {\n",
              "  const steps = uploadFilesStep(inputId, outputId);\n",
              "  const outputElement = document.getElementById(outputId);\n",
              "  // Cache steps on the outputElement to make it available for the next call\n",
              "  // to uploadFilesContinue from Python.\n",
              "  outputElement.steps = steps;\n",
              "\n",
              "  return _uploadFilesContinue(outputId);\n",
              "}\n",
              "\n",
              "// This is roughly an async generator (not supported in the browser yet),\n",
              "// where there are multiple asynchronous steps and the Python side is going\n",
              "// to poll for completion of each step.\n",
              "// This uses a Promise to block the python side on completion of each step,\n",
              "// then passes the result of the previous step as the input to the next step.\n",
              "function _uploadFilesContinue(outputId) {\n",
              "  const outputElement = document.getElementById(outputId);\n",
              "  const steps = outputElement.steps;\n",
              "\n",
              "  const next = steps.next(outputElement.lastPromiseValue);\n",
              "  return Promise.resolve(next.value.promise).then((value) => {\n",
              "    // Cache the last promise value to make it available to the next\n",
              "    // step of the generator.\n",
              "    outputElement.lastPromiseValue = value;\n",
              "    return next.value.response;\n",
              "  });\n",
              "}\n",
              "\n",
              "/**\n",
              " * Generator function which is called between each async step of the upload\n",
              " * process.\n",
              " * @param {string} inputId Element ID of the input file picker element.\n",
              " * @param {string} outputId Element ID of the output display.\n",
              " * @return {!Iterable<!Object>} Iterable of next steps.\n",
              " */\n",
              "function* uploadFilesStep(inputId, outputId) {\n",
              "  const inputElement = document.getElementById(inputId);\n",
              "  inputElement.disabled = false;\n",
              "\n",
              "  const outputElement = document.getElementById(outputId);\n",
              "  outputElement.innerHTML = '';\n",
              "\n",
              "  const pickedPromise = new Promise((resolve) => {\n",
              "    inputElement.addEventListener('change', (e) => {\n",
              "      resolve(e.target.files);\n",
              "    });\n",
              "  });\n",
              "\n",
              "  const cancel = document.createElement('button');\n",
              "  inputElement.parentElement.appendChild(cancel);\n",
              "  cancel.textContent = 'Cancel upload';\n",
              "  const cancelPromise = new Promise((resolve) => {\n",
              "    cancel.onclick = () => {\n",
              "      resolve(null);\n",
              "    };\n",
              "  });\n",
              "\n",
              "  // Wait for the user to pick the files.\n",
              "  const files = yield {\n",
              "    promise: Promise.race([pickedPromise, cancelPromise]),\n",
              "    response: {\n",
              "      action: 'starting',\n",
              "    }\n",
              "  };\n",
              "\n",
              "  cancel.remove();\n",
              "\n",
              "  // Disable the input element since further picks are not allowed.\n",
              "  inputElement.disabled = true;\n",
              "\n",
              "  if (!files) {\n",
              "    return {\n",
              "      response: {\n",
              "        action: 'complete',\n",
              "      }\n",
              "    };\n",
              "  }\n",
              "\n",
              "  for (const file of files) {\n",
              "    const li = document.createElement('li');\n",
              "    li.append(span(file.name, {fontWeight: 'bold'}));\n",
              "    li.append(span(\n",
              "        `(${file.type || 'n/a'}) - ${file.size} bytes, ` +\n",
              "        `last modified: ${\n",
              "            file.lastModifiedDate ? file.lastModifiedDate.toLocaleDateString() :\n",
              "                                    'n/a'} - `));\n",
              "    const percent = span('0% done');\n",
              "    li.appendChild(percent);\n",
              "\n",
              "    outputElement.appendChild(li);\n",
              "\n",
              "    const fileDataPromise = new Promise((resolve) => {\n",
              "      const reader = new FileReader();\n",
              "      reader.onload = (e) => {\n",
              "        resolve(e.target.result);\n",
              "      };\n",
              "      reader.readAsArrayBuffer(file);\n",
              "    });\n",
              "    // Wait for the data to be ready.\n",
              "    let fileData = yield {\n",
              "      promise: fileDataPromise,\n",
              "      response: {\n",
              "        action: 'continue',\n",
              "      }\n",
              "    };\n",
              "\n",
              "    // Use a chunked sending to avoid message size limits. See b/62115660.\n",
              "    let position = 0;\n",
              "    do {\n",
              "      const length = Math.min(fileData.byteLength - position, MAX_PAYLOAD_SIZE);\n",
              "      const chunk = new Uint8Array(fileData, position, length);\n",
              "      position += length;\n",
              "\n",
              "      const base64 = btoa(String.fromCharCode.apply(null, chunk));\n",
              "      yield {\n",
              "        response: {\n",
              "          action: 'append',\n",
              "          file: file.name,\n",
              "          data: base64,\n",
              "        },\n",
              "      };\n",
              "\n",
              "      let percentDone = fileData.byteLength === 0 ?\n",
              "          100 :\n",
              "          Math.round((position / fileData.byteLength) * 100);\n",
              "      percent.textContent = `${percentDone}% done`;\n",
              "\n",
              "    } while (position < fileData.byteLength);\n",
              "  }\n",
              "\n",
              "  // All done.\n",
              "  yield {\n",
              "    response: {\n",
              "      action: 'complete',\n",
              "    }\n",
              "  };\n",
              "}\n",
              "\n",
              "scope.google = scope.google || {};\n",
              "scope.google.colab = scope.google.colab || {};\n",
              "scope.google.colab._files = {\n",
              "  _uploadFiles,\n",
              "  _uploadFilesContinue,\n",
              "};\n",
              "})(self);\n",
              "</script> "
            ]
          },
          "metadata": {}
        },
        {
          "output_type": "stream",
          "name": "stdout",
          "text": [
            "Saving data1_filled.csv to data1_filled.csv\n"
          ]
        }
      ]
    },
    {
      "cell_type": "code",
      "source": [
        "import pandas as pd\n",
        "import io\n",
        "\n",
        "df = pd.read_csv(io.BytesIO(uploaded['data1_filled.csv']))\n",
        "df"
      ],
      "metadata": {
        "colab": {
          "base_uri": "https://localhost:8080/",
          "height": 467
        },
        "id": "MjzVSUgTmwPO",
        "outputId": "b47b12f5-d31a-40d7-fb2a-3c78d1601e35"
      },
      "execution_count": 5,
      "outputs": [
        {
          "output_type": "execute_result",
          "data": {
            "text/plain": [
              "                                Study_Folder Subject_Folder  Stimuli  \\\n",
              "0       0eb02000-fe04-480d-9da4-b60e758d46e7         videos        0   \n",
              "1       0eb02000-fe04-480d-9da4-b60e758d46e7         videos        0   \n",
              "2       0eb02000-fe04-480d-9da4-b60e758d46e7         videos        0   \n",
              "3       0eb02000-fe04-480d-9da4-b60e758d46e7         videos        0   \n",
              "4       0eb02000-fe04-480d-9da4-b60e758d46e7         videos        0   \n",
              "...                                      ...            ...      ...   \n",
              "107845  7f1cb219-f275-4148-9658-67b1c26a6649         videos     9806   \n",
              "107846  7f1cb219-f275-4148-9658-67b1c26a6649         videos     9806   \n",
              "107847  7f1cb219-f275-4148-9658-67b1c26a6649         videos     9806   \n",
              "107848  7f1cb219-f275-4148-9658-67b1c26a6649         videos     9806   \n",
              "107849  7f1cb219-f275-4148-9658-67b1c26a6649         videos     9806   \n",
              "\n",
              "        Frame Number  Face_Y  Face_X  Face_W  Face_H  Right_Eye_X  \\\n",
              "0                  0   235.0   195.0   204.0   204.0        269.0   \n",
              "1                  1   235.0   196.0   201.0   201.0        268.0   \n",
              "2                  2   236.0   196.0   201.0   201.0        268.0   \n",
              "3                  3   236.0   196.0   201.0   201.0        268.0   \n",
              "4                  4   235.0   195.0   203.0   203.0        269.0   \n",
              "...              ...     ...     ...     ...     ...          ...   \n",
              "107845           200   200.0   162.0   233.0   233.0        243.0   \n",
              "107846           201   201.0   160.0   233.0   233.0        243.0   \n",
              "107847           202   200.0   162.0   232.0   232.0        244.0   \n",
              "107848           203   200.0   159.0   236.0   236.0        243.0   \n",
              "107849           204   202.0   163.0   230.0   230.0        244.0   \n",
              "\n",
              "        Right_Eye_Y  Left_Eye_X  Left_Eye_Y  Face_Angle  X_Predictions  \\\n",
              "0             377.0       269.0       296.0    0.469347       0.124451   \n",
              "1             377.0       268.0       296.0    0.469335       0.124451   \n",
              "2             377.0       268.0       296.0    0.465500       0.124451   \n",
              "3             377.0       268.0       296.0    0.477129       0.124451   \n",
              "4             377.0       268.0       296.0    0.469347       0.124451   \n",
              "...             ...         ...         ...         ...            ...   \n",
              "107845        353.0       256.0       270.0    0.362527       0.124735   \n",
              "107846        353.0       255.0       270.0    0.386992       0.223992   \n",
              "107847        352.0       256.0       270.0    0.386993       0.124735   \n",
              "107848        353.0       255.0       270.0    0.349297       0.124204   \n",
              "107849        352.0       256.0       270.0    0.376803       0.124204   \n",
              "\n",
              "        Y_Predictions  \n",
              "0            0.166405  \n",
              "1            0.166405  \n",
              "2            0.166405  \n",
              "3            0.166405  \n",
              "4            0.166405  \n",
              "...               ...  \n",
              "107845       0.721234  \n",
              "107846       0.539739  \n",
              "107847       0.733096  \n",
              "107848       0.717675  \n",
              "107849       0.727165  \n",
              "\n",
              "[107850 rows x 15 columns]"
            ],
            "text/html": [
              "\n",
              "  <div id=\"df-20cfa287-fc2d-4128-825f-cd17b4ee6424\">\n",
              "    <div class=\"colab-df-container\">\n",
              "      <div>\n",
              "<style scoped>\n",
              "    .dataframe tbody tr th:only-of-type {\n",
              "        vertical-align: middle;\n",
              "    }\n",
              "\n",
              "    .dataframe tbody tr th {\n",
              "        vertical-align: top;\n",
              "    }\n",
              "\n",
              "    .dataframe thead th {\n",
              "        text-align: right;\n",
              "    }\n",
              "</style>\n",
              "<table border=\"1\" class=\"dataframe\">\n",
              "  <thead>\n",
              "    <tr style=\"text-align: right;\">\n",
              "      <th></th>\n",
              "      <th>Study_Folder</th>\n",
              "      <th>Subject_Folder</th>\n",
              "      <th>Stimuli</th>\n",
              "      <th>Frame Number</th>\n",
              "      <th>Face_Y</th>\n",
              "      <th>Face_X</th>\n",
              "      <th>Face_W</th>\n",
              "      <th>Face_H</th>\n",
              "      <th>Right_Eye_X</th>\n",
              "      <th>Right_Eye_Y</th>\n",
              "      <th>Left_Eye_X</th>\n",
              "      <th>Left_Eye_Y</th>\n",
              "      <th>Face_Angle</th>\n",
              "      <th>X_Predictions</th>\n",
              "      <th>Y_Predictions</th>\n",
              "    </tr>\n",
              "  </thead>\n",
              "  <tbody>\n",
              "    <tr>\n",
              "      <th>0</th>\n",
              "      <td>0eb02000-fe04-480d-9da4-b60e758d46e7</td>\n",
              "      <td>videos</td>\n",
              "      <td>0</td>\n",
              "      <td>0</td>\n",
              "      <td>235.0</td>\n",
              "      <td>195.0</td>\n",
              "      <td>204.0</td>\n",
              "      <td>204.0</td>\n",
              "      <td>269.0</td>\n",
              "      <td>377.0</td>\n",
              "      <td>269.0</td>\n",
              "      <td>296.0</td>\n",
              "      <td>0.469347</td>\n",
              "      <td>0.124451</td>\n",
              "      <td>0.166405</td>\n",
              "    </tr>\n",
              "    <tr>\n",
              "      <th>1</th>\n",
              "      <td>0eb02000-fe04-480d-9da4-b60e758d46e7</td>\n",
              "      <td>videos</td>\n",
              "      <td>0</td>\n",
              "      <td>1</td>\n",
              "      <td>235.0</td>\n",
              "      <td>196.0</td>\n",
              "      <td>201.0</td>\n",
              "      <td>201.0</td>\n",
              "      <td>268.0</td>\n",
              "      <td>377.0</td>\n",
              "      <td>268.0</td>\n",
              "      <td>296.0</td>\n",
              "      <td>0.469335</td>\n",
              "      <td>0.124451</td>\n",
              "      <td>0.166405</td>\n",
              "    </tr>\n",
              "    <tr>\n",
              "      <th>2</th>\n",
              "      <td>0eb02000-fe04-480d-9da4-b60e758d46e7</td>\n",
              "      <td>videos</td>\n",
              "      <td>0</td>\n",
              "      <td>2</td>\n",
              "      <td>236.0</td>\n",
              "      <td>196.0</td>\n",
              "      <td>201.0</td>\n",
              "      <td>201.0</td>\n",
              "      <td>268.0</td>\n",
              "      <td>377.0</td>\n",
              "      <td>268.0</td>\n",
              "      <td>296.0</td>\n",
              "      <td>0.465500</td>\n",
              "      <td>0.124451</td>\n",
              "      <td>0.166405</td>\n",
              "    </tr>\n",
              "    <tr>\n",
              "      <th>3</th>\n",
              "      <td>0eb02000-fe04-480d-9da4-b60e758d46e7</td>\n",
              "      <td>videos</td>\n",
              "      <td>0</td>\n",
              "      <td>3</td>\n",
              "      <td>236.0</td>\n",
              "      <td>196.0</td>\n",
              "      <td>201.0</td>\n",
              "      <td>201.0</td>\n",
              "      <td>268.0</td>\n",
              "      <td>377.0</td>\n",
              "      <td>268.0</td>\n",
              "      <td>296.0</td>\n",
              "      <td>0.477129</td>\n",
              "      <td>0.124451</td>\n",
              "      <td>0.166405</td>\n",
              "    </tr>\n",
              "    <tr>\n",
              "      <th>4</th>\n",
              "      <td>0eb02000-fe04-480d-9da4-b60e758d46e7</td>\n",
              "      <td>videos</td>\n",
              "      <td>0</td>\n",
              "      <td>4</td>\n",
              "      <td>235.0</td>\n",
              "      <td>195.0</td>\n",
              "      <td>203.0</td>\n",
              "      <td>203.0</td>\n",
              "      <td>269.0</td>\n",
              "      <td>377.0</td>\n",
              "      <td>268.0</td>\n",
              "      <td>296.0</td>\n",
              "      <td>0.469347</td>\n",
              "      <td>0.124451</td>\n",
              "      <td>0.166405</td>\n",
              "    </tr>\n",
              "    <tr>\n",
              "      <th>...</th>\n",
              "      <td>...</td>\n",
              "      <td>...</td>\n",
              "      <td>...</td>\n",
              "      <td>...</td>\n",
              "      <td>...</td>\n",
              "      <td>...</td>\n",
              "      <td>...</td>\n",
              "      <td>...</td>\n",
              "      <td>...</td>\n",
              "      <td>...</td>\n",
              "      <td>...</td>\n",
              "      <td>...</td>\n",
              "      <td>...</td>\n",
              "      <td>...</td>\n",
              "      <td>...</td>\n",
              "    </tr>\n",
              "    <tr>\n",
              "      <th>107845</th>\n",
              "      <td>7f1cb219-f275-4148-9658-67b1c26a6649</td>\n",
              "      <td>videos</td>\n",
              "      <td>9806</td>\n",
              "      <td>200</td>\n",
              "      <td>200.0</td>\n",
              "      <td>162.0</td>\n",
              "      <td>233.0</td>\n",
              "      <td>233.0</td>\n",
              "      <td>243.0</td>\n",
              "      <td>353.0</td>\n",
              "      <td>256.0</td>\n",
              "      <td>270.0</td>\n",
              "      <td>0.362527</td>\n",
              "      <td>0.124735</td>\n",
              "      <td>0.721234</td>\n",
              "    </tr>\n",
              "    <tr>\n",
              "      <th>107846</th>\n",
              "      <td>7f1cb219-f275-4148-9658-67b1c26a6649</td>\n",
              "      <td>videos</td>\n",
              "      <td>9806</td>\n",
              "      <td>201</td>\n",
              "      <td>201.0</td>\n",
              "      <td>160.0</td>\n",
              "      <td>233.0</td>\n",
              "      <td>233.0</td>\n",
              "      <td>243.0</td>\n",
              "      <td>353.0</td>\n",
              "      <td>255.0</td>\n",
              "      <td>270.0</td>\n",
              "      <td>0.386992</td>\n",
              "      <td>0.223992</td>\n",
              "      <td>0.539739</td>\n",
              "    </tr>\n",
              "    <tr>\n",
              "      <th>107847</th>\n",
              "      <td>7f1cb219-f275-4148-9658-67b1c26a6649</td>\n",
              "      <td>videos</td>\n",
              "      <td>9806</td>\n",
              "      <td>202</td>\n",
              "      <td>200.0</td>\n",
              "      <td>162.0</td>\n",
              "      <td>232.0</td>\n",
              "      <td>232.0</td>\n",
              "      <td>244.0</td>\n",
              "      <td>352.0</td>\n",
              "      <td>256.0</td>\n",
              "      <td>270.0</td>\n",
              "      <td>0.386993</td>\n",
              "      <td>0.124735</td>\n",
              "      <td>0.733096</td>\n",
              "    </tr>\n",
              "    <tr>\n",
              "      <th>107848</th>\n",
              "      <td>7f1cb219-f275-4148-9658-67b1c26a6649</td>\n",
              "      <td>videos</td>\n",
              "      <td>9806</td>\n",
              "      <td>203</td>\n",
              "      <td>200.0</td>\n",
              "      <td>159.0</td>\n",
              "      <td>236.0</td>\n",
              "      <td>236.0</td>\n",
              "      <td>243.0</td>\n",
              "      <td>353.0</td>\n",
              "      <td>255.0</td>\n",
              "      <td>270.0</td>\n",
              "      <td>0.349297</td>\n",
              "      <td>0.124204</td>\n",
              "      <td>0.717675</td>\n",
              "    </tr>\n",
              "    <tr>\n",
              "      <th>107849</th>\n",
              "      <td>7f1cb219-f275-4148-9658-67b1c26a6649</td>\n",
              "      <td>videos</td>\n",
              "      <td>9806</td>\n",
              "      <td>204</td>\n",
              "      <td>202.0</td>\n",
              "      <td>163.0</td>\n",
              "      <td>230.0</td>\n",
              "      <td>230.0</td>\n",
              "      <td>244.0</td>\n",
              "      <td>352.0</td>\n",
              "      <td>256.0</td>\n",
              "      <td>270.0</td>\n",
              "      <td>0.376803</td>\n",
              "      <td>0.124204</td>\n",
              "      <td>0.727165</td>\n",
              "    </tr>\n",
              "  </tbody>\n",
              "</table>\n",
              "<p>107850 rows × 15 columns</p>\n",
              "</div>\n",
              "      <button class=\"colab-df-convert\" onclick=\"convertToInteractive('df-20cfa287-fc2d-4128-825f-cd17b4ee6424')\"\n",
              "              title=\"Convert this dataframe to an interactive table.\"\n",
              "              style=\"display:none;\">\n",
              "        \n",
              "  <svg xmlns=\"http://www.w3.org/2000/svg\" height=\"24px\"viewBox=\"0 0 24 24\"\n",
              "       width=\"24px\">\n",
              "    <path d=\"M0 0h24v24H0V0z\" fill=\"none\"/>\n",
              "    <path d=\"M18.56 5.44l.94 2.06.94-2.06 2.06-.94-2.06-.94-.94-2.06-.94 2.06-2.06.94zm-11 1L8.5 8.5l.94-2.06 2.06-.94-2.06-.94L8.5 2.5l-.94 2.06-2.06.94zm10 10l.94 2.06.94-2.06 2.06-.94-2.06-.94-.94-2.06-.94 2.06-2.06.94z\"/><path d=\"M17.41 7.96l-1.37-1.37c-.4-.4-.92-.59-1.43-.59-.52 0-1.04.2-1.43.59L10.3 9.45l-7.72 7.72c-.78.78-.78 2.05 0 2.83L4 21.41c.39.39.9.59 1.41.59.51 0 1.02-.2 1.41-.59l7.78-7.78 2.81-2.81c.8-.78.8-2.07 0-2.86zM5.41 20L4 18.59l7.72-7.72 1.47 1.35L5.41 20z\"/>\n",
              "  </svg>\n",
              "      </button>\n",
              "      \n",
              "  <style>\n",
              "    .colab-df-container {\n",
              "      display:flex;\n",
              "      flex-wrap:wrap;\n",
              "      gap: 12px;\n",
              "    }\n",
              "\n",
              "    .colab-df-convert {\n",
              "      background-color: #E8F0FE;\n",
              "      border: none;\n",
              "      border-radius: 50%;\n",
              "      cursor: pointer;\n",
              "      display: none;\n",
              "      fill: #1967D2;\n",
              "      height: 32px;\n",
              "      padding: 0 0 0 0;\n",
              "      width: 32px;\n",
              "    }\n",
              "\n",
              "    .colab-df-convert:hover {\n",
              "      background-color: #E2EBFA;\n",
              "      box-shadow: 0px 1px 2px rgba(60, 64, 67, 0.3), 0px 1px 3px 1px rgba(60, 64, 67, 0.15);\n",
              "      fill: #174EA6;\n",
              "    }\n",
              "\n",
              "    [theme=dark] .colab-df-convert {\n",
              "      background-color: #3B4455;\n",
              "      fill: #D2E3FC;\n",
              "    }\n",
              "\n",
              "    [theme=dark] .colab-df-convert:hover {\n",
              "      background-color: #434B5C;\n",
              "      box-shadow: 0px 1px 3px 1px rgba(0, 0, 0, 0.15);\n",
              "      filter: drop-shadow(0px 1px 2px rgba(0, 0, 0, 0.3));\n",
              "      fill: #FFFFFF;\n",
              "    }\n",
              "  </style>\n",
              "\n",
              "      <script>\n",
              "        const buttonEl =\n",
              "          document.querySelector('#df-20cfa287-fc2d-4128-825f-cd17b4ee6424 button.colab-df-convert');\n",
              "        buttonEl.style.display =\n",
              "          google.colab.kernel.accessAllowed ? 'block' : 'none';\n",
              "\n",
              "        async function convertToInteractive(key) {\n",
              "          const element = document.querySelector('#df-20cfa287-fc2d-4128-825f-cd17b4ee6424');\n",
              "          const dataTable =\n",
              "            await google.colab.kernel.invokeFunction('convertToInteractive',\n",
              "                                                     [key], {});\n",
              "          if (!dataTable) return;\n",
              "\n",
              "          const docLinkHtml = 'Like what you see? Visit the ' +\n",
              "            '<a target=\"_blank\" href=https://colab.research.google.com/notebooks/data_table.ipynb>data table notebook</a>'\n",
              "            + ' to learn more about interactive tables.';\n",
              "          element.innerHTML = '';\n",
              "          dataTable['output_type'] = 'display_data';\n",
              "          await google.colab.output.renderOutput(dataTable, element);\n",
              "          const docLink = document.createElement('div');\n",
              "          docLink.innerHTML = docLinkHtml;\n",
              "          element.appendChild(docLink);\n",
              "        }\n",
              "      </script>\n",
              "    </div>\n",
              "  </div>\n",
              "  "
            ]
          },
          "metadata": {},
          "execution_count": 5
        }
      ]
    },
    {
      "cell_type": "markdown",
      "metadata": {
        "id": "7fGYrCQK5LM5"
      },
      "source": [
        "### Read dataset:"
      ]
    },
    {
      "cell_type": "code",
      "execution_count": 6,
      "metadata": {
        "id": "-S8vIOC17S5F"
      },
      "outputs": [],
      "source": [
        "# df = pd.read_csv('data1_filled.csv')\n",
        "# df"
      ]
    },
    {
      "cell_type": "markdown",
      "metadata": {
        "id": "e88F6Qb-5LM7"
      },
      "source": [
        "### Group by Study_Folder:"
      ]
    },
    {
      "cell_type": "code",
      "execution_count": 7,
      "metadata": {
        "id": "Mk8s0Jse7TyO",
        "colab": {
          "base_uri": "https://localhost:8080/"
        },
        "outputId": "0656f1ef-67ea-4d2e-e548-b0796686162d"
      },
      "outputs": [
        {
          "output_type": "stream",
          "name": "stderr",
          "text": [
            "<ipython-input-7-c61f4bbed505>:3: FutureWarning: In a future version of pandas, a length 1 tuple will be returned when iterating over a groupby with a grouper equal to a list of length 1. Don't supply a list with a single grouper to avoid this warning.\n",
            "  for s, df_s in df.groupby(['Study_Folder']):\n"
          ]
        }
      ],
      "source": [
        "ispitanci_X = []\n",
        "ispitanici_y = []\n",
        "for s, df_s in df.groupby(['Study_Folder']):\n",
        "    train_mask = df_s['Stimuli'] < 10\n",
        "    valid_mask = (df_s['Stimuli'] >= 10) & (df_s['Stimuli'] <= 11)\n",
        "    test_mask = df_s['Stimuli'] > 11\n",
        "    features = df_s.columns[4:13]\n",
        "    ys = df_s.columns[13:15]\n",
        "    X_tr, X_v, X_te = df_s[train_mask][features], df_s[valid_mask][features], df_s[test_mask][features]\n",
        "    y_tr, y_v, y_te = df_s[train_mask][ys], df_s[valid_mask][ys], df_s[test_mask][ys]\n",
        "\n",
        "    ispitanci_X.append([X_tr, X_v, X_te])\n",
        "    ispitanici_y.append([y_tr, y_v, y_te])"
      ]
    },
    {
      "cell_type": "markdown",
      "metadata": {
        "id": "6y5iB-t-5LM8"
      },
      "source": [
        "### Metrics:"
      ]
    },
    {
      "cell_type": "code",
      "execution_count": 8,
      "metadata": {
        "id": "IdsHf-Yi5LM9"
      },
      "outputs": [],
      "source": [
        "metric_dict = {\"MAE\":mean_absolute_error, \"MSE\":mean_squared_error, \"R2\": r2_score}"
      ]
    },
    {
      "cell_type": "markdown",
      "metadata": {
        "id": "3kFwdLrc5LM-"
      },
      "source": [
        "### Log table:"
      ]
    },
    {
      "cell_type": "code",
      "execution_count": 9,
      "metadata": {
        "id": "tjMTrn_Y5LM-"
      },
      "outputs": [],
      "source": [
        "log_table_total =[]"
      ]
    },
    {
      "cell_type": "markdown",
      "metadata": {
        "id": "GuqR7HJq5LM_"
      },
      "source": [
        "### Dummy Regressor:"
      ]
    },
    {
      "cell_type": "code",
      "execution_count": 10,
      "metadata": {
        "id": "NgLZZkqA5LM_",
        "outputId": "4d792181-613d-45fe-c97a-6d0a3843e095",
        "colab": {
          "base_uri": "https://localhost:8080/"
        }
      },
      "outputs": [
        {
          "output_type": "stream",
          "name": "stderr",
          "text": [
            "100%|██████████| 38/38 [00:00<00:00, 253.13it/s]\n"
          ]
        }
      ],
      "source": [
        "dummy_regr = DummyRegressor(strategy=\"mean\")\n",
        "counter=0\n",
        "for Xs_i, ys_i in tqdm(zip(ispitanci_X, ispitanici_y), total = len(ispitanici_y)):\n",
        "    counter+=1\n",
        "    # za sekoj ispitank \"adaptiraj go modelot\"\n",
        "    X_tr, X_v, X_te = Xs_i\n",
        "    y_tr, y_v, y_te = ys_i\n",
        "\n",
        "    dummy_regr.fit(X_tr, y_tr)\n",
        "    y_pred_dr=dummy_regr.predict(X_te)\n",
        "    for metric in metric_dict:\n",
        "        current_metric = metric_dict[metric]\n",
        "        log_table_total.append(['DummyRegressor', counter, metric,len(X_te), metric_dict[metric](y_te, y_pred_dr)])"
      ]
    },
    {
      "cell_type": "code",
      "execution_count": 11,
      "metadata": {
        "id": "g-Hu5StR_saf"
      },
      "outputs": [],
      "source": [
        "n_steps = 3\n",
        "input_features = 9\n",
        "n_units = 50"
      ]
    },
    {
      "cell_type": "markdown",
      "metadata": {
        "id": "f1QS_WIY5LNA"
      },
      "source": [
        "### Function for creating sequences:"
      ]
    },
    {
      "cell_type": "code",
      "execution_count": 12,
      "metadata": {
        "id": "eFraMdnlDF8j"
      },
      "outputs": [],
      "source": [
        "def create_sequences(data_X, data_y, n_steps_in=3): # many to many:\n",
        "    m,n = [],[]\n",
        "    for i in range(data_X.shape[0]-n_steps_in):\n",
        "        m.append(data_X.values[i:i+n_steps]); n.append(data_y.values[i+n_steps])\n",
        "    return np.array(m), np.array(n)"
      ]
    },
    {
      "cell_type": "markdown",
      "metadata": {
        "id": "dYcrQ8De5LNE"
      },
      "source": [
        "### SimpleRNN + LSTM + GRU:"
      ]
    },
    {
      "cell_type": "code",
      "source": [
        "model_2 = Sequential()\n",
        "model_2.add(SimpleRNN(200, activation = 'relu', return_sequences = True, input_shape = (n_steps, input_features)))\n",
        "model_2.add(LSTM(n_units, activation = 'relu', return_sequences = True))\n",
        "model_2.add(GRU(n_units, activation = 'tanh'))\n",
        "model_2.add(Dense(2, activation = 'linear'))\n",
        "model_2.compile(optimizer='adam', loss='mae', metrics = ['mse', 'mae'])\n",
        "model_2.summary()"
      ],
      "metadata": {
        "id": "GH8u4Of0K4G0"
      },
      "execution_count": null,
      "outputs": []
    },
    {
      "cell_type": "code",
      "execution_count": 14,
      "metadata": {
        "id": "OPP7fHfe5LNF",
        "colab": {
          "base_uri": "https://localhost:8080/"
        },
        "outputId": "2af723b0-d0f8-48bb-b827-3b42629f98e4"
      },
      "outputs": [
        {
          "output_type": "stream",
          "name": "stderr",
          "text": [
            "\r  0%|          | 0/38 [00:00<?, ?it/s]"
          ]
        },
        {
          "output_type": "stream",
          "name": "stdout",
          "text": [
            "29/29 [==============================] - 0s 2ms/step\n"
          ]
        },
        {
          "output_type": "stream",
          "name": "stderr",
          "text": [
            "\r  3%|▎         | 1/38 [00:06<04:01,  6.54s/it]"
          ]
        },
        {
          "output_type": "stream",
          "name": "stdout",
          "text": [
            "48/48 [==============================] - 0s 2ms/step\n"
          ]
        },
        {
          "output_type": "stream",
          "name": "stderr",
          "text": [
            "\r  5%|▌         | 2/38 [00:09<02:34,  4.29s/it]"
          ]
        },
        {
          "output_type": "stream",
          "name": "stdout",
          "text": [
            "51/51 [==============================] - 0s 4ms/step\n"
          ]
        },
        {
          "output_type": "stream",
          "name": "stderr",
          "text": [
            "\r  8%|▊         | 3/38 [00:14<02:50,  4.87s/it]"
          ]
        },
        {
          "output_type": "stream",
          "name": "stdout",
          "text": [
            "26/26 [==============================] - 0s 3ms/step\n"
          ]
        },
        {
          "output_type": "stream",
          "name": "stderr",
          "text": [
            "\r 11%|█         | 4/38 [00:18<02:23,  4.22s/it]"
          ]
        },
        {
          "output_type": "stream",
          "name": "stdout",
          "text": [
            "35/35 [==============================] - 0s 2ms/step\n"
          ]
        },
        {
          "output_type": "stream",
          "name": "stderr",
          "text": [
            "\r 13%|█▎        | 5/38 [00:23<02:32,  4.62s/it]"
          ]
        },
        {
          "output_type": "stream",
          "name": "stdout",
          "text": [
            "53/53 [==============================] - 0s 2ms/step\n"
          ]
        },
        {
          "output_type": "stream",
          "name": "stderr",
          "text": [
            "\r 16%|█▌        | 6/38 [00:28<02:36,  4.88s/it]"
          ]
        },
        {
          "output_type": "stream",
          "name": "stdout",
          "text": [
            "53/53 [==============================] - 0s 2ms/step\n"
          ]
        },
        {
          "output_type": "stream",
          "name": "stderr",
          "text": [
            "\r 18%|█▊        | 7/38 [00:31<02:09,  4.19s/it]"
          ]
        },
        {
          "output_type": "stream",
          "name": "stdout",
          "text": [
            "25/25 [==============================] - 0s 2ms/step\n"
          ]
        },
        {
          "output_type": "stream",
          "name": "stderr",
          "text": [
            "\r 21%|██        | 8/38 [00:34<01:51,  3.72s/it]"
          ]
        },
        {
          "output_type": "stream",
          "name": "stdout",
          "text": [
            "26/26 [==============================] - 0s 2ms/step\n"
          ]
        },
        {
          "output_type": "stream",
          "name": "stderr",
          "text": [
            "\r 24%|██▎       | 9/38 [00:35<01:27,  3.00s/it]"
          ]
        },
        {
          "output_type": "stream",
          "name": "stdout",
          "text": [
            "51/51 [==============================] - 0s 2ms/step\n"
          ]
        },
        {
          "output_type": "stream",
          "name": "stderr",
          "text": [
            "\r 26%|██▋       | 10/38 [00:38<01:26,  3.08s/it]"
          ]
        },
        {
          "output_type": "stream",
          "name": "stdout",
          "text": [
            "51/51 [==============================] - 0s 2ms/step\n"
          ]
        },
        {
          "output_type": "stream",
          "name": "stderr",
          "text": [
            "\r 29%|██▉       | 11/38 [00:41<01:19,  2.95s/it]"
          ]
        },
        {
          "output_type": "stream",
          "name": "stdout",
          "text": [
            "26/26 [==============================] - 0s 2ms/step\n"
          ]
        },
        {
          "output_type": "stream",
          "name": "stderr",
          "text": [
            "\r 32%|███▏      | 12/38 [00:44<01:14,  2.88s/it]"
          ]
        },
        {
          "output_type": "stream",
          "name": "stdout",
          "text": [
            "39/39 [==============================] - 0s 2ms/step\n"
          ]
        },
        {
          "output_type": "stream",
          "name": "stderr",
          "text": [
            "\r 34%|███▍      | 13/38 [00:47<01:11,  2.86s/it]"
          ]
        },
        {
          "output_type": "stream",
          "name": "stdout",
          "text": [
            "52/52 [==============================] - 0s 2ms/step\n"
          ]
        },
        {
          "output_type": "stream",
          "name": "stderr",
          "text": [
            "\r 37%|███▋      | 14/38 [00:50<01:11,  2.96s/it]"
          ]
        },
        {
          "output_type": "stream",
          "name": "stdout",
          "text": [
            "52/52 [==============================] - 0s 2ms/step\n"
          ]
        },
        {
          "output_type": "stream",
          "name": "stderr",
          "text": [
            "\r 39%|███▉      | 15/38 [00:53<01:06,  2.90s/it]"
          ]
        },
        {
          "output_type": "stream",
          "name": "stdout",
          "text": [
            "21/21 [==============================] - 0s 2ms/step\n"
          ]
        },
        {
          "output_type": "stream",
          "name": "stderr",
          "text": [
            "\r 42%|████▏     | 16/38 [00:54<00:53,  2.43s/it]"
          ]
        },
        {
          "output_type": "stream",
          "name": "stdout",
          "text": [
            "52/52 [==============================] - 0s 2ms/step\n"
          ]
        },
        {
          "output_type": "stream",
          "name": "stderr",
          "text": [
            "\r 45%|████▍     | 17/38 [00:57<00:53,  2.55s/it]"
          ]
        },
        {
          "output_type": "stream",
          "name": "stdout",
          "text": [
            "29/29 [==============================] - 0s 2ms/step\n"
          ]
        },
        {
          "output_type": "stream",
          "name": "stderr",
          "text": [
            "\r 47%|████▋     | 18/38 [00:59<00:49,  2.47s/it]"
          ]
        },
        {
          "output_type": "stream",
          "name": "stdout",
          "text": [
            "53/53 [==============================] - 0s 2ms/step\n"
          ]
        },
        {
          "output_type": "stream",
          "name": "stderr",
          "text": [
            "\r 50%|█████     | 19/38 [01:04<01:03,  3.35s/it]"
          ]
        },
        {
          "output_type": "stream",
          "name": "stdout",
          "text": [
            "52/52 [==============================] - 0s 2ms/step\n"
          ]
        },
        {
          "output_type": "stream",
          "name": "stderr",
          "text": [
            "\r 53%|█████▎    | 20/38 [01:07<00:57,  3.19s/it]"
          ]
        },
        {
          "output_type": "stream",
          "name": "stdout",
          "text": [
            "52/52 [==============================] - 0s 2ms/step\n"
          ]
        },
        {
          "output_type": "stream",
          "name": "stderr",
          "text": [
            "\r 55%|█████▌    | 21/38 [01:10<00:52,  3.07s/it]"
          ]
        },
        {
          "output_type": "stream",
          "name": "stdout",
          "text": [
            "47/47 [==============================] - 0s 2ms/step\n"
          ]
        },
        {
          "output_type": "stream",
          "name": "stderr",
          "text": [
            "\r 58%|█████▊    | 22/38 [01:13<00:48,  3.06s/it]"
          ]
        },
        {
          "output_type": "stream",
          "name": "stdout",
          "text": [
            "51/51 [==============================] - 0s 2ms/step\n"
          ]
        },
        {
          "output_type": "stream",
          "name": "stderr",
          "text": [
            "\r 61%|██████    | 23/38 [01:16<00:44,  2.94s/it]"
          ]
        },
        {
          "output_type": "stream",
          "name": "stdout",
          "text": [
            "53/53 [==============================] - 0s 2ms/step\n"
          ]
        },
        {
          "output_type": "stream",
          "name": "stderr",
          "text": [
            "\r 63%|██████▎   | 24/38 [01:19<00:42,  3.01s/it]"
          ]
        },
        {
          "output_type": "stream",
          "name": "stdout",
          "text": [
            "49/49 [==============================] - 0s 2ms/step\n"
          ]
        },
        {
          "output_type": "stream",
          "name": "stderr",
          "text": [
            "\r 66%|██████▌   | 25/38 [01:22<00:38,  2.93s/it]"
          ]
        },
        {
          "output_type": "stream",
          "name": "stdout",
          "text": [
            "52/52 [==============================] - 0s 2ms/step\n"
          ]
        },
        {
          "output_type": "stream",
          "name": "stderr",
          "text": [
            "\r 68%|██████▊   | 26/38 [01:27<00:44,  3.67s/it]"
          ]
        },
        {
          "output_type": "stream",
          "name": "stdout",
          "text": [
            "52/52 [==============================] - 0s 2ms/step\n"
          ]
        },
        {
          "output_type": "stream",
          "name": "stderr",
          "text": [
            "\r 71%|███████   | 27/38 [01:30<00:37,  3.41s/it]"
          ]
        },
        {
          "output_type": "stream",
          "name": "stdout",
          "text": [
            "46/46 [==============================] - 0s 2ms/step\n"
          ]
        },
        {
          "output_type": "stream",
          "name": "stderr",
          "text": [
            "\r 74%|███████▎  | 28/38 [01:33<00:32,  3.21s/it]"
          ]
        },
        {
          "output_type": "stream",
          "name": "stdout",
          "text": [
            "52/52 [==============================] - 0s 2ms/step\n"
          ]
        },
        {
          "output_type": "stream",
          "name": "stderr",
          "text": [
            "\r 76%|███████▋  | 29/38 [01:36<00:29,  3.23s/it]"
          ]
        },
        {
          "output_type": "stream",
          "name": "stdout",
          "text": [
            "16/16 [==============================] - 0s 2ms/step\n"
          ]
        },
        {
          "output_type": "stream",
          "name": "stderr",
          "text": [
            "\r 79%|███████▉  | 30/38 [01:37<00:21,  2.69s/it]"
          ]
        },
        {
          "output_type": "stream",
          "name": "stdout",
          "text": [
            "27/27 [==============================] - 0s 2ms/step\n"
          ]
        },
        {
          "output_type": "stream",
          "name": "stderr",
          "text": [
            "\r 82%|████████▏ | 31/38 [01:39<00:16,  2.38s/it]"
          ]
        },
        {
          "output_type": "stream",
          "name": "stdout",
          "text": [
            "52/52 [==============================] - 0s 2ms/step\n"
          ]
        },
        {
          "output_type": "stream",
          "name": "stderr",
          "text": [
            "\r 84%|████████▍ | 32/38 [01:42<00:15,  2.50s/it]"
          ]
        },
        {
          "output_type": "stream",
          "name": "stdout",
          "text": [
            "52/52 [==============================] - 0s 2ms/step\n"
          ]
        },
        {
          "output_type": "stream",
          "name": "stderr",
          "text": [
            "\r 87%|████████▋ | 33/38 [01:44<00:12,  2.55s/it]"
          ]
        },
        {
          "output_type": "stream",
          "name": "stdout",
          "text": [
            "52/52 [==============================] - 0s 2ms/step\n"
          ]
        },
        {
          "output_type": "stream",
          "name": "stderr",
          "text": [
            "\r 89%|████████▉ | 34/38 [01:48<00:11,  2.78s/it]"
          ]
        },
        {
          "output_type": "stream",
          "name": "stdout",
          "text": [
            "13/13 [==============================] - 0s 2ms/step\n"
          ]
        },
        {
          "output_type": "stream",
          "name": "stderr",
          "text": [
            "\r 92%|█████████▏| 35/38 [01:49<00:06,  2.26s/it]"
          ]
        },
        {
          "output_type": "stream",
          "name": "stdout",
          "text": [
            "51/51 [==============================] - 0s 2ms/step\n"
          ]
        },
        {
          "output_type": "stream",
          "name": "stderr",
          "text": [
            "\r 95%|█████████▍| 36/38 [01:52<00:04,  2.43s/it]"
          ]
        },
        {
          "output_type": "stream",
          "name": "stdout",
          "text": [
            "51/51 [==============================] - 0s 2ms/step\n"
          ]
        },
        {
          "output_type": "stream",
          "name": "stderr",
          "text": [
            "\r 97%|█████████▋| 37/38 [01:54<00:02,  2.54s/it]"
          ]
        },
        {
          "output_type": "stream",
          "name": "stdout",
          "text": [
            "52/52 [==============================] - 0s 2ms/step\n"
          ]
        },
        {
          "output_type": "stream",
          "name": "stderr",
          "text": [
            "100%|██████████| 38/38 [02:00<00:00,  3.16s/it]\n"
          ]
        }
      ],
      "source": [
        "counter=0\n",
        "for Xs_i, ys_i in tqdm(zip(ispitanci_X, ispitanici_y), total = len(ispitanici_y)):\n",
        "    counter+=1\n",
        "    # za sekoj ispitank \"adaptiraj go model_2ot\"\n",
        "    X_tr, X_v, X_te = Xs_i\n",
        "    y_tr, y_v, y_te = ys_i\n",
        "\n",
        "    X_tr, y_tr = create_sequences(X_tr, y_tr, n_steps)\n",
        "    X_v, y_v = create_sequences(X_v, y_v, n_steps)\n",
        "    X_te, y_te = create_sequences(X_te, y_te, n_steps)\n",
        "\n",
        "    model_2.fit(X_tr, y_tr,shuffle=False,validation_data=(X_v,y_v), epochs=10, batch_size = 32, verbose = 0)\n",
        "    y_pred_te = model_2.predict(X_te)\n",
        "    for metric in metric_dict:\n",
        "        current_metric = metric_dict[metric]\n",
        "        log_table_total.append(['SimpleRNN+LSTM+GRU', counter, metric,len(X_te), metric_dict[metric](y_te, y_pred_te)])"
      ]
    },
    {
      "cell_type": "markdown",
      "metadata": {
        "id": "RA9IzCiD5LNG"
      },
      "source": [
        "### Many to many (3 rows for train, predict on 2):"
      ]
    },
    {
      "cell_type": "code",
      "execution_count": 15,
      "metadata": {
        "id": "MvYa3Sf_5LNG"
      },
      "outputs": [],
      "source": [
        "n_steps = 3\n",
        "input_features = 9\n",
        "n_steps_out=2\n",
        "n_units = 50"
      ]
    },
    {
      "cell_type": "code",
      "execution_count": 16,
      "metadata": {
        "id": "sMmVdZ8q5LNG"
      },
      "outputs": [],
      "source": [
        "def create_sequences_1(data_X, data_y, n_steps_in=3,n_steps_out=2): # many to many:\n",
        "    m,n = [],[]\n",
        "    for i in range(data_X.shape[0]-n_steps_in-n_steps_out+1):\n",
        "        m.append(data_X.values[i:i+n_steps])\n",
        "        new_y=data_y.values[i+n_steps:i+n_steps_in+n_steps_out].flatten()\n",
        "        n.append(new_y)\n",
        "    return np.array(m), np.array(n)"
      ]
    },
    {
      "cell_type": "code",
      "source": [
        "model_3 = Sequential()\n",
        "model_3.add(SimpleRNN(n_units, activation = 'relu', return_sequences = True, input_shape = (n_steps, input_features)))\n",
        "model_3.add(LSTM(100, activation = 'relu', return_sequences = True))\n",
        "model_3.add(GRU(n_units, activation = 'relu'))\n",
        "model_3.add(Dense(n_steps_out*2, activation = 'linear'))\n",
        "model_3.compile(optimizer='adam', loss='mae', metrics = ['mse', 'mae'])\n",
        "model_3.summary()"
      ],
      "metadata": {
        "id": "30PcpxyCLDvk"
      },
      "execution_count": null,
      "outputs": []
    },
    {
      "cell_type": "code",
      "execution_count": 18,
      "metadata": {
        "id": "rmYkN9vD5LNH",
        "colab": {
          "base_uri": "https://localhost:8080/"
        },
        "outputId": "afd2b2bd-4546-48e6-ae9b-5bd2a38a1771"
      },
      "outputs": [
        {
          "output_type": "stream",
          "name": "stderr",
          "text": [
            "\r  0%|          | 0/38 [00:00<?, ?it/s]"
          ]
        },
        {
          "output_type": "stream",
          "name": "stdout",
          "text": [
            "29/29 [==============================] - 0s 2ms/step\n"
          ]
        },
        {
          "output_type": "stream",
          "name": "stderr",
          "text": [
            "\r  3%|▎         | 1/38 [00:05<03:31,  5.71s/it]"
          ]
        },
        {
          "output_type": "stream",
          "name": "stdout",
          "text": [
            "48/48 [==============================] - 0s 2ms/step\n"
          ]
        },
        {
          "output_type": "stream",
          "name": "stderr",
          "text": [
            "\r  5%|▌         | 2/38 [00:08<02:23,  4.00s/it]"
          ]
        },
        {
          "output_type": "stream",
          "name": "stdout",
          "text": [
            "51/51 [==============================] - 0s 2ms/step\n"
          ]
        },
        {
          "output_type": "stream",
          "name": "stderr",
          "text": [
            "\r  8%|▊         | 3/38 [00:11<02:04,  3.56s/it]"
          ]
        },
        {
          "output_type": "stream",
          "name": "stdout",
          "text": [
            "26/26 [==============================] - 0s 2ms/step\n"
          ]
        },
        {
          "output_type": "stream",
          "name": "stderr",
          "text": [
            "\r 11%|█         | 4/38 [00:14<01:49,  3.22s/it]"
          ]
        },
        {
          "output_type": "stream",
          "name": "stdout",
          "text": [
            "35/35 [==============================] - 0s 2ms/step\n"
          ]
        },
        {
          "output_type": "stream",
          "name": "stderr",
          "text": [
            "\r 13%|█▎        | 5/38 [00:16<01:30,  2.74s/it]"
          ]
        },
        {
          "output_type": "stream",
          "name": "stdout",
          "text": [
            "53/53 [==============================] - 0s 2ms/step\n"
          ]
        },
        {
          "output_type": "stream",
          "name": "stderr",
          "text": [
            "\r 16%|█▌        | 6/38 [00:18<01:28,  2.76s/it]"
          ]
        },
        {
          "output_type": "stream",
          "name": "stdout",
          "text": [
            "53/53 [==============================] - 0s 2ms/step\n"
          ]
        },
        {
          "output_type": "stream",
          "name": "stderr",
          "text": [
            "\r 18%|█▊        | 7/38 [00:24<01:51,  3.61s/it]"
          ]
        },
        {
          "output_type": "stream",
          "name": "stdout",
          "text": [
            "25/25 [==============================] - 0s 2ms/step\n"
          ]
        },
        {
          "output_type": "stream",
          "name": "stderr",
          "text": [
            "\r 21%|██        | 8/38 [00:27<01:39,  3.33s/it]"
          ]
        },
        {
          "output_type": "stream",
          "name": "stdout",
          "text": [
            "26/26 [==============================] - 0s 2ms/step\n"
          ]
        },
        {
          "output_type": "stream",
          "name": "stderr",
          "text": [
            "\r 24%|██▎       | 9/38 [00:29<01:30,  3.13s/it]"
          ]
        },
        {
          "output_type": "stream",
          "name": "stdout",
          "text": [
            "51/51 [==============================] - 0s 2ms/step\n"
          ]
        },
        {
          "output_type": "stream",
          "name": "stderr",
          "text": [
            "\r 26%|██▋       | 10/38 [00:35<01:46,  3.81s/it]"
          ]
        },
        {
          "output_type": "stream",
          "name": "stdout",
          "text": [
            "51/51 [==============================] - 0s 2ms/step\n"
          ]
        },
        {
          "output_type": "stream",
          "name": "stderr",
          "text": [
            "\r 29%|██▉       | 11/38 [00:37<01:34,  3.50s/it]"
          ]
        },
        {
          "output_type": "stream",
          "name": "stdout",
          "text": [
            "26/26 [==============================] - 0s 2ms/step\n"
          ]
        },
        {
          "output_type": "stream",
          "name": "stderr",
          "text": [
            "\r 32%|███▏      | 12/38 [00:40<01:24,  3.27s/it]"
          ]
        },
        {
          "output_type": "stream",
          "name": "stdout",
          "text": [
            "39/39 [==============================] - 0s 2ms/step\n"
          ]
        },
        {
          "output_type": "stream",
          "name": "stderr",
          "text": [
            "\r 34%|███▍      | 13/38 [00:43<01:18,  3.13s/it]"
          ]
        },
        {
          "output_type": "stream",
          "name": "stdout",
          "text": [
            "52/52 [==============================] - 0s 2ms/step\n"
          ]
        },
        {
          "output_type": "stream",
          "name": "stderr",
          "text": [
            "\r 37%|███▋      | 14/38 [00:48<01:31,  3.82s/it]"
          ]
        },
        {
          "output_type": "stream",
          "name": "stdout",
          "text": [
            "52/52 [==============================] - 0s 2ms/step\n"
          ]
        },
        {
          "output_type": "stream",
          "name": "stderr",
          "text": [
            "\r 39%|███▉      | 15/38 [00:51<01:20,  3.49s/it]"
          ]
        },
        {
          "output_type": "stream",
          "name": "stdout",
          "text": [
            "21/21 [==============================] - 0s 2ms/step\n"
          ]
        },
        {
          "output_type": "stream",
          "name": "stderr",
          "text": [
            "\r 42%|████▏     | 16/38 [00:52<01:03,  2.88s/it]"
          ]
        },
        {
          "output_type": "stream",
          "name": "stdout",
          "text": [
            "52/52 [==============================] - 0s 2ms/step\n"
          ]
        },
        {
          "output_type": "stream",
          "name": "stderr",
          "text": [
            "\r 45%|████▍     | 17/38 [00:58<01:15,  3.62s/it]"
          ]
        },
        {
          "output_type": "stream",
          "name": "stdout",
          "text": [
            "29/29 [==============================] - 0s 2ms/step\n"
          ]
        },
        {
          "output_type": "stream",
          "name": "stderr",
          "text": [
            "\r 47%|████▋     | 18/38 [01:01<01:06,  3.35s/it]"
          ]
        },
        {
          "output_type": "stream",
          "name": "stdout",
          "text": [
            "53/53 [==============================] - 0s 2ms/step\n"
          ]
        },
        {
          "output_type": "stream",
          "name": "stderr",
          "text": [
            "\r 50%|█████     | 19/38 [01:04<01:02,  3.31s/it]"
          ]
        },
        {
          "output_type": "stream",
          "name": "stdout",
          "text": [
            "52/52 [==============================] - 0s 2ms/step\n"
          ]
        },
        {
          "output_type": "stream",
          "name": "stderr",
          "text": [
            "\r 53%|█████▎    | 20/38 [01:07<01:00,  3.34s/it]"
          ]
        },
        {
          "output_type": "stream",
          "name": "stdout",
          "text": [
            "52/52 [==============================] - 0s 2ms/step\n"
          ]
        },
        {
          "output_type": "stream",
          "name": "stderr",
          "text": [
            "\r 55%|█████▌    | 21/38 [01:13<01:07,  3.95s/it]"
          ]
        },
        {
          "output_type": "stream",
          "name": "stdout",
          "text": [
            "47/47 [==============================] - 0s 2ms/step\n"
          ]
        },
        {
          "output_type": "stream",
          "name": "stderr",
          "text": [
            "\r 58%|█████▊    | 22/38 [01:15<00:57,  3.58s/it]"
          ]
        },
        {
          "output_type": "stream",
          "name": "stdout",
          "text": [
            "51/51 [==============================] - 0s 2ms/step\n"
          ]
        },
        {
          "output_type": "stream",
          "name": "stderr",
          "text": [
            "\r 61%|██████    | 23/38 [01:21<01:01,  4.11s/it]"
          ]
        },
        {
          "output_type": "stream",
          "name": "stdout",
          "text": [
            "53/53 [==============================] - 0s 2ms/step\n"
          ]
        },
        {
          "output_type": "stream",
          "name": "stderr",
          "text": [
            "\r 63%|██████▎   | 24/38 [01:24<00:52,  3.74s/it]"
          ]
        },
        {
          "output_type": "stream",
          "name": "stdout",
          "text": [
            "49/49 [==============================] - 0s 2ms/step\n"
          ]
        },
        {
          "output_type": "stream",
          "name": "stderr",
          "text": [
            "\r 66%|██████▌   | 25/38 [01:26<00:44,  3.43s/it]"
          ]
        },
        {
          "output_type": "stream",
          "name": "stdout",
          "text": [
            "52/52 [==============================] - 0s 2ms/step\n"
          ]
        },
        {
          "output_type": "stream",
          "name": "stderr",
          "text": [
            "\r 68%|██████▊   | 26/38 [01:29<00:39,  3.28s/it]"
          ]
        },
        {
          "output_type": "stream",
          "name": "stdout",
          "text": [
            "52/52 [==============================] - 0s 2ms/step\n"
          ]
        },
        {
          "output_type": "stream",
          "name": "stderr",
          "text": [
            "\r 71%|███████   | 27/38 [01:32<00:35,  3.20s/it]"
          ]
        },
        {
          "output_type": "stream",
          "name": "stdout",
          "text": [
            "46/46 [==============================] - 0s 2ms/step\n"
          ]
        },
        {
          "output_type": "stream",
          "name": "stderr",
          "text": [
            "\r 74%|███████▎  | 28/38 [01:38<00:38,  3.85s/it]"
          ]
        },
        {
          "output_type": "stream",
          "name": "stdout",
          "text": [
            "52/52 [==============================] - 0s 2ms/step\n"
          ]
        },
        {
          "output_type": "stream",
          "name": "stderr",
          "text": [
            "\r 76%|███████▋  | 29/38 [01:43<00:38,  4.30s/it]"
          ]
        },
        {
          "output_type": "stream",
          "name": "stdout",
          "text": [
            "16/16 [==============================] - 0s 2ms/step\n"
          ]
        },
        {
          "output_type": "stream",
          "name": "stderr",
          "text": [
            "\r 79%|███████▉  | 30/38 [01:44<00:26,  3.35s/it]"
          ]
        },
        {
          "output_type": "stream",
          "name": "stdout",
          "text": [
            "27/27 [==============================] - 0s 2ms/step\n"
          ]
        },
        {
          "output_type": "stream",
          "name": "stderr",
          "text": [
            "\r 82%|████████▏ | 31/38 [01:46<00:19,  2.83s/it]"
          ]
        },
        {
          "output_type": "stream",
          "name": "stdout",
          "text": [
            "52/52 [==============================] - 0s 2ms/step\n"
          ]
        },
        {
          "output_type": "stream",
          "name": "stderr",
          "text": [
            "\r 84%|████████▍ | 32/38 [01:48<00:16,  2.81s/it]"
          ]
        },
        {
          "output_type": "stream",
          "name": "stdout",
          "text": [
            "52/52 [==============================] - 0s 2ms/step\n"
          ]
        },
        {
          "output_type": "stream",
          "name": "stderr",
          "text": [
            "\r 87%|████████▋ | 33/38 [01:51<00:14,  2.86s/it]"
          ]
        },
        {
          "output_type": "stream",
          "name": "stdout",
          "text": [
            "52/52 [==============================] - 0s 2ms/step\n"
          ]
        },
        {
          "output_type": "stream",
          "name": "stderr",
          "text": [
            "\r 89%|████████▉ | 34/38 [01:55<00:11,  2.95s/it]"
          ]
        },
        {
          "output_type": "stream",
          "name": "stdout",
          "text": [
            "13/13 [==============================] - 0s 2ms/step\n"
          ]
        },
        {
          "output_type": "stream",
          "name": "stderr",
          "text": [
            "\r 92%|█████████▏| 35/38 [01:56<00:07,  2.50s/it]"
          ]
        },
        {
          "output_type": "stream",
          "name": "stdout",
          "text": [
            "51/51 [==============================] - 0s 2ms/step\n"
          ]
        },
        {
          "output_type": "stream",
          "name": "stderr",
          "text": [
            "\r 95%|█████████▍| 36/38 [01:59<00:05,  2.54s/it]"
          ]
        },
        {
          "output_type": "stream",
          "name": "stdout",
          "text": [
            "51/51 [==============================] - 0s 2ms/step\n"
          ]
        },
        {
          "output_type": "stream",
          "name": "stderr",
          "text": [
            "\r 97%|█████████▋| 37/38 [02:01<00:02,  2.62s/it]"
          ]
        },
        {
          "output_type": "stream",
          "name": "stdout",
          "text": [
            "52/52 [==============================] - 0s 2ms/step\n"
          ]
        },
        {
          "output_type": "stream",
          "name": "stderr",
          "text": [
            "100%|██████████| 38/38 [02:07<00:00,  3.35s/it]\n"
          ]
        }
      ],
      "source": [
        "counter=0\n",
        "for Xs_i, ys_i in tqdm(zip(ispitanci_X, ispitanici_y), total = len(ispitanici_y)):\n",
        "    counter+=1\n",
        "    # za sekoj ispitank \"adaptiraj go modelot\"\n",
        "    X_tr, X_v, X_te = Xs_i\n",
        "    y_tr, y_v, y_te = ys_i\n",
        "\n",
        "    X_tr, y_tr = create_sequences_1(X_tr, y_tr, n_steps)\n",
        "    X_v, y_v = create_sequences_1(X_v, y_v, n_steps)\n",
        "    X_te, y_te = create_sequences_1(X_te, y_te, n_steps)\n",
        "\n",
        "\n",
        "    model_3.fit(X_tr, y_tr,shuffle=False,validation_data=(X_v,y_v), epochs=10, batch_size = 32, verbose = 0)\n",
        "    y_pred_te = model_3.predict(X_te)\n",
        "\n",
        "    for metric in metric_dict:\n",
        "        current_metric = metric_dict[metric]\n",
        "        log_table_total.append(['SimpleRNN+LSTM+GRU_many_to_many', counter, metric,len(X_te), metric_dict[metric](y_te, y_pred_te)])"
      ]
    },
    {
      "cell_type": "markdown",
      "metadata": {
        "id": "cIngT_y5jvnA"
      },
      "source": [
        "### Conv1D + SimpleRNN + LSTM + GRU:"
      ]
    },
    {
      "cell_type": "code",
      "source": [
        "model_4 = Sequential()\n",
        "model_4.add(Conv1D(filters=16, kernel_size=3, activation='relu', input_shape=(3, 9)))\n",
        "model_4.add(SimpleRNN(n_units, activation = 'relu', return_sequences = True, input_shape = (n_steps, input_features)))\n",
        "model_4.add(LSTM(100, activation = 'relu', return_sequences = True))\n",
        "model_4.add(GRU(n_units, activation = 'sigmoid'))\n",
        "model_4.add(Dense(2, activation = 'linear'))\n",
        "model_4.compile(optimizer='adam', loss='mae', metrics = ['mse', 'mae'])\n",
        "model_4.summary()"
      ],
      "metadata": {
        "id": "NIe1aA7PLLrK"
      },
      "execution_count": null,
      "outputs": []
    },
    {
      "cell_type": "code",
      "execution_count": 20,
      "metadata": {
        "id": "LRv3FKopjvnA",
        "colab": {
          "base_uri": "https://localhost:8080/"
        },
        "outputId": "71883170-4a4a-4158-b989-044b07dff3a2"
      },
      "outputs": [
        {
          "output_type": "stream",
          "name": "stderr",
          "text": [
            "\r  0%|          | 0/38 [00:00<?, ?it/s]"
          ]
        },
        {
          "output_type": "stream",
          "name": "stdout",
          "text": [
            "29/29 [==============================] - 0s 1ms/step\n"
          ]
        },
        {
          "output_type": "stream",
          "name": "stderr",
          "text": [
            "\r  3%|▎         | 1/38 [00:05<03:32,  5.75s/it]"
          ]
        },
        {
          "output_type": "stream",
          "name": "stdout",
          "text": [
            "48/48 [==============================] - 0s 1ms/step\n"
          ]
        },
        {
          "output_type": "stream",
          "name": "stderr",
          "text": [
            "\r  5%|▌         | 2/38 [00:08<02:24,  4.02s/it]"
          ]
        },
        {
          "output_type": "stream",
          "name": "stdout",
          "text": [
            "51/51 [==============================] - 0s 1ms/step\n"
          ]
        },
        {
          "output_type": "stream",
          "name": "stderr",
          "text": [
            "\r  8%|▊         | 3/38 [00:11<02:01,  3.47s/it]"
          ]
        },
        {
          "output_type": "stream",
          "name": "stdout",
          "text": [
            "26/26 [==============================] - 0s 1ms/step\n"
          ]
        },
        {
          "output_type": "stream",
          "name": "stderr",
          "text": [
            "\r 11%|█         | 4/38 [00:12<01:30,  2.67s/it]"
          ]
        },
        {
          "output_type": "stream",
          "name": "stdout",
          "text": [
            "35/35 [==============================] - 0s 1ms/step\n"
          ]
        },
        {
          "output_type": "stream",
          "name": "stderr",
          "text": [
            "\r 13%|█▎        | 5/38 [00:14<01:14,  2.25s/it]"
          ]
        },
        {
          "output_type": "stream",
          "name": "stdout",
          "text": [
            "53/53 [==============================] - 0s 1ms/step\n"
          ]
        },
        {
          "output_type": "stream",
          "name": "stderr",
          "text": [
            "\r 16%|█▌        | 6/38 [00:17<01:18,  2.44s/it]"
          ]
        },
        {
          "output_type": "stream",
          "name": "stdout",
          "text": [
            "53/53 [==============================] - 0s 2ms/step\n"
          ]
        },
        {
          "output_type": "stream",
          "name": "stderr",
          "text": [
            "\r 18%|█▊        | 7/38 [00:19<01:12,  2.35s/it]"
          ]
        },
        {
          "output_type": "stream",
          "name": "stdout",
          "text": [
            "25/25 [==============================] - 0s 1ms/step\n"
          ]
        },
        {
          "output_type": "stream",
          "name": "stderr",
          "text": [
            "\r 21%|██        | 8/38 [00:20<01:01,  2.05s/it]"
          ]
        },
        {
          "output_type": "stream",
          "name": "stdout",
          "text": [
            "26/26 [==============================] - 0s 2ms/step\n"
          ]
        },
        {
          "output_type": "stream",
          "name": "stderr",
          "text": [
            "\r 24%|██▎       | 9/38 [00:21<00:51,  1.77s/it]"
          ]
        },
        {
          "output_type": "stream",
          "name": "stdout",
          "text": [
            "51/51 [==============================] - 0s 1ms/step\n"
          ]
        },
        {
          "output_type": "stream",
          "name": "stderr",
          "text": [
            "\r 26%|██▋       | 10/38 [00:24<00:58,  2.09s/it]"
          ]
        },
        {
          "output_type": "stream",
          "name": "stdout",
          "text": [
            "51/51 [==============================] - 0s 2ms/step\n"
          ]
        },
        {
          "output_type": "stream",
          "name": "stderr",
          "text": [
            "\r 29%|██▉       | 11/38 [00:26<00:54,  2.01s/it]"
          ]
        },
        {
          "output_type": "stream",
          "name": "stdout",
          "text": [
            "26/26 [==============================] - 0s 2ms/step\n"
          ]
        },
        {
          "output_type": "stream",
          "name": "stderr",
          "text": [
            "\r 32%|███▏      | 12/38 [00:27<00:47,  1.84s/it]"
          ]
        },
        {
          "output_type": "stream",
          "name": "stdout",
          "text": [
            "39/39 [==============================] - 0s 1ms/step\n"
          ]
        },
        {
          "output_type": "stream",
          "name": "stderr",
          "text": [
            "\r 34%|███▍      | 13/38 [00:29<00:43,  1.74s/it]"
          ]
        },
        {
          "output_type": "stream",
          "name": "stdout",
          "text": [
            "52/52 [==============================] - 0s 1ms/step\n"
          ]
        },
        {
          "output_type": "stream",
          "name": "stderr",
          "text": [
            "\r 37%|███▋      | 14/38 [00:32<00:49,  2.05s/it]"
          ]
        },
        {
          "output_type": "stream",
          "name": "stdout",
          "text": [
            "52/52 [==============================] - 0s 1ms/step\n"
          ]
        },
        {
          "output_type": "stream",
          "name": "stderr",
          "text": [
            "\r 39%|███▉      | 15/38 [00:35<00:52,  2.28s/it]"
          ]
        },
        {
          "output_type": "stream",
          "name": "stdout",
          "text": [
            "21/21 [==============================] - 0s 1ms/step\n"
          ]
        },
        {
          "output_type": "stream",
          "name": "stderr",
          "text": [
            "\r 42%|████▏     | 16/38 [00:35<00:41,  1.89s/it]"
          ]
        },
        {
          "output_type": "stream",
          "name": "stdout",
          "text": [
            "52/52 [==============================] - 0s 2ms/step\n"
          ]
        },
        {
          "output_type": "stream",
          "name": "stderr",
          "text": [
            "\r 45%|████▍     | 17/38 [00:37<00:39,  1.90s/it]"
          ]
        },
        {
          "output_type": "stream",
          "name": "stdout",
          "text": [
            "29/29 [==============================] - 0s 1ms/step\n"
          ]
        },
        {
          "output_type": "stream",
          "name": "stderr",
          "text": [
            "\r 47%|████▋     | 18/38 [00:39<00:35,  1.76s/it]"
          ]
        },
        {
          "output_type": "stream",
          "name": "stdout",
          "text": [
            "53/53 [==============================] - 0s 1ms/step\n"
          ]
        },
        {
          "output_type": "stream",
          "name": "stderr",
          "text": [
            "\r 50%|█████     | 19/38 [00:41<00:34,  1.82s/it]"
          ]
        },
        {
          "output_type": "stream",
          "name": "stdout",
          "text": [
            "52/52 [==============================] - 0s 1ms/step\n"
          ]
        },
        {
          "output_type": "stream",
          "name": "stderr",
          "text": [
            "\r 53%|█████▎    | 20/38 [00:44<00:37,  2.10s/it]"
          ]
        },
        {
          "output_type": "stream",
          "name": "stdout",
          "text": [
            "52/52 [==============================] - 0s 1ms/step\n"
          ]
        },
        {
          "output_type": "stream",
          "name": "stderr",
          "text": [
            "\r 55%|█████▌    | 21/38 [00:46<00:35,  2.08s/it]"
          ]
        },
        {
          "output_type": "stream",
          "name": "stdout",
          "text": [
            "47/47 [==============================] - 0s 2ms/step\n"
          ]
        },
        {
          "output_type": "stream",
          "name": "stderr",
          "text": [
            "\r 58%|█████▊    | 22/38 [00:47<00:32,  2.02s/it]"
          ]
        },
        {
          "output_type": "stream",
          "name": "stdout",
          "text": [
            "51/51 [==============================] - 0s 1ms/step\n"
          ]
        },
        {
          "output_type": "stream",
          "name": "stderr",
          "text": [
            "\r 61%|██████    | 23/38 [00:50<00:33,  2.26s/it]"
          ]
        },
        {
          "output_type": "stream",
          "name": "stdout",
          "text": [
            "53/53 [==============================] - 0s 1ms/step\n"
          ]
        },
        {
          "output_type": "stream",
          "name": "stderr",
          "text": [
            "\r 63%|██████▎   | 24/38 [00:52<00:30,  2.18s/it]"
          ]
        },
        {
          "output_type": "stream",
          "name": "stdout",
          "text": [
            "49/49 [==============================] - 0s 1ms/step\n"
          ]
        },
        {
          "output_type": "stream",
          "name": "stderr",
          "text": [
            "\r 66%|██████▌   | 25/38 [00:55<00:30,  2.37s/it]"
          ]
        },
        {
          "output_type": "stream",
          "name": "stdout",
          "text": [
            "52/52 [==============================] - 0s 2ms/step\n"
          ]
        },
        {
          "output_type": "stream",
          "name": "stderr",
          "text": [
            "\r 68%|██████▊   | 26/38 [00:58<00:29,  2.50s/it]"
          ]
        },
        {
          "output_type": "stream",
          "name": "stdout",
          "text": [
            "52/52 [==============================] - 0s 1ms/step\n"
          ]
        },
        {
          "output_type": "stream",
          "name": "stderr",
          "text": [
            "\r 71%|███████   | 27/38 [01:00<00:25,  2.31s/it]"
          ]
        },
        {
          "output_type": "stream",
          "name": "stdout",
          "text": [
            "46/46 [==============================] - 0s 1ms/step\n"
          ]
        },
        {
          "output_type": "stream",
          "name": "stderr",
          "text": [
            "\r 74%|███████▎  | 28/38 [01:02<00:21,  2.20s/it]"
          ]
        },
        {
          "output_type": "stream",
          "name": "stdout",
          "text": [
            "52/52 [==============================] - 0s 1ms/step\n"
          ]
        },
        {
          "output_type": "stream",
          "name": "stderr",
          "text": [
            "\r 76%|███████▋  | 29/38 [01:04<00:18,  2.11s/it]"
          ]
        },
        {
          "output_type": "stream",
          "name": "stdout",
          "text": [
            "16/16 [==============================] - 0s 1ms/step\n"
          ]
        },
        {
          "output_type": "stream",
          "name": "stderr",
          "text": [
            "\r 79%|███████▉  | 30/38 [01:04<00:13,  1.74s/it]"
          ]
        },
        {
          "output_type": "stream",
          "name": "stdout",
          "text": [
            "27/27 [==============================] - 0s 1ms/step\n"
          ]
        },
        {
          "output_type": "stream",
          "name": "stderr",
          "text": [
            "\r 82%|████████▏ | 31/38 [01:06<00:12,  1.72s/it]"
          ]
        },
        {
          "output_type": "stream",
          "name": "stdout",
          "text": [
            "52/52 [==============================] - 0s 1ms/step\n"
          ]
        },
        {
          "output_type": "stream",
          "name": "stderr",
          "text": [
            "\r 84%|████████▍ | 32/38 [01:08<00:10,  1.78s/it]"
          ]
        },
        {
          "output_type": "stream",
          "name": "stdout",
          "text": [
            "52/52 [==============================] - 0s 1ms/step\n"
          ]
        },
        {
          "output_type": "stream",
          "name": "stderr",
          "text": [
            "\r 87%|████████▋ | 33/38 [01:11<00:10,  2.07s/it]"
          ]
        },
        {
          "output_type": "stream",
          "name": "stdout",
          "text": [
            "52/52 [==============================] - 0s 1ms/step\n"
          ]
        },
        {
          "output_type": "stream",
          "name": "stderr",
          "text": [
            "\r 89%|████████▉ | 34/38 [01:13<00:08,  2.04s/it]"
          ]
        },
        {
          "output_type": "stream",
          "name": "stdout",
          "text": [
            "13/13 [==============================] - 0s 2ms/step\n"
          ]
        },
        {
          "output_type": "stream",
          "name": "stderr",
          "text": [
            "\r 92%|█████████▏| 35/38 [01:14<00:05,  1.72s/it]"
          ]
        },
        {
          "output_type": "stream",
          "name": "stdout",
          "text": [
            "51/51 [==============================] - 0s 1ms/step\n"
          ]
        },
        {
          "output_type": "stream",
          "name": "stderr",
          "text": [
            "\r 95%|█████████▍| 36/38 [01:16<00:03,  1.75s/it]"
          ]
        },
        {
          "output_type": "stream",
          "name": "stdout",
          "text": [
            "51/51 [==============================] - 0s 1ms/step\n"
          ]
        },
        {
          "output_type": "stream",
          "name": "stderr",
          "text": [
            "\r 97%|█████████▋| 37/38 [01:18<00:02,  2.05s/it]"
          ]
        },
        {
          "output_type": "stream",
          "name": "stdout",
          "text": [
            "52/52 [==============================] - 0s 1ms/step\n"
          ]
        },
        {
          "output_type": "stream",
          "name": "stderr",
          "text": [
            "100%|██████████| 38/38 [01:21<00:00,  2.15s/it]\n"
          ]
        }
      ],
      "source": [
        "counter=0\n",
        "for Xs_i, ys_i in tqdm(zip(ispitanci_X, ispitanici_y), total = len(ispitanici_y)):\n",
        "    counter+=1\n",
        "    # za sekoj ispitank \"adaptiraj go model_2ot\"\n",
        "    X_tr, X_v, X_te = Xs_i\n",
        "    y_tr, y_v, y_te = ys_i\n",
        "\n",
        "    X_tr, y_tr = create_sequences(X_tr, y_tr, n_steps)\n",
        "    X_v, y_v = create_sequences(X_v, y_v, n_steps)\n",
        "    X_te, y_te = create_sequences(X_te, y_te, n_steps)\n",
        "\n",
        "    model_4.fit(X_tr, y_tr,shuffle=False,validation_data=(X_v,y_v), epochs=10, batch_size = 32, verbose = 0)\n",
        "    y_pred_te = model_4.predict(X_te)\n",
        "    for metric in metric_dict:\n",
        "        current_metric = metric_dict[metric]\n",
        "        log_table_total.append(['Conv1D&SimpleRNN&LSTM&GRU', counter, metric,len(X_te), metric_dict[metric](y_te, y_pred_te)])"
      ]
    },
    {
      "cell_type": "markdown",
      "source": [
        "### Conv1D + LSTM + GRU"
      ],
      "metadata": {
        "id": "k_0WbWWq9tuu"
      }
    },
    {
      "cell_type": "code",
      "source": [
        "model_6 = Sequential()\n",
        "model_6.add(Conv1D(filters=16, kernel_size=3, activation='relu', input_shape=(3, 9)))\n",
        "model_6.add(LSTM(100, activation = 'relu',input_shape = (n_steps, input_features), return_sequences = True))\n",
        "model_6.add(GRU(n_units, activation = 'relu'))\n",
        "model_6.add(Dense(2, activation = 'linear'))\n",
        "model_6.compile(optimizer='adam', loss='mae', metrics = ['mse', 'mae'])\n",
        "model_6.summary()"
      ],
      "metadata": {
        "id": "a0LVrH6gLTS9"
      },
      "execution_count": null,
      "outputs": []
    },
    {
      "cell_type": "code",
      "source": [
        "counter=0\n",
        "for Xs_i, ys_i in tqdm(zip(ispitanci_X, ispitanici_y), total = len(ispitanici_y)):\n",
        "    counter+=1\n",
        "    # za sekoj ispitank \"adaptiraj go model_2ot\"\n",
        "    X_tr, X_v, X_te = Xs_i\n",
        "    y_tr, y_v, y_te = ys_i\n",
        "\n",
        "    X_tr, y_tr = create_sequences(X_tr, y_tr, n_steps)\n",
        "    X_v, y_v = create_sequences(X_v, y_v, n_steps)\n",
        "    X_te, y_te = create_sequences(X_te, y_te, n_steps)\n",
        "\n",
        "    model_6.fit(X_tr, y_tr,shuffle=False,validation_data=(X_v,y_v), epochs=10, batch_size = 32, verbose = 0)\n",
        "    y_pred_te = model_6.predict(X_te)\n",
        "    for metric in metric_dict:\n",
        "        current_metric = metric_dict[metric]\n",
        "        log_table_total.append(['Conv1d+LSTM+GRU', counter, metric,len(X_te), metric_dict[metric](y_te, y_pred_te)])"
      ],
      "metadata": {
        "colab": {
          "base_uri": "https://localhost:8080/"
        },
        "id": "T6ZKnkdg9m9n",
        "outputId": "a56e38a0-0b9c-4e13-ab44-5196f7d32466"
      },
      "execution_count": 22,
      "outputs": [
        {
          "output_type": "stream",
          "name": "stderr",
          "text": [
            "\r  0%|          | 0/38 [00:00<?, ?it/s]"
          ]
        },
        {
          "output_type": "stream",
          "name": "stdout",
          "text": [
            "29/29 [==============================] - 0s 1ms/step\n"
          ]
        },
        {
          "output_type": "stream",
          "name": "stderr",
          "text": [
            "\r  3%|▎         | 1/38 [00:03<02:24,  3.90s/it]"
          ]
        },
        {
          "output_type": "stream",
          "name": "stdout",
          "text": [
            "48/48 [==============================] - 0s 1ms/step\n"
          ]
        },
        {
          "output_type": "stream",
          "name": "stderr",
          "text": [
            "\r  5%|▌         | 2/38 [00:05<01:37,  2.71s/it]"
          ]
        },
        {
          "output_type": "stream",
          "name": "stdout",
          "text": [
            "51/51 [==============================] - 0s 2ms/step\n"
          ]
        },
        {
          "output_type": "stream",
          "name": "stderr",
          "text": [
            "\r  8%|▊         | 3/38 [00:08<01:33,  2.66s/it]"
          ]
        },
        {
          "output_type": "stream",
          "name": "stdout",
          "text": [
            "26/26 [==============================] - 0s 1ms/step\n"
          ]
        },
        {
          "output_type": "stream",
          "name": "stderr",
          "text": [
            "\r 11%|█         | 4/38 [00:09<01:11,  2.09s/it]"
          ]
        },
        {
          "output_type": "stream",
          "name": "stdout",
          "text": [
            "35/35 [==============================] - 0s 1ms/step\n"
          ]
        },
        {
          "output_type": "stream",
          "name": "stderr",
          "text": [
            "\r 13%|█▎        | 5/38 [00:10<01:00,  1.84s/it]"
          ]
        },
        {
          "output_type": "stream",
          "name": "stdout",
          "text": [
            "53/53 [==============================] - 0s 1ms/step\n"
          ]
        },
        {
          "output_type": "stream",
          "name": "stderr",
          "text": [
            "\r 16%|█▌        | 6/38 [00:13<01:09,  2.17s/it]"
          ]
        },
        {
          "output_type": "stream",
          "name": "stdout",
          "text": [
            "53/53 [==============================] - 0s 1ms/step\n"
          ]
        },
        {
          "output_type": "stream",
          "name": "stderr",
          "text": [
            "\r 18%|█▊        | 7/38 [00:15<01:04,  2.08s/it]"
          ]
        },
        {
          "output_type": "stream",
          "name": "stdout",
          "text": [
            "25/25 [==============================] - 0s 2ms/step\n"
          ]
        },
        {
          "output_type": "stream",
          "name": "stderr",
          "text": [
            "\r 21%|██        | 8/38 [00:16<00:52,  1.76s/it]"
          ]
        },
        {
          "output_type": "stream",
          "name": "stdout",
          "text": [
            "26/26 [==============================] - 0s 2ms/step\n"
          ]
        },
        {
          "output_type": "stream",
          "name": "stderr",
          "text": [
            "\r 24%|██▎       | 9/38 [00:18<00:48,  1.69s/it]"
          ]
        },
        {
          "output_type": "stream",
          "name": "stdout",
          "text": [
            "51/51 [==============================] - 0s 2ms/step\n"
          ]
        },
        {
          "output_type": "stream",
          "name": "stderr",
          "text": [
            "\r 26%|██▋       | 10/38 [00:20<00:51,  1.84s/it]"
          ]
        },
        {
          "output_type": "stream",
          "name": "stdout",
          "text": [
            "51/51 [==============================] - 0s 1ms/step\n"
          ]
        },
        {
          "output_type": "stream",
          "name": "stderr",
          "text": [
            "\r 29%|██▉       | 11/38 [00:22<00:49,  1.82s/it]"
          ]
        },
        {
          "output_type": "stream",
          "name": "stdout",
          "text": [
            "26/26 [==============================] - 0s 1ms/step\n"
          ]
        },
        {
          "output_type": "stream",
          "name": "stderr",
          "text": [
            "\r 32%|███▏      | 12/38 [00:24<00:47,  1.83s/it]"
          ]
        },
        {
          "output_type": "stream",
          "name": "stdout",
          "text": [
            "39/39 [==============================] - 0s 1ms/step\n"
          ]
        },
        {
          "output_type": "stream",
          "name": "stderr",
          "text": [
            "\r 34%|███▍      | 13/38 [00:25<00:43,  1.74s/it]"
          ]
        },
        {
          "output_type": "stream",
          "name": "stdout",
          "text": [
            "52/52 [==============================] - 0s 2ms/step\n"
          ]
        },
        {
          "output_type": "stream",
          "name": "stderr",
          "text": [
            "\r 37%|███▋      | 14/38 [00:27<00:42,  1.79s/it]"
          ]
        },
        {
          "output_type": "stream",
          "name": "stdout",
          "text": [
            "52/52 [==============================] - 0s 2ms/step\n"
          ]
        },
        {
          "output_type": "stream",
          "name": "stderr",
          "text": [
            "\r 39%|███▉      | 15/38 [00:30<00:48,  2.10s/it]"
          ]
        },
        {
          "output_type": "stream",
          "name": "stdout",
          "text": [
            "21/21 [==============================] - 0s 1ms/step\n"
          ]
        },
        {
          "output_type": "stream",
          "name": "stderr",
          "text": [
            "\r 42%|████▏     | 16/38 [00:31<00:40,  1.85s/it]"
          ]
        },
        {
          "output_type": "stream",
          "name": "stdout",
          "text": [
            "52/52 [==============================] - 0s 1ms/step\n"
          ]
        },
        {
          "output_type": "stream",
          "name": "stderr",
          "text": [
            "\r 45%|████▍     | 17/38 [00:33<00:39,  1.87s/it]"
          ]
        },
        {
          "output_type": "stream",
          "name": "stdout",
          "text": [
            "29/29 [==============================] - 0s 2ms/step\n"
          ]
        },
        {
          "output_type": "stream",
          "name": "stderr",
          "text": [
            "\r 47%|████▋     | 18/38 [00:34<00:34,  1.74s/it]"
          ]
        },
        {
          "output_type": "stream",
          "name": "stdout",
          "text": [
            "53/53 [==============================] - 0s 1ms/step\n"
          ]
        },
        {
          "output_type": "stream",
          "name": "stderr",
          "text": [
            "\r 50%|█████     | 19/38 [00:37<00:39,  2.06s/it]"
          ]
        },
        {
          "output_type": "stream",
          "name": "stdout",
          "text": [
            "52/52 [==============================] - 0s 1ms/step\n"
          ]
        },
        {
          "output_type": "stream",
          "name": "stderr",
          "text": [
            "\r 53%|█████▎    | 20/38 [00:40<00:40,  2.27s/it]"
          ]
        },
        {
          "output_type": "stream",
          "name": "stdout",
          "text": [
            "52/52 [==============================] - 0s 3ms/step\n"
          ]
        },
        {
          "output_type": "stream",
          "name": "stderr",
          "text": [
            "\r 55%|█████▌    | 21/38 [00:43<00:41,  2.46s/it]"
          ]
        },
        {
          "output_type": "stream",
          "name": "stdout",
          "text": [
            "47/47 [==============================] - 0s 1ms/step\n"
          ]
        },
        {
          "output_type": "stream",
          "name": "stderr",
          "text": [
            "\r 58%|█████▊    | 22/38 [00:45<00:37,  2.32s/it]"
          ]
        },
        {
          "output_type": "stream",
          "name": "stdout",
          "text": [
            "51/51 [==============================] - 0s 1ms/step\n"
          ]
        },
        {
          "output_type": "stream",
          "name": "stderr",
          "text": [
            "\r 61%|██████    | 23/38 [00:47<00:33,  2.20s/it]"
          ]
        },
        {
          "output_type": "stream",
          "name": "stdout",
          "text": [
            "53/53 [==============================] - 0s 1ms/step\n"
          ]
        },
        {
          "output_type": "stream",
          "name": "stderr",
          "text": [
            "\r 63%|██████▎   | 24/38 [00:49<00:29,  2.11s/it]"
          ]
        },
        {
          "output_type": "stream",
          "name": "stdout",
          "text": [
            "49/49 [==============================] - 0s 1ms/step\n"
          ]
        },
        {
          "output_type": "stream",
          "name": "stderr",
          "text": [
            "\r 66%|██████▌   | 25/38 [00:52<00:30,  2.32s/it]"
          ]
        },
        {
          "output_type": "stream",
          "name": "stdout",
          "text": [
            "52/52 [==============================] - 0s 1ms/step\n"
          ]
        },
        {
          "output_type": "stream",
          "name": "stderr",
          "text": [
            "\r 68%|██████▊   | 26/38 [00:54<00:27,  2.25s/it]"
          ]
        },
        {
          "output_type": "stream",
          "name": "stdout",
          "text": [
            "52/52 [==============================] - 0s 1ms/step\n"
          ]
        },
        {
          "output_type": "stream",
          "name": "stderr",
          "text": [
            "\r 71%|███████   | 27/38 [00:56<00:26,  2.42s/it]"
          ]
        },
        {
          "output_type": "stream",
          "name": "stdout",
          "text": [
            "46/46 [==============================] - 0s 1ms/step\n"
          ]
        },
        {
          "output_type": "stream",
          "name": "stderr",
          "text": [
            "\r 74%|███████▎  | 28/38 [00:59<00:25,  2.54s/it]"
          ]
        },
        {
          "output_type": "stream",
          "name": "stdout",
          "text": [
            "52/52 [==============================] - 0s 1ms/step\n"
          ]
        },
        {
          "output_type": "stream",
          "name": "stderr",
          "text": [
            "\r 76%|███████▋  | 29/38 [01:02<00:23,  2.62s/it]"
          ]
        },
        {
          "output_type": "stream",
          "name": "stdout",
          "text": [
            "16/16 [==============================] - 0s 1ms/step\n"
          ]
        },
        {
          "output_type": "stream",
          "name": "stderr",
          "text": [
            "\r 79%|███████▉  | 30/38 [01:04<00:18,  2.26s/it]"
          ]
        },
        {
          "output_type": "stream",
          "name": "stdout",
          "text": [
            "27/27 [==============================] - 0s 2ms/step\n"
          ]
        },
        {
          "output_type": "stream",
          "name": "stderr",
          "text": [
            "\r 82%|████████▏ | 31/38 [01:05<00:14,  2.02s/it]"
          ]
        },
        {
          "output_type": "stream",
          "name": "stdout",
          "text": [
            "52/52 [==============================] - 0s 1ms/step\n"
          ]
        },
        {
          "output_type": "stream",
          "name": "stderr",
          "text": [
            "\r 84%|████████▍ | 32/38 [01:07<00:12,  2.07s/it]"
          ]
        },
        {
          "output_type": "stream",
          "name": "stdout",
          "text": [
            "52/52 [==============================] - 0s 1ms/step\n"
          ]
        },
        {
          "output_type": "stream",
          "name": "stderr",
          "text": [
            "\r 87%|████████▋ | 33/38 [01:10<00:11,  2.29s/it]"
          ]
        },
        {
          "output_type": "stream",
          "name": "stdout",
          "text": [
            "52/52 [==============================] - 0s 1ms/step\n"
          ]
        },
        {
          "output_type": "stream",
          "name": "stderr",
          "text": [
            "\r 89%|████████▉ | 34/38 [01:13<00:09,  2.43s/it]"
          ]
        },
        {
          "output_type": "stream",
          "name": "stdout",
          "text": [
            "13/13 [==============================] - 0s 2ms/step\n"
          ]
        },
        {
          "output_type": "stream",
          "name": "stderr",
          "text": [
            "\r 92%|█████████▏| 35/38 [01:14<00:06,  2.13s/it]"
          ]
        },
        {
          "output_type": "stream",
          "name": "stdout",
          "text": [
            "51/51 [==============================] - 0s 2ms/step\n"
          ]
        },
        {
          "output_type": "stream",
          "name": "stderr",
          "text": [
            "\r 95%|█████████▍| 36/38 [01:17<00:04,  2.33s/it]"
          ]
        },
        {
          "output_type": "stream",
          "name": "stdout",
          "text": [
            "51/51 [==============================] - 0s 1ms/step\n"
          ]
        },
        {
          "output_type": "stream",
          "name": "stderr",
          "text": [
            "\r 97%|█████████▋| 37/38 [01:20<00:02,  2.48s/it]"
          ]
        },
        {
          "output_type": "stream",
          "name": "stdout",
          "text": [
            "52/52 [==============================] - 0s 1ms/step\n"
          ]
        },
        {
          "output_type": "stream",
          "name": "stderr",
          "text": [
            "100%|██████████| 38/38 [01:22<00:00,  2.16s/it]\n"
          ]
        }
      ]
    },
    {
      "cell_type": "markdown",
      "source": [
        "### Conv1D+RNN+LSTM+GRU with tanh"
      ],
      "metadata": {
        "id": "pPcnxrQ093Kn"
      }
    },
    {
      "cell_type": "code",
      "source": [
        "model_8 = Sequential()\n",
        "model_8.add(Conv1D(filters=16, kernel_size=3, activation='relu', input_shape=(3, 9)))\n",
        "model_8.add(SimpleRNN(n_units, activation = 'relu', return_sequences = True, input_shape = (n_steps, input_features)))\n",
        "model_8.add(LSTM(200, activation = 'tanh', return_sequences = True))\n",
        "model_8.add(GRU(100, activation = 'relu'))\n",
        "model_8.add(Dense(2, activation = 'tanh'))\n",
        "model_8.compile(optimizer='adam', loss='mae', metrics = ['mse', 'mae'])\n",
        "model_8.summary()"
      ],
      "metadata": {
        "colab": {
          "base_uri": "https://localhost:8080/"
        },
        "id": "vUYsnp0O9nGp",
        "outputId": "eb6d6408-6150-4e3c-faee-2b294973f7d9"
      },
      "execution_count": 23,
      "outputs": [
        {
          "output_type": "stream",
          "name": "stdout",
          "text": [
            "Model: \"sequential_4\"\n",
            "_________________________________________________________________\n",
            " Layer (type)                Output Shape              Param #   \n",
            "=================================================================\n",
            " conv1d_2 (Conv1D)           (None, 1, 16)             448       \n",
            "                                                                 \n",
            " simple_rnn_3 (SimpleRNN)    (None, 1, 50)             3350      \n",
            "                                                                 \n",
            " lstm_4 (LSTM)               (None, 1, 200)            200800    \n",
            "                                                                 \n",
            " gru_4 (GRU)                 (None, 100)               90600     \n",
            "                                                                 \n",
            " dense_4 (Dense)             (None, 2)                 202       \n",
            "                                                                 \n",
            "=================================================================\n",
            "Total params: 295,400\n",
            "Trainable params: 295,400\n",
            "Non-trainable params: 0\n",
            "_________________________________________________________________\n"
          ]
        }
      ]
    },
    {
      "cell_type": "code",
      "source": [
        "counter=0\n",
        "for Xs_i, ys_i in tqdm(zip(ispitanci_X, ispitanici_y), total = len(ispitanici_y)):\n",
        "    counter+=1\n",
        "    # za sekoj ispitank \"adaptiraj go model_2ot\"\n",
        "    X_tr, X_v, X_te = Xs_i\n",
        "    y_tr, y_v, y_te = ys_i\n",
        "\n",
        "    X_tr, y_tr = create_sequences(X_tr, y_tr, n_steps)\n",
        "    X_v, y_v = create_sequences(X_v, y_v, n_steps)\n",
        "    X_te, y_te = create_sequences(X_te, y_te, n_steps)\n",
        "\n",
        "    model_8.fit(X_tr, y_tr,shuffle=False,validation_data=(X_v,y_v), epochs=20, batch_size = 32, verbose = 0)\n",
        "    y_pred_te = model_8.predict(X_te)\n",
        "    for metric in metric_dict:\n",
        "        current_metric = metric_dict[metric]\n",
        "        log_table_total.append(['tanh_Conv1D+RNN+LSTM+GRU', counter, metric,len(X_te), metric_dict[metric](y_te, y_pred_te)])"
      ],
      "metadata": {
        "colab": {
          "base_uri": "https://localhost:8080/"
        },
        "id": "SgIG6NCQ9nLX",
        "outputId": "ea348393-7973-4c7a-faa9-90b5a7e5fa50"
      },
      "execution_count": 24,
      "outputs": [
        {
          "output_type": "stream",
          "name": "stderr",
          "text": [
            "\r  0%|          | 0/38 [00:00<?, ?it/s]"
          ]
        },
        {
          "output_type": "stream",
          "name": "stdout",
          "text": [
            "29/29 [==============================] - 1s 2ms/step\n"
          ]
        },
        {
          "output_type": "stream",
          "name": "stderr",
          "text": [
            "\r  3%|▎         | 1/38 [00:09<05:39,  9.17s/it]"
          ]
        },
        {
          "output_type": "stream",
          "name": "stdout",
          "text": [
            "48/48 [==============================] - 0s 2ms/step\n"
          ]
        },
        {
          "output_type": "stream",
          "name": "stderr",
          "text": [
            "\r  5%|▌         | 2/38 [00:19<05:57,  9.94s/it]"
          ]
        },
        {
          "output_type": "stream",
          "name": "stdout",
          "text": [
            "51/51 [==============================] - 0s 2ms/step\n"
          ]
        },
        {
          "output_type": "stream",
          "name": "stderr",
          "text": [
            "\r  8%|▊         | 3/38 [00:27<05:16,  9.03s/it]"
          ]
        },
        {
          "output_type": "stream",
          "name": "stdout",
          "text": [
            "26/26 [==============================] - 0s 2ms/step\n"
          ]
        },
        {
          "output_type": "stream",
          "name": "stderr",
          "text": [
            "\r 11%|█         | 4/38 [00:32<04:17,  7.58s/it]"
          ]
        },
        {
          "output_type": "stream",
          "name": "stdout",
          "text": [
            "35/35 [==============================] - 0s 2ms/step\n"
          ]
        },
        {
          "output_type": "stream",
          "name": "stderr",
          "text": [
            "\r 13%|█▎        | 5/38 [00:38<03:43,  6.76s/it]"
          ]
        },
        {
          "output_type": "stream",
          "name": "stdout",
          "text": [
            "53/53 [==============================] - 0s 2ms/step\n"
          ]
        },
        {
          "output_type": "stream",
          "name": "stderr",
          "text": [
            "\r 16%|█▌        | 6/38 [00:46<03:48,  7.15s/it]"
          ]
        },
        {
          "output_type": "stream",
          "name": "stdout",
          "text": [
            "53/53 [==============================] - 0s 2ms/step\n"
          ]
        },
        {
          "output_type": "stream",
          "name": "stderr",
          "text": [
            "\r 18%|█▊        | 7/38 [00:54<03:52,  7.51s/it]"
          ]
        },
        {
          "output_type": "stream",
          "name": "stdout",
          "text": [
            "25/25 [==============================] - 0s 2ms/step\n"
          ]
        },
        {
          "output_type": "stream",
          "name": "stderr",
          "text": [
            "\r 21%|██        | 8/38 [00:58<03:11,  6.37s/it]"
          ]
        },
        {
          "output_type": "stream",
          "name": "stdout",
          "text": [
            "26/26 [==============================] - 0s 3ms/step\n"
          ]
        },
        {
          "output_type": "stream",
          "name": "stderr",
          "text": [
            "\r 24%|██▎       | 9/38 [01:03<02:55,  6.06s/it]"
          ]
        },
        {
          "output_type": "stream",
          "name": "stdout",
          "text": [
            "51/51 [==============================] - 0s 2ms/step\n"
          ]
        },
        {
          "output_type": "stream",
          "name": "stderr",
          "text": [
            "\r 26%|██▋       | 10/38 [01:14<03:28,  7.44s/it]"
          ]
        },
        {
          "output_type": "stream",
          "name": "stdout",
          "text": [
            "51/51 [==============================] - 0s 2ms/step\n"
          ]
        },
        {
          "output_type": "stream",
          "name": "stderr",
          "text": [
            "\r 29%|██▉       | 11/38 [01:22<03:25,  7.63s/it]"
          ]
        },
        {
          "output_type": "stream",
          "name": "stdout",
          "text": [
            "26/26 [==============================] - 0s 4ms/step\n"
          ]
        },
        {
          "output_type": "stream",
          "name": "stderr",
          "text": [
            "\r 32%|███▏      | 12/38 [01:27<03:00,  6.93s/it]"
          ]
        },
        {
          "output_type": "stream",
          "name": "stdout",
          "text": [
            "39/39 [==============================] - 0s 2ms/step\n"
          ]
        },
        {
          "output_type": "stream",
          "name": "stderr",
          "text": [
            "\r 34%|███▍      | 13/38 [01:33<02:41,  6.46s/it]"
          ]
        },
        {
          "output_type": "stream",
          "name": "stdout",
          "text": [
            "52/52 [==============================] - 0s 2ms/step\n"
          ]
        },
        {
          "output_type": "stream",
          "name": "stderr",
          "text": [
            "\r 37%|███▋      | 14/38 [01:43<03:04,  7.68s/it]"
          ]
        },
        {
          "output_type": "stream",
          "name": "stdout",
          "text": [
            "52/52 [==============================] - 0s 2ms/step\n"
          ]
        },
        {
          "output_type": "stream",
          "name": "stderr",
          "text": [
            "\r 39%|███▉      | 15/38 [01:52<03:03,  7.97s/it]"
          ]
        },
        {
          "output_type": "stream",
          "name": "stdout",
          "text": [
            "21/21 [==============================] - 0s 2ms/step\n"
          ]
        },
        {
          "output_type": "stream",
          "name": "stderr",
          "text": [
            "\r 42%|████▏     | 16/38 [01:57<02:37,  7.16s/it]"
          ]
        },
        {
          "output_type": "stream",
          "name": "stdout",
          "text": [
            "52/52 [==============================] - 0s 2ms/step\n"
          ]
        },
        {
          "output_type": "stream",
          "name": "stderr",
          "text": [
            "\r 45%|████▍     | 17/38 [02:07<02:51,  8.16s/it]"
          ]
        },
        {
          "output_type": "stream",
          "name": "stdout",
          "text": [
            "29/29 [==============================] - 0s 3ms/step\n"
          ]
        },
        {
          "output_type": "stream",
          "name": "stderr",
          "text": [
            "\r 47%|████▋     | 18/38 [02:13<02:26,  7.32s/it]"
          ]
        },
        {
          "output_type": "stream",
          "name": "stdout",
          "text": [
            "53/53 [==============================] - 0s 2ms/step\n"
          ]
        },
        {
          "output_type": "stream",
          "name": "stderr",
          "text": [
            "\r 50%|█████     | 19/38 [02:21<02:22,  7.48s/it]"
          ]
        },
        {
          "output_type": "stream",
          "name": "stdout",
          "text": [
            "52/52 [==============================] - 0s 2ms/step\n"
          ]
        },
        {
          "output_type": "stream",
          "name": "stderr",
          "text": [
            "\r 53%|█████▎    | 20/38 [02:29<02:17,  7.62s/it]"
          ]
        },
        {
          "output_type": "stream",
          "name": "stdout",
          "text": [
            "52/52 [==============================] - 0s 3ms/step\n"
          ]
        },
        {
          "output_type": "stream",
          "name": "stderr",
          "text": [
            "\r 55%|█████▌    | 21/38 [02:36<02:10,  7.67s/it]"
          ]
        },
        {
          "output_type": "stream",
          "name": "stdout",
          "text": [
            "47/47 [==============================] - 0s 3ms/step\n"
          ]
        },
        {
          "output_type": "stream",
          "name": "stderr",
          "text": [
            "\r 58%|█████▊    | 22/38 [02:47<02:17,  8.57s/it]"
          ]
        },
        {
          "output_type": "stream",
          "name": "stdout",
          "text": [
            "51/51 [==============================] - 0s 2ms/step\n"
          ]
        },
        {
          "output_type": "stream",
          "name": "stderr",
          "text": [
            "\r 61%|██████    | 23/38 [02:58<02:17,  9.15s/it]"
          ]
        },
        {
          "output_type": "stream",
          "name": "stdout",
          "text": [
            "53/53 [==============================] - 0s 2ms/step\n"
          ]
        },
        {
          "output_type": "stream",
          "name": "stderr",
          "text": [
            "\r 63%|██████▎   | 24/38 [03:08<02:13,  9.56s/it]"
          ]
        },
        {
          "output_type": "stream",
          "name": "stdout",
          "text": [
            "49/49 [==============================] - 0s 2ms/step\n"
          ]
        },
        {
          "output_type": "stream",
          "name": "stderr",
          "text": [
            "\r 66%|██████▌   | 25/38 [03:16<01:59,  9.19s/it]"
          ]
        },
        {
          "output_type": "stream",
          "name": "stdout",
          "text": [
            "52/52 [==============================] - 0s 2ms/step\n"
          ]
        },
        {
          "output_type": "stream",
          "name": "stderr",
          "text": [
            "\r 68%|██████▊   | 26/38 [03:25<01:48,  9.01s/it]"
          ]
        },
        {
          "output_type": "stream",
          "name": "stdout",
          "text": [
            "52/52 [==============================] - 0s 2ms/step\n"
          ]
        },
        {
          "output_type": "stream",
          "name": "stderr",
          "text": [
            "\r 71%|███████   | 27/38 [03:33<01:34,  8.63s/it]"
          ]
        },
        {
          "output_type": "stream",
          "name": "stdout",
          "text": [
            "46/46 [==============================] - 0s 2ms/step\n"
          ]
        },
        {
          "output_type": "stream",
          "name": "stderr",
          "text": [
            "\r 74%|███████▎  | 28/38 [03:43<01:31,  9.18s/it]"
          ]
        },
        {
          "output_type": "stream",
          "name": "stdout",
          "text": [
            "52/52 [==============================] - 0s 2ms/step\n"
          ]
        },
        {
          "output_type": "stream",
          "name": "stderr",
          "text": [
            "\r 76%|███████▋  | 29/38 [03:52<01:20,  8.97s/it]"
          ]
        },
        {
          "output_type": "stream",
          "name": "stdout",
          "text": [
            "16/16 [==============================] - 0s 2ms/step\n"
          ]
        },
        {
          "output_type": "stream",
          "name": "stderr",
          "text": [
            "\r 79%|███████▉  | 30/38 [03:54<00:56,  7.08s/it]"
          ]
        },
        {
          "output_type": "stream",
          "name": "stdout",
          "text": [
            "27/27 [==============================] - 0s 2ms/step\n"
          ]
        },
        {
          "output_type": "stream",
          "name": "stderr",
          "text": [
            "\r 82%|████████▏ | 31/38 [04:00<00:45,  6.56s/it]"
          ]
        },
        {
          "output_type": "stream",
          "name": "stdout",
          "text": [
            "52/52 [==============================] - 0s 2ms/step\n"
          ]
        },
        {
          "output_type": "stream",
          "name": "stderr",
          "text": [
            "\r 84%|████████▍ | 32/38 [04:07<00:40,  6.78s/it]"
          ]
        },
        {
          "output_type": "stream",
          "name": "stdout",
          "text": [
            "52/52 [==============================] - 0s 2ms/step\n"
          ]
        },
        {
          "output_type": "stream",
          "name": "stderr",
          "text": [
            "\r 87%|████████▋ | 33/38 [04:15<00:36,  7.20s/it]"
          ]
        },
        {
          "output_type": "stream",
          "name": "stdout",
          "text": [
            "52/52 [==============================] - 0s 2ms/step\n"
          ]
        },
        {
          "output_type": "stream",
          "name": "stderr",
          "text": [
            "\r 89%|████████▉ | 34/38 [04:26<00:32,  8.18s/it]"
          ]
        },
        {
          "output_type": "stream",
          "name": "stdout",
          "text": [
            "13/13 [==============================] - 0s 3ms/step\n"
          ]
        },
        {
          "output_type": "stream",
          "name": "stderr",
          "text": [
            "\r 92%|█████████▏| 35/38 [04:28<00:19,  6.54s/it]"
          ]
        },
        {
          "output_type": "stream",
          "name": "stdout",
          "text": [
            "51/51 [==============================] - 0s 2ms/step\n"
          ]
        },
        {
          "output_type": "stream",
          "name": "stderr",
          "text": [
            "\r 95%|█████████▍| 36/38 [04:39<00:15,  7.73s/it]"
          ]
        },
        {
          "output_type": "stream",
          "name": "stdout",
          "text": [
            "51/51 [==============================] - 0s 2ms/step\n"
          ]
        },
        {
          "output_type": "stream",
          "name": "stderr",
          "text": [
            "\r 97%|█████████▋| 37/38 [04:47<00:07,  7.88s/it]"
          ]
        },
        {
          "output_type": "stream",
          "name": "stdout",
          "text": [
            "52/52 [==============================] - 0s 2ms/step\n"
          ]
        },
        {
          "output_type": "stream",
          "name": "stderr",
          "text": [
            "100%|██████████| 38/38 [04:58<00:00,  7.84s/it]\n"
          ]
        }
      ]
    },
    {
      "cell_type": "markdown",
      "source": [
        "### Log table total:"
      ],
      "metadata": {
        "id": "29M4qO8Sus5Z"
      }
    },
    {
      "cell_type": "code",
      "execution_count": 25,
      "metadata": {
        "id": "uQIn3rqF5LNI",
        "tags": []
      },
      "outputs": [],
      "source": [
        "log_table_total = pd.DataFrame(log_table_total, columns = ['Model','Ispitanik','Metric','Length of Test','Metric score'])"
      ]
    },
    {
      "cell_type": "code",
      "source": [
        "log_table_total"
      ],
      "metadata": {
        "id": "klxgbRDwojOK",
        "colab": {
          "base_uri": "https://localhost:8080/",
          "height": 423
        },
        "outputId": "9d935b37-431d-4406-b792-ee4221a8a471"
      },
      "execution_count": 26,
      "outputs": [
        {
          "output_type": "execute_result",
          "data": {
            "text/plain": [
              "                        Model  Ispitanik Metric  Length of Test   Metric score\n",
              "0              DummyRegressor          1    MAE             910       0.285679\n",
              "1              DummyRegressor          1    MSE             910       0.082680\n",
              "2              DummyRegressor          1     R2             910    -332.501899\n",
              "3              DummyRegressor          2    MAE            1513       0.314344\n",
              "4              DummyRegressor          2    MSE            1513       0.104856\n",
              "..                        ...        ...    ...             ...            ...\n",
              "679  tanh_Conv1D+RNN+LSTM+GRU         37    MSE            1632       0.105075\n",
              "680  tanh_Conv1D+RNN+LSTM+GRU         37     R2            1632 -183786.132166\n",
              "681  tanh_Conv1D+RNN+LSTM+GRU         38    MAE            1661       0.298142\n",
              "682  tanh_Conv1D+RNN+LSTM+GRU         38    MSE            1661       0.100858\n",
              "683  tanh_Conv1D+RNN+LSTM+GRU         38     R2            1661    -119.463900\n",
              "\n",
              "[684 rows x 5 columns]"
            ],
            "text/html": [
              "\n",
              "  <div id=\"df-3ff4b42e-a6f2-47a1-a2eb-bddcbd7bc110\">\n",
              "    <div class=\"colab-df-container\">\n",
              "      <div>\n",
              "<style scoped>\n",
              "    .dataframe tbody tr th:only-of-type {\n",
              "        vertical-align: middle;\n",
              "    }\n",
              "\n",
              "    .dataframe tbody tr th {\n",
              "        vertical-align: top;\n",
              "    }\n",
              "\n",
              "    .dataframe thead th {\n",
              "        text-align: right;\n",
              "    }\n",
              "</style>\n",
              "<table border=\"1\" class=\"dataframe\">\n",
              "  <thead>\n",
              "    <tr style=\"text-align: right;\">\n",
              "      <th></th>\n",
              "      <th>Model</th>\n",
              "      <th>Ispitanik</th>\n",
              "      <th>Metric</th>\n",
              "      <th>Length of Test</th>\n",
              "      <th>Metric score</th>\n",
              "    </tr>\n",
              "  </thead>\n",
              "  <tbody>\n",
              "    <tr>\n",
              "      <th>0</th>\n",
              "      <td>DummyRegressor</td>\n",
              "      <td>1</td>\n",
              "      <td>MAE</td>\n",
              "      <td>910</td>\n",
              "      <td>0.285679</td>\n",
              "    </tr>\n",
              "    <tr>\n",
              "      <th>1</th>\n",
              "      <td>DummyRegressor</td>\n",
              "      <td>1</td>\n",
              "      <td>MSE</td>\n",
              "      <td>910</td>\n",
              "      <td>0.082680</td>\n",
              "    </tr>\n",
              "    <tr>\n",
              "      <th>2</th>\n",
              "      <td>DummyRegressor</td>\n",
              "      <td>1</td>\n",
              "      <td>R2</td>\n",
              "      <td>910</td>\n",
              "      <td>-332.501899</td>\n",
              "    </tr>\n",
              "    <tr>\n",
              "      <th>3</th>\n",
              "      <td>DummyRegressor</td>\n",
              "      <td>2</td>\n",
              "      <td>MAE</td>\n",
              "      <td>1513</td>\n",
              "      <td>0.314344</td>\n",
              "    </tr>\n",
              "    <tr>\n",
              "      <th>4</th>\n",
              "      <td>DummyRegressor</td>\n",
              "      <td>2</td>\n",
              "      <td>MSE</td>\n",
              "      <td>1513</td>\n",
              "      <td>0.104856</td>\n",
              "    </tr>\n",
              "    <tr>\n",
              "      <th>...</th>\n",
              "      <td>...</td>\n",
              "      <td>...</td>\n",
              "      <td>...</td>\n",
              "      <td>...</td>\n",
              "      <td>...</td>\n",
              "    </tr>\n",
              "    <tr>\n",
              "      <th>679</th>\n",
              "      <td>tanh_Conv1D+RNN+LSTM+GRU</td>\n",
              "      <td>37</td>\n",
              "      <td>MSE</td>\n",
              "      <td>1632</td>\n",
              "      <td>0.105075</td>\n",
              "    </tr>\n",
              "    <tr>\n",
              "      <th>680</th>\n",
              "      <td>tanh_Conv1D+RNN+LSTM+GRU</td>\n",
              "      <td>37</td>\n",
              "      <td>R2</td>\n",
              "      <td>1632</td>\n",
              "      <td>-183786.132166</td>\n",
              "    </tr>\n",
              "    <tr>\n",
              "      <th>681</th>\n",
              "      <td>tanh_Conv1D+RNN+LSTM+GRU</td>\n",
              "      <td>38</td>\n",
              "      <td>MAE</td>\n",
              "      <td>1661</td>\n",
              "      <td>0.298142</td>\n",
              "    </tr>\n",
              "    <tr>\n",
              "      <th>682</th>\n",
              "      <td>tanh_Conv1D+RNN+LSTM+GRU</td>\n",
              "      <td>38</td>\n",
              "      <td>MSE</td>\n",
              "      <td>1661</td>\n",
              "      <td>0.100858</td>\n",
              "    </tr>\n",
              "    <tr>\n",
              "      <th>683</th>\n",
              "      <td>tanh_Conv1D+RNN+LSTM+GRU</td>\n",
              "      <td>38</td>\n",
              "      <td>R2</td>\n",
              "      <td>1661</td>\n",
              "      <td>-119.463900</td>\n",
              "    </tr>\n",
              "  </tbody>\n",
              "</table>\n",
              "<p>684 rows × 5 columns</p>\n",
              "</div>\n",
              "      <button class=\"colab-df-convert\" onclick=\"convertToInteractive('df-3ff4b42e-a6f2-47a1-a2eb-bddcbd7bc110')\"\n",
              "              title=\"Convert this dataframe to an interactive table.\"\n",
              "              style=\"display:none;\">\n",
              "        \n",
              "  <svg xmlns=\"http://www.w3.org/2000/svg\" height=\"24px\"viewBox=\"0 0 24 24\"\n",
              "       width=\"24px\">\n",
              "    <path d=\"M0 0h24v24H0V0z\" fill=\"none\"/>\n",
              "    <path d=\"M18.56 5.44l.94 2.06.94-2.06 2.06-.94-2.06-.94-.94-2.06-.94 2.06-2.06.94zm-11 1L8.5 8.5l.94-2.06 2.06-.94-2.06-.94L8.5 2.5l-.94 2.06-2.06.94zm10 10l.94 2.06.94-2.06 2.06-.94-2.06-.94-.94-2.06-.94 2.06-2.06.94z\"/><path d=\"M17.41 7.96l-1.37-1.37c-.4-.4-.92-.59-1.43-.59-.52 0-1.04.2-1.43.59L10.3 9.45l-7.72 7.72c-.78.78-.78 2.05 0 2.83L4 21.41c.39.39.9.59 1.41.59.51 0 1.02-.2 1.41-.59l7.78-7.78 2.81-2.81c.8-.78.8-2.07 0-2.86zM5.41 20L4 18.59l7.72-7.72 1.47 1.35L5.41 20z\"/>\n",
              "  </svg>\n",
              "      </button>\n",
              "      \n",
              "  <style>\n",
              "    .colab-df-container {\n",
              "      display:flex;\n",
              "      flex-wrap:wrap;\n",
              "      gap: 12px;\n",
              "    }\n",
              "\n",
              "    .colab-df-convert {\n",
              "      background-color: #E8F0FE;\n",
              "      border: none;\n",
              "      border-radius: 50%;\n",
              "      cursor: pointer;\n",
              "      display: none;\n",
              "      fill: #1967D2;\n",
              "      height: 32px;\n",
              "      padding: 0 0 0 0;\n",
              "      width: 32px;\n",
              "    }\n",
              "\n",
              "    .colab-df-convert:hover {\n",
              "      background-color: #E2EBFA;\n",
              "      box-shadow: 0px 1px 2px rgba(60, 64, 67, 0.3), 0px 1px 3px 1px rgba(60, 64, 67, 0.15);\n",
              "      fill: #174EA6;\n",
              "    }\n",
              "\n",
              "    [theme=dark] .colab-df-convert {\n",
              "      background-color: #3B4455;\n",
              "      fill: #D2E3FC;\n",
              "    }\n",
              "\n",
              "    [theme=dark] .colab-df-convert:hover {\n",
              "      background-color: #434B5C;\n",
              "      box-shadow: 0px 1px 3px 1px rgba(0, 0, 0, 0.15);\n",
              "      filter: drop-shadow(0px 1px 2px rgba(0, 0, 0, 0.3));\n",
              "      fill: #FFFFFF;\n",
              "    }\n",
              "  </style>\n",
              "\n",
              "      <script>\n",
              "        const buttonEl =\n",
              "          document.querySelector('#df-3ff4b42e-a6f2-47a1-a2eb-bddcbd7bc110 button.colab-df-convert');\n",
              "        buttonEl.style.display =\n",
              "          google.colab.kernel.accessAllowed ? 'block' : 'none';\n",
              "\n",
              "        async function convertToInteractive(key) {\n",
              "          const element = document.querySelector('#df-3ff4b42e-a6f2-47a1-a2eb-bddcbd7bc110');\n",
              "          const dataTable =\n",
              "            await google.colab.kernel.invokeFunction('convertToInteractive',\n",
              "                                                     [key], {});\n",
              "          if (!dataTable) return;\n",
              "\n",
              "          const docLinkHtml = 'Like what you see? Visit the ' +\n",
              "            '<a target=\"_blank\" href=https://colab.research.google.com/notebooks/data_table.ipynb>data table notebook</a>'\n",
              "            + ' to learn more about interactive tables.';\n",
              "          element.innerHTML = '';\n",
              "          dataTable['output_type'] = 'display_data';\n",
              "          await google.colab.output.renderOutput(dataTable, element);\n",
              "          const docLink = document.createElement('div');\n",
              "          docLink.innerHTML = docLinkHtml;\n",
              "          element.appendChild(docLink);\n",
              "        }\n",
              "      </script>\n",
              "    </div>\n",
              "  </div>\n",
              "  "
            ]
          },
          "metadata": {},
          "execution_count": 26
        }
      ]
    },
    {
      "cell_type": "markdown",
      "metadata": {
        "id": "B4bO-AcrjvnB"
      },
      "source": [
        "### Function for weighted - Mean"
      ]
    },
    {
      "cell_type": "code",
      "source": [
        "def calculate_weighted(m, log_table_total):\n",
        "    num_frames = log_table_total[log_table_total['Metric'] == 'MSE']['Length of Test'].sum()\n",
        "    results = []\n",
        "    for d, gf in log_table_total.groupby('Metric'):\n",
        "        adjusted_score = gf['Length of Test'] / num_frames * gf['Metric score']\n",
        "        adjusted_score = adjusted_score.mean()\n",
        "        results.append((m, d, adjusted_score))\n",
        "    return results"
      ],
      "metadata": {
        "id": "r3YEGDgtt7-E"
      },
      "execution_count": 27,
      "outputs": []
    },
    {
      "cell_type": "code",
      "source": [
        "final_table = []\n",
        "for m, m_df in log_table_total.groupby('Model'):\n",
        "    results = calculate_weighted(m, m_df)\n",
        "    final_table.extend(results)\n",
        "\n",
        "final_table_columns = ['Model', 'Metric', 'Adjusted Score']\n",
        "final_table = pd.DataFrame(final_table, columns=final_table_columns)"
      ],
      "metadata": {
        "id": "GHzIrzMnt8Bh"
      },
      "execution_count": 28,
      "outputs": []
    },
    {
      "cell_type": "markdown",
      "source": [
        "### Final log table - Mean:"
      ],
      "metadata": {
        "id": "zcXnscu8wVfG"
      }
    },
    {
      "cell_type": "code",
      "source": [
        "final_table"
      ],
      "metadata": {
        "id": "gK7PQc-Dt8Hp",
        "colab": {
          "base_uri": "https://localhost:8080/",
          "height": 613
        },
        "outputId": "a260d4cb-cb0d-4a6f-889c-3484fcecbb61"
      },
      "execution_count": 29,
      "outputs": [
        {
          "output_type": "execute_result",
          "data": {
            "text/plain": [
              "                              Model Metric  Adjusted Score\n",
              "0         Conv1D&SimpleRNN&LSTM&GRU    MAE        0.006674\n",
              "1         Conv1D&SimpleRNN&LSTM&GRU    MSE        0.002254\n",
              "2         Conv1D&SimpleRNN&LSTM&GRU     R2     -602.034672\n",
              "3                   Conv1d+LSTM+GRU    MAE        0.006860\n",
              "4                   Conv1d+LSTM+GRU    MSE        0.002490\n",
              "5                   Conv1d+LSTM+GRU     R2     -620.835790\n",
              "6                    DummyRegressor    MAE        0.006715\n",
              "7                    DummyRegressor    MSE        0.002179\n",
              "8                    DummyRegressor     R2     -918.003925\n",
              "9                SimpleRNN+LSTM+GRU    MAE        0.006749\n",
              "10               SimpleRNN+LSTM+GRU    MSE        0.002484\n",
              "11               SimpleRNN+LSTM+GRU     R2     -616.951232\n",
              "12  SimpleRNN+LSTM+GRU_many_to_many    MAE        0.007044\n",
              "13  SimpleRNN+LSTM+GRU_many_to_many    MSE        0.003120\n",
              "14  SimpleRNN+LSTM+GRU_many_to_many     R2     -605.840230\n",
              "15         tanh_Conv1D+RNN+LSTM+GRU    MAE        0.006672\n",
              "16         tanh_Conv1D+RNN+LSTM+GRU    MSE        0.002168\n",
              "17         tanh_Conv1D+RNN+LSTM+GRU     R2     -637.245749"
            ],
            "text/html": [
              "\n",
              "  <div id=\"df-63b1984d-f2ca-49d7-875e-d9871cc9d652\">\n",
              "    <div class=\"colab-df-container\">\n",
              "      <div>\n",
              "<style scoped>\n",
              "    .dataframe tbody tr th:only-of-type {\n",
              "        vertical-align: middle;\n",
              "    }\n",
              "\n",
              "    .dataframe tbody tr th {\n",
              "        vertical-align: top;\n",
              "    }\n",
              "\n",
              "    .dataframe thead th {\n",
              "        text-align: right;\n",
              "    }\n",
              "</style>\n",
              "<table border=\"1\" class=\"dataframe\">\n",
              "  <thead>\n",
              "    <tr style=\"text-align: right;\">\n",
              "      <th></th>\n",
              "      <th>Model</th>\n",
              "      <th>Metric</th>\n",
              "      <th>Adjusted Score</th>\n",
              "    </tr>\n",
              "  </thead>\n",
              "  <tbody>\n",
              "    <tr>\n",
              "      <th>0</th>\n",
              "      <td>Conv1D&amp;SimpleRNN&amp;LSTM&amp;GRU</td>\n",
              "      <td>MAE</td>\n",
              "      <td>0.006674</td>\n",
              "    </tr>\n",
              "    <tr>\n",
              "      <th>1</th>\n",
              "      <td>Conv1D&amp;SimpleRNN&amp;LSTM&amp;GRU</td>\n",
              "      <td>MSE</td>\n",
              "      <td>0.002254</td>\n",
              "    </tr>\n",
              "    <tr>\n",
              "      <th>2</th>\n",
              "      <td>Conv1D&amp;SimpleRNN&amp;LSTM&amp;GRU</td>\n",
              "      <td>R2</td>\n",
              "      <td>-602.034672</td>\n",
              "    </tr>\n",
              "    <tr>\n",
              "      <th>3</th>\n",
              "      <td>Conv1d+LSTM+GRU</td>\n",
              "      <td>MAE</td>\n",
              "      <td>0.006860</td>\n",
              "    </tr>\n",
              "    <tr>\n",
              "      <th>4</th>\n",
              "      <td>Conv1d+LSTM+GRU</td>\n",
              "      <td>MSE</td>\n",
              "      <td>0.002490</td>\n",
              "    </tr>\n",
              "    <tr>\n",
              "      <th>5</th>\n",
              "      <td>Conv1d+LSTM+GRU</td>\n",
              "      <td>R2</td>\n",
              "      <td>-620.835790</td>\n",
              "    </tr>\n",
              "    <tr>\n",
              "      <th>6</th>\n",
              "      <td>DummyRegressor</td>\n",
              "      <td>MAE</td>\n",
              "      <td>0.006715</td>\n",
              "    </tr>\n",
              "    <tr>\n",
              "      <th>7</th>\n",
              "      <td>DummyRegressor</td>\n",
              "      <td>MSE</td>\n",
              "      <td>0.002179</td>\n",
              "    </tr>\n",
              "    <tr>\n",
              "      <th>8</th>\n",
              "      <td>DummyRegressor</td>\n",
              "      <td>R2</td>\n",
              "      <td>-918.003925</td>\n",
              "    </tr>\n",
              "    <tr>\n",
              "      <th>9</th>\n",
              "      <td>SimpleRNN+LSTM+GRU</td>\n",
              "      <td>MAE</td>\n",
              "      <td>0.006749</td>\n",
              "    </tr>\n",
              "    <tr>\n",
              "      <th>10</th>\n",
              "      <td>SimpleRNN+LSTM+GRU</td>\n",
              "      <td>MSE</td>\n",
              "      <td>0.002484</td>\n",
              "    </tr>\n",
              "    <tr>\n",
              "      <th>11</th>\n",
              "      <td>SimpleRNN+LSTM+GRU</td>\n",
              "      <td>R2</td>\n",
              "      <td>-616.951232</td>\n",
              "    </tr>\n",
              "    <tr>\n",
              "      <th>12</th>\n",
              "      <td>SimpleRNN+LSTM+GRU_many_to_many</td>\n",
              "      <td>MAE</td>\n",
              "      <td>0.007044</td>\n",
              "    </tr>\n",
              "    <tr>\n",
              "      <th>13</th>\n",
              "      <td>SimpleRNN+LSTM+GRU_many_to_many</td>\n",
              "      <td>MSE</td>\n",
              "      <td>0.003120</td>\n",
              "    </tr>\n",
              "    <tr>\n",
              "      <th>14</th>\n",
              "      <td>SimpleRNN+LSTM+GRU_many_to_many</td>\n",
              "      <td>R2</td>\n",
              "      <td>-605.840230</td>\n",
              "    </tr>\n",
              "    <tr>\n",
              "      <th>15</th>\n",
              "      <td>tanh_Conv1D+RNN+LSTM+GRU</td>\n",
              "      <td>MAE</td>\n",
              "      <td>0.006672</td>\n",
              "    </tr>\n",
              "    <tr>\n",
              "      <th>16</th>\n",
              "      <td>tanh_Conv1D+RNN+LSTM+GRU</td>\n",
              "      <td>MSE</td>\n",
              "      <td>0.002168</td>\n",
              "    </tr>\n",
              "    <tr>\n",
              "      <th>17</th>\n",
              "      <td>tanh_Conv1D+RNN+LSTM+GRU</td>\n",
              "      <td>R2</td>\n",
              "      <td>-637.245749</td>\n",
              "    </tr>\n",
              "  </tbody>\n",
              "</table>\n",
              "</div>\n",
              "      <button class=\"colab-df-convert\" onclick=\"convertToInteractive('df-63b1984d-f2ca-49d7-875e-d9871cc9d652')\"\n",
              "              title=\"Convert this dataframe to an interactive table.\"\n",
              "              style=\"display:none;\">\n",
              "        \n",
              "  <svg xmlns=\"http://www.w3.org/2000/svg\" height=\"24px\"viewBox=\"0 0 24 24\"\n",
              "       width=\"24px\">\n",
              "    <path d=\"M0 0h24v24H0V0z\" fill=\"none\"/>\n",
              "    <path d=\"M18.56 5.44l.94 2.06.94-2.06 2.06-.94-2.06-.94-.94-2.06-.94 2.06-2.06.94zm-11 1L8.5 8.5l.94-2.06 2.06-.94-2.06-.94L8.5 2.5l-.94 2.06-2.06.94zm10 10l.94 2.06.94-2.06 2.06-.94-2.06-.94-.94-2.06-.94 2.06-2.06.94z\"/><path d=\"M17.41 7.96l-1.37-1.37c-.4-.4-.92-.59-1.43-.59-.52 0-1.04.2-1.43.59L10.3 9.45l-7.72 7.72c-.78.78-.78 2.05 0 2.83L4 21.41c.39.39.9.59 1.41.59.51 0 1.02-.2 1.41-.59l7.78-7.78 2.81-2.81c.8-.78.8-2.07 0-2.86zM5.41 20L4 18.59l7.72-7.72 1.47 1.35L5.41 20z\"/>\n",
              "  </svg>\n",
              "      </button>\n",
              "      \n",
              "  <style>\n",
              "    .colab-df-container {\n",
              "      display:flex;\n",
              "      flex-wrap:wrap;\n",
              "      gap: 12px;\n",
              "    }\n",
              "\n",
              "    .colab-df-convert {\n",
              "      background-color: #E8F0FE;\n",
              "      border: none;\n",
              "      border-radius: 50%;\n",
              "      cursor: pointer;\n",
              "      display: none;\n",
              "      fill: #1967D2;\n",
              "      height: 32px;\n",
              "      padding: 0 0 0 0;\n",
              "      width: 32px;\n",
              "    }\n",
              "\n",
              "    .colab-df-convert:hover {\n",
              "      background-color: #E2EBFA;\n",
              "      box-shadow: 0px 1px 2px rgba(60, 64, 67, 0.3), 0px 1px 3px 1px rgba(60, 64, 67, 0.15);\n",
              "      fill: #174EA6;\n",
              "    }\n",
              "\n",
              "    [theme=dark] .colab-df-convert {\n",
              "      background-color: #3B4455;\n",
              "      fill: #D2E3FC;\n",
              "    }\n",
              "\n",
              "    [theme=dark] .colab-df-convert:hover {\n",
              "      background-color: #434B5C;\n",
              "      box-shadow: 0px 1px 3px 1px rgba(0, 0, 0, 0.15);\n",
              "      filter: drop-shadow(0px 1px 2px rgba(0, 0, 0, 0.3));\n",
              "      fill: #FFFFFF;\n",
              "    }\n",
              "  </style>\n",
              "\n",
              "      <script>\n",
              "        const buttonEl =\n",
              "          document.querySelector('#df-63b1984d-f2ca-49d7-875e-d9871cc9d652 button.colab-df-convert');\n",
              "        buttonEl.style.display =\n",
              "          google.colab.kernel.accessAllowed ? 'block' : 'none';\n",
              "\n",
              "        async function convertToInteractive(key) {\n",
              "          const element = document.querySelector('#df-63b1984d-f2ca-49d7-875e-d9871cc9d652');\n",
              "          const dataTable =\n",
              "            await google.colab.kernel.invokeFunction('convertToInteractive',\n",
              "                                                     [key], {});\n",
              "          if (!dataTable) return;\n",
              "\n",
              "          const docLinkHtml = 'Like what you see? Visit the ' +\n",
              "            '<a target=\"_blank\" href=https://colab.research.google.com/notebooks/data_table.ipynb>data table notebook</a>'\n",
              "            + ' to learn more about interactive tables.';\n",
              "          element.innerHTML = '';\n",
              "          dataTable['output_type'] = 'display_data';\n",
              "          await google.colab.output.renderOutput(dataTable, element);\n",
              "          const docLink = document.createElement('div');\n",
              "          docLink.innerHTML = docLinkHtml;\n",
              "          element.appendChild(docLink);\n",
              "        }\n",
              "      </script>\n",
              "    </div>\n",
              "  </div>\n",
              "  "
            ]
          },
          "metadata": {},
          "execution_count": 29
        }
      ]
    },
    {
      "cell_type": "markdown",
      "metadata": {
        "id": "2q75E6J75LNI"
      },
      "source": [
        "### Save csv file results:"
      ]
    },
    {
      "cell_type": "code",
      "execution_count": 30,
      "metadata": {
        "id": "4H1pjzv35LNI"
      },
      "outputs": [],
      "source": [
        "log_table_total.to_csv('log_table_total1.csv', index=False)"
      ]
    },
    {
      "cell_type": "code",
      "source": [
        "from google.colab import files\n",
        "\n",
        "files.download('log_table_total1.csv')"
      ],
      "metadata": {
        "id": "7affRwcxv_bY",
        "colab": {
          "base_uri": "https://localhost:8080/",
          "height": 17
        },
        "outputId": "862a05d5-4c27-4fc8-ce3b-1b53da81ac86"
      },
      "execution_count": 31,
      "outputs": [
        {
          "output_type": "display_data",
          "data": {
            "text/plain": [
              "<IPython.core.display.Javascript object>"
            ],
            "application/javascript": [
              "\n",
              "    async function download(id, filename, size) {\n",
              "      if (!google.colab.kernel.accessAllowed) {\n",
              "        return;\n",
              "      }\n",
              "      const div = document.createElement('div');\n",
              "      const label = document.createElement('label');\n",
              "      label.textContent = `Downloading \"${filename}\": `;\n",
              "      div.appendChild(label);\n",
              "      const progress = document.createElement('progress');\n",
              "      progress.max = size;\n",
              "      div.appendChild(progress);\n",
              "      document.body.appendChild(div);\n",
              "\n",
              "      const buffers = [];\n",
              "      let downloaded = 0;\n",
              "\n",
              "      const channel = await google.colab.kernel.comms.open(id);\n",
              "      // Send a message to notify the kernel that we're ready.\n",
              "      channel.send({})\n",
              "\n",
              "      for await (const message of channel.messages) {\n",
              "        // Send a message to notify the kernel that we're ready.\n",
              "        channel.send({})\n",
              "        if (message.buffers) {\n",
              "          for (const buffer of message.buffers) {\n",
              "            buffers.push(buffer);\n",
              "            downloaded += buffer.byteLength;\n",
              "            progress.value = downloaded;\n",
              "          }\n",
              "        }\n",
              "      }\n",
              "      const blob = new Blob(buffers, {type: 'application/binary'});\n",
              "      const a = document.createElement('a');\n",
              "      a.href = window.URL.createObjectURL(blob);\n",
              "      a.download = filename;\n",
              "      div.appendChild(a);\n",
              "      a.click();\n",
              "      div.remove();\n",
              "    }\n",
              "  "
            ]
          },
          "metadata": {}
        },
        {
          "output_type": "display_data",
          "data": {
            "text/plain": [
              "<IPython.core.display.Javascript object>"
            ],
            "application/javascript": [
              "download(\"download_a7500132-0287-4e00-bde8-2e7745634ee7\", \"log_table_total1.csv\", 36326)"
            ]
          },
          "metadata": {}
        }
      ]
    },
    {
      "cell_type": "code",
      "source": [
        "final_table.to_csv('final_table1.csv', index=False)"
      ],
      "metadata": {
        "id": "w1TxKftWv_eN"
      },
      "execution_count": 32,
      "outputs": []
    },
    {
      "cell_type": "code",
      "source": [
        "from google.colab import files\n",
        "\n",
        "files.download('final_table1.csv')"
      ],
      "metadata": {
        "id": "rgfiV9WUv_hd",
        "colab": {
          "base_uri": "https://localhost:8080/",
          "height": 17
        },
        "outputId": "b6dc9d7e-ec20-49f3-938c-b814440ce370"
      },
      "execution_count": 33,
      "outputs": [
        {
          "output_type": "display_data",
          "data": {
            "text/plain": [
              "<IPython.core.display.Javascript object>"
            ],
            "application/javascript": [
              "\n",
              "    async function download(id, filename, size) {\n",
              "      if (!google.colab.kernel.accessAllowed) {\n",
              "        return;\n",
              "      }\n",
              "      const div = document.createElement('div');\n",
              "      const label = document.createElement('label');\n",
              "      label.textContent = `Downloading \"${filename}\": `;\n",
              "      div.appendChild(label);\n",
              "      const progress = document.createElement('progress');\n",
              "      progress.max = size;\n",
              "      div.appendChild(progress);\n",
              "      document.body.appendChild(div);\n",
              "\n",
              "      const buffers = [];\n",
              "      let downloaded = 0;\n",
              "\n",
              "      const channel = await google.colab.kernel.comms.open(id);\n",
              "      // Send a message to notify the kernel that we're ready.\n",
              "      channel.send({})\n",
              "\n",
              "      for await (const message of channel.messages) {\n",
              "        // Send a message to notify the kernel that we're ready.\n",
              "        channel.send({})\n",
              "        if (message.buffers) {\n",
              "          for (const buffer of message.buffers) {\n",
              "            buffers.push(buffer);\n",
              "            downloaded += buffer.byteLength;\n",
              "            progress.value = downloaded;\n",
              "          }\n",
              "        }\n",
              "      }\n",
              "      const blob = new Blob(buffers, {type: 'application/binary'});\n",
              "      const a = document.createElement('a');\n",
              "      a.href = window.URL.createObjectURL(blob);\n",
              "      a.download = filename;\n",
              "      div.appendChild(a);\n",
              "      a.click();\n",
              "      div.remove();\n",
              "    }\n",
              "  "
            ]
          },
          "metadata": {}
        },
        {
          "output_type": "display_data",
          "data": {
            "text/plain": [
              "<IPython.core.display.Javascript object>"
            ],
            "application/javascript": [
              "download(\"download_b383b367-2e68-4f9f-909e-c5cab4045219\", \"final_table1.csv\", 859)"
            ]
          },
          "metadata": {}
        }
      ]
    }
  ],
  "metadata": {
    "colab": {
      "provenance": []
    },
    "kernelspec": {
      "display_name": "Python 3 (ipykernel)",
      "language": "python",
      "name": "python3"
    },
    "language_info": {
      "codemirror_mode": {
        "name": "ipython",
        "version": 3
      },
      "file_extension": ".py",
      "mimetype": "text/x-python",
      "name": "python",
      "nbconvert_exporter": "python",
      "pygments_lexer": "ipython3",
      "version": "3.9.12"
    }
  },
  "nbformat": 4,
  "nbformat_minor": 0
}